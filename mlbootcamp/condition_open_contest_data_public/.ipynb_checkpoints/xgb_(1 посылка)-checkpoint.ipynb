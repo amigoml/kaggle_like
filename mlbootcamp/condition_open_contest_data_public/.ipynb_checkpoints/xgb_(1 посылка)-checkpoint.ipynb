{
 "cells": [
  {
   "cell_type": "code",
   "execution_count": 37,
   "metadata": {
    "collapsed": true
   },
   "outputs": [],
   "source": [
    "import pandas as pd\n",
    "import numpy as np"
   ]
  },
  {
   "cell_type": "code",
   "execution_count": 38,
   "metadata": {
    "collapsed": true
   },
   "outputs": [],
   "source": [
    "PATH_TO_DATA = './data/'"
   ]
  },
  {
   "cell_type": "code",
   "execution_count": 39,
   "metadata": {
    "collapsed": false
   },
   "outputs": [],
   "source": [
    "y_train = pd.read_csv(PATH_TO_DATA + 'y_train.csv')['time'].values\n",
    " \n",
    "train = pd.read_csv(PATH_TO_DATA + 'x_train.csv')\n",
    "test = pd.read_csv(PATH_TO_DATA + 'x_test.csv')"
   ]
  },
  {
   "cell_type": "code",
   "execution_count": 40,
   "metadata": {
    "collapsed": false
   },
   "outputs": [
    {
     "data": {
      "text/html": [
       "<div>\n",
       "<table border=\"1\" class=\"dataframe\">\n",
       "  <thead>\n",
       "    <tr style=\"text-align: right;\">\n",
       "      <th></th>\n",
       "      <th>m</th>\n",
       "      <th>k</th>\n",
       "      <th>n</th>\n",
       "      <th>cacheL1IsShared</th>\n",
       "      <th>cacheL1Size</th>\n",
       "      <th>cacheL2IsShared</th>\n",
       "      <th>cacheL2Size</th>\n",
       "      <th>cacheL3IsShared</th>\n",
       "      <th>cacheL3Size</th>\n",
       "      <th>cacheL1Threads</th>\n",
       "      <th>...</th>\n",
       "      <th>SeqCopy_15MB_by256</th>\n",
       "      <th>SeqCopy_16MB_by256</th>\n",
       "      <th>SeqCopy_20MB_by256</th>\n",
       "      <th>SeqCopy_21MB_by256</th>\n",
       "      <th>SeqCopy_32MB_by256</th>\n",
       "      <th>SeqCopy_48MB_by256</th>\n",
       "      <th>SeqCopy_64MB_by256</th>\n",
       "      <th>SeqCopy_72MB_by256</th>\n",
       "      <th>SeqCopy_96MB_by256</th>\n",
       "      <th>SeqCopy_128MB_by256</th>\n",
       "    </tr>\n",
       "  </thead>\n",
       "  <tbody>\n",
       "    <tr>\n",
       "      <th>0</th>\n",
       "      <td>2500</td>\n",
       "      <td>3500</td>\n",
       "      <td>5000</td>\n",
       "      <td>0</td>\n",
       "      <td>32</td>\n",
       "      <td>0</td>\n",
       "      <td>256</td>\n",
       "      <td>1</td>\n",
       "      <td>10240</td>\n",
       "      <td>2</td>\n",
       "      <td>...</td>\n",
       "      <td>5504.6</td>\n",
       "      <td>5871.6</td>\n",
       "      <td>5454.5</td>\n",
       "      <td>5201.8</td>\n",
       "      <td>5236.4</td>\n",
       "      <td>5724.8</td>\n",
       "      <td>5236.4</td>\n",
       "      <td>5236.4</td>\n",
       "      <td>6165.1</td>\n",
       "      <td>5120</td>\n",
       "    </tr>\n",
       "    <tr>\n",
       "      <th>1</th>\n",
       "      <td>2500</td>\n",
       "      <td>4000</td>\n",
       "      <td>4500</td>\n",
       "      <td>0</td>\n",
       "      <td>32</td>\n",
       "      <td>0</td>\n",
       "      <td>256</td>\n",
       "      <td>1</td>\n",
       "      <td>10240</td>\n",
       "      <td>2</td>\n",
       "      <td>...</td>\n",
       "      <td>5504.6</td>\n",
       "      <td>5871.6</td>\n",
       "      <td>5454.5</td>\n",
       "      <td>5201.8</td>\n",
       "      <td>5236.4</td>\n",
       "      <td>5724.8</td>\n",
       "      <td>5236.4</td>\n",
       "      <td>5236.4</td>\n",
       "      <td>6165.1</td>\n",
       "      <td>5120</td>\n",
       "    </tr>\n",
       "    <tr>\n",
       "      <th>2</th>\n",
       "      <td>2500</td>\n",
       "      <td>4000</td>\n",
       "      <td>5000</td>\n",
       "      <td>0</td>\n",
       "      <td>32</td>\n",
       "      <td>0</td>\n",
       "      <td>256</td>\n",
       "      <td>1</td>\n",
       "      <td>10240</td>\n",
       "      <td>2</td>\n",
       "      <td>...</td>\n",
       "      <td>5504.6</td>\n",
       "      <td>5871.6</td>\n",
       "      <td>5454.5</td>\n",
       "      <td>5201.8</td>\n",
       "      <td>5236.4</td>\n",
       "      <td>5724.8</td>\n",
       "      <td>5236.4</td>\n",
       "      <td>5236.4</td>\n",
       "      <td>6165.1</td>\n",
       "      <td>5120</td>\n",
       "    </tr>\n",
       "    <tr>\n",
       "      <th>3</th>\n",
       "      <td>2500</td>\n",
       "      <td>4500</td>\n",
       "      <td>5000</td>\n",
       "      <td>0</td>\n",
       "      <td>32</td>\n",
       "      <td>0</td>\n",
       "      <td>256</td>\n",
       "      <td>1</td>\n",
       "      <td>10240</td>\n",
       "      <td>2</td>\n",
       "      <td>...</td>\n",
       "      <td>5504.6</td>\n",
       "      <td>5871.6</td>\n",
       "      <td>5454.5</td>\n",
       "      <td>5201.8</td>\n",
       "      <td>5236.4</td>\n",
       "      <td>5724.8</td>\n",
       "      <td>5236.4</td>\n",
       "      <td>5236.4</td>\n",
       "      <td>6165.1</td>\n",
       "      <td>5120</td>\n",
       "    </tr>\n",
       "    <tr>\n",
       "      <th>4</th>\n",
       "      <td>2500</td>\n",
       "      <td>5000</td>\n",
       "      <td>5000</td>\n",
       "      <td>0</td>\n",
       "      <td>32</td>\n",
       "      <td>0</td>\n",
       "      <td>256</td>\n",
       "      <td>1</td>\n",
       "      <td>10240</td>\n",
       "      <td>2</td>\n",
       "      <td>...</td>\n",
       "      <td>5504.6</td>\n",
       "      <td>5871.6</td>\n",
       "      <td>5454.5</td>\n",
       "      <td>5201.8</td>\n",
       "      <td>5236.4</td>\n",
       "      <td>5724.8</td>\n",
       "      <td>5236.4</td>\n",
       "      <td>5236.4</td>\n",
       "      <td>6165.1</td>\n",
       "      <td>5120</td>\n",
       "    </tr>\n",
       "  </tbody>\n",
       "</table>\n",
       "<p>5 rows × 951 columns</p>\n",
       "</div>"
      ],
      "text/plain": [
       "      m     k     n  cacheL1IsShared  cacheL1Size  cacheL2IsShared  \\\n",
       "0  2500  3500  5000                0           32                0   \n",
       "1  2500  4000  4500                0           32                0   \n",
       "2  2500  4000  5000                0           32                0   \n",
       "3  2500  4500  5000                0           32                0   \n",
       "4  2500  5000  5000                0           32                0   \n",
       "\n",
       "   cacheL2Size  cacheL3IsShared  cacheL3Size  cacheL1Threads  \\\n",
       "0          256                1        10240               2   \n",
       "1          256                1        10240               2   \n",
       "2          256                1        10240               2   \n",
       "3          256                1        10240               2   \n",
       "4          256                1        10240               2   \n",
       "\n",
       "          ...           SeqCopy_15MB_by256  SeqCopy_16MB_by256  \\\n",
       "0         ...                       5504.6              5871.6   \n",
       "1         ...                       5504.6              5871.6   \n",
       "2         ...                       5504.6              5871.6   \n",
       "3         ...                       5504.6              5871.6   \n",
       "4         ...                       5504.6              5871.6   \n",
       "\n",
       "   SeqCopy_20MB_by256 SeqCopy_21MB_by256  SeqCopy_32MB_by256  \\\n",
       "0              5454.5             5201.8              5236.4   \n",
       "1              5454.5             5201.8              5236.4   \n",
       "2              5454.5             5201.8              5236.4   \n",
       "3              5454.5             5201.8              5236.4   \n",
       "4              5454.5             5201.8              5236.4   \n",
       "\n",
       "   SeqCopy_48MB_by256 SeqCopy_64MB_by256 SeqCopy_72MB_by256  \\\n",
       "0              5724.8             5236.4             5236.4   \n",
       "1              5724.8             5236.4             5236.4   \n",
       "2              5724.8             5236.4             5236.4   \n",
       "3              5724.8             5236.4             5236.4   \n",
       "4              5724.8             5236.4             5236.4   \n",
       "\n",
       "   SeqCopy_96MB_by256  SeqCopy_128MB_by256  \n",
       "0              6165.1                 5120  \n",
       "1              6165.1                 5120  \n",
       "2              6165.1                 5120  \n",
       "3              6165.1                 5120  \n",
       "4              6165.1                 5120  \n",
       "\n",
       "[5 rows x 951 columns]"
      ]
     },
     "execution_count": 40,
     "metadata": {},
     "output_type": "execute_result"
    }
   ],
   "source": [
    "train.head()"
   ]
  },
  {
   "cell_type": "code",
   "execution_count": 6,
   "metadata": {
    "collapsed": false
   },
   "outputs": [
    {
     "data": {
      "text/plain": [
       "numpy.int64"
      ]
     },
     "execution_count": 6,
     "metadata": {},
     "output_type": "execute_result"
    }
   ],
   "source": [
    "type(train['n'][0])"
   ]
  },
  {
   "cell_type": "code",
   "execution_count": 8,
   "metadata": {
    "collapsed": false
   },
   "outputs": [],
   "source": [
    "cols = []\n",
    "for i in train.columns.values:\n",
    "    if type(train[i][0])==np.str:\n",
    "        cols.append(i)"
   ]
  },
  {
   "cell_type": "code",
   "execution_count": 9,
   "metadata": {
    "collapsed": false
   },
   "outputs": [],
   "source": [
    "test = test.drop(cols, axis=1).values"
   ]
  },
  {
   "cell_type": "code",
   "execution_count": 10,
   "metadata": {
    "collapsed": false
   },
   "outputs": [
    {
     "data": {
      "text/plain": [
       "((4993,), (4993, 951))"
      ]
     },
     "execution_count": 10,
     "metadata": {},
     "output_type": "execute_result"
    }
   ],
   "source": [
    "y_train.shape, train.shape"
   ]
  },
  {
   "cell_type": "code",
   "execution_count": 11,
   "metadata": {
    "collapsed": false
   },
   "outputs": [],
   "source": [
    "from sklearn.cross_validation import train_test_split"
   ]
  },
  {
   "cell_type": "code",
   "execution_count": 12,
   "metadata": {
    "collapsed": false
   },
   "outputs": [],
   "source": [
    "X_train, X_test, y_train, y_test = train_test_split(train.drop(cols, axis=1).values, \n",
    "                                                    y_train, test_size=0.33, random_state=42)"
   ]
  },
  {
   "cell_type": "code",
   "execution_count": null,
   "metadata": {
    "collapsed": false
   },
   "outputs": [],
   "source": [
    "%matplotlib inline\n",
    "import matplotlib.pyplot as plt\n",
    "import seaborn as sns\n",
    "plt.figure(figsize = (10,10))\n",
    "sns.heatmap(train.drop(cols, axis=1).corr(), square=True, annot=True, linewidth = 2 )"
   ]
  },
  {
   "cell_type": "markdown",
   "metadata": {
    "collapsed": true
   },
   "source": [
    "_______"
   ]
  },
  {
   "cell_type": "code",
   "execution_count": null,
   "metadata": {
    "collapsed": false
   },
   "outputs": [],
   "source": []
  },
  {
   "cell_type": "code",
   "execution_count": null,
   "metadata": {
    "collapsed": true
   },
   "outputs": [],
   "source": []
  },
  {
   "cell_type": "code",
   "execution_count": null,
   "metadata": {
    "collapsed": true
   },
   "outputs": [],
   "source": []
  },
  {
   "cell_type": "markdown",
   "metadata": {},
   "source": [
    "______"
   ]
  },
  {
   "cell_type": "code",
   "execution_count": 13,
   "metadata": {
    "collapsed": true
   },
   "outputs": [],
   "source": [
    "import xgboost as xgb"
   ]
  },
  {
   "cell_type": "code",
   "execution_count": 33,
   "metadata": {
    "collapsed": false,
    "scrolled": true
   },
   "outputs": [
    {
     "name": "stderr",
     "output_type": "stream",
     "text": [
      "[0]\tvalidation_0-rmse:22.335321\tvalidation_1-rmse:26.576147\n",
      "[1]\tvalidation_0-rmse:20.162281\tvalidation_1-rmse:24.203667\n",
      "[2]\tvalidation_0-rmse:18.211004\tvalidation_1-rmse:22.091064\n",
      "[3]\tvalidation_0-rmse:16.457787\tvalidation_1-rmse:20.222868\n",
      "[4]\tvalidation_0-rmse:14.870163\tvalidation_1-rmse:18.471785\n",
      "[5]\tvalidation_0-rmse:13.438189\tvalidation_1-rmse:16.929049\n",
      "[6]\tvalidation_0-rmse:12.150329\tvalidation_1-rmse:15.566794\n",
      "[7]\tvalidation_0-rmse:10.998392\tvalidation_1-rmse:14.380656\n",
      "[8]\tvalidation_0-rmse:9.932979\tvalidation_1-rmse:13.390784\n",
      "[9]\tvalidation_0-rmse:8.998389\tvalidation_1-rmse:12.534004\n",
      "[10]\tvalidation_0-rmse:8.161511\tvalidation_1-rmse:11.743803\n",
      "[11]\tvalidation_0-rmse:7.413147\tvalidation_1-rmse:11.120134\n",
      "[12]\tvalidation_0-rmse:6.703482\tvalidation_1-rmse:10.546923\n",
      "[13]\tvalidation_0-rmse:6.098003\tvalidation_1-rmse:10.070910\n",
      "[14]\tvalidation_0-rmse:5.516536\tvalidation_1-rmse:9.685676\n",
      "[15]\tvalidation_0-rmse:4.995667\tvalidation_1-rmse:9.353655\n",
      "[16]\tvalidation_0-rmse:4.528305\tvalidation_1-rmse:9.081185\n",
      "[17]\tvalidation_0-rmse:4.130084\tvalidation_1-rmse:8.844130\n",
      "[18]\tvalidation_0-rmse:3.771019\tvalidation_1-rmse:8.583985\n",
      "[19]\tvalidation_0-rmse:3.442987\tvalidation_1-rmse:8.370578\n",
      "[20]\tvalidation_0-rmse:3.133779\tvalidation_1-rmse:8.202676\n",
      "[21]\tvalidation_0-rmse:2.855052\tvalidation_1-rmse:8.061543\n",
      "[22]\tvalidation_0-rmse:2.627518\tvalidation_1-rmse:7.927094\n",
      "[23]\tvalidation_0-rmse:2.404088\tvalidation_1-rmse:7.849642\n",
      "[24]\tvalidation_0-rmse:2.221694\tvalidation_1-rmse:7.740893\n",
      "[25]\tvalidation_0-rmse:2.051085\tvalidation_1-rmse:7.666830\n",
      "[26]\tvalidation_0-rmse:1.908566\tvalidation_1-rmse:7.597311\n",
      "[27]\tvalidation_0-rmse:1.774981\tvalidation_1-rmse:7.543679\n",
      "[28]\tvalidation_0-rmse:1.639048\tvalidation_1-rmse:7.515957\n",
      "[29]\tvalidation_0-rmse:1.517065\tvalidation_1-rmse:7.490513\n",
      "[30]\tvalidation_0-rmse:1.429196\tvalidation_1-rmse:7.443375\n",
      "[31]\tvalidation_0-rmse:1.353773\tvalidation_1-rmse:7.404368\n",
      "[32]\tvalidation_0-rmse:1.287961\tvalidation_1-rmse:7.369251\n",
      "[33]\tvalidation_0-rmse:1.205597\tvalidation_1-rmse:7.360286\n",
      "[34]\tvalidation_0-rmse:1.154274\tvalidation_1-rmse:7.333600\n",
      "[35]\tvalidation_0-rmse:1.091161\tvalidation_1-rmse:7.340874\n",
      "[36]\tvalidation_0-rmse:1.050830\tvalidation_1-rmse:7.320934\n",
      "[37]\tvalidation_0-rmse:1.017318\tvalidation_1-rmse:7.306505\n",
      "[38]\tvalidation_0-rmse:0.971024\tvalidation_1-rmse:7.318176\n",
      "[39]\tvalidation_0-rmse:0.943248\tvalidation_1-rmse:7.307821\n",
      "[40]\tvalidation_0-rmse:0.903491\tvalidation_1-rmse:7.319893\n",
      "[41]\tvalidation_0-rmse:0.868775\tvalidation_1-rmse:7.325704\n",
      "[42]\tvalidation_0-rmse:0.845776\tvalidation_1-rmse:7.322345\n",
      "[43]\tvalidation_0-rmse:0.826914\tvalidation_1-rmse:7.316905\n",
      "[44]\tvalidation_0-rmse:0.800970\tvalidation_1-rmse:7.326638\n",
      "[45]\tvalidation_0-rmse:0.788059\tvalidation_1-rmse:7.320886\n",
      "[46]\tvalidation_0-rmse:0.765389\tvalidation_1-rmse:7.335066\n",
      "[47]\tvalidation_0-rmse:0.754420\tvalidation_1-rmse:7.335150\n",
      "[48]\tvalidation_0-rmse:0.729510\tvalidation_1-rmse:7.348545\n",
      "[49]\tvalidation_0-rmse:0.720265\tvalidation_1-rmse:7.345221\n",
      "[50]\tvalidation_0-rmse:0.711964\tvalidation_1-rmse:7.340988\n",
      "[51]\tvalidation_0-rmse:0.700903\tvalidation_1-rmse:7.344116\n",
      "[52]\tvalidation_0-rmse:0.686828\tvalidation_1-rmse:7.342138\n",
      "[53]\tvalidation_0-rmse:0.680526\tvalidation_1-rmse:7.339265\n",
      "[54]\tvalidation_0-rmse:0.665705\tvalidation_1-rmse:7.336917\n",
      "[55]\tvalidation_0-rmse:0.658162\tvalidation_1-rmse:7.338331\n",
      "[56]\tvalidation_0-rmse:0.646735\tvalidation_1-rmse:7.344052\n",
      "[57]\tvalidation_0-rmse:0.638746\tvalidation_1-rmse:7.345855\n",
      "[58]\tvalidation_0-rmse:0.628362\tvalidation_1-rmse:7.355443\n",
      "[59]\tvalidation_0-rmse:0.622273\tvalidation_1-rmse:7.353348\n",
      "[60]\tvalidation_0-rmse:0.615438\tvalidation_1-rmse:7.362608\n",
      "[61]\tvalidation_0-rmse:0.610368\tvalidation_1-rmse:7.361366\n",
      "[62]\tvalidation_0-rmse:0.604663\tvalidation_1-rmse:7.360282\n",
      "[63]\tvalidation_0-rmse:0.598186\tvalidation_1-rmse:7.368577\n",
      "[64]\tvalidation_0-rmse:0.588613\tvalidation_1-rmse:7.367584\n",
      "[65]\tvalidation_0-rmse:0.580891\tvalidation_1-rmse:7.365497\n",
      "[66]\tvalidation_0-rmse:0.575111\tvalidation_1-rmse:7.365574\n",
      "[67]\tvalidation_0-rmse:0.561251\tvalidation_1-rmse:7.372254\n",
      "[68]\tvalidation_0-rmse:0.556867\tvalidation_1-rmse:7.372050\n",
      "[69]\tvalidation_0-rmse:0.552649\tvalidation_1-rmse:7.370638\n",
      "[70]\tvalidation_0-rmse:0.541053\tvalidation_1-rmse:7.374358\n",
      "[71]\tvalidation_0-rmse:0.537572\tvalidation_1-rmse:7.373792\n",
      "[72]\tvalidation_0-rmse:0.535342\tvalidation_1-rmse:7.373608\n",
      "[73]\tvalidation_0-rmse:0.533980\tvalidation_1-rmse:7.372268\n",
      "[74]\tvalidation_0-rmse:0.526334\tvalidation_1-rmse:7.379531\n",
      "[75]\tvalidation_0-rmse:0.518319\tvalidation_1-rmse:7.379012\n",
      "[76]\tvalidation_0-rmse:0.511017\tvalidation_1-rmse:7.382421\n",
      "[77]\tvalidation_0-rmse:0.507913\tvalidation_1-rmse:7.388586\n",
      "[78]\tvalidation_0-rmse:0.501147\tvalidation_1-rmse:7.391986\n",
      "[79]\tvalidation_0-rmse:0.500084\tvalidation_1-rmse:7.390572\n",
      "[80]\tvalidation_0-rmse:0.492574\tvalidation_1-rmse:7.393889\n",
      "[81]\tvalidation_0-rmse:0.488203\tvalidation_1-rmse:7.396285\n",
      "[82]\tvalidation_0-rmse:0.485922\tvalidation_1-rmse:7.396437\n",
      "[83]\tvalidation_0-rmse:0.480585\tvalidation_1-rmse:7.395626\n",
      "[84]\tvalidation_0-rmse:0.478271\tvalidation_1-rmse:7.399016\n",
      "[85]\tvalidation_0-rmse:0.474152\tvalidation_1-rmse:7.399005\n",
      "[86]\tvalidation_0-rmse:0.470140\tvalidation_1-rmse:7.401040\n",
      "[87]\tvalidation_0-rmse:0.465584\tvalidation_1-rmse:7.401165\n",
      "[88]\tvalidation_0-rmse:0.460937\tvalidation_1-rmse:7.402458\n",
      "[89]\tvalidation_0-rmse:0.457379\tvalidation_1-rmse:7.402290\n",
      "[90]\tvalidation_0-rmse:0.454508\tvalidation_1-rmse:7.404019\n",
      "[91]\tvalidation_0-rmse:0.451792\tvalidation_1-rmse:7.406794\n",
      "[92]\tvalidation_0-rmse:0.447730\tvalidation_1-rmse:7.406991\n",
      "[93]\tvalidation_0-rmse:0.442605\tvalidation_1-rmse:7.407304\n",
      "[94]\tvalidation_0-rmse:0.438267\tvalidation_1-rmse:7.407238\n",
      "[95]\tvalidation_0-rmse:0.435290\tvalidation_1-rmse:7.407334\n",
      "[96]\tvalidation_0-rmse:0.433430\tvalidation_1-rmse:7.408636\n",
      "[97]\tvalidation_0-rmse:0.429536\tvalidation_1-rmse:7.409687\n",
      "[98]\tvalidation_0-rmse:0.426660\tvalidation_1-rmse:7.410488\n",
      "[99]\tvalidation_0-rmse:0.423408\tvalidation_1-rmse:7.410437\n",
      "[100]\tvalidation_0-rmse:0.421971\tvalidation_1-rmse:7.412176\n",
      "[101]\tvalidation_0-rmse:0.418849\tvalidation_1-rmse:7.412108\n",
      "[102]\tvalidation_0-rmse:0.416710\tvalidation_1-rmse:7.411899\n",
      "[103]\tvalidation_0-rmse:0.413716\tvalidation_1-rmse:7.413272\n",
      "[104]\tvalidation_0-rmse:0.410424\tvalidation_1-rmse:7.412901\n",
      "[105]\tvalidation_0-rmse:0.409673\tvalidation_1-rmse:7.412764\n",
      "[106]\tvalidation_0-rmse:0.403819\tvalidation_1-rmse:7.413458\n",
      "[107]\tvalidation_0-rmse:0.400710\tvalidation_1-rmse:7.413216\n",
      "[108]\tvalidation_0-rmse:0.396787\tvalidation_1-rmse:7.414251\n",
      "[109]\tvalidation_0-rmse:0.395455\tvalidation_1-rmse:7.414644\n",
      "[110]\tvalidation_0-rmse:0.393115\tvalidation_1-rmse:7.415756\n",
      "[111]\tvalidation_0-rmse:0.389292\tvalidation_1-rmse:7.416087\n",
      "[112]\tvalidation_0-rmse:0.384602\tvalidation_1-rmse:7.416512\n",
      "[113]\tvalidation_0-rmse:0.382385\tvalidation_1-rmse:7.416903\n",
      "[114]\tvalidation_0-rmse:0.378314\tvalidation_1-rmse:7.416683\n",
      "[115]\tvalidation_0-rmse:0.377607\tvalidation_1-rmse:7.417371\n",
      "[116]\tvalidation_0-rmse:0.372662\tvalidation_1-rmse:7.417999\n",
      "[117]\tvalidation_0-rmse:0.371904\tvalidation_1-rmse:7.418856\n",
      "[118]\tvalidation_0-rmse:0.368842\tvalidation_1-rmse:7.418702\n",
      "[119]\tvalidation_0-rmse:0.367229\tvalidation_1-rmse:7.418634\n",
      "[120]\tvalidation_0-rmse:0.365118\tvalidation_1-rmse:7.418509\n",
      "[121]\tvalidation_0-rmse:0.360579\tvalidation_1-rmse:7.418178\n",
      "[122]\tvalidation_0-rmse:0.358087\tvalidation_1-rmse:7.418661\n",
      "[123]\tvalidation_0-rmse:0.356230\tvalidation_1-rmse:7.418022\n",
      "[124]\tvalidation_0-rmse:0.354524\tvalidation_1-rmse:7.418118\n",
      "[125]\tvalidation_0-rmse:0.351939\tvalidation_1-rmse:7.417665\n",
      "[126]\tvalidation_0-rmse:0.349974\tvalidation_1-rmse:7.417675\n",
      "[127]\tvalidation_0-rmse:0.348338\tvalidation_1-rmse:7.417387\n",
      "[128]\tvalidation_0-rmse:0.346443\tvalidation_1-rmse:7.417607\n",
      "[129]\tvalidation_0-rmse:0.344871\tvalidation_1-rmse:7.417565\n",
      "[130]\tvalidation_0-rmse:0.343095\tvalidation_1-rmse:7.417682\n",
      "[131]\tvalidation_0-rmse:0.340486\tvalidation_1-rmse:7.418269\n",
      "[132]\tvalidation_0-rmse:0.337554\tvalidation_1-rmse:7.418530\n",
      "[133]\tvalidation_0-rmse:0.336247\tvalidation_1-rmse:7.418612\n",
      "[134]\tvalidation_0-rmse:0.335609\tvalidation_1-rmse:7.418937\n",
      "[135]\tvalidation_0-rmse:0.334032\tvalidation_1-rmse:7.418686\n",
      "[136]\tvalidation_0-rmse:0.331691\tvalidation_1-rmse:7.419097\n",
      "[137]\tvalidation_0-rmse:0.329767\tvalidation_1-rmse:7.419201\n",
      "[138]\tvalidation_0-rmse:0.325079\tvalidation_1-rmse:7.419016\n",
      "[139]\tvalidation_0-rmse:0.323406\tvalidation_1-rmse:7.419044\n",
      "[140]\tvalidation_0-rmse:0.321947\tvalidation_1-rmse:7.419027\n",
      "[141]\tvalidation_0-rmse:0.320190\tvalidation_1-rmse:7.419413\n",
      "[142]\tvalidation_0-rmse:0.319001\tvalidation_1-rmse:7.419322\n",
      "[143]\tvalidation_0-rmse:0.317580\tvalidation_1-rmse:7.419279\n",
      "[144]\tvalidation_0-rmse:0.315606\tvalidation_1-rmse:7.418842\n",
      "[145]\tvalidation_0-rmse:0.314649\tvalidation_1-rmse:7.418645\n",
      "[146]\tvalidation_0-rmse:0.314408\tvalidation_1-rmse:7.418581\n",
      "[147]\tvalidation_0-rmse:0.313152\tvalidation_1-rmse:7.418525\n",
      "[148]\tvalidation_0-rmse:0.312192\tvalidation_1-rmse:7.418338\n",
      "[149]\tvalidation_0-rmse:0.311132\tvalidation_1-rmse:7.417809\n",
      "[150]\tvalidation_0-rmse:0.309669\tvalidation_1-rmse:7.417526\n",
      "[151]\tvalidation_0-rmse:0.307479\tvalidation_1-rmse:7.417542\n",
      "[152]\tvalidation_0-rmse:0.306767\tvalidation_1-rmse:7.417494\n",
      "[153]\tvalidation_0-rmse:0.305435\tvalidation_1-rmse:7.417591\n",
      "[154]\tvalidation_0-rmse:0.304941\tvalidation_1-rmse:7.417461\n",
      "[155]\tvalidation_0-rmse:0.303623\tvalidation_1-rmse:7.417269\n",
      "[156]\tvalidation_0-rmse:0.301436\tvalidation_1-rmse:7.417835\n",
      "[157]\tvalidation_0-rmse:0.300293\tvalidation_1-rmse:7.417663\n",
      "[158]\tvalidation_0-rmse:0.298750\tvalidation_1-rmse:7.417747\n",
      "[159]\tvalidation_0-rmse:0.298621\tvalidation_1-rmse:7.417751\n",
      "[160]\tvalidation_0-rmse:0.298337\tvalidation_1-rmse:7.417682\n",
      "[161]\tvalidation_0-rmse:0.297869\tvalidation_1-rmse:7.417195\n",
      "[162]\tvalidation_0-rmse:0.296518\tvalidation_1-rmse:7.417259\n",
      "[163]\tvalidation_0-rmse:0.295342\tvalidation_1-rmse:7.417600\n",
      "[164]\tvalidation_0-rmse:0.294139\tvalidation_1-rmse:7.417616\n",
      "[165]\tvalidation_0-rmse:0.293399\tvalidation_1-rmse:7.417959\n",
      "[166]\tvalidation_0-rmse:0.292737\tvalidation_1-rmse:7.417888\n",
      "[167]\tvalidation_0-rmse:0.291723\tvalidation_1-rmse:7.417871\n",
      "[168]\tvalidation_0-rmse:0.291034\tvalidation_1-rmse:7.418002\n",
      "[169]\tvalidation_0-rmse:0.289632\tvalidation_1-rmse:7.417877\n",
      "[170]\tvalidation_0-rmse:0.287597\tvalidation_1-rmse:7.418701\n",
      "[171]\tvalidation_0-rmse:0.285795\tvalidation_1-rmse:7.418666\n",
      "[172]\tvalidation_0-rmse:0.283465\tvalidation_1-rmse:7.418496\n",
      "[173]\tvalidation_0-rmse:0.280501\tvalidation_1-rmse:7.419280\n",
      "[174]\tvalidation_0-rmse:0.279116\tvalidation_1-rmse:7.419343\n",
      "[175]\tvalidation_0-rmse:0.277439\tvalidation_1-rmse:7.419374\n",
      "[176]\tvalidation_0-rmse:0.275382\tvalidation_1-rmse:7.419517\n",
      "[177]\tvalidation_0-rmse:0.274122\tvalidation_1-rmse:7.419584\n",
      "[178]\tvalidation_0-rmse:0.271282\tvalidation_1-rmse:7.418816\n",
      "[179]\tvalidation_0-rmse:0.269974\tvalidation_1-rmse:7.418722\n",
      "[180]\tvalidation_0-rmse:0.269156\tvalidation_1-rmse:7.418890\n",
      "[181]\tvalidation_0-rmse:0.267384\tvalidation_1-rmse:7.418621\n",
      "[182]\tvalidation_0-rmse:0.265891\tvalidation_1-rmse:7.418463\n",
      "[183]\tvalidation_0-rmse:0.264461\tvalidation_1-rmse:7.418655\n",
      "[184]\tvalidation_0-rmse:0.262892\tvalidation_1-rmse:7.418817\n",
      "[185]\tvalidation_0-rmse:0.262251\tvalidation_1-rmse:7.418859\n",
      "[186]\tvalidation_0-rmse:0.261334\tvalidation_1-rmse:7.418605\n",
      "[187]\tvalidation_0-rmse:0.259815\tvalidation_1-rmse:7.418580\n",
      "[188]\tvalidation_0-rmse:0.258887\tvalidation_1-rmse:7.418604\n",
      "[189]\tvalidation_0-rmse:0.256714\tvalidation_1-rmse:7.418387\n",
      "[190]\tvalidation_0-rmse:0.255302\tvalidation_1-rmse:7.418048\n",
      "[191]\tvalidation_0-rmse:0.254630\tvalidation_1-rmse:7.418134\n",
      "[192]\tvalidation_0-rmse:0.254174\tvalidation_1-rmse:7.418116\n",
      "[193]\tvalidation_0-rmse:0.253634\tvalidation_1-rmse:7.418050\n",
      "[194]\tvalidation_0-rmse:0.253228\tvalidation_1-rmse:7.417906\n",
      "[195]\tvalidation_0-rmse:0.252719\tvalidation_1-rmse:7.417980\n",
      "[196]\tvalidation_0-rmse:0.251369\tvalidation_1-rmse:7.417784\n",
      "[197]\tvalidation_0-rmse:0.250919\tvalidation_1-rmse:7.417715\n",
      "[198]\tvalidation_0-rmse:0.246897\tvalidation_1-rmse:7.418205\n",
      "[199]\tvalidation_0-rmse:0.244735\tvalidation_1-rmse:7.418216\n"
     ]
    }
   ],
   "source": [
    "clf = xgb.XGBRegressor(max_depth=7, learning_rate=0.1, n_estimators=200, \n",
    "                       reg_lambda=0.00001, colsample_bytree=1)\n",
    "\n",
    "clf.fit(X_train, y_train,\n",
    "        eval_set=[(X_train, y_train), (X_test, y_test)], \n",
    "        eval_metric='rmse',\n",
    "        verbose=True)\n",
    "\n",
    "evals_result = clf.evals_result()"
   ]
  },
  {
   "cell_type": "code",
   "execution_count": null,
   "metadata": {
    "collapsed": true
   },
   "outputs": [],
   "source": []
  },
  {
   "cell_type": "code",
   "execution_count": null,
   "metadata": {
    "collapsed": true
   },
   "outputs": [],
   "source": []
  },
  {
   "cell_type": "code",
   "execution_count": null,
   "metadata": {
    "collapsed": true
   },
   "outputs": [],
   "source": []
  },
  {
   "cell_type": "code",
   "execution_count": null,
   "metadata": {
    "collapsed": true
   },
   "outputs": [],
   "source": []
  },
  {
   "cell_type": "code",
   "execution_count": null,
   "metadata": {
    "collapsed": true
   },
   "outputs": [],
   "source": []
  },
  {
   "cell_type": "markdown",
   "metadata": {},
   "source": [
    "### загрузим решение "
   ]
  },
  {
   "cell_type": "code",
   "execution_count": 34,
   "metadata": {
    "collapsed": true
   },
   "outputs": [],
   "source": [
    "ans = clf.predict(test)"
   ]
  },
  {
   "cell_type": "code",
   "execution_count": 35,
   "metadata": {
    "collapsed": true
   },
   "outputs": [],
   "source": [
    "ans_ = pd.DataFrame()\n",
    "ans_['ans'] = pd.Series(ans)"
   ]
  },
  {
   "cell_type": "code",
   "execution_count": 36,
   "metadata": {
    "collapsed": true
   },
   "outputs": [],
   "source": [
    "ans_.to_csv('ansv.csv', header=None, index=None)"
   ]
  },
  {
   "cell_type": "code",
   "execution_count": null,
   "metadata": {
    "collapsed": true
   },
   "outputs": [],
   "source": [
    "# end"
   ]
  }
 ],
 "metadata": {
  "kernelspec": {
   "display_name": "Python 3",
   "language": "python",
   "name": "python3"
  },
  "language_info": {
   "codemirror_mode": {
    "name": "ipython",
    "version": 3
   },
   "file_extension": ".py",
   "mimetype": "text/x-python",
   "name": "python",
   "nbconvert_exporter": "python",
   "pygments_lexer": "ipython3",
   "version": "3.5.0"
  }
 },
 "nbformat": 4,
 "nbformat_minor": 0
}
