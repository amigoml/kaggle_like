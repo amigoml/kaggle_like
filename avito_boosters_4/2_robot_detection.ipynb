{
 "cells": [
  {
   "cell_type": "raw",
   "metadata": {
    "collapsed": true
   },
   "source": [
    "Пользователями мобильных приложений Avito являются не только продавцы и покупатели, но и специальные роботы, цель которых – в автоматическом режиме получить нужные данные с сайта Avito. Например, это может быть информация по объявлениям других пользователей или место собственных объявлений в поисковой выдаче.\n",
    "\n",
    "Мы предлагаем вам придумать критерии определения роботов на основании данных о пользователях приложений и их поведении. Известно, что на базе приложения Android работает больше роботов, чем на базе iOS. Внутренняя архитектура и интерфейс двух приложений почти не различаются, за небольшим исключением после выхода новых версий. По итогу анализа необходимо заполнить поле IsHuman в файле t2_sample_submission.csv. Значение 0 – посетитель является роботом, 1 – посетитель является человеком.\n",
    "\n",
    "Описание данных\n",
    "log_id\tУникальный id записи в логе\n",
    "event_date\tДата и время события\n",
    "eventtype_id\tid типа события\n",
    "eventtype_group\tНазвание группы, к которой относится событие\n",
    "eventype_name\tНазвание события\n",
    "is_event_pageview\tЯвляется ли событие просмотром страницы\n",
    "ClientSideAppName\tНазвание приложения, с которого сделана запись в лог\n",
    "cookie_id\tВнутренний id устройства. Для iOS меняется только при удалении и новой установке приложения, для Android не меняется.\n",
    "cookie\tдля iOS номер UUID, для Android номер Android_ID\n",
    "user_id\tИдентификатор зарегистрированного пользователя. Если значение null, то посетитель не был авторизован.\n",
    "ParentCategoryName\tРодительская категория объявлений\n",
    "CategoryName\tКатегория объявлений\n",
    "Location_id\tИдентификатор локации (страна + регион + город)\n",
    "useragent\tМаксимальная длина - 370 символов.\n",
    "useragent_id\tУникальный идентификатор useragent\n",
    "IP\tМодифицированный IP адрес. Первые 3 числа оригинальные, для 4 числа сделано случайное смещение. Смещение одинаково внутри каждой комбинации первых 3 чисел."
   ]
  },
  {
   "cell_type": "code",
   "execution_count": 2,
   "metadata": {
    "collapsed": true
   },
   "outputs": [],
   "source": [
    "import datetime\n",
    "\n",
    "import pandas as pd\n",
    "import numpy as np\n",
    "\n",
    "import matplotlib.pyplot as plt\n",
    "import seaborn\n",
    "\n",
    "\n",
    "%matplotlib inline"
   ]
  },
  {
   "cell_type": "code",
   "execution_count": 3,
   "metadata": {
    "collapsed": false
   },
   "outputs": [
    {
     "name": "stdout",
     "output_type": "stream",
     "text": [
      "CPU times: user 56.2 s, sys: 1.41 s, total: 57.7 s\n",
      "Wall time: 57.6 s\n"
     ]
    }
   ],
   "source": [
    "%%time\n",
    "dt = pd.read_csv('log.csv', parse_dates=['event_date'])\n",
    "dt['event_date'] = dt['event_date'].astype(datetime.datetime)"
   ]
  },
  {
   "cell_type": "raw",
   "metadata": {
    "collapsed": true
   },
   "source": [
    "tmp_count = dt.groupby('cookie_id').count().reset_index()[['cookie_id', u'eventtype_id']]\n",
    "tmp_count.columns = [['cookie_id', u'counts']]"
   ]
  },
  {
   "cell_type": "code",
   "execution_count": 4,
   "metadata": {
    "collapsed": true
   },
   "outputs": [],
   "source": [
    "pd.options.display.max_rows = 100"
   ]
  },
  {
   "cell_type": "markdown",
   "metadata": {},
   "source": [
    "_____"
   ]
  },
  {
   "cell_type": "code",
   "execution_count": 5,
   "metadata": {
    "collapsed": false
   },
   "outputs": [],
   "source": [
    "dt['week_days'] = np.array(list(map( lambda x: x.isoweekday(),\n",
    "                           dt.event_date.values))).astype(int)\n",
    "\n",
    "dt['rel_time'] = np.array(list(map(lambda dt: (dt.minute*60 + dt.second), \n",
    "                                    dt.event_date.values))).astype(float)"
   ]
  },
  {
   "cell_type": "code",
   "execution_count": 6,
   "metadata": {
    "collapsed": false
   },
   "outputs": [
    {
     "data": {
      "text/html": [
       "<div>\n",
       "<table border=\"1\" class=\"dataframe\">\n",
       "  <thead>\n",
       "    <tr style=\"text-align: right;\">\n",
       "      <th></th>\n",
       "      <th>log_id</th>\n",
       "      <th>event_date</th>\n",
       "      <th>eventtype_id</th>\n",
       "      <th>eventtype_group</th>\n",
       "      <th>eventype_name</th>\n",
       "      <th>is_event_pageview</th>\n",
       "      <th>ClientSideAppName</th>\n",
       "      <th>cookie_id</th>\n",
       "      <th>cookie</th>\n",
       "      <th>user_id</th>\n",
       "      <th>category_id</th>\n",
       "      <th>ParentCategoryName</th>\n",
       "      <th>CategoryName</th>\n",
       "      <th>location_id</th>\n",
       "      <th>useragent_id</th>\n",
       "      <th>useragent</th>\n",
       "      <th>ip</th>\n",
       "      <th>week_days</th>\n",
       "      <th>rel_time</th>\n",
       "    </tr>\n",
       "  </thead>\n",
       "  <tbody>\n",
       "    <tr>\n",
       "      <th>0</th>\n",
       "      <td>1090142709087</td>\n",
       "      <td>2016-10-21 00:00:03</td>\n",
       "      <td>57</td>\n",
       "      <td>Request_ItemView</td>\n",
       "      <td>Item View</td>\n",
       "      <td>True</td>\n",
       "      <td>Android App</td>\n",
       "      <td>69412</td>\n",
       "      <td>7cce9961-ad09-41d2-8199-e333398*****</td>\n",
       "      <td>NaN</td>\n",
       "      <td>22.0</td>\n",
       "      <td>Личные вещи</td>\n",
       "      <td>Одежда, обувь, аксессуары</td>\n",
       "      <td>3953.0</td>\n",
       "      <td>2.566710e+05</td>\n",
       "      <td>Mozilla/5.0 (Windows; U; Windows NT 6.0; en-US...</td>\n",
       "      <td>82.138.25.1</td>\n",
       "      <td>5</td>\n",
       "      <td>3.0</td>\n",
       "    </tr>\n",
       "    <tr>\n",
       "      <th>1</th>\n",
       "      <td>1090142707471</td>\n",
       "      <td>2016-10-21 00:00:06</td>\n",
       "      <td>57</td>\n",
       "      <td>Request_ItemView</td>\n",
       "      <td>Item View</td>\n",
       "      <td>True</td>\n",
       "      <td>iPhone App</td>\n",
       "      <td>13845</td>\n",
       "      <td>6419167A-809E-498F-B8A7-C43CE0D*****</td>\n",
       "      <td>NaN</td>\n",
       "      <td>34.0</td>\n",
       "      <td>Транспорт</td>\n",
       "      <td>Запчасти и аксессуары</td>\n",
       "      <td>1261.0</td>\n",
       "      <td>2.366423e+11</td>\n",
       "      <td>AVITO 7.0, (iPhone; 9.3.3; ru_RU)</td>\n",
       "      <td>2.93.60.1</td>\n",
       "      <td>5</td>\n",
       "      <td>6.0</td>\n",
       "    </tr>\n",
       "    <tr>\n",
       "      <th>2</th>\n",
       "      <td>1090150202477</td>\n",
       "      <td>2016-10-21 00:00:07</td>\n",
       "      <td>57</td>\n",
       "      <td>Request_ItemView</td>\n",
       "      <td>Item View</td>\n",
       "      <td>True</td>\n",
       "      <td>Android App</td>\n",
       "      <td>69472</td>\n",
       "      <td>836d5d7c-3e3e-4006-91ff-50dbd54*****</td>\n",
       "      <td>NaN</td>\n",
       "      <td>16.0</td>\n",
       "      <td>Хобби и отдых</td>\n",
       "      <td>Музыкальные инструменты</td>\n",
       "      <td>346.0</td>\n",
       "      <td>2.566710e+05</td>\n",
       "      <td>Mozilla/5.0 (Windows; U; Windows NT 6.0; en-US...</td>\n",
       "      <td>82.138.25.1</td>\n",
       "      <td>5</td>\n",
       "      <td>7.0</td>\n",
       "    </tr>\n",
       "  </tbody>\n",
       "</table>\n",
       "</div>"
      ],
      "text/plain": [
       "          log_id           event_date  eventtype_id   eventtype_group  \\\n",
       "0  1090142709087  2016-10-21 00:00:03            57  Request_ItemView   \n",
       "1  1090142707471  2016-10-21 00:00:06            57  Request_ItemView   \n",
       "2  1090150202477  2016-10-21 00:00:07            57  Request_ItemView   \n",
       "\n",
       "  eventype_name is_event_pageview ClientSideAppName  cookie_id  \\\n",
       "0     Item View              True       Android App      69412   \n",
       "1     Item View              True        iPhone App      13845   \n",
       "2     Item View              True       Android App      69472   \n",
       "\n",
       "                                 cookie  user_id  category_id  \\\n",
       "0  7cce9961-ad09-41d2-8199-e333398*****      NaN         22.0   \n",
       "1  6419167A-809E-498F-B8A7-C43CE0D*****      NaN         34.0   \n",
       "2  836d5d7c-3e3e-4006-91ff-50dbd54*****      NaN         16.0   \n",
       "\n",
       "  ParentCategoryName               CategoryName  location_id  useragent_id  \\\n",
       "0        Личные вещи  Одежда, обувь, аксессуары       3953.0  2.566710e+05   \n",
       "1          Транспорт      Запчасти и аксессуары       1261.0  2.366423e+11   \n",
       "2      Хобби и отдых    Музыкальные инструменты        346.0  2.566710e+05   \n",
       "\n",
       "                                           useragent           ip  week_days  \\\n",
       "0  Mozilla/5.0 (Windows; U; Windows NT 6.0; en-US...  82.138.25.1          5   \n",
       "1                  AVITO 7.0, (iPhone; 9.3.3; ru_RU)    2.93.60.1          5   \n",
       "2  Mozilla/5.0 (Windows; U; Windows NT 6.0; en-US...  82.138.25.1          5   \n",
       "\n",
       "   rel_time  \n",
       "0       3.0  \n",
       "1       6.0  \n",
       "2       7.0  "
      ]
     },
     "execution_count": 6,
     "metadata": {},
     "output_type": "execute_result"
    }
   ],
   "source": [
    "dt.head(3)"
   ]
  },
  {
   "cell_type": "code",
   "execution_count": null,
   "metadata": {
    "collapsed": true
   },
   "outputs": [],
   "source": []
  },
  {
   "cell_type": "code",
   "execution_count": 7,
   "metadata": {
    "collapsed": true
   },
   "outputs": [],
   "source": [
    "pd.options.display.max_columns=100"
   ]
  },
  {
   "cell_type": "code",
   "execution_count": null,
   "metadata": {
    "collapsed": false,
    "scrolled": true
   },
   "outputs": [],
   "source": []
  },
  {
   "cell_type": "code",
   "execution_count": null,
   "metadata": {
    "collapsed": true
   },
   "outputs": [],
   "source": [
    "plt.figure(figsize=(15,8))\n",
    "plt.hist(dt[dt.location_id == 3953.0].event_date.values, bins = 1000);"
   ]
  },
  {
   "cell_type": "code",
   "execution_count": 44,
   "metadata": {
    "collapsed": false
   },
   "outputs": [
    {
     "data": {
      "text/plain": [
       "False    7663905\n",
       "True      162882\n",
       "Name: is_bad_ip, dtype: int64"
      ]
     },
     "execution_count": 44,
     "metadata": {},
     "output_type": "execute_result"
    }
   ],
   "source": [
    "dt[dt.cookie.str.len() < 20].is_bad_ip.value_counts()"
   ]
  },
  {
   "cell_type": "code",
   "execution_count": 45,
   "metadata": {
    "collapsed": false
   },
   "outputs": [
    {
     "data": {
      "text/plain": [
       "False    3387362\n",
       "True      393651\n",
       "Name: is_bad_ip, dtype: int64"
      ]
     },
     "execution_count": 45,
     "metadata": {},
     "output_type": "execute_result"
    }
   ],
   "source": [
    "dt[dt.cookie.str.len() > 20].is_bad_ip.value_counts()"
   ]
  },
  {
   "cell_type": "code",
   "execution_count": 63,
   "metadata": {
    "collapsed": false
   },
   "outputs": [
    {
     "data": {
      "text/plain": [
       " Event_Item_CallPhone            0.021659\n",
       "Request                          0.015444\n",
       "Request_FavoritesItems           0.017244\n",
       "Request_ItemAdd                  0.016315\n",
       "Request_ItemClose                0.021066\n",
       "Request_ItemEdit                 0.014473\n",
       "Request_ItemMessage              0.019742\n",
       "Request_ItemSearch               0.018740\n",
       "Request_ItemView                 0.088458\n",
       "Request_MainView                 0.014512\n",
       "Request_ShopsSearch              0.029158\n",
       "Request_UserAccountVAS           0.019110\n",
       "Request_UserEditContacts         0.022989\n",
       "Request_UserEditNotifications    0.040816\n",
       "Request_UserItemSearch           0.014477\n",
       "Request_UserLogin                0.022300\n",
       "Request_UserRegistration         0.017431\n",
       "Name: eventtype_group, dtype: float64"
      ]
     },
     "execution_count": 63,
     "metadata": {},
     "output_type": "execute_result"
    }
   ],
   "source": [
    "dt[dt.is_bad_ip].eventtype_group.value_counts() / dt[~dt.is_bad_ip].eventtype_group.value_counts() "
   ]
  },
  {
   "cell_type": "code",
   "execution_count": null,
   "metadata": {
    "collapsed": true
   },
   "outputs": [],
   "source": []
  },
  {
   "cell_type": "code",
   "execution_count": null,
   "metadata": {
    "collapsed": true
   },
   "outputs": [],
   "source": []
  },
  {
   "cell_type": "code",
   "execution_count": 47,
   "metadata": {
    "collapsed": false
   },
   "outputs": [
    {
     "data": {
      "text/plain": [
       "36    393586\n",
       "16    154291\n",
       "15      8018\n",
       "14       569\n",
       "32        62\n",
       "13         4\n",
       "31         3\n",
       "Name: cookie, dtype: int64"
      ]
     },
     "execution_count": 47,
     "metadata": {},
     "output_type": "execute_result"
    }
   ],
   "source": [
    "dt[dt.is_bad_ip].cookie.str.len().value_counts()"
   ]
  },
  {
   "cell_type": "code",
   "execution_count": 48,
   "metadata": {
    "collapsed": false
   },
   "outputs": [
    {
     "data": {
      "text/plain": [
       "16    6700909\n",
       "36    3381021\n",
       "15     936407\n",
       "14      25938\n",
       "30       6333\n",
       "13        629\n",
       "12         22\n",
       "32          8\n",
       "Name: cookie, dtype: int64"
      ]
     },
     "execution_count": 48,
     "metadata": {},
     "output_type": "execute_result"
    }
   ],
   "source": [
    "dt[~dt.is_bad_ip].cookie.str.len().value_counts()"
   ]
  },
  {
   "cell_type": "code",
   "execution_count": null,
   "metadata": {
    "collapsed": true
   },
   "outputs": [],
   "source": []
  },
  {
   "cell_type": "code",
   "execution_count": null,
   "metadata": {
    "collapsed": true
   },
   "outputs": [],
   "source": []
  },
  {
   "cell_type": "markdown",
   "metadata": {},
   "source": [
    "# по времени гистограмма 1 запросов "
   ]
  },
  {
   "cell_type": "code",
   "execution_count": 13,
   "metadata": {
    "collapsed": true
   },
   "outputs": [],
   "source": [
    "tmp_count = dt.groupby('cookie_id').eventtype_id.count().reset_index()\n",
    "tmp_count.columns = ['cookie_id', 'cookie_counts']"
   ]
  },
  {
   "cell_type": "code",
   "execution_count": null,
   "metadata": {
    "collapsed": false
   },
   "outputs": [],
   "source": []
  },
  {
   "cell_type": "code",
   "execution_count": 14,
   "metadata": {
    "collapsed": false
   },
   "outputs": [],
   "source": [
    "dt['is_avito'] = dt.useragent.str.lower().str.contains('avito')\n",
    "\n",
    "dt['is_win'] = dt.useragent.str.lower().str.contains('indow')\n",
    "dt['how_many_nans'] = dt.category_id.isnull().astype(int) + dt.user_id.isnull().astype(int) "
   ]
  },
  {
   "cell_type": "code",
   "execution_count": 15,
   "metadata": {
    "collapsed": false,
    "scrolled": true
   },
   "outputs": [
    {
     "data": {
      "text/plain": [
       "(11607800, 22)"
      ]
     },
     "execution_count": 15,
     "metadata": {},
     "output_type": "execute_result"
    }
   ],
   "source": [
    "dt.shape"
   ]
  },
  {
   "cell_type": "code",
   "execution_count": 16,
   "metadata": {
    "collapsed": false
   },
   "outputs": [],
   "source": [
    "dt.category_id = dt.category_id.fillna(-10)\n",
    "dt.location_id = dt.location_id.fillna(-199.)"
   ]
  },
  {
   "cell_type": "code",
   "execution_count": null,
   "metadata": {
    "collapsed": true
   },
   "outputs": [],
   "source": []
  },
  {
   "cell_type": "code",
   "execution_count": null,
   "metadata": {
    "collapsed": false,
    "scrolled": true
   },
   "outputs": [],
   "source": []
  },
  {
   "cell_type": "code",
   "execution_count": 17,
   "metadata": {
    "collapsed": false,
    "scrolled": true
   },
   "outputs": [
    {
     "name": "stdout",
     "output_type": "stream",
     "text": [
      "CPU times: user 42.9 s, sys: 456 ms, total: 43.4 s\n",
      "Wall time: 42.8 s\n"
     ]
    }
   ],
   "source": [
    "%%time\n",
    "\n",
    "tmp_count = dt.groupby('cookie_id').eventtype_id.count().reset_index()\n",
    "tmp_count.columns = ['cookie_id', 'cookie_counts']\n",
    "\n",
    "tmp_count1 = dt.category_id.groupby(dt.cookie_id).apply(lambda x: len(x.unique())).reset_index()\n",
    "tmp_count1.columns = ['cookie_id', 'category_id_counts']\n",
    "\n",
    "tmp_count2 = dt.eventtype_id.groupby(dt.cookie_id).apply(lambda x: len(x.unique())).reset_index()\n",
    "tmp_count2.columns = ['cookie_id', 'eventtype_id_unique']\n",
    "\n",
    "tmp_count = pd.merge(tmp_count1, tmp_count)\n",
    "tmp_count = pd.merge(tmp_count2, tmp_count)"
   ]
  },
  {
   "cell_type": "code",
   "execution_count": 18,
   "metadata": {
    "collapsed": false
   },
   "outputs": [
    {
     "data": {
      "text/plain": [
       "(438657, 4)"
      ]
     },
     "execution_count": 18,
     "metadata": {},
     "output_type": "execute_result"
    }
   ],
   "source": [
    "tmp_count.shape"
   ]
  },
  {
   "cell_type": "code",
   "execution_count": null,
   "metadata": {
    "collapsed": false
   },
   "outputs": [],
   "source": []
  },
  {
   "cell_type": "code",
   "execution_count": 19,
   "metadata": {
    "collapsed": false
   },
   "outputs": [
    {
     "name": "stdout",
     "output_type": "stream",
     "text": [
      "CPU times: user 23.6 s, sys: 272 ms, total: 23.9 s\n",
      "Wall time: 23.3 s\n"
     ]
    }
   ],
   "source": [
    "%%time\n",
    "\n",
    "tmp_count_is_10 = dt.eventtype_id.groupby(dt.cookie_id).apply(lambda x: (10 in x.unique())).reset_index()\n",
    "tmp_count_is_10.columns = ['cookie_id', 'is_10_in_eventtype_id']\n",
    "tmp_count = pd.merge(tmp_count_is_10, tmp_count)\n",
    "tmp_count.is_10_in_eventtype_id = tmp_count.is_10_in_eventtype_id.apply(int)"
   ]
  },
  {
   "cell_type": "code",
   "execution_count": 20,
   "metadata": {
    "collapsed": false
   },
   "outputs": [
    {
     "data": {
      "text/plain": [
       "(438657, 5)"
      ]
     },
     "execution_count": 20,
     "metadata": {},
     "output_type": "execute_result"
    }
   ],
   "source": [
    "tmp_count.shape"
   ]
  },
  {
   "cell_type": "code",
   "execution_count": 21,
   "metadata": {
    "collapsed": false
   },
   "outputs": [
    {
     "name": "stdout",
     "output_type": "stream",
     "text": [
      "CPU times: user 44.4 s, sys: 164 ms, total: 44.5 s\n",
      "Wall time: 44.5 s\n"
     ]
    }
   ],
   "source": [
    "%%time\n",
    "\n",
    "tmp_count_nulls = dt.how_many_nans.groupby(dt.cookie_id).apply(lambda x: (x.mean())).reset_index()\n",
    "tmp_count_nulls.columns = ['cookie_id', 'nans_mean']\n",
    "tmp_count = pd.merge(tmp_count_nulls, tmp_count)\n"
   ]
  },
  {
   "cell_type": "code",
   "execution_count": 22,
   "metadata": {
    "collapsed": false
   },
   "outputs": [
    {
     "data": {
      "text/plain": [
       "(438657, 6)"
      ]
     },
     "execution_count": 22,
     "metadata": {},
     "output_type": "execute_result"
    }
   ],
   "source": [
    "tmp_count.shape"
   ]
  },
  {
   "cell_type": "code",
   "execution_count": 23,
   "metadata": {
    "collapsed": false
   },
   "outputs": [
    {
     "name": "stdout",
     "output_type": "stream",
     "text": [
      "CPU times: user 24.7 s, sys: 0 ns, total: 24.7 s\n",
      "Wall time: 24.7 s\n"
     ]
    }
   ],
   "source": [
    "%%time\n",
    "\n",
    "ip_uniq_num = dt.ip.groupby(dt.cookie_id).apply(lambda x: len(x.unique())).reset_index()\n",
    "ip_uniq_num.columns = ['cookie_id', 'ip_uniq_counts']\n",
    "tmp_count = pd.merge(ip_uniq_num, tmp_count)"
   ]
  },
  {
   "cell_type": "code",
   "execution_count": 24,
   "metadata": {
    "collapsed": false
   },
   "outputs": [
    {
     "data": {
      "text/plain": [
       "(438657, 7)"
      ]
     },
     "execution_count": 24,
     "metadata": {},
     "output_type": "execute_result"
    }
   ],
   "source": [
    "tmp_count.shape"
   ]
  },
  {
   "cell_type": "code",
   "execution_count": null,
   "metadata": {
    "collapsed": false
   },
   "outputs": [],
   "source": []
  },
  {
   "cell_type": "code",
   "execution_count": null,
   "metadata": {
    "collapsed": true
   },
   "outputs": [],
   "source": []
  },
  {
   "cell_type": "code",
   "execution_count": 25,
   "metadata": {
    "collapsed": false
   },
   "outputs": [
    {
     "name": "stdout",
     "output_type": "stream",
     "text": [
      "CPU times: user 20.8 s, sys: 52 ms, total: 20.9 s\n",
      "Wall time: 20.8 s\n"
     ]
    }
   ],
   "source": [
    "%%time\n",
    "\n",
    "location_id_uniq_num = dt.location_id.groupby(dt.cookie_id).apply(lambda x: len(x.unique())).reset_index()\n",
    "location_id_uniq_num.columns = ['cookie_id', 'location_id_uniq_counts']\n",
    "tmp_count = pd.merge(location_id_uniq_num, tmp_count)\n"
   ]
  },
  {
   "cell_type": "code",
   "execution_count": 26,
   "metadata": {
    "collapsed": true
   },
   "outputs": [],
   "source": [
    "tmp_count['uniq_location_ratio'] = tmp_count['location_id_uniq_counts'] * 1.0 / tmp_count['cookie_counts']\n",
    "\n",
    "tmp_count['uniq_ip_ratio'] = tmp_count['ip_uniq_counts'] * 1.0 / tmp_count['cookie_counts']"
   ]
  },
  {
   "cell_type": "code",
   "execution_count": null,
   "metadata": {
    "collapsed": true
   },
   "outputs": [],
   "source": []
  },
  {
   "cell_type": "code",
   "execution_count": null,
   "metadata": {
    "collapsed": true
   },
   "outputs": [],
   "source": []
  },
  {
   "cell_type": "code",
   "execution_count": 27,
   "metadata": {
    "collapsed": false,
    "scrolled": true
   },
   "outputs": [
    {
     "name": "stdout",
     "output_type": "stream",
     "text": [
      "CPU times: user 388 ms, sys: 0 ns, total: 388 ms\n",
      "Wall time: 387 ms\n"
     ]
    }
   ],
   "source": [
    "%%time \n",
    "\n",
    "tmp_time = dt.groupby('cookie_id')['rel_time'].std().reset_index()\n",
    "tmp_time = tmp_time.fillna(-1)\n",
    "grouped_df = pd.merge(tmp_time, tmp_count)"
   ]
  },
  {
   "cell_type": "code",
   "execution_count": null,
   "metadata": {
    "collapsed": true
   },
   "outputs": [],
   "source": []
  },
  {
   "cell_type": "code",
   "execution_count": 28,
   "metadata": {
    "collapsed": false
   },
   "outputs": [],
   "source": [
    "grouped_df = pd.merge(tmp_time, tmp_count)"
   ]
  },
  {
   "cell_type": "code",
   "execution_count": 29,
   "metadata": {
    "collapsed": false
   },
   "outputs": [],
   "source": [
    "dt.is_win = dt.is_win.fillna(False)\n",
    "dt.is_win = dt.is_win.astype(int)\n",
    "dt.is_avito = dt.is_avito.fillna(False)\n",
    "dt.is_avito = dt.is_avito.astype(int)\n",
    "tmp_count =  dt.is_win.groupby(dt.cookie_id).apply(lambda x: np.max(x)).reset_index()\n",
    "tmp_count1 =  dt.is_avito.groupby(dt.cookie_id).apply(lambda x: np.max(x)).reset_index()\n",
    "\n",
    "tmp_count.head()\n",
    "grouped_df = pd.merge(tmp_count1, pd.merge(tmp_count, grouped_df))"
   ]
  },
  {
   "cell_type": "code",
   "execution_count": 30,
   "metadata": {
    "collapsed": true
   },
   "outputs": [],
   "source": [
    "assert grouped_df.shape[0] == 438656+1"
   ]
  },
  {
   "cell_type": "code",
   "execution_count": null,
   "metadata": {
    "collapsed": false
   },
   "outputs": [],
   "source": []
  },
  {
   "cell_type": "code",
   "execution_count": 31,
   "metadata": {
    "collapsed": false
   },
   "outputs": [],
   "source": [
    "bad_ip = set(dt.ip.groupby(dt.cookie_id).first()[grouped_df.cookie_counts == 1])\n",
    "ips = dt.ip.unique()\n",
    "\n",
    "d = {}\n",
    "for i in ips:\n",
    "    d[i] = i in bad_ip\n",
    "\n",
    "res = dt.ip.map(d)\n",
    "dt['is_bad_ip'] = res"
   ]
  },
  {
   "cell_type": "code",
   "execution_count": null,
   "metadata": {
    "collapsed": false
   },
   "outputs": [],
   "source": []
  },
  {
   "cell_type": "code",
   "execution_count": 32,
   "metadata": {
    "collapsed": false
   },
   "outputs": [
    {
     "data": {
      "text/html": [
       "<div>\n",
       "<table border=\"1\" class=\"dataframe\">\n",
       "  <thead>\n",
       "    <tr style=\"text-align: right;\">\n",
       "      <th></th>\n",
       "      <th>log_id</th>\n",
       "      <th>event_date</th>\n",
       "      <th>eventtype_id</th>\n",
       "      <th>eventtype_group</th>\n",
       "      <th>eventype_name</th>\n",
       "      <th>is_event_pageview</th>\n",
       "      <th>ClientSideAppName</th>\n",
       "      <th>cookie_id</th>\n",
       "      <th>cookie</th>\n",
       "      <th>user_id</th>\n",
       "      <th>category_id</th>\n",
       "      <th>ParentCategoryName</th>\n",
       "      <th>CategoryName</th>\n",
       "      <th>location_id</th>\n",
       "      <th>useragent_id</th>\n",
       "      <th>useragent</th>\n",
       "      <th>ip</th>\n",
       "      <th>week_days</th>\n",
       "      <th>rel_time</th>\n",
       "      <th>is_avito</th>\n",
       "      <th>is_win</th>\n",
       "      <th>how_many_nans</th>\n",
       "      <th>is_bad_ip</th>\n",
       "    </tr>\n",
       "  </thead>\n",
       "  <tbody>\n",
       "    <tr>\n",
       "      <th>11184378</th>\n",
       "      <td>1117952486545</td>\n",
       "      <td>2016-10-31 09:30:22</td>\n",
       "      <td>3</td>\n",
       "      <td>Request_UserLogin</td>\n",
       "      <td>User Login</td>\n",
       "      <td>True</td>\n",
       "      <td>Android App</td>\n",
       "      <td>4</td>\n",
       "      <td>38acc04ab19*****</td>\n",
       "      <td>4.648250e+10</td>\n",
       "      <td>-10.0</td>\n",
       "      <td>NaN</td>\n",
       "      <td>NaN</td>\n",
       "      <td>-199.0</td>\n",
       "      <td>1.859365e+11</td>\n",
       "      <td>AVITO 3.9 (GT-I8160; Android 2.3.6; ru)</td>\n",
       "      <td>79.140.25.53</td>\n",
       "      <td>1</td>\n",
       "      <td>1822.0</td>\n",
       "      <td>1</td>\n",
       "      <td>0</td>\n",
       "      <td>1</td>\n",
       "      <td>True</td>\n",
       "    </tr>\n",
       "  </tbody>\n",
       "</table>\n",
       "</div>"
      ],
      "text/plain": [
       "                 log_id           event_date  eventtype_id    eventtype_group  \\\n",
       "11184378  1117952486545  2016-10-31 09:30:22             3  Request_UserLogin   \n",
       "\n",
       "         eventype_name is_event_pageview ClientSideAppName  cookie_id  \\\n",
       "11184378    User Login              True       Android App          4   \n",
       "\n",
       "                    cookie       user_id  category_id ParentCategoryName  \\\n",
       "11184378  38acc04ab19*****  4.648250e+10        -10.0                NaN   \n",
       "\n",
       "         CategoryName  location_id  useragent_id  \\\n",
       "11184378          NaN       -199.0  1.859365e+11   \n",
       "\n",
       "                                        useragent            ip  week_days  \\\n",
       "11184378  AVITO 3.9 (GT-I8160; Android 2.3.6; ru)  79.140.25.53          1   \n",
       "\n",
       "          rel_time  is_avito  is_win  how_many_nans is_bad_ip  \n",
       "11184378    1822.0         1       0              1      True  "
      ]
     },
     "execution_count": 32,
     "metadata": {},
     "output_type": "execute_result"
    }
   ],
   "source": [
    "dt[dt.cookie_id==4].head()"
   ]
  },
  {
   "cell_type": "code",
   "execution_count": 33,
   "metadata": {
    "collapsed": false
   },
   "outputs": [],
   "source": [
    "assert dt.shape[0] == 11607800"
   ]
  },
  {
   "cell_type": "code",
   "execution_count": 34,
   "metadata": {
    "collapsed": false
   },
   "outputs": [],
   "source": [
    "tmp_bad_ip = dt.groupby('cookie_id')['is_bad_ip'].apply(lambda x: np.sum(x)!=0).reset_index()\n",
    "next_grouped_df = pd.merge(tmp_bad_ip, grouped_df)"
   ]
  },
  {
   "cell_type": "code",
   "execution_count": 35,
   "metadata": {
    "collapsed": false
   },
   "outputs": [
    {
     "data": {
      "text/plain": [
       "(438657, 14)"
      ]
     },
     "execution_count": 35,
     "metadata": {},
     "output_type": "execute_result"
    }
   ],
   "source": [
    "next_grouped_df.shape"
   ]
  },
  {
   "cell_type": "code",
   "execution_count": null,
   "metadata": {
    "collapsed": false
   },
   "outputs": [],
   "source": []
  },
  {
   "cell_type": "code",
   "execution_count": 36,
   "metadata": {
    "collapsed": true
   },
   "outputs": [],
   "source": [
    "a = dt.groupby('cookie_id').user_id.apply(lambda x: np.isnan(x).astype(int)).reset_index()\n",
    "dt['isnaninid'] = a.user_id\n",
    "tmp_count = dt.groupby('cookie_id').isnaninid.sum().reset_index()"
   ]
  },
  {
   "cell_type": "code",
   "execution_count": 37,
   "metadata": {
    "collapsed": true
   },
   "outputs": [],
   "source": [
    "next_grouped_df = pd.merge(tmp_count, next_grouped_df)"
   ]
  },
  {
   "cell_type": "code",
   "execution_count": 38,
   "metadata": {
    "collapsed": true
   },
   "outputs": [],
   "source": [
    "tmp_loc_count = dt.groupby('cookie_id').location_id.count().reset_index()\n",
    "tmp_loc_count.columns = ['cookie_id', 'loc_count']\n",
    "\n",
    "next_grouped_df = pd.merge(tmp_loc_count, next_grouped_df)"
   ]
  },
  {
   "cell_type": "code",
   "execution_count": null,
   "metadata": {
    "collapsed": false
   },
   "outputs": [],
   "source": []
  },
  {
   "cell_type": "code",
   "execution_count": 39,
   "metadata": {
    "collapsed": false
   },
   "outputs": [],
   "source": [
    "useragent_count1 = dt.useragent.groupby(dt.cookie_id).count().reset_index()\n",
    "useragent_count1.columns = ['cookie_id', 'useragent_count']"
   ]
  },
  {
   "cell_type": "code",
   "execution_count": 40,
   "metadata": {
    "collapsed": true
   },
   "outputs": [],
   "source": [
    "next_grouped_df = pd.merge(useragent_count1, next_grouped_df)"
   ]
  },
  {
   "cell_type": "code",
   "execution_count": null,
   "metadata": {
    "collapsed": true
   },
   "outputs": [],
   "source": []
  },
  {
   "cell_type": "markdown",
   "metadata": {},
   "source": [
    "_____"
   ]
  },
  {
   "cell_type": "code",
   "execution_count": null,
   "metadata": {
    "collapsed": true
   },
   "outputs": [],
   "source": [
    "(next_grouped_df.is_bad_ip==False) &\n",
    "(next_grouped_df.is_win==0) &\n",
    "(next_grouped_df.is_avito==1) &\n",
    "(next_grouped_df.rel_time != 0.) & \n",
    "(next_grouped_df.rel_time != 1.) &\n",
    "(next_grouped_df.uniq_ip_ratio != 1.) &\n",
    "(next_grouped_df.uniq_location_ratio != 1.) "
   ]
  },
  {
   "cell_type": "code",
   "execution_count": null,
   "metadata": {
    "collapsed": false,
    "scrolled": true
   },
   "outputs": [],
   "source": []
  },
  {
   "cell_type": "code",
   "execution_count": 49,
   "metadata": {
    "collapsed": false
   },
   "outputs": [],
   "source": [
    "ans = next_grouped_df[['cookie_id']].copy()\n",
    "ans['IsHuman'] = False\n",
    "assert ans.shape[0] == 438656+1"
   ]
  },
  {
   "cell_type": "code",
   "execution_count": 50,
   "metadata": {
    "collapsed": false,
    "scrolled": true
   },
   "outputs": [
    {
     "data": {
      "text/plain": [
       "(0.10603273172433131, 0.89396726827566875)"
      ]
     },
     "execution_count": 50,
     "metadata": {},
     "output_type": "execute_result"
    }
   ],
   "source": [
    "ans.loc[ \n",
    "        (next_grouped_df.is_bad_ip==False) &\n",
    "        #(next_grouped_df.is_win==0) & \n",
    "        (next_grouped_df.is_avito==1) &\n",
    "        (next_grouped_df.rel_time != 0.)   \n",
    "#         (next_grouped_df.rel_time != 1.) &\n",
    "        & ((next_grouped_df.uniq_ip_ratio != 1.) | (next_grouped_df.cookie_counts <= 6.))\n",
    "#         (next_grouped_df.uniq_location_ratio != 1.)  \n",
    "        & (next_grouped_df.useragent_count > 1)\n",
    "        & (0 != next_grouped_df.useragent_count)\n",
    "        # сильное заявление что людей с виндой нету\n",
    "        # что нету людей среди тех у кого одна кука (проверено одним сабмитом)\n",
    "        # и что нету в плохих айпишках\n",
    "        ,\n",
    "        'IsHuman'] = True\n",
    "\n",
    "ans.IsHuman.sum() / ans.IsHuman.count(), 1-ans.IsHuman.sum() / ans.IsHuman.count()"
   ]
  },
  {
   "cell_type": "code",
   "execution_count": 41,
   "metadata": {
    "collapsed": false
   },
   "outputs": [
    {
     "data": {
      "text/plain": [
       "0.9027"
      ]
     },
     "execution_count": 41,
     "metadata": {},
     "output_type": "execute_result"
    }
   ],
   "source": [
    "0.9027"
   ]
  },
  {
   "cell_type": "code",
   "execution_count": 285,
   "metadata": {
    "collapsed": false
   },
   "outputs": [],
   "source": [
    "ans.IsHuman = ans.IsHuman.astype(int)\n",
    "assert ans.shape[0] == 438656+1"
   ]
  },
  {
   "cell_type": "code",
   "execution_count": 288,
   "metadata": {
    "collapsed": true
   },
   "outputs": [],
   "source": [
    "ans.sort_values('cookie_id').to_csv('amir_Last90_9.02_subm.csv', index=False)"
   ]
  },
  {
   "cell_type": "code",
   "execution_count": 289,
   "metadata": {
    "collapsed": false
   },
   "outputs": [
    {
     "data": {
      "text/plain": [
       "(46512, 438657)"
      ]
     },
     "execution_count": 289,
     "metadata": {},
     "output_type": "execute_result"
    }
   ],
   "source": [
    "ans.IsHuman.sum(), ans.IsHuman.count()"
   ]
  },
  {
   "cell_type": "code",
   "execution_count": 290,
   "metadata": {
    "collapsed": false,
    "scrolled": true
   },
   "outputs": [
    {
     "name": "stdout",
     "output_type": "stream",
     "text": [
      "run!?????????\n"
     ]
    }
   ],
   "source": [
    "print ('run!?????????')"
   ]
  },
  {
   "cell_type": "code",
   "execution_count": null,
   "metadata": {
    "collapsed": true
   },
   "outputs": [],
   "source": [
    "0.8923\n",
    "\n",
    "\n",
    "x + y = 0.10554031965750005,\n",
    "z + m = 0.89245811647825068\n",
    "\n",
    "z + x = 0.10754188352174934 (меняется)\n",
    "\n",
    "(2-2/0.8923)x + y + z\n"
   ]
  },
  {
   "cell_type": "code",
   "execution_count": 132,
   "metadata": {
    "collapsed": false
   },
   "outputs": [],
   "source": [
    "x1 =   711898241257741 / 7488413958568295 \n",
    "x2 =   7843136165724 / 7488413958568295 \n",
    "x3 =   93419900437252 / 7488413958568295 \n",
    "x4 =   4748361920280596 / 5395970930144671 "
   ]
  },
  {
   "cell_type": "code",
   "execution_count": 133,
   "metadata": {
    "collapsed": false
   },
   "outputs": [
    {
     "name": "stdout",
     "output_type": "stream",
     "text": [
      "0.09506662494842211 0.012475258573327173\n",
      "0.0010473694709077653 0.8799828579049235\n"
     ]
    }
   ],
   "source": [
    "print (x1, x3)\n",
    "print (x2, x4)"
   ]
  },
  {
   "cell_type": "code",
   "execution_count": null,
   "metadata": {
    "collapsed": true
   },
   "outputs": [],
   "source": []
  },
  {
   "cell_type": "code",
   "execution_count": null,
   "metadata": {
    "collapsed": true
   },
   "outputs": [],
   "source": []
  },
  {
   "cell_type": "code",
   "execution_count": null,
   "metadata": {
    "collapsed": true
   },
   "outputs": [],
   "source": []
  },
  {
   "cell_type": "code",
   "execution_count": null,
   "metadata": {
    "collapsed": true
   },
   "outputs": [],
   "source": []
  },
  {
   "cell_type": "code",
   "execution_count": null,
   "metadata": {
    "collapsed": true
   },
   "outputs": [],
   "source": []
  },
  {
   "cell_type": "code",
   "execution_count": null,
   "metadata": {
    "collapsed": true
   },
   "outputs": [],
   "source": [
    "### досчитатть! пока самое лучшее попытка"
   ]
  },
  {
   "cell_type": "raw",
   "metadata": {
    "collapsed": true
   },
   "source": [
    "x + y = 0.10554031965750005,\n",
    "z + m = 0.89585256817969394\n",
    "\n",
    "z + x = 0.10419530521569244 (меняется)\n",
    "\n",
    "(2-2/0.9090)x + y + z"
   ]
  },
  {
   "cell_type": "code",
   "execution_count": 109,
   "metadata": {
    "collapsed": false
   },
   "outputs": [
    {
     "data": {
      "text/plain": [
       "-0.2269235051775973"
      ]
     },
     "execution_count": 109,
     "metadata": {},
     "output_type": "execute_result"
    }
   ],
   "source": [
    "(2-2/0.9092)"
   ]
  },
  {
   "cell_type": "code",
   "execution_count": null,
   "metadata": {
    "collapsed": true
   },
   "outputs": [],
   "source": [
    "x1 =   386413271128096 4052755386177969 \n",
    "x2 =   50966425922556 4999402603231555 \n",
    "x3 =   35864813299259 4052755386177969 \n",
    "x4 =   5180382548329873 5840636047044759 \n",
    " "
   ]
  },
  {
   "cell_type": "code",
   "execution_count": 80,
   "metadata": {
    "collapsed": false
   },
   "outputs": [
    {
     "name": "stdout",
     "output_type": "stream",
     "text": [
      "0.09534581644033312 0.00884948877535933\n",
      "0.010194503217166768 0.8869552060089482\n"
     ]
    }
   ],
   "source": [
    "print (386413271128096 / 4052755386177969 , 35864813299259 / 4052755386177969 )\n",
    "print (50966425922556 / 4999402603231555 , 5180382548329873 / 5840636047044759)"
   ]
  },
  {
   "cell_type": "code",
   "execution_count": null,
   "metadata": {
    "collapsed": false
   },
   "outputs": [],
   "source": []
  },
  {
   "cell_type": "markdown",
   "metadata": {},
   "source": [
    "# чемпион"
   ]
  },
  {
   "cell_type": "code",
   "execution_count": null,
   "metadata": {
    "collapsed": true
   },
   "outputs": [],
   "source": [
    "0.9090\n",
    "(next_grouped_df.cookie_counts >= 2) & \n",
    "(next_grouped_df.is_bad_ip==False) &\n",
    "(next_grouped_df.is_win==0) & \n",
    "(next_grouped_df.is_avito==1) &\n",
    "(next_grouped_df.rel_time != 0.)  & \n",
    "(next_grouped_df.rel_time != 1.) &\n",
    "(next_grouped_df.uniq_ip_ratio != 1.) &\n",
    "(next_grouped_df.uniq_location_ratio != 1.)"
   ]
  },
  {
   "cell_type": "code",
   "execution_count": null,
   "metadata": {
    "collapsed": true
   },
   "outputs": [],
   "source": []
  },
  {
   "cell_type": "markdown",
   "metadata": {
    "collapsed": true
   },
   "source": [
    "_______-"
   ]
  },
  {
   "cell_type": "code",
   "execution_count": null,
   "metadata": {
    "collapsed": true
   },
   "outputs": [],
   "source": []
  },
  {
   "cell_type": "raw",
   "metadata": {},
   "source": [
    "f_1 = (2TP) / (2TP + FP + FN)\n",
    "\n",
    "FP = 0  \n",
    "FN = Л\n",
    "TP = П\n",
    "\n",
    "2П - f_1 2П  =  f_1 Л\n",
    "\n",
    "П = N - Л (edited)\n",
    "_____ Л = L\n",
    "\n",
    "(N-L) (2 - 2 F1) = F1 L\n",
    "\n",
    "_____\n",
    "\n",
    "(2 - 2 F1) N  = F1 L + 2 L - 2 F1 L = (F1 + 2 - 2F1) L \n",
    "\n",
    "(2 - 2 F1) /  (F1 + 2 - 2F1) = L  / N\n"
   ]
  },
  {
   "cell_type": "code",
   "execution_count": null,
   "metadata": {
    "collapsed": true
   },
   "outputs": [],
   "source": [
    "f1 = 0.1901"
   ]
  },
  {
   "cell_type": "code",
   "execution_count": null,
   "metadata": {
    "collapsed": false
   },
   "outputs": [],
   "source": [
    "(2 - 2 * f1) /  (f1 + 2 - 2* f1)"
   ]
  },
  {
   "cell_type": "raw",
   "metadata": {},
   "source": [
    "89 процентов роботов?"
   ]
  },
  {
   "cell_type": "code",
   "execution_count": 223,
   "metadata": {
    "collapsed": false
   },
   "outputs": [
    {
     "data": {
      "text/plain": [
       "0.1050334272611747"
      ]
     },
     "execution_count": 223,
     "metadata": {},
     "output_type": "execute_result"
    }
   ],
   "source": [
    "1.-0.8949665727388253"
   ]
  },
  {
   "cell_type": "code",
   "execution_count": null,
   "metadata": {
    "collapsed": true
   },
   "outputs": [],
   "source": []
  },
  {
   "cell_type": "code",
   "execution_count": null,
   "metadata": {
    "collapsed": true
   },
   "outputs": [],
   "source": []
  }
 ],
 "metadata": {
  "kernelspec": {
   "display_name": "Python 3",
   "language": "python",
   "name": "python3"
  },
  "language_info": {
   "codemirror_mode": {
    "name": "ipython",
    "version": 3
   },
   "file_extension": ".py",
   "mimetype": "text/x-python",
   "name": "python",
   "nbconvert_exporter": "python",
   "pygments_lexer": "ipython3",
   "version": "3.5.0"
  }
 },
 "nbformat": 4,
 "nbformat_minor": 0
}
