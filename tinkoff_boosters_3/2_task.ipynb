{
 "cells": [
  {
   "cell_type": "raw",
   "metadata": {
    "collapsed": true
   },
   "source": [
    "Мерчант — это место, принимающее платежи с использованием банковской пластиковой карты (магазин продуктов, салон красоты и тд.). Банк знает геопозицию большинства мерчантов. Это помогает отслеживать случаи мошенничества, подбирать клиенту подходящие спецпредложения. Для получения координат неизвестных мерчантов представители Tinkoff.ru в небольшой промежуток времени от покупки отправляют данные о своей геопозиции с мобильного телефона - производят чекин. Необходимо по нескольким чекинам восстановить геопозицию мерчанта. Координаты чекина не всегда равны координатам мерчанта из-за особенностей мобильной связи, недоступности GPS, некорректно настроенных сетей Wi-Fi т.п.\n",
    "\n",
    "\n",
    "Описание данных\n",
    "transactions_cd\tТранзакции\n",
    "merchant_id\tid точки, где происходит покупка\n",
    "transaction_time\tвремя, когда произошла транзакция\n",
    "record_time\tвремя, отправки данных о геопозиции\n",
    "latitude\tширота местоположения человека в момент отправки данных о геопозиции.\n",
    "longitude\tдолгота местоположения человека в момент отправки данных о геопозиции.\n",
    "merchants_train_cd\tМерчант\n",
    "merchant_id\tid точки, где происходит покупка\n",
    "latitude\tширота точки\n",
    "longitude\tдолгота точки"
   ]
  },
  {
   "cell_type": "raw",
   "metadata": {},
   "source": [
    "# визуализация\n",
    "# точек\n",
    "# -- https://github.com/romovpa/pygeoplot/tree/master/ --\n",
    "\n",
    "\n",
    "import pygeoplot as gp\n",
    "\n",
    "merch_id = data.merchant_id.unique()[10]\n",
    "\n",
    "points = data[data.merchant_id == merch_id].apply(lambda x: \n",
    "                                      (x.latitude, x.longitude), axis=1).values\n",
    "m = gp.Map()\n",
    "m.add_heatmap(points)\n",
    "true_position = dt[dt.merchant_id==merch_id].apply(lambda x: \n",
    "                             (x.latitude_tr, x.longitude_tr), axis=1).values[0]\n",
    "m.add_placemark((true_position), hint='true_pos ' + str(merch_id))\n",
    "\n",
    "line_points = [\n",
    "                (true_position[0]+0.002, true_position[1]+0.002),\n",
    "                (true_position[0]+0.002, true_position[1]-0.002),\n",
    "                (true_position[0]-0.002, true_position[1]-0.002),\n",
    "                (true_position[0]-0.002, true_position[1]+0.002),\n",
    "                (true_position[0]+0.002, true_position[1]+0.002),\n",
    "              ]\n",
    "m.add_line(line_points, color=\"#FF0000\", width=10, opacity=0.6)\n",
    "m.display()"
   ]
  },
  {
   "cell_type": "code",
   "execution_count": null,
   "metadata": {
    "collapsed": true
   },
   "outputs": [],
   "source": []
  },
  {
   "cell_type": "code",
   "execution_count": 2,
   "metadata": {
    "collapsed": true
   },
   "outputs": [],
   "source": [
    "import pandas as pd\n",
    "import matplotlib.pyplot as plt\n",
    "%matplotlib inline\n",
    "\n",
    "dt = pd.read_csv('merchants_train.csv', encoding='cp1251',sep=';')\n",
    "tr = pd.read_csv('transactions.csv', encoding='cp1251',sep=',')"
   ]
  },
  {
   "cell_type": "code",
   "execution_count": 3,
   "metadata": {
    "collapsed": false,
    "scrolled": true
   },
   "outputs": [
    {
     "data": {
      "text/html": [
       "<div>\n",
       "<table border=\"1\" class=\"dataframe\">\n",
       "  <thead>\n",
       "    <tr style=\"text-align: right;\">\n",
       "      <th></th>\n",
       "      <th>merchant_id</th>\n",
       "      <th>latitude</th>\n",
       "      <th>longitude</th>\n",
       "      <th>real_transaction_dttm</th>\n",
       "      <th>record_date</th>\n",
       "    </tr>\n",
       "  </thead>\n",
       "  <tbody>\n",
       "    <tr>\n",
       "      <th>0</th>\n",
       "      <td>178</td>\n",
       "      <td>0.000000</td>\n",
       "      <td>0.000000</td>\n",
       "      <td>9:34:47</td>\n",
       "      <td>9:30:36</td>\n",
       "    </tr>\n",
       "    <tr>\n",
       "      <th>1</th>\n",
       "      <td>178</td>\n",
       "      <td>55.055995</td>\n",
       "      <td>82.912991</td>\n",
       "      <td>17:49:50</td>\n",
       "      <td>17:54:24</td>\n",
       "    </tr>\n",
       "    <tr>\n",
       "      <th>2</th>\n",
       "      <td>178</td>\n",
       "      <td>0.000000</td>\n",
       "      <td>0.000000</td>\n",
       "      <td>9:34:47</td>\n",
       "      <td>9:31:22</td>\n",
       "    </tr>\n",
       "    <tr>\n",
       "      <th>3</th>\n",
       "      <td>178</td>\n",
       "      <td>55.056034</td>\n",
       "      <td>82.912734</td>\n",
       "      <td>17:49:50</td>\n",
       "      <td>17:43:01</td>\n",
       "    </tr>\n",
       "    <tr>\n",
       "      <th>4</th>\n",
       "      <td>178</td>\n",
       "      <td>55.056034</td>\n",
       "      <td>82.912734</td>\n",
       "      <td>17:49:50</td>\n",
       "      <td>17:45:17</td>\n",
       "    </tr>\n",
       "  </tbody>\n",
       "</table>\n",
       "</div>"
      ],
      "text/plain": [
       "   merchant_id   latitude  longitude real_transaction_dttm record_date\n",
       "0          178   0.000000   0.000000               9:34:47     9:30:36\n",
       "1          178  55.055995  82.912991              17:49:50    17:54:24\n",
       "2          178   0.000000   0.000000               9:34:47     9:31:22\n",
       "3          178  55.056034  82.912734              17:49:50    17:43:01\n",
       "4          178  55.056034  82.912734              17:49:50    17:45:17"
      ]
     },
     "execution_count": 3,
     "metadata": {},
     "output_type": "execute_result"
    }
   ],
   "source": [
    "tr.head()"
   ]
  },
  {
   "cell_type": "markdown",
   "metadata": {},
   "source": [
    "> посмотрим на все данные и пометим прямоугольник в которых действительно был чекин:"
   ]
  },
  {
   "cell_type": "code",
   "execution_count": 8,
   "metadata": {
    "collapsed": false
   },
   "outputs": [
    {
     "data": {
      "text/plain": [
       "[<matplotlib.lines.Line2D at 0x7fef2713a7f0>]"
      ]
     },
     "execution_count": 8,
     "metadata": {},
     "output_type": "execute_result"
    },
    {
     "data": {
      "image/png": "[encoded data removed]",
      "text/plain": [
       "<matplotlib.figure.Figure at 0x7fef2719ac18>"
      ]
     },
     "metadata": {},
     "output_type": "display_data"
    }
   ],
   "source": [
    "plt.plot(tr.longitude.values, tr.latitude.values,  '*r', alpha=0.15)\n",
    "plt.plot(dt.longitude.max(), dt.latitude.max(), 'og')\n",
    "plt.plot(dt.longitude.min(), dt.latitude.max(), 'og')\n",
    "plt.plot(dt.longitude.max(), dt.latitude.min(), 'og')\n",
    "plt.plot(dt.longitude.min(), dt.latitude.min(), 'og')"
   ]
  },
  {
   "cell_type": "markdown",
   "metadata": {},
   "source": [
    "> очень шумные данные:\n",
    "\n",
    "- большое скопление в нуле \n",
    "- много постороннего шума\n",
    "- все трейновые реальные точки где-то в россии"
   ]
  },
  {
   "cell_type": "code",
   "execution_count": 5,
   "metadata": {
    "collapsed": false,
    "scrolled": false
   },
   "outputs": [
    {
     "data": {
      "text/plain": [
       "(249353, 2)"
      ]
     },
     "execution_count": 5,
     "metadata": {},
     "output_type": "execute_result"
    }
   ],
   "source": [
    "from sklearn.cluster import DBSCAN\n",
    "from sklearn.preprocessing import StandardScaler\n",
    "\n",
    "X = tr[['longitude', 'latitude']]\n",
    "X.shape"
   ]
  },
  {
   "cell_type": "code",
   "execution_count": 70,
   "metadata": {
    "collapsed": false,
    "scrolled": true
   },
   "outputs": [
    {
     "data": {
      "text/plain": [
       "(76973, 2)"
      ]
     },
     "execution_count": 70,
     "metadata": {},
     "output_type": "execute_result"
    }
   ],
   "source": [
    "X = X.drop_duplicates()\n",
    "X.shape"
   ]
  },
  {
   "cell_type": "code",
   "execution_count": 71,
   "metadata": {
    "collapsed": true
   },
   "outputs": [],
   "source": [
    "X = X.values"
   ]
  },
  {
   "cell_type": "code",
   "execution_count": 72,
   "metadata": {
    "collapsed": false
   },
   "outputs": [
    {
     "data": {
      "text/plain": [
       "(75342, 2)"
      ]
     },
     "execution_count": 72,
     "metadata": {},
     "output_type": "execute_result"
    }
   ],
   "source": [
    "# как нибудь отфильтруем\n",
    "X = X[(X[:,0]>0.4) & (X[:,0]<100) & (X[:,1]>30) & (X[:,1]<80)]\n",
    "X.shape"
   ]
  },
  {
   "cell_type": "code",
   "execution_count": null,
   "metadata": {
    "collapsed": true
   },
   "outputs": [],
   "source": [
    "plt.plot(X[:, 0], X[:, 1],  '*r')"
   ]
  },
  {
   "cell_type": "code",
   "execution_count": 74,
   "metadata": {
    "collapsed": true
   },
   "outputs": [],
   "source": [
    "db = DBSCAN(eps=0.1, min_samples=5, metric='minkowski', p=2, n_jobs=1)\n",
    "db.fit(X)\n",
    "labels = db.labels_"
   ]
  },
  {
   "cell_type": "code",
   "execution_count": 75,
   "metadata": {
    "collapsed": false,
    "scrolled": true
   },
   "outputs": [
    {
     "data": {
      "image/png": "[encoded data removed]",
      "text/plain": [
       "<matplotlib.figure.Figure at 0x7fbbcc427940>"
      ]
     },
     "metadata": {},
     "output_type": "display_data"
    }
   ],
   "source": [
    "plt.hist(labels, bins=100);"
   ]
  },
  {
   "cell_type": "code",
   "execution_count": 76,
   "metadata": {
    "collapsed": false
   },
   "outputs": [
    {
     "data": {
      "text/plain": [
       "[<matplotlib.lines.Line2D at 0x7fbc0499cf28>]"
      ]
     },
     "execution_count": 76,
     "metadata": {},
     "output_type": "execute_result"
    },
    {
     "data": {
      "image/png": "[encoded data removed]",
      "text/plain": [
       "<matplotlib.figure.Figure at 0x7fbbcc1070b8>"
      ]
     },
     "metadata": {},
     "output_type": "display_data"
    }
   ],
   "source": [
    "# создался кластер Москвы\n",
    "plt.plot(X[labels==1, 0], X[labels==1, 1],  '*r')"
   ]
  },
  {
   "cell_type": "code",
   "execution_count": 77,
   "metadata": {
    "collapsed": false
   },
   "outputs": [
    {
     "data": {
      "text/plain": [
       "[<matplotlib.lines.Line2D at 0x7fbc0493d7b8>]"
      ]
     },
     "execution_count": 77,
     "metadata": {},
     "output_type": "execute_result"
    },
    {
     "data": {
      "image/png": "[encoded data removed]",
      "text/plain": [
       "<matplotlib.figure.Figure at 0x7fbc04aa80b8>"
      ]
     },
     "metadata": {},
     "output_type": "display_data"
    }
   ],
   "source": [
    "# кластер россии без москвы (там дырка! ¯\\_(ツ)_/¯)\n",
    "plt.plot(X[labels==-1, 0], X[labels==-1, 1],  '*r')"
   ]
  },
  {
   "cell_type": "raw",
   "metadata": {
    "collapsed": false
   },
   "source": [
    "import numpy as np\n",
    "np.save('db_scan_labels', labels)"
   ]
  },
  {
   "cell_type": "raw",
   "metadata": {
    "collapsed": false,
    "scrolled": true
   },
   "source": [
    "!ls"
   ]
  },
  {
   "cell_type": "markdown",
   "metadata": {},
   "source": [
    "> на примере выше кластеризовалась москва. правда ли в шуме - центр москвы (типа случайно заполняются пропуски москвой)?"
   ]
  },
  {
   "cell_type": "code",
   "execution_count": 82,
   "metadata": {
    "collapsed": false,
    "scrolled": false
   },
   "outputs": [],
   "source": [
    "lat = tr.latitude.values\n",
    "lon = tr.longitude.values"
   ]
  },
  {
   "cell_type": "code",
   "execution_count": 89,
   "metadata": {
    "collapsed": false
   },
   "outputs": [
    {
     "data": {
      "text/plain": [
       "(array([ 55.75034704,   0.        ,  51.17889992,  55.76595679,  55.750347  ]),\n",
       " array([28690, 25018,  5420,   642,   486]))"
      ]
     },
     "execution_count": 89,
     "metadata": {},
     "output_type": "execute_result"
    }
   ],
   "source": [
    "a,b = np.unique(lat, return_counts=True)\n",
    "a[np.argsort(b)[::-1][:5]], b[np.argsort(b)[::-1][:5]]"
   ]
  },
  {
   "cell_type": "code",
   "execution_count": 90,
   "metadata": {
    "collapsed": false
   },
   "outputs": [
    {
     "data": {
      "text/plain": [
       "(array([ 37.62385111,   0.        ,  -1.82639994,  37.6235111 ,  37.61596005]),\n",
       " array([27974, 25028,  5421,   722,   642]))"
      ]
     },
     "execution_count": 90,
     "metadata": {},
     "output_type": "execute_result"
    }
   ],
   "source": [
    "a,b = np.unique(lon, return_counts=True)\n",
    "a[np.argsort(b)[::-1][:5]], b[np.argsort(b)[::-1][:5]]"
   ]
  },
  {
   "cell_type": "raw",
   "metadata": {
    "collapsed": true
   },
   "source": [
    "Самые частые точки:\n",
    "\n",
    "55.75034704 37.62385111\n",
    "0           0\n",
    "\n",
    "ну и выкинем их :)\n",
    "\n",
    "правда надо посмотреть есть ли в трейне (среди реальных ответов такие точки)"
   ]
  },
  {
   "cell_type": "code",
   "execution_count": 18,
   "metadata": {
    "collapsed": false
   },
   "outputs": [
    {
     "data": {
      "text/html": [
       "<div>\n",
       "<table border=\"1\" class=\"dataframe\">\n",
       "  <thead>\n",
       "    <tr style=\"text-align: right;\">\n",
       "      <th></th>\n",
       "      <th>merchant_id</th>\n",
       "      <th>latitude</th>\n",
       "      <th>longitude</th>\n",
       "    </tr>\n",
       "  </thead>\n",
       "  <tbody>\n",
       "    <tr>\n",
       "      <th>519</th>\n",
       "      <td>140238</td>\n",
       "      <td>55.750393</td>\n",
       "      <td>37.869505</td>\n",
       "    </tr>\n",
       "    <tr>\n",
       "      <th>5976</th>\n",
       "      <td>1021408</td>\n",
       "      <td>55.750393</td>\n",
       "      <td>37.869505</td>\n",
       "    </tr>\n",
       "  </tbody>\n",
       "</table>\n",
       "</div>"
      ],
      "text/plain": [
       "      merchant_id   latitude  longitude\n",
       "519        140238  55.750393  37.869505\n",
       "5976      1021408  55.750393  37.869505"
      ]
     },
     "execution_count": 18,
     "metadata": {},
     "output_type": "execute_result"
    }
   ],
   "source": [
    "import numpy as np\n",
    "dt[np.isclose(dt.latitude.values, 55.75034704, atol=1e-8, rtol=1e-6)]"
   ]
  },
  {
   "cell_type": "raw",
   "metadata": {},
   "source": [
    "# центра москвы нету :)\n",
    "\n",
    "Посмотрим на выбросы:"
   ]
  },
  {
   "cell_type": "code",
   "execution_count": 12,
   "metadata": {
    "collapsed": false
   },
   "outputs": [],
   "source": [
    "m = tr[(np.isclose(tr.latitude, [55.75034704], atol=1e-08) &\n",
    "   np.isclose(tr.longitude, [37.62385111], atol=1e-08)) | \n",
    "      (np.isclose(tr.latitude, [0], atol=1e-08) &\n",
    "   np.isclose(tr.longitude, [0], atol=1e-08))].merchant_id.unique()"
   ]
  },
  {
   "cell_type": "code",
   "execution_count": 14,
   "metadata": {
    "collapsed": false,
    "scrolled": true
   },
   "outputs": [
    {
     "data": {
      "text/html": [
       "<div>\n",
       "<table border=\"1\" class=\"dataframe\">\n",
       "  <thead>\n",
       "    <tr style=\"text-align: right;\">\n",
       "      <th></th>\n",
       "      <th>merchant_id</th>\n",
       "      <th>latitude</th>\n",
       "      <th>longitude</th>\n",
       "      <th>real_transaction_dttm</th>\n",
       "      <th>record_date</th>\n",
       "    </tr>\n",
       "  </thead>\n",
       "  <tbody>\n",
       "    <tr>\n",
       "      <th>0</th>\n",
       "      <td>178</td>\n",
       "      <td>0.000000</td>\n",
       "      <td>0.000000</td>\n",
       "      <td>9:34:47</td>\n",
       "      <td>9:30:36</td>\n",
       "    </tr>\n",
       "    <tr>\n",
       "      <th>1</th>\n",
       "      <td>178</td>\n",
       "      <td>55.055995</td>\n",
       "      <td>82.912991</td>\n",
       "      <td>17:49:50</td>\n",
       "      <td>17:54:24</td>\n",
       "    </tr>\n",
       "    <tr>\n",
       "      <th>2</th>\n",
       "      <td>178</td>\n",
       "      <td>0.000000</td>\n",
       "      <td>0.000000</td>\n",
       "      <td>9:34:47</td>\n",
       "      <td>9:31:22</td>\n",
       "    </tr>\n",
       "    <tr>\n",
       "      <th>3</th>\n",
       "      <td>178</td>\n",
       "      <td>55.056034</td>\n",
       "      <td>82.912734</td>\n",
       "      <td>17:49:50</td>\n",
       "      <td>17:43:01</td>\n",
       "    </tr>\n",
       "    <tr>\n",
       "      <th>4</th>\n",
       "      <td>178</td>\n",
       "      <td>55.056034</td>\n",
       "      <td>82.912734</td>\n",
       "      <td>17:49:50</td>\n",
       "      <td>17:45:17</td>\n",
       "    </tr>\n",
       "    <tr>\n",
       "      <th>5</th>\n",
       "      <td>178</td>\n",
       "      <td>0.000000</td>\n",
       "      <td>0.000000</td>\n",
       "      <td>10:25:10</td>\n",
       "      <td>10:29:56</td>\n",
       "    </tr>\n",
       "    <tr>\n",
       "      <th>6</th>\n",
       "      <td>178</td>\n",
       "      <td>0.000000</td>\n",
       "      <td>0.000000</td>\n",
       "      <td>13:48:53</td>\n",
       "      <td>13:47:54</td>\n",
       "    </tr>\n",
       "    <tr>\n",
       "      <th>7</th>\n",
       "      <td>178</td>\n",
       "      <td>55.055995</td>\n",
       "      <td>82.912991</td>\n",
       "      <td>17:49:50</td>\n",
       "      <td>17:51:34</td>\n",
       "    </tr>\n",
       "    <tr>\n",
       "      <th>8</th>\n",
       "      <td>267</td>\n",
       "      <td>55.741642</td>\n",
       "      <td>37.502628</td>\n",
       "      <td>15:34:28</td>\n",
       "      <td>15:32:51</td>\n",
       "    </tr>\n",
       "    <tr>\n",
       "      <th>9</th>\n",
       "      <td>267</td>\n",
       "      <td>55.707007</td>\n",
       "      <td>37.582190</td>\n",
       "      <td>23:42:30</td>\n",
       "      <td>23:36:34</td>\n",
       "    </tr>\n",
       "  </tbody>\n",
       "</table>\n",
       "</div>"
      ],
      "text/plain": [
       "   merchant_id   latitude  longitude real_transaction_dttm record_date\n",
       "0          178   0.000000   0.000000               9:34:47     9:30:36\n",
       "1          178  55.055995  82.912991              17:49:50    17:54:24\n",
       "2          178   0.000000   0.000000               9:34:47     9:31:22\n",
       "3          178  55.056034  82.912734              17:49:50    17:43:01\n",
       "4          178  55.056034  82.912734              17:49:50    17:45:17\n",
       "5          178   0.000000   0.000000              10:25:10    10:29:56\n",
       "6          178   0.000000   0.000000              13:48:53    13:47:54\n",
       "7          178  55.055995  82.912991              17:49:50    17:51:34\n",
       "8          267  55.741642  37.502628              15:34:28    15:32:51\n",
       "9          267  55.707007  37.582190              23:42:30    23:36:34"
      ]
     },
     "execution_count": 14,
     "metadata": {},
     "output_type": "execute_result"
    }
   ],
   "source": [
    "tr[np.in1d(tr.merchant_id, m)].head(10)"
   ]
  },
  {
   "cell_type": "markdown",
   "metadata": {},
   "source": [
    "____"
   ]
  },
  {
   "cell_type": "markdown",
   "metadata": {
    "collapsed": true
   },
   "source": [
    "### Еще попробуем что нибудь"
   ]
  },
  {
   "cell_type": "code",
   "execution_count": 50,
   "metadata": {
    "collapsed": false,
    "scrolled": true
   },
   "outputs": [],
   "source": [
    "import pandas as pd\n",
    "import numpy as np\n",
    "import matplotlib.pyplot as plt\n",
    "from sklearn.cluster import DBSCAN\n",
    "\n",
    "%matplotlib inline\n",
    "\n",
    "dt = pd.read_csv('merchants_train.csv', encoding='cp1251',sep=';')\n",
    "dt.columns = ['merchant_id', 'latitude_tr', 'longitude_tr']\n",
    "tr = pd.read_csv('transactions.csv', encoding='cp1251',sep=',')"
   ]
  },
  {
   "cell_type": "code",
   "execution_count": 51,
   "metadata": {
    "collapsed": false,
    "scrolled": true
   },
   "outputs": [
    {
     "data": {
      "text/html": [
       "<div>\n",
       "<table border=\"1\" class=\"dataframe\">\n",
       "  <thead>\n",
       "    <tr style=\"text-align: right;\">\n",
       "      <th></th>\n",
       "      <th>merchant_id</th>\n",
       "      <th>latitude</th>\n",
       "      <th>longitude</th>\n",
       "      <th>real_transaction_dttm</th>\n",
       "      <th>record_date</th>\n",
       "    </tr>\n",
       "  </thead>\n",
       "  <tbody>\n",
       "    <tr>\n",
       "      <th>3923</th>\n",
       "      <td>10919</td>\n",
       "      <td>0.0</td>\n",
       "      <td>0.0</td>\n",
       "      <td>8:16:26</td>\n",
       "      <td>8:15:34</td>\n",
       "    </tr>\n",
       "    <tr>\n",
       "      <th>3924</th>\n",
       "      <td>10919</td>\n",
       "      <td>0.0</td>\n",
       "      <td>0.0</td>\n",
       "      <td>12:07:26</td>\n",
       "      <td>12:06:59</td>\n",
       "    </tr>\n",
       "    <tr>\n",
       "      <th>3925</th>\n",
       "      <td>10919</td>\n",
       "      <td>0.0</td>\n",
       "      <td>0.0</td>\n",
       "      <td>19:06:48</td>\n",
       "      <td>19:04:22</td>\n",
       "    </tr>\n",
       "    <tr>\n",
       "      <th>3926</th>\n",
       "      <td>10919</td>\n",
       "      <td>0.0</td>\n",
       "      <td>0.0</td>\n",
       "      <td>12:07:26</td>\n",
       "      <td>12:06:23</td>\n",
       "    </tr>\n",
       "    <tr>\n",
       "      <th>3927</th>\n",
       "      <td>10919</td>\n",
       "      <td>0.0</td>\n",
       "      <td>0.0</td>\n",
       "      <td>19:06:48</td>\n",
       "      <td>19:05:07</td>\n",
       "    </tr>\n",
       "  </tbody>\n",
       "</table>\n",
       "</div>"
      ],
      "text/plain": [
       "      merchant_id  latitude  longitude real_transaction_dttm record_date\n",
       "3923        10919       0.0        0.0               8:16:26     8:15:34\n",
       "3924        10919       0.0        0.0              12:07:26    12:06:59\n",
       "3925        10919       0.0        0.0              19:06:48    19:04:22\n",
       "3926        10919       0.0        0.0              12:07:26    12:06:23\n",
       "3927        10919       0.0        0.0              19:06:48    19:05:07"
      ]
     },
     "execution_count": 51,
     "metadata": {},
     "output_type": "execute_result"
    }
   ],
   "source": [
    "# бывают такие мерчатны, для которых мы ничего не сможем определить (кажется)\n",
    "tr[tr.merchant_id==10919]"
   ]
  },
  {
   "cell_type": "code",
   "execution_count": null,
   "metadata": {
    "collapsed": true
   },
   "outputs": [],
   "source": [
    "plt.plot(tr.longitude, tr.latitude, '.r', alpha=0.1)"
   ]
  },
  {
   "cell_type": "code",
   "execution_count": 4,
   "metadata": {
    "collapsed": false
   },
   "outputs": [],
   "source": [
    "# возьмем сторонних данных\n",
    "\n",
    "a = pd.read_html('http://alextyurin.ru/?p=1037')\n",
    "\n",
    "centres_of_cities = a[0].loc[3:92, ['Город', 'Широта', 'Долгода']]\n",
    "centres_of_cities.columns = ['city',  'lat', 'lon']"
   ]
  },
  {
   "cell_type": "code",
   "execution_count": 145,
   "metadata": {
    "collapsed": false
   },
   "outputs": [
    {
     "data": {
      "text/html": [
       "<div>\n",
       "<table border=\"1\" class=\"dataframe\">\n",
       "  <thead>\n",
       "    <tr style=\"text-align: right;\">\n",
       "      <th></th>\n",
       "      <th>city</th>\n",
       "      <th>lat</th>\n",
       "      <th>lon</th>\n",
       "    </tr>\n",
       "  </thead>\n",
       "  <tbody>\n",
       "    <tr>\n",
       "      <th>44</th>\n",
       "      <td>Москва</td>\n",
       "      <td>55.755773</td>\n",
       "      <td>37.617761</td>\n",
       "    </tr>\n",
       "  </tbody>\n",
       "</table>\n",
       "</div>"
      ],
      "text/plain": [
       "      city        lat        lon\n",
       "44  Москва  55.755773  37.617761"
      ]
     },
     "execution_count": 145,
     "metadata": {},
     "output_type": "execute_result"
    }
   ],
   "source": [
    "centres_of_cities[centres_of_cities.city=='Москва']"
   ]
  },
  {
   "cell_type": "code",
   "execution_count": 146,
   "metadata": {
    "collapsed": false
   },
   "outputs": [
    {
     "data": {
      "text/plain": [
       "array([48,  4, 75, 28,  6, 56, 46,  0, 50, 35,  7, 49, 77,  9, 72, 27, 84,\n",
       "       23, 20, 54, 45, 38, 78, 55, 80, 52, 22, 43, 61, 74, 24, 79, 83,  2,\n",
       "        3, 86, 63, 39, 53, 15, 44, 18, 13, 71, 21, 33, 69, 14, 89, 60, 16,\n",
       "       85, 37,  1, 70, 17, 58, 66, 65, 59, 68,  8, 25, 32, 34, 41, 76, 19,\n",
       "       47,  5, 26, 36, 51, 82, 73, 88, 10, 30, 67, 12, 64, 42, 11, 81, 29,\n",
       "       62, 31, 57, 40, 87])"
      ]
     },
     "execution_count": 146,
     "metadata": {},
     "output_type": "execute_result"
    }
   ],
   "source": [
    "np.argsort(np.sqrt((centres_of_cities.lat.values.astype(float) - 55.0559) ** 2 + \n",
    "                   (centres_of_cities.lon.values.astype(float) - 82.91299) **2))"
   ]
  },
  {
   "cell_type": "code",
   "execution_count": null,
   "metadata": {
    "collapsed": true
   },
   "outputs": [],
   "source": [
    "# построим дерево для быстрого поиска ближайшего города к чекину по координатам\n",
    "\n",
    "a = pd.read_html('http://alextyurin.ru/?p=1037')\n",
    "\n",
    "centres_of_cities = a[0].loc[3:92, ['Город', 'Широта', 'Долгода']]\n",
    "centres_of_cities.columns = ['city',  'lat', 'lon']\n",
    "\n",
    "from sklearn.neighbors import NearestNeighbors\n",
    "centres_of_cities = centres_of_cities.reset_index()\n",
    "nn = NearestNeighbors(n_neighbors=1, p=2, n_jobs=6)\n",
    "\n",
    "nn.fit(centres_of_cities[[ 'lat', 'lon']].astype(float).values)"
   ]
  },
  {
   "cell_type": "code",
   "execution_count": 160,
   "metadata": {
    "collapsed": false,
    "scrolled": true
   },
   "outputs": [
    {
     "name": "stderr",
     "output_type": "stream",
     "text": [
      "/home/mount/neuro-t01-ssd/home/amir/my_env/lib/python3.4/site-packages/sklearn/utils/validation.py:395: DeprecationWarning: Passing 1d arrays as data is deprecated in 0.17 and will raise ValueError in 0.19. Reshape your data either using X.reshape(-1, 1) if your data has a single feature or X.reshape(1, -1) if it contains a single sample.\n",
      "  DeprecationWarning)\n"
     ]
    },
    {
     "data": {
      "text/plain": [
       "(array([[ 0.02790567,  1.8947414 ]]), array([[48,  4]]))"
      ]
     },
     "execution_count": 160,
     "metadata": {},
     "output_type": "execute_result"
    }
   ],
   "source": [
    "nn.kneighbors([55.056034, 82.912734])"
   ]
  },
  {
   "cell_type": "code",
   "execution_count": 161,
   "metadata": {
    "collapsed": false,
    "scrolled": false
   },
   "outputs": [
    {
     "name": "stderr",
     "output_type": "stream",
     "text": [
      "/home/mount/neuro-t01-ssd/home/amir/my_env/lib/python3.4/site-packages/sklearn/utils/validation.py:395: DeprecationWarning: Passing 1d arrays as data is deprecated in 0.17 and will raise ValueError in 0.19. Reshape your data either using X.reshape(-1, 1) if your data has a single feature or X.reshape(1, -1) if it contains a single sample.\n",
      "  DeprecationWarning)\n"
     ]
    },
    {
     "data": {
      "text/plain": [
       "(array([[ 0.03827507,  0.32344302]]), array([[41, 25]]))"
      ]
     },
     "execution_count": 161,
     "metadata": {},
     "output_type": "execute_result"
    }
   ],
   "source": [
    "nn.kneighbors([55.741642, 37.582190])"
   ]
  },
  {
   "cell_type": "raw",
   "metadata": {
    "collapsed": true
   },
   "source": [
    "попробуем поудалять что нибудь"
   ]
  },
  {
   "cell_type": "code",
   "execution_count": 83,
   "metadata": {
    "collapsed": false
   },
   "outputs": [
    {
     "data": {
      "text/plain": [
       "76079"
      ]
     },
     "execution_count": 83,
     "metadata": {},
     "output_type": "execute_result"
    }
   ],
   "source": [
    "# TRAIN\n",
    "# дропаю нули\n",
    "# дубли тоже удаляю;\n",
    "idx = ((tr.latitude > 0.) & (tr.latitude < 80.) & \n",
    "       np.invert(tr[['latitude', 'longitude']].duplicated()) &\n",
    "       (tr.longitude > 0.) & (tr.longitude < 110.) )\n",
    "\n",
    "sum(idx)\n",
    "\n",
    "db = DBSCAN(eps=0.1, min_samples=5, metric='minkowski', p=1, n_jobs=1)\n",
    "db.fit(tr.loc[idx, ['latitude', 'longitude']].values)\n",
    "labels = db.labels_"
   ]
  },
  {
   "cell_type": "code",
   "execution_count": 85,
   "metadata": {
    "collapsed": false
   },
   "outputs": [],
   "source": [
    "some_lbl = labels"
   ]
  },
  {
   "cell_type": "code",
   "execution_count": 86,
   "metadata": {
    "collapsed": false
   },
   "outputs": [
    {
     "data": {
      "text/plain": [
       "array([ 3002, 13814, 44132])"
      ]
     },
     "execution_count": 86,
     "metadata": {},
     "output_type": "execute_result"
    }
   ],
   "source": [
    "u_c = np.unique(some_lbl, return_counts=True)\n",
    "u_c[1][np.argsort(u_c[1])[-3:]]"
   ]
  },
  {
   "cell_type": "code",
   "execution_count": 87,
   "metadata": {
    "collapsed": false
   },
   "outputs": [
    {
     "data": {
      "text/plain": [
       "1"
      ]
     },
     "execution_count": 87,
     "metadata": {},
     "output_type": "execute_result"
    }
   ],
   "source": [
    "some_lbl[np.argsort(np.unique(some_lbl, return_counts=True)[1])[-1]]"
   ]
  },
  {
   "cell_type": "code",
   "execution_count": 76,
   "metadata": {
    "collapsed": false,
    "scrolled": true
   },
   "outputs": [],
   "source": [
    "tr = tr.loc[idx].loc[some_lbl==1]"
   ]
  },
  {
   "cell_type": "code",
   "execution_count": 77,
   "metadata": {
    "collapsed": false,
    "scrolled": true
   },
   "outputs": [
    {
     "data": {
      "text/plain": [
       "[<matplotlib.lines.Line2D at 0x7f7fc0ffb320>]"
      ]
     },
     "execution_count": 77,
     "metadata": {},
     "output_type": "execute_result"
    },
    {
     "data": {
      "image/png": "[encoded data removed]",
      "text/plain": [
       "<matplotlib.figure.Figure at 0x7f7fc0f43ef0>"
      ]
     },
     "metadata": {},
     "output_type": "display_data"
    }
   ],
   "source": [
    "plt.plot( tr.longitude, tr.latitude, '.r', alpha=0.1)"
   ]
  },
  {
   "cell_type": "code",
   "execution_count": 78,
   "metadata": {
    "collapsed": false
   },
   "outputs": [
    {
     "data": {
      "text/plain": [
       "(66006, 5)"
      ]
     },
     "execution_count": 78,
     "metadata": {},
     "output_type": "execute_result"
    }
   ],
   "source": [
    "tr.shape"
   ]
  },
  {
   "cell_type": "code",
   "execution_count": 79,
   "metadata": {
    "collapsed": true
   },
   "outputs": [],
   "source": [
    "tmp = tr.groupby('merchant_id').latitude.median().reset_index()\n",
    "tmp.columns = ['merchant_id', 'latitude_pr']\n",
    "tmp1 = tr.groupby('merchant_id').longitude.median().reset_index()\n",
    "tmp1.columns = ['merchant_id', 'longitude_pr']\n",
    "simple_ans_by_median = pd.merge(pd.merge(dt[['merchant_id']], tmp), tmp1)\n",
    "\n",
    "simple_ans_by_median['ans'] = pd.merge(simple_ans_by_median, dt).\\\n",
    "                              apply(lambda x: 1 \n",
    "                                    if (np.abs(x.latitude_pr - x.latitude_tr)<=0.002 and \\\n",
    "                                        np.abs(x.longitude_pr - x.longitude_tr)<=0.002) \n",
    "                                    else 0, axis=1)"
   ]
  },
  {
   "cell_type": "code",
   "execution_count": 80,
   "metadata": {
    "collapsed": false,
    "scrolled": true
   },
   "outputs": [
    {
     "name": "stdout",
     "output_type": "stream",
     "text": [
      "train acc = 0.275706214689\n"
     ]
    }
   ],
   "source": [
    "print ('train acc =', simple_ans_by_median.ans.mean())"
   ]
  },
  {
   "cell_type": "raw",
   "metadata": {
    "collapsed": true
   },
   "source": [
    "неплохая эвристика, лучше базовового предсказания средним или медианами - типа очистили от шума,\n",
    "но все же выкинули много данных ."
   ]
  },
  {
   "cell_type": "markdown",
   "metadata": {
    "collapsed": true
   },
   "source": [
    "_______"
   ]
  },
  {
   "cell_type": "markdown",
   "metadata": {
    "collapsed": true
   },
   "source": [
    "## Эвристика бейзлайн - аккуратный ответ медианой по merchant"
   ]
  },
  {
   "cell_type": "code",
   "execution_count": 206,
   "metadata": {
    "collapsed": true
   },
   "outputs": [],
   "source": [
    "import pandas as pd\n",
    "import numpy as np"
   ]
  },
  {
   "cell_type": "code",
   "execution_count": 207,
   "metadata": {
    "collapsed": false
   },
   "outputs": [],
   "source": [
    "dt = pd.read_csv('merchants_train.csv', encoding='cp1251',sep=';')\n",
    "dt.columns = ['merchant_id', 'latitude_tr', 'longitude_tr']\n",
    "tr = pd.read_csv('transactions.csv', encoding='cp1251',sep=',')"
   ]
  },
  {
   "cell_type": "code",
   "execution_count": 208,
   "metadata": {
    "collapsed": false,
    "scrolled": true
   },
   "outputs": [
    {
     "data": {
      "text/html": [
       "<div>\n",
       "<table border=\"1\" class=\"dataframe\">\n",
       "  <thead>\n",
       "    <tr style=\"text-align: right;\">\n",
       "      <th></th>\n",
       "      <th>merchant_id</th>\n",
       "      <th>latitude_tr</th>\n",
       "      <th>longitude_tr</th>\n",
       "    </tr>\n",
       "  </thead>\n",
       "  <tbody>\n",
       "    <tr>\n",
       "      <th>0</th>\n",
       "      <td>178</td>\n",
       "      <td>55.055553</td>\n",
       "      <td>82.911833</td>\n",
       "    </tr>\n",
       "    <tr>\n",
       "      <th>1</th>\n",
       "      <td>267</td>\n",
       "      <td>55.726877</td>\n",
       "      <td>37.579645</td>\n",
       "    </tr>\n",
       "  </tbody>\n",
       "</table>\n",
       "</div>"
      ],
      "text/plain": [
       "   merchant_id  latitude_tr  longitude_tr\n",
       "0          178    55.055553     82.911833\n",
       "1          267    55.726877     37.579645"
      ]
     },
     "execution_count": 208,
     "metadata": {},
     "output_type": "execute_result"
    }
   ],
   "source": [
    "dt.head(2)"
   ]
  },
  {
   "cell_type": "code",
   "execution_count": 209,
   "metadata": {
    "collapsed": false
   },
   "outputs": [
    {
     "data": {
      "text/html": [
       "<div>\n",
       "<table border=\"1\" class=\"dataframe\">\n",
       "  <thead>\n",
       "    <tr style=\"text-align: right;\">\n",
       "      <th></th>\n",
       "      <th>merchant_id</th>\n",
       "      <th>latitude</th>\n",
       "      <th>longitude</th>\n",
       "      <th>real_transaction_dttm</th>\n",
       "      <th>record_date</th>\n",
       "    </tr>\n",
       "  </thead>\n",
       "  <tbody>\n",
       "    <tr>\n",
       "      <th>0</th>\n",
       "      <td>178</td>\n",
       "      <td>0.000000</td>\n",
       "      <td>0.000000</td>\n",
       "      <td>9:34:47</td>\n",
       "      <td>9:30:36</td>\n",
       "    </tr>\n",
       "    <tr>\n",
       "      <th>1</th>\n",
       "      <td>178</td>\n",
       "      <td>55.055995</td>\n",
       "      <td>82.912991</td>\n",
       "      <td>17:49:50</td>\n",
       "      <td>17:54:24</td>\n",
       "    </tr>\n",
       "  </tbody>\n",
       "</table>\n",
       "</div>"
      ],
      "text/plain": [
       "   merchant_id   latitude  longitude real_transaction_dttm record_date\n",
       "0          178   0.000000   0.000000               9:34:47     9:30:36\n",
       "1          178  55.055995  82.912991              17:49:50    17:54:24"
      ]
     },
     "execution_count": 209,
     "metadata": {},
     "output_type": "execute_result"
    }
   ],
   "source": [
    "tr.head(2)"
   ]
  },
  {
   "cell_type": "code",
   "execution_count": 210,
   "metadata": {
    "collapsed": false
   },
   "outputs": [],
   "source": [
    "# TRAIN\n",
    "# дропаю нули  \n",
    "tr = tr[(tr.latitude > dt.latitude_tr.min()) & \n",
    "        (tr.latitude < dt.latitude_tr.max()) & \n",
    "        ~np.isclose(tr.latitude.values, 55.75034704, atol=1e-8)]\n",
    "tr = tr[(tr.longitude > dt.longitude_tr.min()) & \n",
    "        (tr.longitude < dt.longitude_tr.max()) &\n",
    "        ~np.isclose(tr.longitude.values, 37.62385111, atol=1e-8)]\n",
    "# дубли тоже удаляю;\n",
    "tr = tr[np.invert(tr[['merchant_id', 'latitude', 'longitude']].duplicated())]\n",
    "\n",
    "tmp = tr.groupby('merchant_id').latitude.median().reset_index()\n",
    "tmp.columns = ['merchant_id', 'latitude_pr']\n",
    "tmp1 = tr.groupby('merchant_id').longitude.median().reset_index()\n",
    "tmp1.columns = ['merchant_id', 'longitude_pr']\n",
    "simple_ans_by_median = pd.merge(pd.merge(dt[['merchant_id']], tmp), tmp1)\n",
    "\n",
    "# assert simple_ans_by_median.shape[0] == dt.shape[0]\n",
    "\n",
    "simple_ans_by_median['ans'] = pd.merge(simple_ans_by_median, dt).\\\n",
    "                              apply(lambda x: 1 \n",
    "                                    if (np.abs(x.latitude_pr - x.latitude_tr)<=0.002 and \\\n",
    "                                        np.abs(x.longitude_pr - x.longitude_tr)<=0.002) \n",
    "                                    else 0, axis=1)"
   ]
  },
  {
   "cell_type": "code",
   "execution_count": 211,
   "metadata": {
    "collapsed": false,
    "scrolled": false
   },
   "outputs": [
    {
     "data": {
      "text/html": [
       "<div>\n",
       "<table border=\"1\" class=\"dataframe\">\n",
       "  <thead>\n",
       "    <tr style=\"text-align: right;\">\n",
       "      <th></th>\n",
       "      <th>merchant_id</th>\n",
       "      <th>latitude_pr</th>\n",
       "      <th>longitude_pr</th>\n",
       "      <th>ans</th>\n",
       "    </tr>\n",
       "  </thead>\n",
       "  <tbody>\n",
       "    <tr>\n",
       "      <th>0</th>\n",
       "      <td>178</td>\n",
       "      <td>55.056015</td>\n",
       "      <td>82.912863</td>\n",
       "      <td>1</td>\n",
       "    </tr>\n",
       "    <tr>\n",
       "      <th>1</th>\n",
       "      <td>267</td>\n",
       "      <td>55.707007</td>\n",
       "      <td>37.580252</td>\n",
       "      <td>0</td>\n",
       "    </tr>\n",
       "  </tbody>\n",
       "</table>\n",
       "</div>"
      ],
      "text/plain": [
       "   merchant_id  latitude_pr  longitude_pr  ans\n",
       "0          178    55.056015     82.912863    1\n",
       "1          267    55.707007     37.580252    0"
      ]
     },
     "execution_count": 211,
     "metadata": {},
     "output_type": "execute_result"
    }
   ],
   "source": [
    "simple_ans_by_median.head(2)"
   ]
  },
  {
   "cell_type": "code",
   "execution_count": 212,
   "metadata": {
    "collapsed": false
   },
   "outputs": [
    {
     "name": "stdout",
     "output_type": "stream",
     "text": [
      "train acc = 0.168759811617\n"
     ]
    }
   ],
   "source": [
    "print ('train acc =', simple_ans_by_median.ans.mean())"
   ]
  },
  {
   "cell_type": "markdown",
   "metadata": {},
   "source": [
    "### test submission"
   ]
  },
  {
   "cell_type": "code",
   "execution_count": 218,
   "metadata": {
    "collapsed": false,
    "scrolled": true
   },
   "outputs": [
    {
     "name": "stderr",
     "output_type": "stream",
     "text": [
      "/home/mount/neuro-t01-ssd/home/amir/my_env/lib/python3.4/site-packages/ipykernel/__main__.py:24: RuntimeWarning: invalid value encountered in absolute\n"
     ]
    },
    {
     "data": {
      "text/html": [
       "<div>\n",
       "<table border=\"1\" class=\"dataframe\">\n",
       "  <thead>\n",
       "    <tr style=\"text-align: right;\">\n",
       "      <th></th>\n",
       "      <th>_ID_</th>\n",
       "      <th>_LAT_</th>\n",
       "      <th>_LON_</th>\n",
       "    </tr>\n",
       "  </thead>\n",
       "  <tbody>\n",
       "    <tr>\n",
       "      <th>0</th>\n",
       "      <td>361</td>\n",
       "      <td>56.825943</td>\n",
       "      <td>60.576447</td>\n",
       "    </tr>\n",
       "    <tr>\n",
       "      <th>1</th>\n",
       "      <td>428</td>\n",
       "      <td>55.690315</td>\n",
       "      <td>37.604719</td>\n",
       "    </tr>\n",
       "    <tr>\n",
       "      <th>2</th>\n",
       "      <td>490</td>\n",
       "      <td>59.875699</td>\n",
       "      <td>30.361785</td>\n",
       "    </tr>\n",
       "    <tr>\n",
       "      <th>3</th>\n",
       "      <td>1175</td>\n",
       "      <td>55.735251</td>\n",
       "      <td>37.593043</td>\n",
       "    </tr>\n",
       "    <tr>\n",
       "      <th>4</th>\n",
       "      <td>1239</td>\n",
       "      <td>55.800972</td>\n",
       "      <td>37.535740</td>\n",
       "    </tr>\n",
       "  </tbody>\n",
       "</table>\n",
       "</div>"
      ],
      "text/plain": [
       "   _ID_      _LAT_      _LON_\n",
       "0   361  56.825943  60.576447\n",
       "1   428  55.690315  37.604719\n",
       "2   490  59.875699  30.361785\n",
       "3  1175  55.735251  37.593043\n",
       "4  1239  55.800972  37.535740"
      ]
     },
     "execution_count": 218,
     "metadata": {},
     "output_type": "execute_result"
    }
   ],
   "source": [
    "dt = pd.read_csv('merchants_test.csv', encoding='cp1251',sep=';')\n",
    "dt.columns = ['merchant_id', 'latitude_tr', 'longitude_tr']\n",
    "tr = pd.read_csv('transactions.csv', encoding='cp1251',sep=',')\n",
    "\n",
    "# дропаю нули\n",
    "tr = tr[(tr.latitude > 20.) & (tr.latitude < 100.)  & ~np.isclose(tr.latitude.values, 55.75034704, atol=1e-8)]\n",
    "tr = tr[(tr.longitude > 10.) & (tr.longitude < 80.) & ~np.isclose(tr.longitude.values, 37.62385111, atol=1e-8)]\n",
    "\n",
    "\n",
    "# дубли тоже удаляю;\n",
    "tr = tr[np.invert(tr[['merchant_id', 'latitude', 'longitude']].duplicated())]\n",
    "\n",
    "simple_ans_by_median = pd.merge(pd.merge(dt[['merchant_id']], \n",
    "                                tr.groupby('merchant_id').latitude.median().reset_index()),\n",
    "                                tr.groupby('merchant_id').longitude.median().reset_index())\n",
    "\n",
    "tmp = tr.groupby('merchant_id').latitude.median().reset_index()\n",
    "tmp.columns = ['merchant_id', 'latitude_pr']\n",
    "tmp1 = tr.groupby('merchant_id').longitude.median().reset_index()\n",
    "tmp1.columns = ['merchant_id', 'longitude_pr']\n",
    "simple_ans_by_median = pd.merge(pd.merge(dt[['merchant_id']], tmp), tmp1)\n",
    "\n",
    "simple_ans_by_median['ans'] = pd.merge(simple_ans_by_median, dt).\\\n",
    "                              apply(lambda x: 1 \n",
    "                                    if (np.abs(x.latitude_pr - x.latitude_tr)<=0.002 and \\\n",
    "                                        np.abs(x.longitude_pr - x.longitude_tr)<=0.002) \n",
    "                                    else 0, axis=1)\n",
    "\n",
    "simple_ans_by_median.drop(['ans'], axis=1, inplace=True)\n",
    "simple_ans_by_median.columns= ['_ID_','_LAT_','_LON_']\n",
    "\n",
    "# assert simple_ans_by_median.shape[0] == dt.shape[0]\n",
    "\n",
    "simple_ans_by_median.to_csv('baseline_ans_by_medians.csv', index=False)\n",
    "\n",
    "simple_ans_by_median.head()"
   ]
  },
  {
   "cell_type": "code",
   "execution_count": 217,
   "metadata": {
    "collapsed": false
   },
   "outputs": [
    {
     "data": {
      "text/plain": [
       "3524"
      ]
     },
     "execution_count": 217,
     "metadata": {},
     "output_type": "execute_result"
    }
   ],
   "source": [
    "dt.merchant_id.unique().shape[0]"
   ]
  },
  {
   "cell_type": "code",
   "execution_count": 215,
   "metadata": {
    "collapsed": false
   },
   "outputs": [
    {
     "data": {
      "text/plain": [
       "3396"
      ]
     },
     "execution_count": 215,
     "metadata": {},
     "output_type": "execute_result"
    }
   ],
   "source": [
    "simple_ans_by_median._ID_.shape[0]"
   ]
  },
  {
   "cell_type": "raw",
   "metadata": {
    "collapsed": false
   },
   "source": [
    "###### <- бейзлайн. на трейне дает  0.145; \n",
    "tr = tr[tr.latitude > 0.]\n",
    "tr = tr[tr.longitude > 0.]\n",
    "###### <-  на лидерборде дает  0.1429; "
   ]
  },
  {
   "cell_type": "markdown",
   "metadata": {},
   "source": [
    "_____"
   ]
  },
  {
   "cell_type": "markdown",
   "metadata": {},
   "source": [
    "# ! GO TO ML !\n",
    "\n",
    "\n",
    "Давайте заставим классификатор выбирать за нас точки, пока мы будем отдыхахать."
   ]
  },
  {
   "cell_type": "markdown",
   "metadata": {},
   "source": [
    "______"
   ]
  },
  {
   "cell_type": "code",
   "execution_count": 1,
   "metadata": {
    "collapsed": false
   },
   "outputs": [
    {
     "name": "stderr",
     "output_type": "stream",
     "text": [
      "/home/mount/neuro-t01-ssd/home/amir/my_env/lib/python3.4/site-packages/sklearn/cross_validation.py:44: DeprecationWarning: This module was deprecated in version 0.18 in favor of the model_selection module into which all the refactored classes and functions are moved. Also note that the interface of the new CV iterators are different from that of this module. This module will be removed in 0.20.\n",
      "  \"This module will be removed in 0.20.\", DeprecationWarning)\n"
     ]
    },
    {
     "data": {
      "text/plain": [
       "'0.6'"
      ]
     },
     "execution_count": 1,
     "metadata": {},
     "output_type": "execute_result"
    }
   ],
   "source": [
    "import pandas as pd\n",
    "import numpy as np\n",
    "import xgboost as xgb\n",
    "from datetime import datetime\n",
    "from sklearn.cross_validation import LabelShuffleSplit\n",
    "\n",
    "import matplotlib.pyplot as plt\n",
    "import seaborn as sns\n",
    "\n",
    "%matplotlib inline\n",
    "pd.options.display.max_columns = 100\n",
    "\n",
    "xgb.__version__"
   ]
  },
  {
   "cell_type": "code",
   "execution_count": 2,
   "metadata": {
    "collapsed": false,
    "scrolled": false
   },
   "outputs": [
    {
     "data": {
      "text/html": [
       "<div>\n",
       "<table border=\"1\" class=\"dataframe\">\n",
       "  <thead>\n",
       "    <tr style=\"text-align: right;\">\n",
       "      <th></th>\n",
       "      <th>merchant_id</th>\n",
       "      <th>latitude_tr</th>\n",
       "      <th>longitude_tr</th>\n",
       "    </tr>\n",
       "  </thead>\n",
       "  <tbody>\n",
       "    <tr>\n",
       "      <th>0</th>\n",
       "      <td>178</td>\n",
       "      <td>55.055553</td>\n",
       "      <td>82.911833</td>\n",
       "    </tr>\n",
       "    <tr>\n",
       "      <th>1</th>\n",
       "      <td>267</td>\n",
       "      <td>55.726877</td>\n",
       "      <td>37.579645</td>\n",
       "    </tr>\n",
       "  </tbody>\n",
       "</table>\n",
       "</div>"
      ],
      "text/plain": [
       "   merchant_id  latitude_tr  longitude_tr\n",
       "0          178    55.055553     82.911833\n",
       "1          267    55.726877     37.579645"
      ]
     },
     "execution_count": 2,
     "metadata": {},
     "output_type": "execute_result"
    }
   ],
   "source": [
    "train_loc = pd.read_csv('merchants_train.csv', encoding='cp1251',sep=';')\n",
    "train_loc.columns = ['merchant_id', 'latitude_tr', 'longitude_tr']\n",
    "train_loc.head(2)"
   ]
  },
  {
   "cell_type": "code",
   "execution_count": 3,
   "metadata": {
    "collapsed": true
   },
   "outputs": [],
   "source": [
    "lat_min = train_loc.latitude_tr.min()\n",
    "lat_max = train_loc.latitude_tr.max()\n",
    "lon_min = train_loc.longitude_tr.min()\n",
    "lon_max = train_loc.longitude_tr.max()"
   ]
  },
  {
   "cell_type": "code",
   "execution_count": 4,
   "metadata": {
    "collapsed": false,
    "scrolled": true
   },
   "outputs": [
    {
     "data": {
      "text/html": [
       "<div>\n",
       "<table border=\"1\" class=\"dataframe\">\n",
       "  <thead>\n",
       "    <tr style=\"text-align: right;\">\n",
       "      <th></th>\n",
       "      <th>merchant_id</th>\n",
       "      <th>latitude</th>\n",
       "      <th>longitude</th>\n",
       "    </tr>\n",
       "  </thead>\n",
       "  <tbody>\n",
       "    <tr>\n",
       "      <th>0</th>\n",
       "      <td>361</td>\n",
       "      <td>NaN</td>\n",
       "      <td>NaN</td>\n",
       "    </tr>\n",
       "    <tr>\n",
       "      <th>1</th>\n",
       "      <td>428</td>\n",
       "      <td>NaN</td>\n",
       "      <td>NaN</td>\n",
       "    </tr>\n",
       "  </tbody>\n",
       "</table>\n",
       "</div>"
      ],
      "text/plain": [
       "   merchant_id  latitude  longitude\n",
       "0          361       NaN        NaN\n",
       "1          428       NaN        NaN"
      ]
     },
     "execution_count": 4,
     "metadata": {},
     "output_type": "execute_result"
    }
   ],
   "source": [
    "test_loc = pd.read_csv('merchants_test.csv', encoding='cp1251',sep=';')\n",
    "test_loc.head(2)"
   ]
  },
  {
   "cell_type": "code",
   "execution_count": 5,
   "metadata": {
    "collapsed": false,
    "scrolled": true
   },
   "outputs": [
    {
     "data": {
      "text/html": [
       "<div>\n",
       "<table border=\"1\" class=\"dataframe\">\n",
       "  <thead>\n",
       "    <tr style=\"text-align: right;\">\n",
       "      <th></th>\n",
       "      <th>merchant_id</th>\n",
       "      <th>latitude</th>\n",
       "      <th>longitude</th>\n",
       "      <th>real_transaction_dttm</th>\n",
       "      <th>record_date</th>\n",
       "    </tr>\n",
       "  </thead>\n",
       "  <tbody>\n",
       "    <tr>\n",
       "      <th>0</th>\n",
       "      <td>178</td>\n",
       "      <td>0.000000</td>\n",
       "      <td>0.000000</td>\n",
       "      <td>9:34:47</td>\n",
       "      <td>9:30:36</td>\n",
       "    </tr>\n",
       "    <tr>\n",
       "      <th>1</th>\n",
       "      <td>178</td>\n",
       "      <td>55.055995</td>\n",
       "      <td>82.912991</td>\n",
       "      <td>17:49:50</td>\n",
       "      <td>17:54:24</td>\n",
       "    </tr>\n",
       "  </tbody>\n",
       "</table>\n",
       "</div>"
      ],
      "text/plain": [
       "   merchant_id   latitude  longitude real_transaction_dttm record_date\n",
       "0          178   0.000000   0.000000               9:34:47     9:30:36\n",
       "1          178  55.055995  82.912991              17:49:50    17:54:24"
      ]
     },
     "execution_count": 5,
     "metadata": {},
     "output_type": "execute_result"
    }
   ],
   "source": [
    "transactions = pd.read_csv('transactions.csv', encoding='cp1251',sep=',')\n",
    "transactions.head(2)"
   ]
  },
  {
   "cell_type": "code",
   "execution_count": 6,
   "metadata": {
    "collapsed": true
   },
   "outputs": [],
   "source": [
    "def in_rectangle(x):\n",
    "    if (np.abs(x['latitude_tr'] - x['latitude']) <= 0.002 and \n",
    "        np.abs(x['longitude_tr'] - x['longitude']) <= 0.002):\n",
    "        ans = 1\n",
    "    elif (x['longitude_tr'] == x['longitude_tr']):\n",
    "        ans = 0\n",
    "    else:\n",
    "        ans = 'nan'\n",
    "    return  ans\n"
   ]
  },
  {
   "cell_type": "code",
   "execution_count": 7,
   "metadata": {
    "collapsed": false
   },
   "outputs": [
    {
     "name": "stdout",
     "output_type": "stream",
     "text": [
      "0.47192224622 % observations contains right coord.\n"
     ]
    }
   ],
   "source": [
    "# посмотрим сколько измерений из чекинов трейна совпадают с ответом\n",
    "\n",
    "tmp_data = pd.merge(transactions, train_loc, on='merchant_id')\n",
    "\n",
    "tmp_data['target'] = tmp_data.apply(lambda x: in_rectangle(x), axis=1)\n",
    "\n",
    "tmp_data.drop(['latitude_tr', 'longitude_tr'], axis=1, inplace=True)\n",
    "\n",
    "tmp = tmp_data.groupby('merchant_id')['target'].max()\n",
    "del tmp_data\n",
    "print(sum(tmp == 1) * 1.0 / len(tmp), u'% observations contains right coord.')"
   ]
  },
  {
   "cell_type": "markdown",
   "metadata": {},
   "source": [
    "> Если мы будем брать в качестве ответа только точки чекинов, то лучшее возможное решение - это 0.47 (исходя из трейна). Для 53% мерчантов все точки находятся не в прямоугольнике ±0.002"
   ]
  },
  {
   "cell_type": "code",
   "execution_count": 8,
   "metadata": {
    "collapsed": false,
    "scrolled": true
   },
   "outputs": [
    {
     "name": "stderr",
     "output_type": "stream",
     "text": [
      "/home/mount/neuro-t01-ssd/home/amir/my_env/lib/python3.4/site-packages/ipykernel/__main__.py:2: RuntimeWarning: invalid value encountered in absolute\n",
      "  from ipykernel import kernelapp as app\n"
     ]
    }
   ],
   "source": [
    "# MAKE TARGET\n",
    "\n",
    "# заделаем таргет\n",
    "## _____\n",
    "## будем предсказывать вероятность того что чекин будет лежать в прямоугольнике\n",
    "## потом cv по мерчантам и чекин для максимальной вероятности.\n",
    "### (хотя можно заделать таргетом расстояние до мерчанта и делать регрессию)\n",
    "## _____\n",
    "\n",
    "tr = transactions.copy()\n",
    "# дубли удаляю;\n",
    "tr = tr[np.invert(tr[['merchant_id', 'latitude', 'longitude']].duplicated())]\n",
    "\n",
    "data = pd.merge(train_loc, tr, on = 'merchant_id', how='outer')\n",
    "\n",
    "data['target'] = data.apply(lambda x: in_rectangle(x), axis=1)\n",
    "\n",
    "data = data.drop(['latitude_tr', 'longitude_tr'], axis=1)\n",
    "del tr"
   ]
  },
  {
   "cell_type": "code",
   "execution_count": 9,
   "metadata": {
    "collapsed": false
   },
   "outputs": [],
   "source": [
    "# DROP дропаю нули только в трейне\n",
    "drop_idx = data[(data.target!='nan') & \n",
    "                (\n",
    "                    (data.latitude > 100) &\n",
    "                    (data.latitude < 0.1) &\n",
    "                    (data.longitude > 80) &\n",
    "                    (data.longitude < 0.1) &\n",
    "                    np.isclose(data.latitude, [55.75034704], atol=1e-08) & \n",
    "                    np.isclose(data.longitude, [37.62385111], atol=1e-08)\n",
    "                )].index\n",
    "data = data.drop(drop_idx, axis=0)\n",
    "\n",
    "\n",
    "# drop_idx = data[(data.target!='nan') & \n",
    "#                 ((data.latitude < train_loc.latitude_tr.min()) | \n",
    "#                 (data.latitude > train_loc.latitude_tr.max()) | \n",
    "#                 (data.longitude < train_loc.longitude_tr.min()) | \n",
    "#                 (data.latitude > train_loc.longitude_tr.max()))\n",
    "#                ].index\n",
    "# data = data.drop(drop_idx, axis=0)"
   ]
  },
  {
   "cell_type": "code",
   "execution_count": null,
   "metadata": {
    "collapsed": true
   },
   "outputs": [],
   "source": []
  },
  {
   "cell_type": "raw",
   "metadata": {},
   "source": [
    "tmp = data[(data.target=='nan')].groupby('merchant_id').latitude.mean().reset_index()\n",
    "\n",
    "nul_only = tmp[tmp.latitude==0].merchant_id.values\n",
    "\n",
    "# DROP дропаю нули теста\n",
    "drop_idx = data[(data.target=='nan') & ~np.in1d(data.merchant_id.values, nul_only) &\n",
    "                ((data.latitude < train_loc.latitude_tr.min()) | \n",
    "                (data.latitude > train_loc.latitude_tr.max()) | \n",
    "                (data.longitude < train_loc.longitude_tr.min()) | \n",
    "                (data.latitude > train_loc.longitude_tr.max())) \n",
    "               ].index\n",
    "\n",
    "data.loc[drop_idx]\n",
    "\n",
    "data = data.drop(drop_idx, axis=0)\n",
    "\n",
    "data[data.target=='nan'].merchant_id.unique().shape, test_loc.merchant_id.values.shape\n",
    "\n",
    "hmmmm = set(test_loc.merchant_id.values) - set(data[data.target=='nan'].merchant_id.unique())"
   ]
  },
  {
   "cell_type": "raw",
   "metadata": {},
   "source": [
    "hmmmm"
   ]
  },
  {
   "cell_type": "code",
   "execution_count": 10,
   "metadata": {
    "collapsed": true
   },
   "outputs": [],
   "source": [
    "# TEST проверим не потеряли ли тест\n",
    "assert np.all(np.in1d(data[data.target=='nan'].merchant_id.unique(), \n",
    "                      test_loc.merchant_id.values))\n",
    "assert np.all(np.in1d(test_loc.merchant_id.values, \n",
    "                      data[data.target=='nan'].merchant_id.unique()))"
   ]
  },
  {
   "cell_type": "code",
   "execution_count": 11,
   "metadata": {
    "collapsed": false
   },
   "outputs": [
    {
     "data": {
      "text/plain": [
       "(131797, 6)"
      ]
     },
     "execution_count": 11,
     "metadata": {},
     "output_type": "execute_result"
    }
   ],
   "source": [
    "data.shape"
   ]
  },
  {
   "cell_type": "code",
   "execution_count": 12,
   "metadata": {
    "collapsed": true
   },
   "outputs": [],
   "source": [
    "# DIV разделим на трейн и тест\n",
    "data_test = data[data.target=='nan']\n",
    "data_train = data[data.target!='nan']\n",
    "del data"
   ]
  },
  {
   "cell_type": "code",
   "execution_count": 13,
   "metadata": {
    "collapsed": false
   },
   "outputs": [
    {
     "name": "stdout",
     "output_type": "stream",
     "text": [
      "вроде норм\n"
     ]
    }
   ],
   "source": [
    "# ASSERT\n",
    "assert np.all(np.in1d(data_test.merchant_id.unique(), test_loc.merchant_id.values))\n",
    "assert np.all(np.in1d(test_loc.merchant_id.values, data_test.merchant_id.unique()))\n",
    "print ('вроде норм')"
   ]
  },
  {
   "cell_type": "code",
   "execution_count": 14,
   "metadata": {
    "collapsed": false
   },
   "outputs": [
    {
     "data": {
      "text/plain": [
       "((87088, 6), (44709, 6))"
      ]
     },
     "execution_count": 14,
     "metadata": {},
     "output_type": "execute_result"
    }
   ],
   "source": [
    "data_train.shape, data_test.shape"
   ]
  },
  {
   "cell_type": "code",
   "execution_count": 15,
   "metadata": {
    "collapsed": false,
    "scrolled": true
   },
   "outputs": [
    {
     "data": {
      "text/html": [
       "<div>\n",
       "<table border=\"1\" class=\"dataframe\">\n",
       "  <thead>\n",
       "    <tr style=\"text-align: right;\">\n",
       "      <th></th>\n",
       "      <th>merchant_id</th>\n",
       "      <th>latitude</th>\n",
       "      <th>longitude</th>\n",
       "      <th>real_transaction_dttm</th>\n",
       "      <th>record_date</th>\n",
       "      <th>target</th>\n",
       "    </tr>\n",
       "  </thead>\n",
       "  <tbody>\n",
       "    <tr>\n",
       "      <th>0</th>\n",
       "      <td>178</td>\n",
       "      <td>0.000000</td>\n",
       "      <td>0.000000</td>\n",
       "      <td>9:34:47</td>\n",
       "      <td>9:30:36</td>\n",
       "      <td>0</td>\n",
       "    </tr>\n",
       "    <tr>\n",
       "      <th>1</th>\n",
       "      <td>178</td>\n",
       "      <td>55.055995</td>\n",
       "      <td>82.912991</td>\n",
       "      <td>17:49:50</td>\n",
       "      <td>17:54:24</td>\n",
       "      <td>1</td>\n",
       "    </tr>\n",
       "    <tr>\n",
       "      <th>2</th>\n",
       "      <td>178</td>\n",
       "      <td>55.056034</td>\n",
       "      <td>82.912734</td>\n",
       "      <td>17:49:50</td>\n",
       "      <td>17:43:01</td>\n",
       "      <td>1</td>\n",
       "    </tr>\n",
       "  </tbody>\n",
       "</table>\n",
       "</div>"
      ],
      "text/plain": [
       "   merchant_id   latitude  longitude real_transaction_dttm record_date target\n",
       "0          178   0.000000   0.000000               9:34:47     9:30:36      0\n",
       "1          178  55.055995  82.912991              17:49:50    17:54:24      1\n",
       "2          178  55.056034  82.912734              17:49:50    17:43:01      1"
      ]
     },
     "execution_count": 15,
     "metadata": {},
     "output_type": "execute_result"
    }
   ],
   "source": [
    "data_train.head(3)"
   ]
  },
  {
   "cell_type": "code",
   "execution_count": 16,
   "metadata": {
    "collapsed": false,
    "scrolled": true
   },
   "outputs": [
    {
     "data": {
      "text/html": [
       "<div>\n",
       "<table border=\"1\" class=\"dataframe\">\n",
       "  <thead>\n",
       "    <tr style=\"text-align: right;\">\n",
       "      <th></th>\n",
       "      <th>merchant_id</th>\n",
       "      <th>latitude</th>\n",
       "      <th>longitude</th>\n",
       "      <th>real_transaction_dttm</th>\n",
       "      <th>record_date</th>\n",
       "      <th>target</th>\n",
       "    </tr>\n",
       "  </thead>\n",
       "  <tbody>\n",
       "    <tr>\n",
       "      <th>87088</th>\n",
       "      <td>361</td>\n",
       "      <td>56.827622</td>\n",
       "      <td>60.581082</td>\n",
       "      <td>21:00:31</td>\n",
       "      <td>20:59:27</td>\n",
       "      <td>nan</td>\n",
       "    </tr>\n",
       "    <tr>\n",
       "      <th>87089</th>\n",
       "      <td>361</td>\n",
       "      <td>55.750347</td>\n",
       "      <td>37.623851</td>\n",
       "      <td>12:08:07</td>\n",
       "      <td>12:03:12</td>\n",
       "      <td>nan</td>\n",
       "    </tr>\n",
       "    <tr>\n",
       "      <th>87090</th>\n",
       "      <td>361</td>\n",
       "      <td>55.750347</td>\n",
       "      <td>37.623511</td>\n",
       "      <td>11:23:24</td>\n",
       "      <td>11:29:16</td>\n",
       "      <td>nan</td>\n",
       "    </tr>\n",
       "  </tbody>\n",
       "</table>\n",
       "</div>"
      ],
      "text/plain": [
       "       merchant_id   latitude  longitude real_transaction_dttm record_date  \\\n",
       "87088          361  56.827622  60.581082              21:00:31    20:59:27   \n",
       "87089          361  55.750347  37.623851              12:08:07    12:03:12   \n",
       "87090          361  55.750347  37.623511              11:23:24    11:29:16   \n",
       "\n",
       "      target  \n",
       "87088    nan  \n",
       "87089    nan  \n",
       "87090    nan  "
      ]
     },
     "execution_count": 16,
     "metadata": {},
     "output_type": "execute_result"
    }
   ],
   "source": [
    "data_test.head(3)"
   ]
  },
  {
   "cell_type": "raw",
   "metadata": {
    "collapsed": false
   },
   "source": [
    "# выкинем только неправльиные данные \n",
    "\n",
    "data_train.target = data_train.target.astype(int)\n",
    "tmp = data_train.groupby('merchant_id').target.mean().reset_index()\n",
    "\n",
    "data_train = pd.merge(data_train, tmp[tmp.target!=0][['merchant_id']])\n",
    "data_train.shape"
   ]
  },
  {
   "cell_type": "code",
   "execution_count": null,
   "metadata": {
    "collapsed": false
   },
   "outputs": [],
   "source": []
  },
  {
   "cell_type": "markdown",
   "metadata": {},
   "source": [
    "## features"
   ]
  },
  {
   "cell_type": "markdown",
   "metadata": {},
   "source": [
    "____"
   ]
  },
  {
   "cell_type": "code",
   "execution_count": null,
   "metadata": {
    "collapsed": true
   },
   "outputs": [],
   "source": []
  },
  {
   "cell_type": "code",
   "execution_count": 17,
   "metadata": {
    "collapsed": true
   },
   "outputs": [],
   "source": [
    "def is_trash(tr, ts):\n",
    "    cols = ['latitude', 'longitude']\n",
    "    tr_data = tr[cols].values\n",
    "    ts_data = ts[cols].values\n",
    "    \n",
    "    # выброс ли точка - центр москвы\n",
    "    is_mosk = (np.isclose(tr_data[:, 0], [55.75034704], atol=1e-08) & \n",
    "               np.isclose(tr_data[:, 1], [37.62385111], atol=1e-08)) \n",
    "    \n",
    "    is_mosk1 = (np.isclose(ts_data[:, 0], [55.75034704], atol=1e-08) & \n",
    "                np.isclose(ts_data[:, 1], [37.62385111], atol=1e-08))\n",
    "    \n",
    "    #не в эвристическом на глаз прямоугольнике\n",
    "    idx = ((tr_data[:, 0] > 10) & (tr_data[:, 0]  < 80.) & \n",
    "            (tr_data[:, 1]  > 20) & (tr_data[:, 1] < 110.))\n",
    "    \n",
    "    idx1 = ((ts_data[:, 0] > 10) & (ts_data[:, 0]  < 80.) & \n",
    "            (ts_data[:, 1]  > 20) & (ts_data[:, 1] < 110.))\n",
    "    \n",
    "    tr_data = tr.copy()\n",
    "    ts_data = ts.copy()\n",
    "    \n",
    "    is_in = ((tr_data.latitude > lat_min) & \n",
    "             (tr_data.latitude < lat_max) & \n",
    "             (tr_data.longitude > lon_min) & \n",
    "             (tr_data.longitude < lon_max))\n",
    "    \n",
    "    is_in1 = ((ts_data.latitude > lat_min) & \n",
    "              (ts_data.latitude < lat_max) & \n",
    "              (ts_data.longitude > lon_min) & \n",
    "              (ts_data.longitude < lon_max))\n",
    "    \n",
    "    tr_data['is_in_rec'] = is_in.astype(int)\n",
    "    ts_data['is_in_rec'] = is_in1.astype(int)\n",
    "    \n",
    "    tr_data['is_trash'] = 1 - idx.astype(int)\n",
    "    ts_data['is_trash'] = 1 - idx1.astype(int)\n",
    "    \n",
    "    tr_data['is_mosk'] = is_mosk.astype(int)\n",
    "    ts_data['is_mosk'] = is_mosk1.astype(int)\n",
    "    \n",
    "    return tr_data, ts_data"
   ]
  },
  {
   "cell_type": "code",
   "execution_count": null,
   "metadata": {
    "collapsed": false
   },
   "outputs": [],
   "source": []
  },
  {
   "cell_type": "code",
   "execution_count": 18,
   "metadata": {
    "collapsed": true
   },
   "outputs": [],
   "source": [
    "from sklearn.neighbors import NearestNeighbors\n",
    "\n",
    "a = pd.read_html('http://alextyurin.ru/?p=1037')\n",
    "centres_of_cities = a[0].loc[3:92, ['Город', 'Широта', 'Долгода']]\n",
    "centres_of_cities.columns = ['city',  'lat', 'lon']\n",
    "centres_of_cities = centres_of_cities.reset_index()\n",
    "nn = NearestNeighbors(n_neighbors=1, p=2, n_jobs=6)\n",
    "nn.fit(centres_of_cities[[ 'lat', 'lon']].astype(float).values)\n",
    "\n",
    "def get_nearest_city(tr, ts):\n",
    "    \"\"\"\n",
    "    Used additional data  - coordinates of cities centers.\n",
    "    \"\"\"\n",
    "    tr_data = tr.copy()\n",
    "    ts_data = ts.copy()\n",
    "    cols = ['latitude', 'longitude']\n",
    "    \n",
    "    dt = pd.concat([tr_data[cols], ts_data[cols]], axis=0)\n",
    "    a = nn.kneighbors(dt[cols].values)[1].flatten()\n",
    "    dist = nn.kneighbors(dt[cols].values)[0].flatten()\n",
    "    b,c = np.unique(a, return_counts=True)\n",
    "    maper = {k:v for k,v in zip(b, c)}\n",
    "    a = list(map(lambda x: maper[x], a))\n",
    "    tr_data['city_count_enc'] = a[:tr_data.shape[0]]\n",
    "    ts_data['city_count_enc'] = a[-ts_data.shape[0]:]\n",
    "#     tr_data['city_dist'] = dist[:tr_data.shape[0]]\n",
    "#     ts_data['city_dist'] = dist[-ts_data.shape[0]:]\n",
    "    return tr_data, ts_data"
   ]
  },
  {
   "cell_type": "code",
   "execution_count": null,
   "metadata": {
    "collapsed": true
   },
   "outputs": [],
   "source": []
  },
  {
   "cell_type": "code",
   "execution_count": 19,
   "metadata": {
    "collapsed": false
   },
   "outputs": [],
   "source": [
    "def get_time_features(dt):\n",
    "    \"\"\"\n",
    "    Work with time.\n",
    "    \"\"\"\n",
    "    tr = dt.copy()\n",
    "    tr['H_trans'] = tr.real_transaction_dttm.str.split(':').apply(lambda x: int(x[0]))\n",
    "    tr['M_trans'] = tr.real_transaction_dttm.str.split(':').apply(lambda x: int(x[1]))\n",
    "    tr['S_trans'] = tr.real_transaction_dttm.str.split(':').apply(lambda x: int(x[2]))\n",
    "\n",
    "    tr['H_rec'] = tr.record_date.str.split(':').apply(lambda x:  int(x[0]))\n",
    "    tr['M_rec'] = tr.record_date.str.split(':').apply(lambda x:  int(x[1]))\n",
    "    tr['S_rec'] = tr.record_date.str.split(':').apply(lambda x:  int(x[2]))\n",
    "    \n",
    "    tr['time_delta'] =  ((tr['H_trans'] * 3600 + tr['M_trans'] * 60 + tr['S_trans']) - \n",
    "                               (tr['H_rec'] * 3600 + tr['M_rec'] * 60 + tr['S_rec']))\n",
    "    \n",
    "    tr['time_log_delta'] = np.log(np.abs(tr['time_delta']) + 1)\n",
    "    \n",
    "    tr['time1'] = tr['H_trans'] * 60 + tr['M_trans']\n",
    "    tr['time2'] = tr['H_rec'] * 60 + tr['M_rec']\n",
    "    \n",
    "    # time std \n",
    "    tmp = tr.groupby('merchant_id').time_log_delta.std().reset_index()\n",
    "    tmp.columns = ['merchant_id', 'delta_std']\n",
    "    tmp = pd.merge(tmp, tr, how='outer', on='merchant_id')\n",
    "    tr['time_std_delta'] = tmp.delta_std.values\n",
    "    tr.set_value(tr['time_std_delta'] != tr['time_std_delta'], 'time_std_delta', -1)\n",
    "    \n",
    "    # time1 dist to mean & median\n",
    "    tmp = tr.groupby('merchant_id').time1.mean().reset_index()\n",
    "    tmp.columns = ['merchant_id', 't1_mean']\n",
    "    tmp = pd.merge(tmp, tr, how='outer', on='merchant_id')\n",
    "    tr['time_dist_to_mean_1'] = np.abs(tr.time1.values - tmp.t1_mean.values)\n",
    "    #\n",
    "    tmp = tr.groupby('merchant_id').time1.median().reset_index()\n",
    "    tmp.columns = ['merchant_id', 't1_median']\n",
    "    tmp = pd.merge(tmp, tr, how='outer', on='merchant_id')\n",
    "    tr['time_dist_to_median_1'] = np.abs(tr.time1.values - tmp.t1_median.values)    \n",
    "    \n",
    "    # time2 dist to mean & median\n",
    "    tmp = tr.groupby('merchant_id').time2.mean().reset_index()\n",
    "    tmp.columns = ['merchant_id', 't2_mean']\n",
    "    tmp = pd.merge(tmp, tr, how='outer', on='merchant_id')\n",
    "    tr['time_dist_to_mean_2'] = np.abs(tr.time2.values - tmp.t2_mean.values)\n",
    "    #\n",
    "    tmp = tr.groupby('merchant_id').time2.median().reset_index()\n",
    "    tmp.columns = ['merchant_id', 't2_median']\n",
    "    tmp = pd.merge(tmp, tr, how='outer', on='merchant_id')\n",
    "    tr['time_dist_to_median_2'] = np.abs(tr.time2.values - tmp.t2_median.values)\n",
    "    \n",
    "\n",
    "    tr.drop(['real_transaction_dttm', 'record_date',\n",
    "             'H_trans', 'M_trans', 'S_trans',\n",
    "             'H_rec', 'M_rec', 'S_rec'], axis=1, inplace=True)\n",
    "    \n",
    "    return tr"
   ]
  },
  {
   "cell_type": "code",
   "execution_count": null,
   "metadata": {
    "collapsed": false,
    "scrolled": true
   },
   "outputs": [],
   "source": []
  },
  {
   "cell_type": "code",
   "execution_count": 20,
   "metadata": {
    "collapsed": true
   },
   "outputs": [],
   "source": [
    "def in_merchant_dist_features(data):\n",
    "    \"\"\"\n",
    "    Some aggreg features for nearest neighbors like:\n",
    "    - TODO ? should i add some noise - for avoiding one id leak?\n",
    "    -\n",
    "    \"\"\"\n",
    "    dt = data.copy()\n",
    "    #std lat & lon\n",
    "    tmp = dt.groupby('merchant_id').latitude.std().reset_index()\n",
    "    tmp.columns = ['merchant_id', 'dist_lat_std']\n",
    "    dt = pd.merge(dt, tmp, how='outer', on='merchant_id')\n",
    "    tmp = dt.groupby('merchant_id').longitude.std().reset_index()\n",
    "    tmp.columns = ['merchant_id', 'dist_lon_std']\n",
    "    dt = pd.merge(dt, tmp, how='outer', on='merchant_id')\n",
    "    dt.set_value(dt['dist_lat_std'] != dt['dist_lat_std'], 'dist_lat_std', -1)\n",
    "    dt.set_value(dt['dist_lon_std'] != dt['dist_lon_std'], 'dist_lon_std', -1)\n",
    "    \n",
    "    #dist to mean and to median\n",
    "    tmp = dt.groupby('merchant_id').latitude.mean().reset_index()\n",
    "    tmp.columns = ['merchant_id', 'lat_mean']\n",
    "    tmp = pd.merge(tmp, dt, how='outer', on='merchant_id')\n",
    "    dt['dist_to_mean_lat'] = np.abs(dt.latitude.values - tmp.lat_mean.values)\n",
    "    #\n",
    "    tmp = dt.groupby('merchant_id').latitude.median().reset_index()\n",
    "    tmp.columns = ['merchant_id', 'lat_median']\n",
    "    tmp = pd.merge(tmp, dt, how='outer', on='merchant_id')\n",
    "    dt['dist_to_median_lat'] = np.abs(dt.latitude.values - tmp.lat_median.values)\n",
    "    #\n",
    "    tmp = dt.groupby('merchant_id').longitude.mean().reset_index()\n",
    "    tmp.columns = ['merchant_id', 'lon_mean']\n",
    "    tmp = pd.merge(tmp, dt, how='outer', on='merchant_id')\n",
    "    dt['dist_to_mean_lon'] = np.abs(dt.longitude.values - tmp.lon_mean.values)\n",
    "    #\n",
    "    tmp = dt.groupby('merchant_id').longitude.median().reset_index()\n",
    "    tmp.columns = ['merchant_id', 'lon_median']\n",
    "    tmp = pd.merge(tmp, dt, how='outer', on='merchant_id')\n",
    "    dt['dist_to_median_lon'] = np.abs(dt.longitude.values - tmp.lon_median.values)\n",
    "    \n",
    "    return dt"
   ]
  },
  {
   "cell_type": "code",
   "execution_count": null,
   "metadata": {
    "collapsed": true
   },
   "outputs": [],
   "source": []
  },
  {
   "cell_type": "code",
   "execution_count": 21,
   "metadata": {
    "collapsed": false
   },
   "outputs": [],
   "source": [
    "from sklearn.cluster import DBSCAN\n",
    "from sklearn.preprocessing import StandardScaler, MinMaxScaler\n",
    "\n",
    "# Example%\n",
    "# X = StandardScaler().fit_transform(X)\n",
    "# db = DBSCAN(eps=0.003, min_samples=5, metric='minkowski', p=1)\n",
    "# db.fit(data[['latitude','longitude']])\n",
    "# db = DBSCAN(eps=0.3, min_samples=10).fit(X)\n",
    "# labels = db.labels_\n",
    "#\n",
    "\n",
    "def claster_features(train, test):\n",
    "    \"\"\"\n",
    "    Return DBSCAN resulting label  for clusters:\n",
    "    - by coordinates\n",
    "    - clear data with evristics and clustering by coords. outlyers = -1\n",
    "    - by time\n",
    "    - by dist to mean / median.\n",
    "    \"\"\"\n",
    "    tr = train.copy()\n",
    "    ts = test.copy()\n",
    "    \n",
    "    cols = ['latitude', 'longitude']\n",
    "    X_ts = np.vstack([tr[cols].values, \n",
    "                      ts[cols].values])\n",
    "    print ('___cluster_ lat,lon')\n",
    "#     X_tr = StandardScaler().fit_transform(X_tr)\n",
    "#     X_ts = StandardScaler().fit_transform(X_ts)\n",
    "    not_use = -100 * (np.isclose(X_ts[:, 0], [55.75034704], atol=1e-8) &\n",
    "               np.isclose(X_ts[:, 1], [37.62385111], atol=1e-8)).astype(int)\n",
    "\n",
    "    db = DBSCAN(eps=0.0015, min_samples=2, metric='minkowski', p=1, n_jobs=8).fit(X_ts)\n",
    "    tr['labels_lat_lon'] = db.labels_[:tr.shape[0]] + not_use[:tr.shape[0]]\n",
    "    ts['labels_lat_lon'] = db.labels_[-ts.shape[0]:]+ not_use[-ts.shape[0]:]\n",
    "    db = DBSCAN(eps=0.05, min_samples=2, metric='minkowski', p=2, n_jobs=1).fit(X_ts)\n",
    "    tr['labels_lat_lon_2'] = db.labels_[:tr.shape[0]] + not_use[:tr.shape[0]]\n",
    "    ts['labels_lat_lon_2'] = db.labels_[-ts.shape[0]:]+ not_use[-ts.shape[0]:]\n",
    "    \n",
    "    \n",
    "    # _________ шлак\n",
    "    # TRAIN\n",
    "    # дропаю нули\n",
    "    # дубли тоже удаляю;\n",
    "    X_ts = np.vstack([tr[cols].values, \n",
    "                      ts[cols].values])\n",
    "    # 37.62385111, 55.75034704 (lat)\n",
    "    idx = ((X_ts[:, 0] > 0.) & \n",
    "           (X_ts[:, 0]  < 80.) & \n",
    "           ~np.isclose(X_ts[:, 0], [55.75034704], atol=1e-8) &\n",
    "            np.invert(pd.concat([tr[cols], ts[cols]], axis=0).duplicated()) &\n",
    "            (X_ts[:, 1]  > 0.) & \n",
    "           (X_ts[:, 1] < 110.) &\n",
    "            ~np.isclose(X_ts[:, 1], [37.62385111], atol=1e-8) )\n",
    "    \n",
    "    print ('___cluster_ shlack')\n",
    "    db = DBSCAN(eps=0.8, min_samples=5, metric='minkowski', p=1, n_jobs=1)\n",
    "    db.fit(X_ts[idx])\n",
    "    labels = db.labels_\n",
    "    # counter _ encoding\n",
    "    b,c = np.unique(labels, return_counts=True)\n",
    "    maper = {k:v for k,v in zip(b, c)}\n",
    "    labels = list(map(lambda x: maper[x], labels))\n",
    "    \n",
    "    tr['labels_shlack'] = -1\n",
    "    ts['labels_shlack'] = -1\n",
    "\n",
    "    tr.set_value(idx[:tr.shape[0]], 'labels_shlack', labels[:tr['labels_shlack'].loc[idx[:tr.shape[0]]].shape[0]])\n",
    "    ts.set_value(idx[-ts.shape[0]:], 'labels_shlack', labels[-ts['labels_shlack'].loc[idx[-ts.shape[0]:]].shape[0]:])\n",
    "    \n",
    "    ## TODO\n",
    "    ## принадлежит ли наблюдение тому кластеру которое многочисленное ? \n",
    "    ## сколько наблюдений этого мерчанта еще лежат в этом кластере\n",
    "    ## сколько в других мерчантах ?\n",
    "    \n",
    "    ## TODO \n",
    "    ## one-hot\n",
    "    # TODO _ LABELS TO ONE_HOT\n",
    "    print ('___cluster_ time')\n",
    "    cols = ts.head().filter(like='time').columns.values\n",
    "    X_ts = np.vstack([tr[cols].values, \n",
    "                      ts[cols].values])\n",
    "    \n",
    "    X_ts = MinMaxScaler().fit_transform(X_ts)\n",
    "    db = DBSCAN(eps=0.1, min_samples=2, metric='minkowski', p=1, n_jobs=8).fit(X_ts)\n",
    "    tr['labels_time_0.1'] = db.labels_[:tr.shape[0]]\n",
    "    ts['labels_time_0.1'] = db.labels_[-ts.shape[0]:]\n",
    "    db = DBSCAN(eps=0.3, min_samples=2, metric='minkowski', p=1, n_jobs=8).fit(X_ts)\n",
    "    tr['labels_time_0.3'] = db.labels_[:tr.shape[0]]\n",
    "    ts['labels_time_0.3'] = db.labels_[-ts.shape[0]:]\n",
    "    db = DBSCAN(eps=0.05, min_samples=2, metric='minkowski', p=1, n_jobs=8).fit(X_ts)\n",
    "    tr['labels_time_0.05'] = db.labels_[:tr.shape[0]]\n",
    "    ts['labels_time_0.05'] = db.labels_[-ts.shape[0]:]\n",
    "    \n",
    "    \n",
    "    cols = tr.head().filter(like='dist').columns.values\n",
    "    X_ts = np.vstack([tr[cols].values, \n",
    "                      ts[cols].values])\n",
    "    \n",
    "    X_ts = MinMaxScaler().fit_transform(X_ts)\n",
    "    db = DBSCAN(eps=0.1, min_samples=2, metric='minkowski', p=2, n_jobs=8).fit(X_ts)\n",
    "    tr['labels_dist_0.1'] = db.labels_[:tr.shape[0]]\n",
    "    ts['labels_dist_0.1'] = db.labels_[-ts.shape[0]:]\n",
    "    db = DBSCAN(eps=0.3, min_samples=2, metric='minkowski', p=1, n_jobs=8).fit(X_ts)\n",
    "    tr['labels_dist_0.3'] = db.labels_[:tr.shape[0]]\n",
    "    ts['labels_dist_0.3'] = db.labels_[-ts.shape[0]:]\n",
    "    \n",
    "    \n",
    "    #raise Exception('labels - one-hot encoder') \n",
    "    \n",
    "    return (tr, ts)"
   ]
  },
  {
   "cell_type": "code",
   "execution_count": null,
   "metadata": {
    "collapsed": true
   },
   "outputs": [],
   "source": []
  },
  {
   "cell_type": "raw",
   "metadata": {
    "collapsed": true
   },
   "source": [
    "# https://apidata.mos.ru/Docs#apiVersion\n",
    "# OPENDATA _ MOSCOW\n",
    "\n",
    "# пример запроса \n",
    "# тут можно что нибудь выкачать - например адреса магазинов и тд\n",
    "\n",
    "import requests\n",
    "from user_agent import generate_user_agent\n",
    "\n",
    "BASE_REVERSE_SEARCH = 'https://apidata.mos.ru/v1/datasets'\n",
    "a = requests.get(BASE_REVERSE_SEARCH, \n",
    "                   params={'top':1, 'api_key':'9c6514041e0cb1ce89427b349ae55938', 'format':'json'},\n",
    "                   headers={'User-Agent': generate_user_agent()})\n",
    "a.json()"
   ]
  },
  {
   "cell_type": "code",
   "execution_count": null,
   "metadata": {
    "collapsed": true
   },
   "outputs": [],
   "source": [
    "# # Прокси тутор для Васи\n",
    "# #\n",
    "# # Скачай файл с прокси серверами отсюда:\n",
    "#     # http://proxy-fresh.ru/proxy/in-appearance/\n",
    "\n",
    "# import requests\n",
    "# from user_agent import generate_user_agent\n",
    "\n",
    "# prox = []\n",
    "# with open('some proxy.txt', 'r') as f:\n",
    "#     prox = f.readlines()\n",
    "    \n",
    "# proxies_list = [{'http':'http://'+i.strip()} for i in prox]\n",
    "\n",
    "# for i in tqdm(range(len(proxies_list))):\n",
    "#     assert 200 == requests.get('http://yandex.ru', \n",
    "#                                headers={'User-Agent': generate_user_agent()},\n",
    "#                                proxies=proxies_list[i]).status_code\n",
    "# print ('all_proxies_are_worked!\\n\\n')\n",
    "\n",
    "\n",
    "# # затем отмеряй 1999 запросов для каждой прокси и выкидывай ее из списка\n",
    "# # должно помочь "
   ]
  },
  {
   "cell_type": "code",
   "execution_count": null,
   "metadata": {
    "collapsed": true
   },
   "outputs": [],
   "source": [
    "# # запрос к опенстритмапс с помощью геокодера.\n",
    "\n",
    "# # https://pypi.python.org/pypi/geopy/1.11.0\n",
    "# from geopy.geocoders import Nominatim\n",
    "# from time import sleep\n",
    "# from tqdm import *\n",
    "\n",
    "# geolocator = Nominatim()\n",
    "# # location = geolocator.reverse(\"55.750347, 37.623851\")\n",
    "# # location.raw\n",
    "# from sklearn.preprocessing import LabelEncoder\n",
    "# label_enc = LabelEncoder()\n",
    "\n",
    "# def geo_features(tr, train_data = True):\n",
    "#     \"\"\"\n",
    "#     \"\"\"\n",
    "#     dt = tr.copy()\n",
    "#     is_house = []\n",
    "#     is_road = []\n",
    "#     osm_type = []\n",
    "#     is_point = []\n",
    "    \n",
    "#     for i in tqdm(range(dt.shape[0])):\n",
    "#         q = dt.iloc[i]\n",
    "#         query = str(q.latitude)+', '+str(q.longitude)\n",
    "#         sleep(np.random.random())\n",
    "#         location = geolocator.reverse(query)\n",
    "#         is_house.append('house_number' in location.raw['address'].keys())\n",
    "#         is_road.append('road' in location.raw['address'].keys())\n",
    "#         osm_type.append(location.raw['osm_type'])\n",
    "#         p = (np.allclose(float(location.raw['boundingbox'][0]),\n",
    "#                         float(location.raw['boundingbox'][1])) and\n",
    "#                         np.allclose(float(location.raw['boundingbox'][2]),\n",
    "#                                     float(location.raw['boundingbox'][3])))\n",
    "#         is_point.append(p)\n",
    "\n",
    "#     if train_data:\n",
    "#         osm_type = label_enc.fit_transform(osm_type)\n",
    "#     else:\n",
    "#         osm_type = label_enc.transform(osm_type)\n",
    "#     dt['is_house'] = np.array(is_house).astype(int)\n",
    "#     dt['is_road'] = np.array(is_road).astype(int)\n",
    "#     dt['osm_type'] = osm_type\n",
    "#     dt['is_point'] = np.array(is_point).astype(int)\n",
    "#     return dt\n",
    "    "
   ]
  },
  {
   "cell_type": "code",
   "execution_count": null,
   "metadata": {
    "collapsed": true
   },
   "outputs": [],
   "source": []
  },
  {
   "cell_type": "markdown",
   "metadata": {
    "collapsed": true
   },
   "source": [
    "### Тот же самый запрос, но руками, напрямую и с проксисерверов и параллелированный"
   ]
  },
  {
   "cell_type": "code",
   "execution_count": null,
   "metadata": {
    "collapsed": true
   },
   "outputs": [],
   "source": [
    "# from tqdm import *\n",
    "# import requests\n",
    "# from user_agent import generate_user_agent\n",
    "# from bs4 import BeautifulSoup\n",
    "\n",
    "# # http://proxy-fresh.ru/proxy/in-appearance/\n",
    "# prox = []\n",
    "# with open('proxy.txt', 'r') as f:\n",
    "#     prox = f.readlines()\n",
    "\n",
    "# proxies_list = [{'http':'http://'+i.strip()} for i in prox]\n",
    "\n",
    "# for i in tqdm(range(len(proxies_list))):\n",
    "#     assert 200 == requests.get('http://yandex.ru', \n",
    "#                                headers={'User-Agent': generate_user_agent()},\n",
    "#                                proxies=proxies_list[i]).status_code\n",
    "# print ('all_proxies_are_worked!\\n\\n')\n",
    "\n",
    "# print (len(proxies_list))\n",
    "\n",
    "# def get_proxy():\n",
    "#     return proxies_list[np.random.randint(0, len(proxies_list))]\n",
    "\n",
    "# def my_locator(query):\n",
    "#     BASE_REVERSE_SEARCH = 'https://nominatim.openstreetmap.org/reverse.php'\n",
    "#     lat, lon = query\n",
    "#     sleep(np.random.random()*0.01)\n",
    "#     req = requests.get(BASE_REVERSE_SEARCH, \n",
    "#                    params={'lat':lat, 'lon':lon, 'format':'json'},\n",
    "#                    headers={'User-Agent': generate_user_agent()},\n",
    "#                    proxies=get_proxy())\n",
    "#     if req.status_code == 200:\n",
    "#         return req.json()\n",
    "#     else:\n",
    "#         print ('error')\n",
    "#         return {'address':{\"1\":0}}\n",
    "\n",
    "\n",
    "\n",
    "# from sklearn.externals.joblib import Parallel, delayed\n",
    "\n",
    "# quers = zip(data_train.latitude.values, data_train.longitude.values)\n",
    "# res_tr = Parallel(n_jobs=8, backend='multiprocessing', verbose=6)(\n",
    "#     delayed(my_locator)(query) for query in quers)\n",
    "\n",
    "# quers = zip(data_test.latitude.values, data_test.longitude.values)\n",
    "# res_ts = Parallel(n_jobs=8, backend='multiprocessing', verbose=7)(\n",
    "#     delayed(my_locator)(query) for query in quers)"
   ]
  },
  {
   "cell_type": "code",
   "execution_count": null,
   "metadata": {
    "collapsed": true
   },
   "outputs": [],
   "source": [
    "# def geo_features(tr, train_data = True):\n",
    "#     \"\"\"\n",
    "#     Some features from openstreetmap:\n",
    "#     is_house, is_house, is_point (for knowing pos return rectangle coord) \n",
    "#     and others.\n",
    "#     \"\"\"\n",
    "#     dt = tr.copy()\n",
    "#     is_house = []\n",
    "#     is_road = []\n",
    "#     osm_type = []\n",
    "#     is_point = []\n",
    "    \n",
    "#     map(, zip(dt.latitude.values, dt.longitude.values))\n",
    "    \n",
    "#     for i in tqdm(range(dt.shape[0])):\n",
    "#         q = dt.iloc[i]\n",
    "#         query = (q.latitude, q.longitude)\n",
    "#         location = my_locator(query)\n",
    "#         is_house.append('house_number' in location['address'].keys())\n",
    "#         is_road.append('road' in location['address'].keys())\n",
    "#         osm_type.append(location['osm_type'])\n",
    "#         p = (np.allclose(float(location['boundingbox'][0]),\n",
    "#                         float(location['boundingbox'][1])) and\n",
    "#                         np.allclose(float(location['boundingbox'][2]),\n",
    "#                                     float(location['boundingbox'][3])))\n",
    "#         is_point.append(p)\n",
    "\n",
    "#     if train_data:\n",
    "#         osm_type = label_enc.fit_transform(osm_type)\n",
    "#     else:\n",
    "#         osm_type = label_enc.transform(osm_type)\n",
    "#     dt['is_house'] = np.array(is_house).astype(int)\n",
    "#     dt['is_house'] = np.array(is_road).astype(int)\n",
    "#     dt['osm_type'] = osm_type\n",
    "#     dt['is_point'] = np.array(is_point).astype(int)\n",
    "#     return dt"
   ]
  },
  {
   "cell_type": "code",
   "execution_count": null,
   "metadata": {
    "collapsed": true
   },
   "outputs": [],
   "source": []
  },
  {
   "cell_type": "code",
   "execution_count": null,
   "metadata": {
    "collapsed": true
   },
   "outputs": [],
   "source": [
    "from sklearn.neighbors import NearestNeighbors\n",
    "\n",
    "nn = NearestNeighbors(radius=0.002, p=1, n_jobs=8)\n",
    "sc = StandardScaler()\n",
    "\n",
    "\n",
    "def NN_features(train, is_train = True):\n",
    "    \"\"\"\n",
    "    Some aggreg features for nearest neighbors like:\n",
    "    - Distances to nearest neighbours\n",
    "    - Sum of distances of 2 nearest neighbours\n",
    "    - mean in 5 nearest obs\n",
    "    - Sum of distances of 4 nearest neighbours\n",
    "    - mean in 10 neares obs\n",
    "    - center of mass of 5 neighbors (among eq 1)\n",
    "    -\n",
    "    \"\"\"\n",
    "    tr = train.copy()\n",
    "    X = tr[['latitude', 'longitude', 'delta_in_seconds', 'labels']].values\n",
    "    if is_train:\n",
    "        X = sc.fit_transform(X)\n",
    "        nn.fit(X)\n",
    "    else:\n",
    "        X = sc.transform(X)\n",
    "        nn.transform(X)\n",
    "    \n",
    "    return None"
   ]
  },
  {
   "cell_type": "markdown",
   "metadata": {
    "collapsed": true
   },
   "source": [
    "###### Не успел затестисть фичи c соседями, а должны были помочь! "
   ]
  },
  {
   "cell_type": "markdown",
   "metadata": {
    "collapsed": true
   },
   "source": [
    "##### Testing on working!"
   ]
  },
  {
   "cell_type": "raw",
   "metadata": {},
   "source": [
    "dt = data_test.head(6)"
   ]
  },
  {
   "cell_type": "raw",
   "metadata": {
    "collapsed": false
   },
   "source": [
    "get_time_features(data_train.head(4))"
   ]
  },
  {
   "cell_type": "raw",
   "metadata": {},
   "source": [
    "in_merchant_dist_features(data_test.head(6))"
   ]
  },
  {
   "cell_type": "raw",
   "metadata": {
    "collapsed": false
   },
   "source": [
    "claster_features(data_train.head(40), data_test.head(40))[1].tail(5)"
   ]
  },
  {
   "cell_type": "raw",
   "metadata": {
    "collapsed": false,
    "scrolled": true
   },
   "source": [
    "geo_features(data_test.head(), True)"
   ]
  },
  {
   "cell_type": "raw",
   "metadata": {
    "collapsed": true
   },
   "source": [
    "_, _1 = get_nearest_city(dt.head(5), dt.tail(6))"
   ]
  },
  {
   "cell_type": "markdown",
   "metadata": {
    "collapsed": true
   },
   "source": [
    "_____"
   ]
  },
  {
   "cell_type": "markdown",
   "metadata": {},
   "source": [
    "# OK! make_tain_test_again!"
   ]
  },
  {
   "cell_type": "code",
   "execution_count": 22,
   "metadata": {
    "collapsed": true
   },
   "outputs": [],
   "source": [
    "def prepr_data(train, test):\n",
    "    \"\"\"\n",
    "    Generating features in train & test datasets:\n",
    "    - DBSCAN clustering labels;\n",
    "    - GeoPosition describes;\n",
    "    - Neighbors aggregated features.\n",
    "    \"\"\"\n",
    "    \n",
    "    print ('get_label_for_trash')\n",
    "    train, test = is_trash(train, test)\n",
    "    \n",
    "    print ('nearest_city')\n",
    "    train, test = get_nearest_city(train, test)\n",
    "    \n",
    "    print ('time')\n",
    "    train = get_time_features(train)\n",
    "    test = get_time_features(test)\n",
    "    \n",
    "#     train = geo_features(train, train_data = True)\n",
    "#     test = geo_features(test, train_data = False)\n",
    "    \n",
    "    print ('dist')\n",
    "    train = in_merchant_dist_features(train)\n",
    "    test = in_merchant_dist_features(test)\n",
    "    \n",
    "    print ('cluster')\n",
    "    train, test = claster_features(train, test)\n",
    "    \n",
    "    #NN_features\n",
    "    #\n",
    "    \n",
    "    print ('go!')\n",
    "    y_tr = train.target\n",
    "    y_ts = test.target\n",
    "    \n",
    "    return (train.drop(['target'], axis=1), test.drop(['target'], axis=1), y_tr, y_ts)"
   ]
  },
  {
   "cell_type": "code",
   "execution_count": 23,
   "metadata": {
    "collapsed": false
   },
   "outputs": [
    {
     "name": "stdout",
     "output_type": "stream",
     "text": [
      "get_label_for_trash\n",
      "nearest_city\n",
      "time\n",
      "dist\n",
      "cluster\n",
      "___cluster_ lat,lon\n",
      "___cluster_ shlack\n",
      "___cluster_ time\n",
      "go!\n",
      "TEST! \n"
     ]
    }
   ],
   "source": [
    "tr, ts, y_tr, y_ts = prepr_data(data_train.head(50), data_test.head(50))\n",
    "\n",
    "print ('TEST! ')"
   ]
  },
  {
   "cell_type": "code",
   "execution_count": null,
   "metadata": {
    "collapsed": true
   },
   "outputs": [],
   "source": []
  },
  {
   "cell_type": "code",
   "execution_count": 24,
   "metadata": {
    "collapsed": false
   },
   "outputs": [
    {
     "data": {
      "text/plain": [
       "array(['time_delta', 'time_log_delta', 'time1', 'time2', 'time_std_delta',\n",
       "       'time_dist_to_mean_1', 'time_dist_to_median_1',\n",
       "       'time_dist_to_mean_2', 'time_dist_to_median_2', 'labels_time_0.1',\n",
       "       'labels_time_0.3', 'labels_time_0.05'], dtype=object)"
      ]
     },
     "execution_count": 24,
     "metadata": {},
     "output_type": "execute_result"
    }
   ],
   "source": [
    "cols = tr.head().filter(like='time').columns.values\n",
    "cols"
   ]
  },
  {
   "cell_type": "code",
   "execution_count": 25,
   "metadata": {
    "collapsed": false,
    "scrolled": true
   },
   "outputs": [
    {
     "data": {
      "text/html": [
       "<div>\n",
       "<table border=\"1\" class=\"dataframe\">\n",
       "  <thead>\n",
       "    <tr style=\"text-align: right;\">\n",
       "      <th></th>\n",
       "      <th>merchant_id</th>\n",
       "      <th>latitude</th>\n",
       "      <th>longitude</th>\n",
       "      <th>is_in_rec</th>\n",
       "      <th>is_trash</th>\n",
       "      <th>is_mosk</th>\n",
       "      <th>city_count_enc</th>\n",
       "      <th>time_delta</th>\n",
       "      <th>time_log_delta</th>\n",
       "      <th>time1</th>\n",
       "      <th>time2</th>\n",
       "      <th>time_std_delta</th>\n",
       "      <th>time_dist_to_mean_1</th>\n",
       "      <th>time_dist_to_median_1</th>\n",
       "      <th>time_dist_to_mean_2</th>\n",
       "      <th>time_dist_to_median_2</th>\n",
       "      <th>dist_lat_std</th>\n",
       "      <th>dist_lon_std</th>\n",
       "      <th>dist_to_mean_lat</th>\n",
       "      <th>dist_to_median_lat</th>\n",
       "      <th>dist_to_mean_lon</th>\n",
       "      <th>dist_to_median_lon</th>\n",
       "      <th>labels_lat_lon</th>\n",
       "      <th>labels_lat_lon_2</th>\n",
       "      <th>labels_shlack</th>\n",
       "      <th>labels_time_0.1</th>\n",
       "      <th>labels_time_0.3</th>\n",
       "      <th>labels_time_0.05</th>\n",
       "      <th>labels_dist_0.1</th>\n",
       "      <th>labels_dist_0.3</th>\n",
       "    </tr>\n",
       "  </thead>\n",
       "  <tbody>\n",
       "    <tr>\n",
       "      <th>45</th>\n",
       "      <td>505</td>\n",
       "      <td>64.554149</td>\n",
       "      <td>40.554496</td>\n",
       "      <td>1</td>\n",
       "      <td>0</td>\n",
       "      <td>0</td>\n",
       "      <td>18</td>\n",
       "      <td>-161</td>\n",
       "      <td>5.087596</td>\n",
       "      <td>1192</td>\n",
       "      <td>1195</td>\n",
       "      <td>1.531281</td>\n",
       "      <td>201.608696</td>\n",
       "      <td>131.0</td>\n",
       "      <td>267.521739</td>\n",
       "      <td>162</td>\n",
       "      <td>13.681797</td>\n",
       "      <td>12.653609</td>\n",
       "      <td>4.091174</td>\n",
       "      <td>0.005666</td>\n",
       "      <td>3.126565</td>\n",
       "      <td>0.011785</td>\n",
       "      <td>-1</td>\n",
       "      <td>5</td>\n",
       "      <td>18</td>\n",
       "      <td>-1</td>\n",
       "      <td>3</td>\n",
       "      <td>-1</td>\n",
       "      <td>-1</td>\n",
       "      <td>-1</td>\n",
       "    </tr>\n",
       "    <tr>\n",
       "      <th>46</th>\n",
       "      <td>532</td>\n",
       "      <td>49.962226</td>\n",
       "      <td>46.446985</td>\n",
       "      <td>1</td>\n",
       "      <td>0</td>\n",
       "      <td>0</td>\n",
       "      <td>1</td>\n",
       "      <td>231</td>\n",
       "      <td>5.446737</td>\n",
       "      <td>1263</td>\n",
       "      <td>1259</td>\n",
       "      <td>1.260768</td>\n",
       "      <td>229.750000</td>\n",
       "      <td>248.5</td>\n",
       "      <td>226.750000</td>\n",
       "      <td>244</td>\n",
       "      <td>27.052031</td>\n",
       "      <td>24.186022</td>\n",
       "      <td>9.591791</td>\n",
       "      <td>2.893874</td>\n",
       "      <td>10.221285</td>\n",
       "      <td>1.385243</td>\n",
       "      <td>-1</td>\n",
       "      <td>-1</td>\n",
       "      <td>13</td>\n",
       "      <td>-1</td>\n",
       "      <td>11</td>\n",
       "      <td>-1</td>\n",
       "      <td>-1</td>\n",
       "      <td>-1</td>\n",
       "    </tr>\n",
       "    <tr>\n",
       "      <th>47</th>\n",
       "      <td>532</td>\n",
       "      <td>55.749975</td>\n",
       "      <td>49.238346</td>\n",
       "      <td>1</td>\n",
       "      <td>0</td>\n",
       "      <td>0</td>\n",
       "      <td>2</td>\n",
       "      <td>-201</td>\n",
       "      <td>5.308268</td>\n",
       "      <td>1002</td>\n",
       "      <td>1005</td>\n",
       "      <td>1.260768</td>\n",
       "      <td>31.250000</td>\n",
       "      <td>12.5</td>\n",
       "      <td>27.250000</td>\n",
       "      <td>10</td>\n",
       "      <td>27.052031</td>\n",
       "      <td>24.186022</td>\n",
       "      <td>15.379540</td>\n",
       "      <td>2.893874</td>\n",
       "      <td>13.012646</td>\n",
       "      <td>1.406119</td>\n",
       "      <td>-1</td>\n",
       "      <td>6</td>\n",
       "      <td>-1</td>\n",
       "      <td>-1</td>\n",
       "      <td>12</td>\n",
       "      <td>-1</td>\n",
       "      <td>-1</td>\n",
       "      <td>-1</td>\n",
       "    </tr>\n",
       "    <tr>\n",
       "      <th>48</th>\n",
       "      <td>532</td>\n",
       "      <td>0.000000</td>\n",
       "      <td>0.000000</td>\n",
       "      <td>0</td>\n",
       "      <td>1</td>\n",
       "      <td>0</td>\n",
       "      <td>9</td>\n",
       "      <td>79</td>\n",
       "      <td>4.382027</td>\n",
       "      <td>1027</td>\n",
       "      <td>1025</td>\n",
       "      <td>1.260768</td>\n",
       "      <td>6.250000</td>\n",
       "      <td>12.5</td>\n",
       "      <td>7.250000</td>\n",
       "      <td>10</td>\n",
       "      <td>27.052031</td>\n",
       "      <td>24.186022</td>\n",
       "      <td>40.370435</td>\n",
       "      <td>52.856100</td>\n",
       "      <td>36.225700</td>\n",
       "      <td>47.832227</td>\n",
       "      <td>0</td>\n",
       "      <td>0</td>\n",
       "      <td>-1</td>\n",
       "      <td>-1</td>\n",
       "      <td>12</td>\n",
       "      <td>-1</td>\n",
       "      <td>-1</td>\n",
       "      <td>-1</td>\n",
       "    </tr>\n",
       "    <tr>\n",
       "      <th>49</th>\n",
       "      <td>532</td>\n",
       "      <td>55.769538</td>\n",
       "      <td>49.217470</td>\n",
       "      <td>1</td>\n",
       "      <td>0</td>\n",
       "      <td>0</td>\n",
       "      <td>2</td>\n",
       "      <td>14</td>\n",
       "      <td>2.708050</td>\n",
       "      <td>841</td>\n",
       "      <td>840</td>\n",
       "      <td>1.260768</td>\n",
       "      <td>192.250000</td>\n",
       "      <td>173.5</td>\n",
       "      <td>192.250000</td>\n",
       "      <td>175</td>\n",
       "      <td>27.052031</td>\n",
       "      <td>24.186022</td>\n",
       "      <td>15.399104</td>\n",
       "      <td>2.913438</td>\n",
       "      <td>12.991770</td>\n",
       "      <td>1.385243</td>\n",
       "      <td>-1</td>\n",
       "      <td>6</td>\n",
       "      <td>13</td>\n",
       "      <td>-1</td>\n",
       "      <td>-1</td>\n",
       "      <td>-1</td>\n",
       "      <td>-1</td>\n",
       "      <td>-1</td>\n",
       "    </tr>\n",
       "  </tbody>\n",
       "</table>\n",
       "</div>"
      ],
      "text/plain": [
       "    merchant_id   latitude  longitude  is_in_rec  is_trash  is_mosk  \\\n",
       "45          505  64.554149  40.554496          1         0        0   \n",
       "46          532  49.962226  46.446985          1         0        0   \n",
       "47          532  55.749975  49.238346          1         0        0   \n",
       "48          532   0.000000   0.000000          0         1        0   \n",
       "49          532  55.769538  49.217470          1         0        0   \n",
       "\n",
       "    city_count_enc  time_delta  time_log_delta  time1  time2  time_std_delta  \\\n",
       "45              18        -161        5.087596   1192   1195        1.531281   \n",
       "46               1         231        5.446737   1263   1259        1.260768   \n",
       "47               2        -201        5.308268   1002   1005        1.260768   \n",
       "48               9          79        4.382027   1027   1025        1.260768   \n",
       "49               2          14        2.708050    841    840        1.260768   \n",
       "\n",
       "    time_dist_to_mean_1  time_dist_to_median_1  time_dist_to_mean_2  \\\n",
       "45           201.608696                  131.0           267.521739   \n",
       "46           229.750000                  248.5           226.750000   \n",
       "47            31.250000                   12.5            27.250000   \n",
       "48             6.250000                   12.5             7.250000   \n",
       "49           192.250000                  173.5           192.250000   \n",
       "\n",
       "    time_dist_to_median_2  dist_lat_std  dist_lon_std  dist_to_mean_lat  \\\n",
       "45                    162     13.681797     12.653609          4.091174   \n",
       "46                    244     27.052031     24.186022          9.591791   \n",
       "47                     10     27.052031     24.186022         15.379540   \n",
       "48                     10     27.052031     24.186022         40.370435   \n",
       "49                    175     27.052031     24.186022         15.399104   \n",
       "\n",
       "    dist_to_median_lat  dist_to_mean_lon  dist_to_median_lon  labels_lat_lon  \\\n",
       "45            0.005666          3.126565            0.011785              -1   \n",
       "46            2.893874         10.221285            1.385243              -1   \n",
       "47            2.893874         13.012646            1.406119              -1   \n",
       "48           52.856100         36.225700           47.832227               0   \n",
       "49            2.913438         12.991770            1.385243              -1   \n",
       "\n",
       "    labels_lat_lon_2  labels_shlack  labels_time_0.1  labels_time_0.3  \\\n",
       "45                 5             18               -1                3   \n",
       "46                -1             13               -1               11   \n",
       "47                 6             -1               -1               12   \n",
       "48                 0             -1               -1               12   \n",
       "49                 6             13               -1               -1   \n",
       "\n",
       "    labels_time_0.05  labels_dist_0.1  labels_dist_0.3  \n",
       "45                -1               -1               -1  \n",
       "46                -1               -1               -1  \n",
       "47                -1               -1               -1  \n",
       "48                -1               -1               -1  \n",
       "49                -1               -1               -1  "
      ]
     },
     "execution_count": 25,
     "metadata": {},
     "output_type": "execute_result"
    }
   ],
   "source": [
    "tr.tail()"
   ]
  },
  {
   "cell_type": "code",
   "execution_count": 26,
   "metadata": {
    "collapsed": false
   },
   "outputs": [
    {
     "data": {
      "text/html": [
       "<div>\n",
       "<table border=\"1\" class=\"dataframe\">\n",
       "  <thead>\n",
       "    <tr style=\"text-align: right;\">\n",
       "      <th></th>\n",
       "      <th>merchant_id</th>\n",
       "      <th>latitude</th>\n",
       "      <th>longitude</th>\n",
       "      <th>is_in_rec</th>\n",
       "      <th>is_trash</th>\n",
       "      <th>is_mosk</th>\n",
       "      <th>city_count_enc</th>\n",
       "      <th>time_delta</th>\n",
       "      <th>time_log_delta</th>\n",
       "      <th>time1</th>\n",
       "      <th>time2</th>\n",
       "      <th>time_std_delta</th>\n",
       "      <th>time_dist_to_mean_1</th>\n",
       "      <th>time_dist_to_median_1</th>\n",
       "      <th>time_dist_to_mean_2</th>\n",
       "      <th>time_dist_to_median_2</th>\n",
       "      <th>dist_lat_std</th>\n",
       "      <th>dist_lon_std</th>\n",
       "      <th>dist_to_mean_lat</th>\n",
       "      <th>dist_to_median_lat</th>\n",
       "      <th>dist_to_mean_lon</th>\n",
       "      <th>dist_to_median_lon</th>\n",
       "      <th>labels_lat_lon</th>\n",
       "      <th>labels_lat_lon_2</th>\n",
       "      <th>labels_shlack</th>\n",
       "      <th>labels_time_0.1</th>\n",
       "      <th>labels_time_0.3</th>\n",
       "      <th>labels_time_0.05</th>\n",
       "      <th>labels_dist_0.1</th>\n",
       "      <th>labels_dist_0.3</th>\n",
       "    </tr>\n",
       "  </thead>\n",
       "  <tbody>\n",
       "    <tr>\n",
       "      <th>0</th>\n",
       "      <td>361</td>\n",
       "      <td>56.827622</td>\n",
       "      <td>60.581082</td>\n",
       "      <td>1</td>\n",
       "      <td>0</td>\n",
       "      <td>0</td>\n",
       "      <td>11</td>\n",
       "      <td>64</td>\n",
       "      <td>4.174387</td>\n",
       "      <td>1260</td>\n",
       "      <td>1259</td>\n",
       "      <td>0.637183</td>\n",
       "      <td>465.411765</td>\n",
       "      <td>518.0</td>\n",
       "      <td>465.470588</td>\n",
       "      <td>513.0</td>\n",
       "      <td>13.748502</td>\n",
       "      <td>21.323447</td>\n",
       "      <td>3.889498</td>\n",
       "      <td>0.005525</td>\n",
       "      <td>3.801884</td>\n",
       "      <td>0.009271</td>\n",
       "      <td>-1</td>\n",
       "      <td>7</td>\n",
       "      <td>11</td>\n",
       "      <td>-1</td>\n",
       "      <td>-1</td>\n",
       "      <td>-1</td>\n",
       "      <td>-1</td>\n",
       "      <td>8</td>\n",
       "    </tr>\n",
       "    <tr>\n",
       "      <th>1</th>\n",
       "      <td>361</td>\n",
       "      <td>55.750347</td>\n",
       "      <td>37.623851</td>\n",
       "      <td>1</td>\n",
       "      <td>0</td>\n",
       "      <td>1</td>\n",
       "      <td>40</td>\n",
       "      <td>295</td>\n",
       "      <td>5.690359</td>\n",
       "      <td>728</td>\n",
       "      <td>723</td>\n",
       "      <td>0.637183</td>\n",
       "      <td>66.588235</td>\n",
       "      <td>14.0</td>\n",
       "      <td>70.529412</td>\n",
       "      <td>23.0</td>\n",
       "      <td>13.748502</td>\n",
       "      <td>21.323447</td>\n",
       "      <td>2.812223</td>\n",
       "      <td>1.071750</td>\n",
       "      <td>19.155347</td>\n",
       "      <td>22.947960</td>\n",
       "      <td>-98</td>\n",
       "      <td>-98</td>\n",
       "      <td>-1</td>\n",
       "      <td>-1</td>\n",
       "      <td>13</td>\n",
       "      <td>-1</td>\n",
       "      <td>10</td>\n",
       "      <td>10</td>\n",
       "    </tr>\n",
       "    <tr>\n",
       "      <th>2</th>\n",
       "      <td>361</td>\n",
       "      <td>55.750347</td>\n",
       "      <td>37.623511</td>\n",
       "      <td>1</td>\n",
       "      <td>0</td>\n",
       "      <td>1</td>\n",
       "      <td>40</td>\n",
       "      <td>-352</td>\n",
       "      <td>5.866468</td>\n",
       "      <td>683</td>\n",
       "      <td>689</td>\n",
       "      <td>0.637183</td>\n",
       "      <td>111.588235</td>\n",
       "      <td>59.0</td>\n",
       "      <td>104.529412</td>\n",
       "      <td>57.0</td>\n",
       "      <td>13.748502</td>\n",
       "      <td>21.323447</td>\n",
       "      <td>2.812223</td>\n",
       "      <td>1.071750</td>\n",
       "      <td>19.155687</td>\n",
       "      <td>22.948300</td>\n",
       "      <td>-98</td>\n",
       "      <td>-98</td>\n",
       "      <td>-1</td>\n",
       "      <td>3</td>\n",
       "      <td>13</td>\n",
       "      <td>-1</td>\n",
       "      <td>10</td>\n",
       "      <td>10</td>\n",
       "    </tr>\n",
       "    <tr>\n",
       "      <th>3</th>\n",
       "      <td>361</td>\n",
       "      <td>56.824988</td>\n",
       "      <td>60.675723</td>\n",
       "      <td>1</td>\n",
       "      <td>0</td>\n",
       "      <td>0</td>\n",
       "      <td>11</td>\n",
       "      <td>401</td>\n",
       "      <td>5.996452</td>\n",
       "      <td>971</td>\n",
       "      <td>965</td>\n",
       "      <td>0.637183</td>\n",
       "      <td>176.411765</td>\n",
       "      <td>229.0</td>\n",
       "      <td>171.470588</td>\n",
       "      <td>219.0</td>\n",
       "      <td>13.748502</td>\n",
       "      <td>21.323447</td>\n",
       "      <td>3.886864</td>\n",
       "      <td>0.002891</td>\n",
       "      <td>3.896525</td>\n",
       "      <td>0.103912</td>\n",
       "      <td>-1</td>\n",
       "      <td>8</td>\n",
       "      <td>11</td>\n",
       "      <td>-1</td>\n",
       "      <td>-1</td>\n",
       "      <td>-1</td>\n",
       "      <td>-1</td>\n",
       "      <td>11</td>\n",
       "    </tr>\n",
       "    <tr>\n",
       "      <th>4</th>\n",
       "      <td>361</td>\n",
       "      <td>56.807831</td>\n",
       "      <td>60.611228</td>\n",
       "      <td>1</td>\n",
       "      <td>0</td>\n",
       "      <td>0</td>\n",
       "      <td>11</td>\n",
       "      <td>-89</td>\n",
       "      <td>4.499810</td>\n",
       "      <td>657</td>\n",
       "      <td>658</td>\n",
       "      <td>0.637183</td>\n",
       "      <td>137.588235</td>\n",
       "      <td>85.0</td>\n",
       "      <td>135.529412</td>\n",
       "      <td>88.0</td>\n",
       "      <td>13.748502</td>\n",
       "      <td>21.323447</td>\n",
       "      <td>3.869707</td>\n",
       "      <td>0.014266</td>\n",
       "      <td>3.832030</td>\n",
       "      <td>0.039417</td>\n",
       "      <td>-1</td>\n",
       "      <td>7</td>\n",
       "      <td>11</td>\n",
       "      <td>-1</td>\n",
       "      <td>14</td>\n",
       "      <td>-1</td>\n",
       "      <td>11</td>\n",
       "      <td>11</td>\n",
       "    </tr>\n",
       "  </tbody>\n",
       "</table>\n",
       "</div>"
      ],
      "text/plain": [
       "   merchant_id   latitude  longitude  is_in_rec  is_trash  is_mosk  \\\n",
       "0          361  56.827622  60.581082          1         0        0   \n",
       "1          361  55.750347  37.623851          1         0        1   \n",
       "2          361  55.750347  37.623511          1         0        1   \n",
       "3          361  56.824988  60.675723          1         0        0   \n",
       "4          361  56.807831  60.611228          1         0        0   \n",
       "\n",
       "   city_count_enc  time_delta  time_log_delta  time1  time2  time_std_delta  \\\n",
       "0              11          64        4.174387   1260   1259        0.637183   \n",
       "1              40         295        5.690359    728    723        0.637183   \n",
       "2              40        -352        5.866468    683    689        0.637183   \n",
       "3              11         401        5.996452    971    965        0.637183   \n",
       "4              11         -89        4.499810    657    658        0.637183   \n",
       "\n",
       "   time_dist_to_mean_1  time_dist_to_median_1  time_dist_to_mean_2  \\\n",
       "0           465.411765                  518.0           465.470588   \n",
       "1            66.588235                   14.0            70.529412   \n",
       "2           111.588235                   59.0           104.529412   \n",
       "3           176.411765                  229.0           171.470588   \n",
       "4           137.588235                   85.0           135.529412   \n",
       "\n",
       "   time_dist_to_median_2  dist_lat_std  dist_lon_std  dist_to_mean_lat  \\\n",
       "0                  513.0     13.748502     21.323447          3.889498   \n",
       "1                   23.0     13.748502     21.323447          2.812223   \n",
       "2                   57.0     13.748502     21.323447          2.812223   \n",
       "3                  219.0     13.748502     21.323447          3.886864   \n",
       "4                   88.0     13.748502     21.323447          3.869707   \n",
       "\n",
       "   dist_to_median_lat  dist_to_mean_lon  dist_to_median_lon  labels_lat_lon  \\\n",
       "0            0.005525          3.801884            0.009271              -1   \n",
       "1            1.071750         19.155347           22.947960             -98   \n",
       "2            1.071750         19.155687           22.948300             -98   \n",
       "3            0.002891          3.896525            0.103912              -1   \n",
       "4            0.014266          3.832030            0.039417              -1   \n",
       "\n",
       "   labels_lat_lon_2  labels_shlack  labels_time_0.1  labels_time_0.3  \\\n",
       "0                 7             11               -1               -1   \n",
       "1               -98             -1               -1               13   \n",
       "2               -98             -1                3               13   \n",
       "3                 8             11               -1               -1   \n",
       "4                 7             11               -1               14   \n",
       "\n",
       "   labels_time_0.05  labels_dist_0.1  labels_dist_0.3  \n",
       "0                -1               -1                8  \n",
       "1                -1               10               10  \n",
       "2                -1               10               10  \n",
       "3                -1               -1               11  \n",
       "4                -1               11               11  "
      ]
     },
     "execution_count": 26,
     "metadata": {},
     "output_type": "execute_result"
    }
   ],
   "source": [
    "ts.head(5)"
   ]
  },
  {
   "cell_type": "code",
   "execution_count": 27,
   "metadata": {
    "collapsed": false,
    "scrolled": true
   },
   "outputs": [
    {
     "data": {
      "text/plain": [
       "(50, 50)"
      ]
     },
     "execution_count": 27,
     "metadata": {},
     "output_type": "execute_result"
    }
   ],
   "source": [
    "tr.shape[0], ts.shape[0]"
   ]
  },
  {
   "cell_type": "raw",
   "metadata": {
    "collapsed": false
   },
   "source": [
    "Thats work; Nice!"
   ]
  },
  {
   "cell_type": "code",
   "execution_count": 28,
   "metadata": {
    "collapsed": true
   },
   "outputs": [],
   "source": [
    "not_ = ['merchant_id', 'latitude', 'longitude',]"
   ]
  },
  {
   "cell_type": "code",
   "execution_count": 29,
   "metadata": {
    "collapsed": true
   },
   "outputs": [],
   "source": [
    "xgb_params = {\n",
    "    'objective': 'binary:logistic',\n",
    "    'max_depth': 10,\n",
    "    'gamma': 0.0,\n",
    "    'eval_metric': 'logloss',\n",
    "    'eta': 0.01,\n",
    "    'booster': 'gbtree',\n",
    "    'seed': 1,\n",
    "    'alpha': 0.1,\n",
    "    'lambda': 1.0,\n",
    "    'colsample_bytree': 0.95,\n",
    "    'subsample': 0.95,\n",
    "    'min_child_weight': 1,\n",
    "    'silent': 1,\n",
    "    'nthread': 10,\n",
    "}\n",
    "\n",
    "num_rounds = 900"
   ]
  },
  {
   "cell_type": "markdown",
   "metadata": {},
   "source": [
    "### CV"
   ]
  },
  {
   "cell_type": "code",
   "execution_count": null,
   "metadata": {
    "collapsed": true
   },
   "outputs": [],
   "source": [
    "cv = LabelShuffleSplit(data_train.merchant_id.values, n_iter=5, test_size=0.3, random_state=0)\n",
    "\n",
    "score = []\n",
    "\n",
    "for train_idx, test_idx in cv:\n",
    "    \n",
    "    X_tr, X_ts, y_train, y_test = prepr_data(data_train.iloc[train_idx], \n",
    "                                             data_train.iloc[test_idx])\n",
    "    \n",
    "    \n",
    "    dtrain = xgb.DMatrix((X_tr.drop(not_, axis=1).values), label=y_train, \n",
    "                         feature_names=X_tr.head().drop(not_, axis=1).columns)\n",
    "    \n",
    "    dtest = xgb.DMatrix((X_ts.drop(not_, axis=1).values), label=y_test, \n",
    "                        feature_names=X_tr.head().drop(not_, axis=1).columns)\n",
    "    \n",
    "    watchlist = [(dtrain, 'train'), (dtest, 'eval')]\n",
    "    gbdt = xgb.train(xgb_params, dtrain,\n",
    "                     num_rounds, watchlist,\n",
    "                     early_stopping_rounds=None,\n",
    "                     verbose_eval=150,)\n",
    "                     #evals_result=eval_res[-1])\n",
    "    \n",
    "    plt.figure()\n",
    "    xgb.plot_importance(gbdt)\n",
    "    \n",
    "    ans = X_ts[['merchant_id', 'latitude', 'longitude']].copy()\n",
    "    ans['probs'] = gbdt.predict(dtest)\n",
    "    ans['pred_ans'] = 0\n",
    "    ans = ans.reset_index()\n",
    "    idx = ans.groupby('merchant_id')['probs'].apply(np.argmax).reset_index()['probs']\n",
    "    ans.loc[idx, 'pred_ans'] = 1 # тут предикшн готов.\n",
    "    \n",
    "    ans['real'] = y_test\n",
    "   \n",
    "    score.append(ans[ans.pred_ans==1].real.mean())\n",
    "    print (score[-1])\n",
    "print (np.mean(score), '±', np.std(score))"
   ]
  },
  {
   "cell_type": "code",
   "execution_count": 37,
   "metadata": {
    "collapsed": false,
    "scrolled": true
   },
   "outputs": [
    {
     "name": "stdout",
     "output_type": "stream",
     "text": [
      "0.296452442159 ± 0.01090943935\n"
     ]
    }
   ],
   "source": [
    "print (np.mean(score), '±', np.std(score))"
   ]
  },
  {
   "cell_type": "markdown",
   "metadata": {
    "collapsed": true
   },
   "source": [
    "### Prepare Submission"
   ]
  },
  {
   "cell_type": "code",
   "execution_count": null,
   "metadata": {
    "collapsed": false
   },
   "outputs": [],
   "source": [
    "%%time\n",
    "\n",
    "X_tr, X_ts, y_train, y_test = prepr_data(data_train, data_test)\n",
    "\n",
    "dtrain = xgb.DMatrix(X_tr.drop(not_, axis=1).values, label=y_train, \n",
    "                     feature_names=X_tr.drop(not_, axis=1).columns)\n",
    "\n",
    "dtest = xgb.DMatrix(X_ts.drop(not_, axis=1).values, feature_names=X_tr.drop(not_, axis=1).columns)\n",
    "\n",
    "gbdt = xgb.train(xgb_params, dtrain,\n",
    "                 num_rounds,\n",
    "                 early_stopping_rounds=None)\n",
    "\n",
    "ans = X_ts[['merchant_id', 'latitude', 'longitude']].copy()\n",
    "ans['probs'] = gbdt.predict(dtest)\n",
    "ans['pred_ans'] = 0\n",
    "ans = ans.reset_index()\n",
    "idx = ans.groupby('merchant_id')['probs'].apply(np.argmax).reset_index()['probs']\n",
    "ans.loc[idx, 'pred_ans'] = 1 # тут предикшн готов.\n"
   ]
  },
  {
   "cell_type": "code",
   "execution_count": null,
   "metadata": {
    "collapsed": true
   },
   "outputs": [],
   "source": [
    "ans = ans[ans.pred_ans==1][['merchant_id','latitude', 'longitude']]"
   ]
  },
  {
   "cell_type": "raw",
   "metadata": {},
   "source": [
    "for i in hmmmm:\n",
    "    ans.append([i, 57, 35])"
   ]
  },
  {
   "cell_type": "code",
   "execution_count": null,
   "metadata": {
    "collapsed": false
   },
   "outputs": [],
   "source": [
    "assert ans.shape[0] == len(data_test.merchant_id.unique())"
   ]
  },
  {
   "cell_type": "code",
   "execution_count": null,
   "metadata": {
    "collapsed": true
   },
   "outputs": [],
   "source": []
  },
  {
   "cell_type": "code",
   "execution_count": null,
   "metadata": {
    "collapsed": true
   },
   "outputs": [],
   "source": [
    "ans.columns= ['_ID_','_LAT_','_LON_']\n",
    "ans.to_csv('ans_pred_xgb_'+str(datetime.now())[:19]+'_.csv', index=False)"
   ]
  },
  {
   "cell_type": "code",
   "execution_count": 38,
   "metadata": {
    "collapsed": false
   },
   "outputs": [
    {
     "data": {
      "text/html": [
       "<div>\n",
       "<table border=\"1\" class=\"dataframe\">\n",
       "  <thead>\n",
       "    <tr style=\"text-align: right;\">\n",
       "      <th></th>\n",
       "      <th>_ID_</th>\n",
       "      <th>_LAT_</th>\n",
       "      <th>_LON_</th>\n",
       "    </tr>\n",
       "  </thead>\n",
       "  <tbody>\n",
       "    <tr>\n",
       "      <th>0</th>\n",
       "      <td>361</td>\n",
       "      <td>56.827622</td>\n",
       "      <td>60.581082</td>\n",
       "    </tr>\n",
       "    <tr>\n",
       "      <th>20</th>\n",
       "      <td>428</td>\n",
       "      <td>55.690315</td>\n",
       "      <td>37.604719</td>\n",
       "    </tr>\n",
       "    <tr>\n",
       "      <th>23</th>\n",
       "      <td>490</td>\n",
       "      <td>59.875699</td>\n",
       "      <td>30.361785</td>\n",
       "    </tr>\n",
       "    <tr>\n",
       "      <th>40</th>\n",
       "      <td>1175</td>\n",
       "      <td>55.743663</td>\n",
       "      <td>37.565374</td>\n",
       "    </tr>\n",
       "    <tr>\n",
       "      <th>49</th>\n",
       "      <td>1239</td>\n",
       "      <td>55.800972</td>\n",
       "      <td>37.543166</td>\n",
       "    </tr>\n",
       "  </tbody>\n",
       "</table>\n",
       "</div>"
      ],
      "text/plain": [
       "    _ID_      _LAT_      _LON_\n",
       "0    361  56.827622  60.581082\n",
       "20   428  55.690315  37.604719\n",
       "23   490  59.875699  30.361785\n",
       "40  1175  55.743663  37.565374\n",
       "49  1239  55.800972  37.543166"
      ]
     },
     "execution_count": 38,
     "metadata": {},
     "output_type": "execute_result"
    }
   ],
   "source": [
    "ans.head()"
   ]
  },
  {
   "cell_type": "code",
   "execution_count": null,
   "metadata": {
    "collapsed": false
   },
   "outputs": [],
   "source": []
  },
  {
   "cell_type": "code",
   "execution_count": null,
   "metadata": {
    "collapsed": true
   },
   "outputs": [],
   "source": [
    "# TODO\n",
    "\n",
    "- удалять нули из тестовой выборки - если там есть другие записи кроме нулей\n",
    "\n",
    "- почистить хорошенько выбросы и разные популярные координаты\n",
    "\n",
    "- посмотреть глазами\n",
    " \n",
    "- данные из трейна которые не этого мерчанта - посмотреть сколько в окрестности"
   ]
  },
  {
   "cell_type": "code",
   "execution_count": null,
   "metadata": {
    "collapsed": true
   },
   "outputs": [],
   "source": [
    "Стырил но так и не попробовал\n",
    "\n",
    "-Feature 1: Distances to nearest neighbours of each classes\n",
    "-Feature 2: Sum of distances of 2 nearest neighbours of each classes\n",
    "-Feature 3: Sum of distances of 4 nearest neighbours of each classes\n",
    "-Feature 4: Distances to nearest neighbours of each classes in TFIDF space\n",
    "-Feature 5: Distances to nearest neighbours of each classed in T-SNE space (3 dimensions)\n",
    "-Feature 6: Clustering features of original dataset\n",
    "-Feature 7: Number of non-zeros elements in each row\n",
    "\n",
    "\n",
    "-Model 22: KNN on features X + int(X == 0)\n",
    "-Model 23: KNN on features X + int(X == 0) + log(X + 1)\n",
    "-Model 24: KNN on raw with 2 neighbours\n",
    "-Model 25: KNN on raw with 4 neighbours\n",
    "-Model 26: KNN on raw with 8 neighbours\n",
    "-Model 27: KNN on raw with 16 neighbours\n",
    "-Model 28: KNN on raw with 32 neighbours\n",
    "-Model 29: KNN on raw with 64 neighbours\n",
    "-Model 30: KNN on raw with 128 neighbours\n",
    "-Model 31: KNN on raw with 256 neighbours\n",
    "-Model 32: KNN on raw with 512 neighbours\n",
    "\n",
    "первый уровень - модели и признаки\n",
    "второй уровень модели\n",
    "третий уровень смесь моделей \n",
    "\n",
    "я еще никогда так не делал\n",
    "\n",
    "\n",
    "Probably the main insight was that KNN is capable of making very good metafeatures. \n",
    "Never underestimate nearest neighbours algorithm.\n",
    "\n",
    "http://blog.kaggle.com/2015/06/09/otto-product-classification-winners-interview-2nd-place-alexander-guschin/\n",
    "\n"
   ]
  }
 ],
 "metadata": {
  "kernelspec": {
   "display_name": "Python 3",
   "language": "python",
   "name": "python3"
  },
  "language_info": {
   "codemirror_mode": {
    "name": "ipython",
    "version": 3
   },
   "file_extension": ".py",
   "mimetype": "text/x-python",
   "name": "python",
   "nbconvert_exporter": "python",
   "pygments_lexer": "ipython3",
   "version": "3.4.3"
  }
 },
 "nbformat": 4,
 "nbformat_minor": 0
}
