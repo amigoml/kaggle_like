{
 "cells": [
  {
   "cell_type": "code",
   "execution_count": 1,
   "metadata": {
    "collapsed": true
   },
   "outputs": [],
   "source": [
    "import matplotlib.pyplot as plt\n",
    "import pandas as pd\n",
    "import numpy as np\n",
    "%matplotlib inline \n"
   ]
  },
  {
   "cell_type": "code",
   "execution_count": 2,
   "metadata": {
    "collapsed": false
   },
   "outputs": [],
   "source": [
    "train=pd.read_csv('./x_train.csv', header=None )#, na_values='?')\n",
    "train_y=pd.read_csv('./y_train.csv', header=None)"
   ]
  },
  {
   "cell_type": "code",
   "execution_count": null,
   "metadata": {
    "collapsed": true
   },
   "outputs": [],
   "source": []
  },
  {
   "cell_type": "code",
   "execution_count": 3,
   "metadata": {
    "collapsed": true
   },
   "outputs": [],
   "source": [
    "n=train.columns.values\n",
    "\n",
    "for i in n:\n",
    "    for j in n:\n",
    "        if i!=j:\n",
    "            train[str(i)+'&'+str(j)]=train[i]*train[j]\n",
    "            k=train[i]+train[j]\n",
    "            k[k>0]=1\n",
    "            train[str(i)+'|'+str(j)]=k\n",
    "            "
   ]
  },
  {
   "cell_type": "code",
   "execution_count": 4,
   "metadata": {
    "collapsed": false
   },
   "outputs": [],
   "source": [
    "import seaborn as sns\n",
    "train['target']=train_y[0]\n"
   ]
  },
  {
   "cell_type": "code",
   "execution_count": 134,
   "metadata": {
    "collapsed": false
   },
   "outputs": [
    {
     "data": {
      "text/plain": [
       "<seaborn.axisgrid.PairGrid at 0x13188c490>"
      ]
     },
     "execution_count": 134,
     "metadata": {},
     "output_type": "execute_result"
    },
    {
     "data": {
      "image/png": "[encoded data removed]",
      "text/plain": [
       "<matplotlib.figure.Figure at 0x13188c590>"
      ]
     },
     "metadata": {},
     "output_type": "display_data"
    }
   ],
   "source": [
    "sns.pairplot(train,hue='target',vars=[0,2])"
   ]
  },
  {
   "cell_type": "code",
   "execution_count": 5,
   "metadata": {
    "collapsed": false
   },
   "outputs": [],
   "source": [
    "dt=train.copy()"
   ]
  },
  {
   "cell_type": "code",
   "execution_count": null,
   "metadata": {
    "collapsed": false
   },
   "outputs": [],
   "source": []
  },
  {
   "cell_type": "markdown",
   "metadata": {},
   "source": [
    "### создадим себе выборки хорошие для тренировок"
   ]
  },
  {
   "cell_type": "code",
   "execution_count": 6,
   "metadata": {
    "collapsed": false
   },
   "outputs": [
    {
     "name": "stdout",
     "output_type": "stream",
     "text": [
      "(210,)\n",
      "(1770, 210)\n"
     ]
    }
   ],
   "source": [
    "y=np.hstack(np.array([dt['target'].values.astype(int)]))\n",
    "print y.shape\n",
    "\n",
    "n=list(dt.columns.values)\n",
    "n=n[:n.index('target')]+n[n.index('target')+1:]\n",
    "\n",
    "x= np.vstack([np.array(dt[n[0]].values)])\n",
    "for i in n[1:]:\n",
    "    x=np.append(x, np.vstack([np.array(dt[i].values)]),axis=0)\n",
    "print x.shape\n",
    "x=x.T"
   ]
  },
  {
   "cell_type": "code",
   "execution_count": null,
   "metadata": {
    "collapsed": false
   },
   "outputs": [],
   "source": []
  },
  {
   "cell_type": "code",
   "execution_count": null,
   "metadata": {
    "collapsed": true
   },
   "outputs": [],
   "source": []
  },
  {
   "cell_type": "code",
   "execution_count": 7,
   "metadata": {
    "collapsed": true
   },
   "outputs": [],
   "source": [
    "x_scaled=x"
   ]
  },
  {
   "cell_type": "code",
   "execution_count": 8,
   "metadata": {
    "collapsed": true
   },
   "outputs": [],
   "source": [
    "from sklearn import grid_search\n",
    "from sklearn.cross_validation import cross_val_score\n",
    "\n",
    "from sklearn.tree import DecisionTreeClassifier\n",
    "from sklearn.ensemble import RandomForestClassifier\n",
    "from sklearn.linear_model import LogisticRegression\n",
    "from sklearn.neighbors import KNeighborsClassifier\n",
    "from sklearn import svm\n",
    "\n",
    "from sklearn.naive_bayes import BernoulliNB"
   ]
  },
  {
   "cell_type": "markdown",
   "metadata": {},
   "source": [
    "## Random Forest"
   ]
  },
  {
   "cell_type": "code",
   "execution_count": 143,
   "metadata": {
    "collapsed": false
   },
   "outputs": [],
   "source": [
    "params_rf = {'n_estimators':[200,250,300,500], 'random_state':[1,2] , 'min_samples_leaf':[1,3]}\n",
    "rf = RandomForestClassifier(n_jobs=2)"
   ]
  },
  {
   "cell_type": "code",
   "execution_count": 144,
   "metadata": {
    "collapsed": true
   },
   "outputs": [],
   "source": [
    "rf_gs=grid_search.GridSearchCV(rf,params_rf, scoring='accuracy')"
   ]
  },
  {
   "cell_type": "code",
   "execution_count": 145,
   "metadata": {
    "collapsed": false
   },
   "outputs": [
    {
     "data": {
      "text/plain": [
       "GridSearchCV(cv=None, error_score='raise',\n",
       "       estimator=RandomForestClassifier(bootstrap=True, class_weight=None, criterion='gini',\n",
       "            max_depth=None, max_features='auto', max_leaf_nodes=None,\n",
       "            min_samples_leaf=1, min_samples_split=2,\n",
       "            min_weight_fraction_leaf=0.0, n_estimators=10, n_jobs=2,\n",
       "            oob_score=False, random_state=None, verbose=0,\n",
       "            warm_start=False),\n",
       "       fit_params={}, iid=True, loss_func=None, n_jobs=1,\n",
       "       param_grid={'n_estimators': [200, 250, 300, 500], 'random_state': [1, 2], 'min_samples_leaf': [1, 3]},\n",
       "       pre_dispatch='2*n_jobs', refit=True, score_func=None,\n",
       "       scoring='accuracy', verbose=0)"
      ]
     },
     "execution_count": 145,
     "metadata": {},
     "output_type": "execute_result"
    }
   ],
   "source": [
    "rf_gs.fit(x_scaled,y)"
   ]
  },
  {
   "cell_type": "code",
   "execution_count": 146,
   "metadata": {
    "collapsed": false
   },
   "outputs": [
    {
     "name": "stdout",
     "output_type": "stream",
     "text": [
      "0.47619047619\n",
      "{'n_estimators': 200, 'random_state': 2, 'min_samples_leaf': 1}\n"
     ]
    }
   ],
   "source": [
    "print rf_gs.best_score_\n",
    "print rf_gs.best_params_"
   ]
  },
  {
   "cell_type": "code",
   "execution_count": null,
   "metadata": {
    "collapsed": false
   },
   "outputs": [],
   "source": []
  },
  {
   "cell_type": "code",
   "execution_count": 100,
   "metadata": {
    "collapsed": false
   },
   "outputs": [
    {
     "name": "stdout",
     "output_type": "stream",
     "text": [
      "0.456301218162\n"
     ]
    }
   ],
   "source": [
    "a=cross_val_score(RandomForestClassifier(n_jobs=2, n_estimators=200, random_state=2, bootstrap=True, class_weight=None, criterion='gini', max_depth=None, max_features='auto', max_leaf_nodes=None,\n",
    "            min_samples_leaf=1, min_samples_split=2,\n",
    "            min_weight_fraction_leaf=0.0, oob_score=False, verbose=0, warm_start=False), x_scaled, y, cv=5, scoring='accuracy')\n",
    "print np.mean(a)"
   ]
  },
  {
   "cell_type": "code",
   "execution_count": 147,
   "metadata": {
    "collapsed": false
   },
   "outputs": [
    {
     "data": {
      "text/plain": [
       "RandomForestClassifier(bootstrap=True, class_weight=None, criterion='gini',\n",
       "            max_depth=None, max_features='auto', max_leaf_nodes=None,\n",
       "            min_samples_leaf=1, min_samples_split=2,\n",
       "            min_weight_fraction_leaf=0.0, n_estimators=200, n_jobs=2,\n",
       "            oob_score=False, random_state=2, verbose=0, warm_start=False)"
      ]
     },
     "execution_count": 147,
     "metadata": {},
     "output_type": "execute_result"
    }
   ],
   "source": [
    "rf = RandomForestClassifier(n_jobs=2,n_estimators=200,random_state=2,min_samples_leaf=1)\n",
    "rf.fit(x_scaled,y)"
   ]
  },
  {
   "cell_type": "code",
   "execution_count": 102,
   "metadata": {
    "collapsed": false
   },
   "outputs": [
    {
     "name": "stdout",
     "output_type": "stream",
     "text": [
      "18&19 0.00352857663045\n",
      "28&27 0.00289384532473\n",
      "27&21 0.00239106148303\n",
      "20&21 0.00228879397187\n",
      "12|22 0.00228531817487\n",
      "14|12 0.0022413547626\n",
      "27&28 0.00219380254253\n",
      "26&6 0.00217216068119\n",
      "12|14 0.00211770182137\n",
      "0|20 0.00185875299907\n",
      "12|6 0.00182087252061\n",
      "16&19 0.00181888550858\n",
      "3&19 0.00178808862892\n",
      "14|4 0.00174492263776\n",
      "6|28 0.00172699263748\n",
      "20|13 0.0017216402626\n",
      "12&19 0.00168113834248\n",
      "14&1 0.00166912281704\n",
      "1|12 0.00164358892077\n",
      "17|12 0.00161874672292\n",
      "1|6 0.0016156668049\n",
      "0 0.00161223661861\n",
      "14|15 0.00160975965502\n",
      "16&28 0.0016058793449\n",
      "26&13 0.00160357358591\n",
      "21&19"
     ]
    },
    {
     "ename": "KeyboardInterrupt",
     "evalue": "",
     "output_type": "error",
     "traceback": [
      "\u001b[0;31m---------------------------------------------------------------------------\u001b[0m",
      "\u001b[0;31mKeyboardInterrupt\u001b[0m                         Traceback (most recent call last)",
      "\u001b[0;32m<ipython-input-102-f13cb15f2902>\u001b[0m in \u001b[0;36m<module>\u001b[0;34m()\u001b[0m\n\u001b[1;32m      2\u001b[0m \u001b[0;34m\u001b[0m\u001b[0m\n\u001b[1;32m      3\u001b[0m \u001b[0;32mfor\u001b[0m \u001b[0mi\u001b[0m \u001b[0;32min\u001b[0m \u001b[0mindexes\u001b[0m\u001b[0;34m[\u001b[0m\u001b[0;34m:\u001b[0m\u001b[0;34m:\u001b[0m\u001b[0;34m-\u001b[0m\u001b[0;36m1\u001b[0m\u001b[0;34m]\u001b[0m\u001b[0;34m:\u001b[0m\u001b[0;34m\u001b[0m\u001b[0m\n\u001b[0;32m----> 4\u001b[0;31m     \u001b[0;32mprint\u001b[0m \u001b[0mtrain\u001b[0m\u001b[0;34m.\u001b[0m\u001b[0mcolumns\u001b[0m\u001b[0;34m.\u001b[0m\u001b[0mvalues\u001b[0m\u001b[0;34m[\u001b[0m\u001b[0mi\u001b[0m\u001b[0;34m]\u001b[0m\u001b[0;34m,\u001b[0m \u001b[0mrf\u001b[0m\u001b[0;34m.\u001b[0m\u001b[0mfeature_importances_\u001b[0m\u001b[0;34m[\u001b[0m\u001b[0mi\u001b[0m\u001b[0;34m]\u001b[0m\u001b[0;34m\u001b[0m\u001b[0m\n\u001b[0m",
      "\u001b[0;32m/usr/local/lib/python2.7/site-packages/sklearn/ensemble/forest.pyc\u001b[0m in \u001b[0;36mfeature_importances_\u001b[0;34m(self)\u001b[0m\n\u001b[1;32m    311\u001b[0m         all_importances = Parallel(n_jobs=self.n_jobs, backend=\"threading\")(\n\u001b[1;32m    312\u001b[0m             \u001b[0mdelayed\u001b[0m\u001b[0;34m(\u001b[0m\u001b[0mgetattr\u001b[0m\u001b[0;34m)\u001b[0m\u001b[0;34m(\u001b[0m\u001b[0mtree\u001b[0m\u001b[0;34m,\u001b[0m \u001b[0;34m'feature_importances_'\u001b[0m\u001b[0;34m)\u001b[0m\u001b[0;34m\u001b[0m\u001b[0m\n\u001b[0;32m--> 313\u001b[0;31m             for tree in self.estimators_)\n\u001b[0m\u001b[1;32m    314\u001b[0m \u001b[0;34m\u001b[0m\u001b[0m\n\u001b[1;32m    315\u001b[0m         \u001b[0;32mreturn\u001b[0m \u001b[0msum\u001b[0m\u001b[0;34m(\u001b[0m\u001b[0mall_importances\u001b[0m\u001b[0;34m)\u001b[0m \u001b[0;34m/\u001b[0m \u001b[0mlen\u001b[0m\u001b[0;34m(\u001b[0m\u001b[0mself\u001b[0m\u001b[0;34m.\u001b[0m\u001b[0mestimators_\u001b[0m\u001b[0;34m)\u001b[0m\u001b[0;34m\u001b[0m\u001b[0m\n",
      "\u001b[0;32m/usr/local/lib/python2.7/site-packages/sklearn/externals/joblib/parallel.pyc\u001b[0m in \u001b[0;36m__call__\u001b[0;34m(self, iterable)\u001b[0m\n\u001b[1;32m    656\u001b[0m                 \u001b[0mos\u001b[0m\u001b[0;34m.\u001b[0m\u001b[0menviron\u001b[0m\u001b[0;34m[\u001b[0m\u001b[0mJOBLIB_SPAWNED_PROCESS\u001b[0m\u001b[0;34m]\u001b[0m \u001b[0;34m=\u001b[0m \u001b[0;34m'1'\u001b[0m\u001b[0;34m\u001b[0m\u001b[0m\n\u001b[1;32m    657\u001b[0m             \u001b[0mself\u001b[0m\u001b[0;34m.\u001b[0m\u001b[0m_iterating\u001b[0m \u001b[0;34m=\u001b[0m \u001b[0mTrue\u001b[0m\u001b[0;34m\u001b[0m\u001b[0m\n\u001b[0;32m--> 658\u001b[0;31m             \u001b[0;32mfor\u001b[0m \u001b[0mfunction\u001b[0m\u001b[0;34m,\u001b[0m \u001b[0margs\u001b[0m\u001b[0;34m,\u001b[0m \u001b[0mkwargs\u001b[0m \u001b[0;32min\u001b[0m \u001b[0miterable\u001b[0m\u001b[0;34m:\u001b[0m\u001b[0;34m\u001b[0m\u001b[0m\n\u001b[0m\u001b[1;32m    659\u001b[0m                 \u001b[0mself\u001b[0m\u001b[0;34m.\u001b[0m\u001b[0mdispatch\u001b[0m\u001b[0;34m(\u001b[0m\u001b[0mfunction\u001b[0m\u001b[0;34m,\u001b[0m \u001b[0margs\u001b[0m\u001b[0;34m,\u001b[0m \u001b[0mkwargs\u001b[0m\u001b[0;34m)\u001b[0m\u001b[0;34m\u001b[0m\u001b[0m\n\u001b[1;32m    660\u001b[0m \u001b[0;34m\u001b[0m\u001b[0m\n",
      "\u001b[0;32m/usr/local/lib/python2.7/site-packages/sklearn/ensemble/forest.pyc\u001b[0m in \u001b[0;36m<genexpr>\u001b[0;34m((tree,))\u001b[0m\n\u001b[1;32m    311\u001b[0m         all_importances = Parallel(n_jobs=self.n_jobs, backend=\"threading\")(\n\u001b[1;32m    312\u001b[0m             \u001b[0mdelayed\u001b[0m\u001b[0;34m(\u001b[0m\u001b[0mgetattr\u001b[0m\u001b[0;34m)\u001b[0m\u001b[0;34m(\u001b[0m\u001b[0mtree\u001b[0m\u001b[0;34m,\u001b[0m \u001b[0;34m'feature_importances_'\u001b[0m\u001b[0;34m)\u001b[0m\u001b[0;34m\u001b[0m\u001b[0m\n\u001b[0;32m--> 313\u001b[0;31m             for tree in self.estimators_)\n\u001b[0m\u001b[1;32m    314\u001b[0m \u001b[0;34m\u001b[0m\u001b[0m\n\u001b[1;32m    315\u001b[0m         \u001b[0;32mreturn\u001b[0m \u001b[0msum\u001b[0m\u001b[0;34m(\u001b[0m\u001b[0mall_importances\u001b[0m\u001b[0;34m)\u001b[0m \u001b[0;34m/\u001b[0m \u001b[0mlen\u001b[0m\u001b[0;34m(\u001b[0m\u001b[0mself\u001b[0m\u001b[0;34m.\u001b[0m\u001b[0mestimators_\u001b[0m\u001b[0;34m)\u001b[0m\u001b[0;34m\u001b[0m\u001b[0m\n",
      "\u001b[0;32m/usr/local/lib/python2.7/site-packages/sklearn/externals/joblib/parallel.pyc\u001b[0m in \u001b[0;36mdelayed\u001b[0;34m(function, check_pickle)\u001b[0m\n\u001b[1;32m    125\u001b[0m         \u001b[0;32mreturn\u001b[0m \u001b[0mfunction\u001b[0m\u001b[0;34m,\u001b[0m \u001b[0margs\u001b[0m\u001b[0;34m,\u001b[0m \u001b[0mkwargs\u001b[0m\u001b[0;34m\u001b[0m\u001b[0m\n\u001b[1;32m    126\u001b[0m     \u001b[0;32mtry\u001b[0m\u001b[0;34m:\u001b[0m\u001b[0;34m\u001b[0m\u001b[0m\n\u001b[0;32m--> 127\u001b[0;31m         \u001b[0mdelayed_function\u001b[0m \u001b[0;34m=\u001b[0m \u001b[0mfunctools\u001b[0m\u001b[0;34m.\u001b[0m\u001b[0mwraps\u001b[0m\u001b[0;34m(\u001b[0m\u001b[0mfunction\u001b[0m\u001b[0;34m)\u001b[0m\u001b[0;34m(\u001b[0m\u001b[0mdelayed_function\u001b[0m\u001b[0;34m)\u001b[0m\u001b[0;34m\u001b[0m\u001b[0m\n\u001b[0m\u001b[1;32m    128\u001b[0m     \u001b[0;32mexcept\u001b[0m \u001b[0mAttributeError\u001b[0m\u001b[0;34m:\u001b[0m\u001b[0;34m\u001b[0m\u001b[0m\n\u001b[1;32m    129\u001b[0m         \u001b[0;34m\" functools.wraps fails on some callable objects \"\u001b[0m\u001b[0;34m\u001b[0m\u001b[0m\n",
      "\u001b[0;32m/usr/local/Cellar/python/2.7.10_2/Frameworks/Python.framework/Versions/2.7/lib/python2.7/functools.pyc\u001b[0m in \u001b[0;36mupdate_wrapper\u001b[0;34m(wrapper, wrapped, assigned, updated)\u001b[0m\n\u001b[1;32m     33\u001b[0m         \u001b[0msetattr\u001b[0m\u001b[0;34m(\u001b[0m\u001b[0mwrapper\u001b[0m\u001b[0;34m,\u001b[0m \u001b[0mattr\u001b[0m\u001b[0;34m,\u001b[0m \u001b[0mgetattr\u001b[0m\u001b[0;34m(\u001b[0m\u001b[0mwrapped\u001b[0m\u001b[0;34m,\u001b[0m \u001b[0mattr\u001b[0m\u001b[0;34m)\u001b[0m\u001b[0;34m)\u001b[0m\u001b[0;34m\u001b[0m\u001b[0m\n\u001b[1;32m     34\u001b[0m     \u001b[0;32mfor\u001b[0m \u001b[0mattr\u001b[0m \u001b[0;32min\u001b[0m \u001b[0mupdated\u001b[0m\u001b[0;34m:\u001b[0m\u001b[0;34m\u001b[0m\u001b[0m\n\u001b[0;32m---> 35\u001b[0;31m         \u001b[0mgetattr\u001b[0m\u001b[0;34m(\u001b[0m\u001b[0mwrapper\u001b[0m\u001b[0;34m,\u001b[0m \u001b[0mattr\u001b[0m\u001b[0;34m)\u001b[0m\u001b[0;34m.\u001b[0m\u001b[0mupdate\u001b[0m\u001b[0;34m(\u001b[0m\u001b[0mgetattr\u001b[0m\u001b[0;34m(\u001b[0m\u001b[0mwrapped\u001b[0m\u001b[0;34m,\u001b[0m \u001b[0mattr\u001b[0m\u001b[0;34m,\u001b[0m \u001b[0;34m{\u001b[0m\u001b[0;34m}\u001b[0m\u001b[0;34m)\u001b[0m\u001b[0;34m)\u001b[0m\u001b[0;34m\u001b[0m\u001b[0m\n\u001b[0m\u001b[1;32m     36\u001b[0m     \u001b[0;31m# Return the wrapper so this can be used as a decorator via partial()\u001b[0m\u001b[0;34m\u001b[0m\u001b[0;34m\u001b[0m\u001b[0m\n\u001b[1;32m     37\u001b[0m     \u001b[0;32mreturn\u001b[0m \u001b[0mwrapper\u001b[0m\u001b[0;34m\u001b[0m\u001b[0m\n",
      "\u001b[0;31mKeyboardInterrupt\u001b[0m: "
     ]
    }
   ],
   "source": [
    "indexes= np.argsort(rf.feature_importances_)\n",
    "\n",
    "for i in indexes[::-1]:\n",
    "    print train.columns.values[i], rf.feature_importances_[i]"
   ]
  },
  {
   "cell_type": "code",
   "execution_count": null,
   "metadata": {
    "collapsed": true
   },
   "outputs": [],
   "source": []
  },
  {
   "cell_type": "markdown",
   "metadata": {},
   "source": [
    "## svm"
   ]
  },
  {
   "cell_type": "code",
   "execution_count": 44,
   "metadata": {
    "collapsed": true
   },
   "outputs": [],
   "source": [
    "param_svm = dict(gamma=[ 0.0001, 0.001, 0.1, 1, 10], C=[1,4,5,6] )\n",
    "svr = svm.SVC()\n",
    "grid = grid_search.GridSearchCV(svr, param_svm,scoring='accuracy')"
   ]
  },
  {
   "cell_type": "code",
   "execution_count": 45,
   "metadata": {
    "collapsed": false
   },
   "outputs": [
    {
     "data": {
      "text/plain": [
       "GridSearchCV(cv=None, error_score='raise',\n",
       "       estimator=SVC(C=1.0, cache_size=200, class_weight=None, coef0=0.0, degree=3, gamma=0.0,\n",
       "  kernel='rbf', max_iter=-1, probability=False, random_state=None,\n",
       "  shrinking=True, tol=0.001, verbose=False),\n",
       "       fit_params={}, iid=True, loss_func=None, n_jobs=1,\n",
       "       param_grid={'C': [1, 4, 5, 6], 'gamma': [0.0001, 0.001, 0.1, 1, 10]},\n",
       "       pre_dispatch='2*n_jobs', refit=True, score_func=None,\n",
       "       scoring='accuracy', verbose=0)"
      ]
     },
     "execution_count": 45,
     "metadata": {},
     "output_type": "execute_result"
    }
   ],
   "source": [
    "grid.fit(x_scaled,y)"
   ]
  },
  {
   "cell_type": "code",
   "execution_count": 46,
   "metadata": {
    "collapsed": false
   },
   "outputs": [
    {
     "name": "stdout",
     "output_type": "stream",
     "text": [
      "0.47619047619\n",
      "{'C': 5, 'gamma': 0.1}\n"
     ]
    }
   ],
   "source": [
    "print grid.best_score_\n",
    "print grid.best_params_"
   ]
  },
  {
   "cell_type": "code",
   "execution_count": 67,
   "metadata": {
    "collapsed": false
   },
   "outputs": [
    {
     "name": "stdout",
     "output_type": "stream",
     "text": [
      "0.441777408638\n"
     ]
    }
   ],
   "source": [
    "print np.mean(cross_val_score(svm.SVC(C = 5, gamma = 0.1, kernel='rbf'), x_scaled, y, cv=5,scoring='accuracy'))"
   ]
  },
  {
   "cell_type": "code",
   "execution_count": null,
   "metadata": {
    "collapsed": true
   },
   "outputs": [],
   "source": []
  },
  {
   "cell_type": "code",
   "execution_count": null,
   "metadata": {
    "collapsed": true
   },
   "outputs": [],
   "source": []
  },
  {
   "cell_type": "markdown",
   "metadata": {},
   "source": [
    "### knn"
   ]
  },
  {
   "cell_type": "code",
   "execution_count": 63,
   "metadata": {
    "collapsed": true
   },
   "outputs": [],
   "source": [
    "params_knn={'n_neighbors': [1,5,10,20,42,43,44,50]}\n",
    "knn=KNeighborsClassifier()\n",
    "gs3=grid_search.GridSearchCV(knn, params_knn, scoring='accuracy')"
   ]
  },
  {
   "cell_type": "code",
   "execution_count": 64,
   "metadata": {
    "collapsed": false
   },
   "outputs": [
    {
     "data": {
      "text/plain": [
       "GridSearchCV(cv=None, error_score='raise',\n",
       "       estimator=KNeighborsClassifier(algorithm='auto', leaf_size=30, metric='minkowski',\n",
       "           metric_params=None, n_neighbors=5, p=2, weights='uniform'),\n",
       "       fit_params={}, iid=True, loss_func=None, n_jobs=1,\n",
       "       param_grid={'n_neighbors': [5]}, pre_dispatch='2*n_jobs',\n",
       "       refit=True, score_func=None, scoring='accuracy', verbose=0)"
      ]
     },
     "execution_count": 64,
     "metadata": {},
     "output_type": "execute_result"
    }
   ],
   "source": [
    "gs3.fit(x_scaled,y)"
   ]
  },
  {
   "cell_type": "code",
   "execution_count": 65,
   "metadata": {
    "collapsed": false
   },
   "outputs": [
    {
     "name": "stdout",
     "output_type": "stream",
     "text": [
      "0.404761904762\n",
      "{'n_neighbors': 5}\n"
     ]
    }
   ],
   "source": [
    "print gs3.best_score_\n",
    "print gs3.best_params_"
   ]
  },
  {
   "cell_type": "code",
   "execution_count": 77,
   "metadata": {
    "collapsed": false
   },
   "outputs": [
    {
     "name": "stdout",
     "output_type": "stream",
     "text": [
      "0.433648947951\n"
     ]
    }
   ],
   "source": [
    "print np.mean(cross_val_score(KNeighborsClassifier(n_neighbors=15), x_scaled, y, cv=5,scoring='accuracy'))"
   ]
  },
  {
   "cell_type": "code",
   "execution_count": null,
   "metadata": {
    "collapsed": true
   },
   "outputs": [],
   "source": []
  },
  {
   "cell_type": "code",
   "execution_count": null,
   "metadata": {
    "collapsed": true
   },
   "outputs": [],
   "source": []
  },
  {
   "cell_type": "code",
   "execution_count": null,
   "metadata": {
    "collapsed": true
   },
   "outputs": [],
   "source": []
  },
  {
   "cell_type": "markdown",
   "metadata": {},
   "source": [
    "## Формируем тест"
   ]
  },
  {
   "cell_type": "code",
   "execution_count": 148,
   "metadata": {
    "collapsed": false
   },
   "outputs": [],
   "source": [
    "test=pd.read_csv('./x_test.csv', header=None)"
   ]
  },
  {
   "cell_type": "code",
   "execution_count": 150,
   "metadata": {
    "collapsed": true
   },
   "outputs": [],
   "source": [
    "n=test.columns.values\n",
    "\n",
    "for i in n:\n",
    "    for j in n:\n",
    "        if i!=j:\n",
    "            test[str(i)+'&'+str(j)]=test[i]*test[j]\n",
    "            k=test[i]+test[j]\n",
    "            k[k>0]=1\n",
    "            test[str(i)+'|'+str(j)]=k\n",
    "            "
   ]
  },
  {
   "cell_type": "code",
   "execution_count": 151,
   "metadata": {
    "collapsed": false
   },
   "outputs": [
    {
     "name": "stdout",
     "output_type": "stream",
     "text": [
      "(1770, 210)\n"
     ]
    }
   ],
   "source": [
    "dt=test.copy()\n",
    "n=list(dt.columns.values)\n",
    "\n",
    "x= np.vstack([np.array(dt[n[0]].values)])\n",
    "for i in n[1:]:\n",
    "    x=np.append(x, np.vstack([np.array(dt[i].values)]),axis=0)\n",
    "print x.shape\n",
    "x=x.T"
   ]
  },
  {
   "cell_type": "code",
   "execution_count": 152,
   "metadata": {
    "collapsed": false
   },
   "outputs": [],
   "source": [
    "ans = pd.Series(rf.predict(x))\n",
    "res=pd.DataFrame()"
   ]
  },
  {
   "cell_type": "code",
   "execution_count": 153,
   "metadata": {
    "collapsed": true
   },
   "outputs": [],
   "source": [
    "#res['id']=test[0]\n",
    "res['y']=ans\n",
    "res\n",
    "res.to_csv('ans.txt', index=False, header=None )"
   ]
  },
  {
   "cell_type": "code",
   "execution_count": null,
   "metadata": {
    "collapsed": true
   },
   "outputs": [],
   "source": []
  },
  {
   "cell_type": "markdown",
   "metadata": {
    "collapsed": true
   },
   "source": [
    "##### (n_jobs=2,n_estimators=200,random_state=2,min_samples_leaf=1)\n",
    "0,429\n",
    "\n",
    "\n",
    "##### без фичер инжениринга свм 444 гридсерч дал."
   ]
  },
  {
   "cell_type": "code",
   "execution_count": null,
   "metadata": {
    "collapsed": true
   },
   "outputs": [],
   "source": []
  },
  {
   "cell_type": "code",
   "execution_count": null,
   "metadata": {
    "collapsed": true
   },
   "outputs": [],
   "source": []
  },
  {
   "cell_type": "code",
   "execution_count": null,
   "metadata": {
    "collapsed": true
   },
   "outputs": [],
   "source": []
  },
  {
   "cell_type": "code",
   "execution_count": null,
   "metadata": {
    "collapsed": true
   },
   "outputs": [],
   "source": []
  },
  {
   "cell_type": "code",
   "execution_count": null,
   "metadata": {
    "collapsed": true
   },
   "outputs": [],
   "source": []
  },
  {
   "cell_type": "code",
   "execution_count": null,
   "metadata": {
    "collapsed": true
   },
   "outputs": [],
   "source": []
  },
  {
   "cell_type": "code",
   "execution_count": null,
   "metadata": {
    "collapsed": true
   },
   "outputs": [],
   "source": []
  },
  {
   "cell_type": "code",
   "execution_count": null,
   "metadata": {
    "collapsed": true
   },
   "outputs": [],
   "source": []
  },
  {
   "cell_type": "code",
   "execution_count": null,
   "metadata": {
    "collapsed": true
   },
   "outputs": [],
   "source": []
  },
  {
   "cell_type": "code",
   "execution_count": null,
   "metadata": {
    "collapsed": true
   },
   "outputs": [],
   "source": [
    "attrib_names = [ str(i) for i in range(0,29) ]\n",
    "\n",
    "def make_intent(example):\n",
    "    global attrib_names\n",
    "    return set([i+':'+str(k) for i, k in zip(attrib_names, example)])\n",
    "\n"
   ]
  },
  {
   "cell_type": "code",
   "execution_count": null,
   "metadata": {
    "collapsed": true
   },
   "outputs": [],
   "source": [
    "def read_files():\n",
    "    \n",
    "    data_0=[]\n",
    "    data_1=[]\n",
    "    data_2=[]\n",
    "    \n",
    "    x_test=[]\n",
    "    y_test=[]\n",
    "\n",
    "    train=pd.read_csv('./x_train.csv', header=None )#, na_values='?')\n",
    "    train_y=pd.read_csv('./y_train.csv', header=None)\n",
    "    train['target']=train_y[0]\n",
    "    \n",
    "    dt1=train[train.index < 210. * 4 / 5].copy()\n",
    "    dt2=train[train.index >= 210. * 4 / 5].copy()\n",
    "    \n",
    "    ###_________###\n",
    "    \n",
    "    train = np.array(dt1)\n",
    "    \n",
    "    test = np.array(dt2)\n",
    "    ###_________###\n",
    "    \n",
    "    \n",
    "#    train=np.array(train)\n",
    "\n",
    "    data_0 = [make_intent(a[:-1]) for a in train if a[-1] == 0]\n",
    "    data_1 = [make_intent(a[:-1]) for a in train if a[-1] == 1]\n",
    "    data_2 = [make_intent(a[:-1]) for a in train if a[-1] == 2]\n",
    "   \n",
    "#    test=pd.read_csv('./x_test.csv', header=None)    \n",
    "#    test=np.array(test)\n",
    "#    x_test = [make_intent(a) for a in test]\n",
    "    x_test = [make_intent(a[:-1]) for a in test]\n",
    "    y_test = [a[-1] for a in test]\n",
    "    \n",
    "    return data_0, data_1, data_2, x_test, y_test"
   ]
  },
  {
   "cell_type": "code",
   "execution_count": null,
   "metadata": {
    "collapsed": false
   },
   "outputs": [],
   "source": [
    "pos, neg, eq, x_test, y_test = read_files()\n",
    "print is_in_intent(pos, neg, eq, x_test, y_test)"
   ]
  },
  {
   "cell_type": "code",
   "execution_count": null,
   "metadata": {
    "collapsed": true
   },
   "outputs": [],
   "source": [
    "def is_in_intent(plus, minus, ravno, x_test, y_test):\n",
    "    y_pred=[]\n",
    "    counter=0\n",
    "    for i in x_test:\n",
    "        counter+=1\n",
    "        unkn_set=i\n",
    "        pos=0\n",
    "        neg=0\n",
    "        eq=0\n",
    "\n",
    "        for j in plus:\n",
    "            pos_set=j\n",
    "            res=pos_set & unkn_set\n",
    "            closure=0\n",
    "            for k in minus:\n",
    "                if k.issuperset(res):\n",
    "                    closure+=1\n",
    "                    break  \n",
    "            for k in ravno:\n",
    "                if k.issuperset(res):\n",
    "                    closure+=1\n",
    "                    break\n",
    "            if closure==0:\n",
    "                pos+=float(len(res)) / len(pos_set)\n",
    "        pos=float(pos) / len(plus)   \n",
    "        \n",
    "        \n",
    "        for j in minus:\n",
    "            neg_set=j\n",
    "            res=neg_set & unkn_set\n",
    "            closure=0\n",
    "            for k in plus:\n",
    "                if k.issuperset(res):\n",
    "                    closure+=1\n",
    "                    break\n",
    "            for k in ravno:\n",
    "                if k.issuperset(res):\n",
    "                    closure+=1\n",
    "                    break\n",
    "            if closure==0:\n",
    "                neg+=float(len(res)) / len(neg_set)\n",
    "        neg=float(neg) / len(minus) \n",
    "\n",
    "        \n",
    "        for j in ravno:\n",
    "            neg_set=j\n",
    "            res=neg_set & unkn_set\n",
    "            closure=0\n",
    "            for k in plus:\n",
    "                if k.issuperset(res):\n",
    "                    closure+=1\n",
    "                    break\n",
    "            for k in minus:\n",
    "                if k.issuperset(res):\n",
    "                    closure+=1\n",
    "                    break\n",
    "            if closure==0:\n",
    "                eq+=float(len(res)) / len(neg_set)\n",
    "        eq=float(eq) / len(minus) \n",
    "        \n",
    "\n",
    "        if (pos <= neg and pos <= eq):\n",
    "            y_pred.append(0)\n",
    "        else:\n",
    "            if (neg <= pos and neg <= eq):\n",
    "                y_pred.append(1)\n",
    "            else:\n",
    "                if (eq <= pos and eq <= neg):\n",
    "                    y_pred.append(2)\n",
    "            \n",
    "            \n",
    "\n",
    "    y_pred=np.array(y_pred)\n",
    "    y_test=np.array(y_test)\n",
    "    \n",
    "    print y_pred\n",
    "    print y_test\n",
    "    \n",
    "    return print_metris(y_test, y_pred)"
   ]
  },
  {
   "cell_type": "code",
   "execution_count": null,
   "metadata": {
    "collapsed": true
   },
   "outputs": [],
   "source": [
    "from sklearn.metrics import accuracy_score\n",
    "from sklearn.metrics import roc_auc_score\n",
    "from sklearn.metrics import precision_score\n",
    "from sklearn.metrics import recall_score\n",
    "\n",
    "def print_metris(y_test, y_pred):\n",
    "    acc = accuracy_score(y_test, y_pred)\n",
    "    return acc"
   ]
  },
  {
   "cell_type": "code",
   "execution_count": null,
   "metadata": {
    "collapsed": true
   },
   "outputs": [],
   "source": []
  },
  {
   "cell_type": "code",
   "execution_count": null,
   "metadata": {
    "collapsed": true
   },
   "outputs": [],
   "source": []
  },
  {
   "cell_type": "code",
   "execution_count": null,
   "metadata": {
    "collapsed": true
   },
   "outputs": [],
   "source": []
  },
  {
   "cell_type": "code",
   "execution_count": null,
   "metadata": {
    "collapsed": true
   },
   "outputs": [],
   "source": []
  },
  {
   "cell_type": "code",
   "execution_count": null,
   "metadata": {
    "collapsed": true
   },
   "outputs": [],
   "source": []
  },
  {
   "cell_type": "code",
   "execution_count": null,
   "metadata": {
    "collapsed": true
   },
   "outputs": [],
   "source": []
  },
  {
   "cell_type": "code",
   "execution_count": null,
   "metadata": {
    "collapsed": true
   },
   "outputs": [],
   "source": []
  },
  {
   "cell_type": "code",
   "execution_count": null,
   "metadata": {
    "collapsed": true
   },
   "outputs": [],
   "source": []
  },
  {
   "cell_type": "code",
   "execution_count": null,
   "metadata": {
    "collapsed": true
   },
   "outputs": [],
   "source": []
  },
  {
   "cell_type": "code",
   "execution_count": 146,
   "metadata": {
    "collapsed": true
   },
   "outputs": [],
   "source": [
    "import pandas as pd\n",
    "import numpy as np\n",
    "from sklearn import ensemble\n",
    "import xgboost as xgb\n",
    "from sklearn import ensemble\n",
    "from sklearn.cross_validation import cross_val_score\n",
    "from sklearn.metrics import accuracy_score\n",
    "from sklearn.feature_selection import SelectKBest, chi2\n",
    "from sklearn.pipeline import Pipeline\n",
    "from sklearn.preprocessing import MinMaxScaler\n",
    "from sklearn import cross_validation\n",
    "from time import time\n",
    "from sklearn import svm\n",
    "\n",
    "\n",
    "import matplotlib.pyplot as plt\n",
    "%matplotlib inline\n",
    "import random\n",
    "\n",
    "from sklearn.linear_model import LogisticRegression\n",
    "\n",
    "import xgboost as xgb\n",
    "\n",
    "from xgboost import XGBModel, XGBClassifier\n",
    "\n",
    "\n",
    "\n"
   ]
  },
  {
   "cell_type": "code",
   "execution_count": 172,
   "metadata": {
    "collapsed": false
   },
   "outputs": [],
   "source": [
    "l=[str(i) for i in range(0,30)] "
   ]
  },
  {
   "cell_type": "code",
   "execution_count": 173,
   "metadata": {
    "collapsed": false
   },
   "outputs": [],
   "source": [
    "train=pd.read_csv('./x_train.csv', header=None, names=l) #, na_values='?')\n",
    "train_y=pd.read_csv('./y_train.csv', header=None)\n",
    "\n",
    "n=train.columns.values\n",
    "\n",
    "for i in n:\n",
    "    for j in n:\n",
    "        if i!=j:\n",
    "            train[str(i)+'111'+str(j)]=train[i]*train[j]\n",
    "            k=train[i]+train[j]\n",
    "            k[k>0]=1\n",
    "            train[str(i)+'000'+str(j)]=k\n",
    "            "
   ]
  },
  {
   "cell_type": "code",
   "execution_count": 174,
   "metadata": {
    "collapsed": false
   },
   "outputs": [],
   "source": [
    "features=train.columns.values\n",
    "data_train=train.copy()\n",
    "data_train['y']=train_y[0]\n",
    "\n",
    "train['y']=train_y[0]"
   ]
  },
  {
   "cell_type": "code",
   "execution_count": 195,
   "metadata": {
    "collapsed": false
   },
   "outputs": [],
   "source": [
    "#Определяем кросс-валидацию для стакинга и последующей кросс-валидации итоговой модели. \n",
    "cv = cross_validation.StratifiedKFold(data_train['y'], n_folds=3, shuffle=True,\n",
    "                               random_state=0)\n",
    "\n",
    "\n",
    "#Определяем классификаторы для стакинга. Здесь я поставил намеренно слабые, чтобы они считались быстрее.\n",
    "#Имеет смысл поиграть с параметрами и посмотреть, что получится. \n",
    "\n",
    "svmP=svm.SVC(C = 5, gamma = 0.1, kernel='rbf',probability=True)\n",
    "\n",
    "clf_rf = ensemble.RandomForestClassifier(n_estimators = 300, n_jobs=4, \n",
    "                                         max_depth = 10, max_features=0.35,\n",
    "                                         random_state=1, min_samples_leaf=2)\n",
    "\n",
    "clf_weak_rf = ensemble.RandomForestClassifier(n_estimators = 200, n_jobs=4, \n",
    "                                         max_depth = 10, max_features=0.35,\n",
    "                                         random_state=1, min_samples_leaf=2)\n",
    "\n",
    "#В этом примере я использовал адабуст на random forest\n",
    "clf_ada = ensemble.AdaBoostClassifier(base_estimator = svmP, n_estimators=50, learning_rate=0.01, \n",
    "                                      random_state=0)\n",
    "\n",
    "clf_ada1 = ensemble.AdaBoostClassifier(base_estimator = clf_rf, n_estimators=100, learning_rate=0.001, \n",
    "                                      random_state=0)\n",
    "\n",
    "\n",
    "\n",
    "\n",
    "\n",
    "#Определяем оригинальный хгбуст\n",
    "params = {\"objective\": 'multi:softprob',\n",
    "          \"eta\": 0.04,\n",
    "          \"max_depth\": 5,\n",
    "          \"min_child_weight\": 7,\n",
    "          \"silent\": 1,\n",
    "          \"subsample\": 0.4,\n",
    "          \"colsample_bytree\": 0.7,\n",
    "          \"seed\": 1,\n",
    "          'lambda':7.0,\n",
    "          'alpha':0,\n",
    "          'num_class': nnn,\n",
    "          'gamma': 0,\n",
    "          'nthread':4\n",
    "         }\n",
    "num_trees=10\n",
    "\n",
    "nnn=len(train['y'].unique())\n",
    "\n",
    "\n",
    "svm_preds = pd.DataFrame(index=train.index, columns=['SVM_'+str(i) for i in range(nnn)])\n",
    "rf_preds = pd.DataFrame(index=train.index, columns=['rf_'+str(i) for i in range(nnn)])\n",
    "ada_preds = pd.DataFrame(index=train.index, columns=['ada_'+str(i) for i in range(nnn)])\n",
    "xgbst_preds = pd.DataFrame(index=train.index, columns=['xgbst_'+str(i) for i in range(nnn)])"
   ]
  },
  {
   "cell_type": "code",
   "execution_count": 196,
   "metadata": {
    "collapsed": false
   },
   "outputs": [
    {
     "name": "stdout",
     "output_type": "stream",
     "text": [
      "Fold 1\n",
      " Training svm\n",
      "   Done.\n",
      " Training RF\n",
      "   Done.\n",
      " Training AdaBoost\n",
      "   Done.\n",
      " Training AdaBoost\n",
      "   Done.\n",
      "Fold 2\n",
      " Training svm\n",
      "   Done.\n",
      " Training RF\n",
      "   Done.\n",
      " Training AdaBoost\n",
      "   Done.\n",
      " Training AdaBoost\n",
      "   Done.\n",
      "Fold 3\n",
      " Training svm\n",
      "   Done.\n",
      " Training RF\n",
      "   Done.\n",
      " Training AdaBoost\n",
      "   Done.\n",
      " Training AdaBoost\n",
      "   Done.\n"
     ]
    }
   ],
   "source": [
    "#Вероятности заполняются на кросс-валидации. Обратите внимание, что для оценки точности логистической регрессии\n",
    "#используется та же самая кросс-валидация\n",
    "i = 0\n",
    "for train_ind, test_ind in cv:\n",
    "    i+=1\n",
    "    print 'Fold', i\n",
    "    train_cv = train.loc[train_ind]\n",
    "    test_cv = train.loc[test_ind]\n",
    "    \n",
    "    print ' Training svm'\n",
    "    svmP.fit(train_cv[features], train_cv['y']) \n",
    "    svm_preds.loc[test_ind] = svmP.predict_proba(test_cv[features])\n",
    "    print '   Done.'\n",
    "    \n",
    "    \n",
    "    print ' Training RF'\n",
    "    clf_rf.fit(train_cv[features], train_cv['y']) \n",
    "    rf_preds.loc[test_ind] = clf_rf.predict_proba(test_cv[features])\n",
    "    print '   Done.'\n",
    "    \n",
    "    print ' Training AdaBoost'\n",
    "    clf_ada.fit(train_cv[features], train_cv['y'])\n",
    "    ada_preds.loc[test_ind] = clf_ada.predict_proba(test_cv[features])\n",
    "    print '   Done.'\n",
    "\n",
    "    print ' Training AdaBoost'\n",
    "    clf_ada1.fit(train_cv[features], train_cv['y'])\n",
    "    xgbst_preds.loc[test_ind] = clf_ada1.predict_proba(test_cv[features])\n",
    "    print '   Done.'\n",
    "    \n",
    "    \n",
    "#    print ' Training XGBoost'\n",
    "#    gbm = xgb.train(params, xgb.DMatrix(train_cv[features], train_cv['y']), num_trees)\n",
    "#    xgbst_preds.loc[test_ind] = gbm.predict(xgb.DMatrix(test_cv[features])).reshape(test_cv.shape[0], nnn)\n",
    "#    print '   Done.'\n",
    "    \n",
    "    \n",
    "#Объединяем вероятности в один датафрейм\n",
    "train1 = pd.concat([ada_preds, rf_preds, xgbst_preds, svm_preds], axis=1)"
   ]
  },
  {
   "cell_type": "code",
   "execution_count": 197,
   "metadata": {
    "collapsed": false
   },
   "outputs": [
    {
     "name": "stdout",
     "output_type": "stream",
     "text": [
      "Log regr accuracy 0.433592861517 ± 0.0430508975989\n"
     ]
    }
   ],
   "source": [
    "#Прогтейоняем логистическую регрессию на той же кросс-валидации, которая использовалась для подсчета вероятнос\n",
    "clf_lr = LogisticRegression(C=30, class_weight=None, \n",
    "                            penalty='l2', random_state=0,\n",
    "                            solver='lbfgs', multi_class = 'ovr')\n",
    "\n",
    "a = cross_val_score(clf_lr, train1, y=data_train['y'], cv=cv)\n",
    "print 'Log regr accuracy', np.mean(a), '±', np.std(a)"
   ]
  },
  {
   "cell_type": "code",
   "execution_count": 198,
   "metadata": {
    "collapsed": false
   },
   "outputs": [
    {
     "data": {
      "text/html": [
       "<div>\n",
       "<table border=\"1\" class=\"dataframe\">\n",
       "  <thead>\n",
       "    <tr style=\"text-align: right;\">\n",
       "      <th></th>\n",
       "      <th>ada_0</th>\n",
       "      <th>ada_1</th>\n",
       "      <th>ada_2</th>\n",
       "      <th>rf_0</th>\n",
       "      <th>rf_1</th>\n",
       "      <th>rf_2</th>\n",
       "      <th>xgbst_0</th>\n",
       "      <th>xgbst_1</th>\n",
       "      <th>xgbst_2</th>\n",
       "      <th>SVM_0</th>\n",
       "      <th>SVM_1</th>\n",
       "      <th>SVM_2</th>\n",
       "      <th>y</th>\n",
       "    </tr>\n",
       "  </thead>\n",
       "  <tbody>\n",
       "    <tr>\n",
       "      <th>0</th>\n",
       "      <td>0.3101952</td>\n",
       "      <td>0.3455339</td>\n",
       "      <td>0.3442709</td>\n",
       "      <td>0.2046667</td>\n",
       "      <td>0.5547778</td>\n",
       "      <td>0.2405556</td>\n",
       "      <td>0.1900556</td>\n",
       "      <td>0.526</td>\n",
       "      <td>0.2839444</td>\n",
       "      <td>0.3147378</td>\n",
       "      <td>0.3295275</td>\n",
       "      <td>0.3557347</td>\n",
       "      <td>1</td>\n",
       "    </tr>\n",
       "    <tr>\n",
       "      <th>1</th>\n",
       "      <td>0.3467524</td>\n",
       "      <td>0.3207227</td>\n",
       "      <td>0.3325249</td>\n",
       "      <td>0.2325238</td>\n",
       "      <td>0.2058333</td>\n",
       "      <td>0.5616429</td>\n",
       "      <td>0.2106111</td>\n",
       "      <td>0.2268333</td>\n",
       "      <td>0.5625556</td>\n",
       "      <td>0.309642</td>\n",
       "      <td>0.3339901</td>\n",
       "      <td>0.3563679</td>\n",
       "      <td>1</td>\n",
       "    </tr>\n",
       "    <tr>\n",
       "      <th>2</th>\n",
       "      <td>0.3098979</td>\n",
       "      <td>0.3501795</td>\n",
       "      <td>0.3399226</td>\n",
       "      <td>0.365</td>\n",
       "      <td>0.3122222</td>\n",
       "      <td>0.3227778</td>\n",
       "      <td>0.3448333</td>\n",
       "      <td>0.3502222</td>\n",
       "      <td>0.3049444</td>\n",
       "      <td>0.3204131</td>\n",
       "      <td>0.329119</td>\n",
       "      <td>0.3504679</td>\n",
       "      <td>1</td>\n",
       "    </tr>\n",
       "    <tr>\n",
       "      <th>3</th>\n",
       "      <td>0.3098979</td>\n",
       "      <td>0.3501795</td>\n",
       "      <td>0.3399226</td>\n",
       "      <td>0.2725</td>\n",
       "      <td>0.3785</td>\n",
       "      <td>0.349</td>\n",
       "      <td>0.2514444</td>\n",
       "      <td>0.3970556</td>\n",
       "      <td>0.3515</td>\n",
       "      <td>0.3204131</td>\n",
       "      <td>0.329119</td>\n",
       "      <td>0.3504679</td>\n",
       "      <td>0</td>\n",
       "    </tr>\n",
       "    <tr>\n",
       "      <th>4</th>\n",
       "      <td>0.3101952</td>\n",
       "      <td>0.3455339</td>\n",
       "      <td>0.3442709</td>\n",
       "      <td>0.1528333</td>\n",
       "      <td>0.5883333</td>\n",
       "      <td>0.2588333</td>\n",
       "      <td>0.1733333</td>\n",
       "      <td>0.5093889</td>\n",
       "      <td>0.3172778</td>\n",
       "      <td>0.3147378</td>\n",
       "      <td>0.3295275</td>\n",
       "      <td>0.3557347</td>\n",
       "      <td>2</td>\n",
       "    </tr>\n",
       "    <tr>\n",
       "      <th>5</th>\n",
       "      <td>0.3467524</td>\n",
       "      <td>0.3207227</td>\n",
       "      <td>0.3325249</td>\n",
       "      <td>0.3537698</td>\n",
       "      <td>0.3068968</td>\n",
       "      <td>0.3393333</td>\n",
       "      <td>0.2840556</td>\n",
       "      <td>0.3241667</td>\n",
       "      <td>0.3917778</td>\n",
       "      <td>0.309642</td>\n",
       "      <td>0.3339901</td>\n",
       "      <td>0.3563679</td>\n",
       "      <td>2</td>\n",
       "    </tr>\n",
       "    <tr>\n",
       "      <th>6</th>\n",
       "      <td>0.3101952</td>\n",
       "      <td>0.3455339</td>\n",
       "      <td>0.3442709</td>\n",
       "      <td>0.2732222</td>\n",
       "      <td>0.4892778</td>\n",
       "      <td>0.2375</td>\n",
       "      <td>0.2476111</td>\n",
       "      <td>0.4972778</td>\n",
       "      <td>0.2551111</td>\n",
       "      <td>0.3147378</td>\n",
       "      <td>0.3295275</td>\n",
       "      <td>0.3557347</td>\n",
       "      <td>0</td>\n",
       "    </tr>\n",
       "    <tr>\n",
       "      <th>7</th>\n",
       "      <td>0.3101952</td>\n",
       "      <td>0.3455339</td>\n",
       "      <td>0.3442709</td>\n",
       "      <td>0.2108333</td>\n",
       "      <td>0.4129444</td>\n",
       "      <td>0.3762222</td>\n",
       "      <td>0.205</td>\n",
       "      <td>0.4534444</td>\n",
       "      <td>0.3415556</td>\n",
       "      <td>0.3147378</td>\n",
       "      <td>0.3295275</td>\n",
       "      <td>0.3557347</td>\n",
       "      <td>2</td>\n",
       "    </tr>\n",
       "    <tr>\n",
       "      <th>8</th>\n",
       "      <td>0.3467524</td>\n",
       "      <td>0.3207227</td>\n",
       "      <td>0.3325249</td>\n",
       "      <td>0.3010238</td>\n",
       "      <td>0.2988095</td>\n",
       "      <td>0.4001667</td>\n",
       "      <td>0.2987778</td>\n",
       "      <td>0.3131111</td>\n",
       "      <td>0.3881111</td>\n",
       "      <td>0.309642</td>\n",
       "      <td>0.3339901</td>\n",
       "      <td>0.3563679</td>\n",
       "      <td>0</td>\n",
       "    </tr>\n",
       "    <tr>\n",
       "      <th>9</th>\n",
       "      <td>0.3101952</td>\n",
       "      <td>0.3455339</td>\n",
       "      <td>0.3442709</td>\n",
       "      <td>0.4539444</td>\n",
       "      <td>0.2441111</td>\n",
       "      <td>0.3019444</td>\n",
       "      <td>0.4769444</td>\n",
       "      <td>0.2442222</td>\n",
       "      <td>0.2788333</td>\n",
       "      <td>0.3147378</td>\n",
       "      <td>0.3295275</td>\n",
       "      <td>0.3557347</td>\n",
       "      <td>1</td>\n",
       "    </tr>\n",
       "    <tr>\n",
       "      <th>10</th>\n",
       "      <td>0.3098979</td>\n",
       "      <td>0.3501795</td>\n",
       "      <td>0.3399226</td>\n",
       "      <td>0.1114524</td>\n",
       "      <td>0.3650635</td>\n",
       "      <td>0.5234841</td>\n",
       "      <td>0.1431111</td>\n",
       "      <td>0.4173889</td>\n",
       "      <td>0.4395</td>\n",
       "      <td>0.3204131</td>\n",
       "      <td>0.329119</td>\n",
       "      <td>0.3504679</td>\n",
       "      <td>2</td>\n",
       "    </tr>\n",
       "    <tr>\n",
       "      <th>11</th>\n",
       "      <td>0.3101952</td>\n",
       "      <td>0.3455339</td>\n",
       "      <td>0.3442709</td>\n",
       "      <td>0.2286984</td>\n",
       "      <td>0.1433333</td>\n",
       "      <td>0.6279683</td>\n",
       "      <td>0.2043333</td>\n",
       "      <td>0.1176111</td>\n",
       "      <td>0.6780556</td>\n",
       "      <td>0.3147378</td>\n",
       "      <td>0.3295275</td>\n",
       "      <td>0.3557347</td>\n",
       "      <td>1</td>\n",
       "    </tr>\n",
       "    <tr>\n",
       "      <th>12</th>\n",
       "      <td>0.3098979</td>\n",
       "      <td>0.3501795</td>\n",
       "      <td>0.3399226</td>\n",
       "      <td>0.2682778</td>\n",
       "      <td>0.3147222</td>\n",
       "      <td>0.417</td>\n",
       "      <td>0.2804841</td>\n",
       "      <td>0.328</td>\n",
       "      <td>0.3915159</td>\n",
       "      <td>0.3204131</td>\n",
       "      <td>0.329119</td>\n",
       "      <td>0.3504679</td>\n",
       "      <td>1</td>\n",
       "    </tr>\n",
       "    <tr>\n",
       "      <th>13</th>\n",
       "      <td>0.3101952</td>\n",
       "      <td>0.3455339</td>\n",
       "      <td>0.3442709</td>\n",
       "      <td>0.1929762</td>\n",
       "      <td>0.3661111</td>\n",
       "      <td>0.4409127</td>\n",
       "      <td>0.1850397</td>\n",
       "      <td>0.3945714</td>\n",
       "      <td>0.4203889</td>\n",
       "      <td>0.3147378</td>\n",
       "      <td>0.3295275</td>\n",
       "      <td>0.3557347</td>\n",
       "      <td>1</td>\n",
       "    </tr>\n",
       "    <tr>\n",
       "      <th>14</th>\n",
       "      <td>0.3101952</td>\n",
       "      <td>0.3455339</td>\n",
       "      <td>0.3442709</td>\n",
       "      <td>0.2285</td>\n",
       "      <td>0.2979444</td>\n",
       "      <td>0.4735556</td>\n",
       "      <td>0.2090635</td>\n",
       "      <td>0.2407381</td>\n",
       "      <td>0.5501984</td>\n",
       "      <td>0.3147378</td>\n",
       "      <td>0.3295275</td>\n",
       "      <td>0.3557347</td>\n",
       "      <td>0</td>\n",
       "    </tr>\n",
       "    <tr>\n",
       "      <th>15</th>\n",
       "      <td>0.3467524</td>\n",
       "      <td>0.3207227</td>\n",
       "      <td>0.3325249</td>\n",
       "      <td>0.3406667</td>\n",
       "      <td>0.4311111</td>\n",
       "      <td>0.2282222</td>\n",
       "      <td>0.3670079</td>\n",
       "      <td>0.4363333</td>\n",
       "      <td>0.1966587</td>\n",
       "      <td>0.309642</td>\n",
       "      <td>0.3339901</td>\n",
       "      <td>0.3563679</td>\n",
       "      <td>1</td>\n",
       "    </tr>\n",
       "    <tr>\n",
       "      <th>16</th>\n",
       "      <td>0.3467524</td>\n",
       "      <td>0.3207227</td>\n",
       "      <td>0.3325249</td>\n",
       "      <td>0.3175</td>\n",
       "      <td>0.2816667</td>\n",
       "      <td>0.4008333</td>\n",
       "      <td>0.2958333</td>\n",
       "      <td>0.2528333</td>\n",
       "      <td>0.4513333</td>\n",
       "      <td>0.309642</td>\n",
       "      <td>0.3339901</td>\n",
       "      <td>0.3563679</td>\n",
       "      <td>0</td>\n",
       "    </tr>\n",
       "    <tr>\n",
       "      <th>17</th>\n",
       "      <td>0.3098979</td>\n",
       "      <td>0.3501795</td>\n",
       "      <td>0.3399226</td>\n",
       "      <td>0.2090556</td>\n",
       "      <td>0.3241111</td>\n",
       "      <td>0.4668333</td>\n",
       "      <td>0.188373</td>\n",
       "      <td>0.3164444</td>\n",
       "      <td>0.4951825</td>\n",
       "      <td>0.3204131</td>\n",
       "      <td>0.329119</td>\n",
       "      <td>0.3504679</td>\n",
       "      <td>2</td>\n",
       "    </tr>\n",
       "    <tr>\n",
       "      <th>18</th>\n",
       "      <td>0.3098979</td>\n",
       "      <td>0.3501795</td>\n",
       "      <td>0.3399226</td>\n",
       "      <td>0.1671111</td>\n",
       "      <td>0.1777222</td>\n",
       "      <td>0.6551667</td>\n",
       "      <td>0.154</td>\n",
       "      <td>0.2446111</td>\n",
       "      <td>0.6013889</td>\n",
       "      <td>0.3204131</td>\n",
       "      <td>0.329119</td>\n",
       "      <td>0.3504679</td>\n",
       "      <td>0</td>\n",
       "    </tr>\n",
       "    <tr>\n",
       "      <th>19</th>\n",
       "      <td>0.3467524</td>\n",
       "      <td>0.3207227</td>\n",
       "      <td>0.3325249</td>\n",
       "      <td>0.4338889</td>\n",
       "      <td>0.2315714</td>\n",
       "      <td>0.3345397</td>\n",
       "      <td>0.4335556</td>\n",
       "      <td>0.2260185</td>\n",
       "      <td>0.3404259</td>\n",
       "      <td>0.309642</td>\n",
       "      <td>0.3339901</td>\n",
       "      <td>0.3563679</td>\n",
       "      <td>2</td>\n",
       "    </tr>\n",
       "    <tr>\n",
       "      <th>20</th>\n",
       "      <td>0.3467524</td>\n",
       "      <td>0.3207227</td>\n",
       "      <td>0.3325249</td>\n",
       "      <td>0.1846667</td>\n",
       "      <td>0.4702778</td>\n",
       "      <td>0.3450556</td>\n",
       "      <td>0.1772778</td>\n",
       "      <td>0.4796667</td>\n",
       "      <td>0.3430556</td>\n",
       "      <td>0.309642</td>\n",
       "      <td>0.3339901</td>\n",
       "      <td>0.3563679</td>\n",
       "      <td>2</td>\n",
       "    </tr>\n",
       "    <tr>\n",
       "      <th>21</th>\n",
       "      <td>0.3101952</td>\n",
       "      <td>0.3455339</td>\n",
       "      <td>0.3442709</td>\n",
       "      <td>0.2512222</td>\n",
       "      <td>0.3218889</td>\n",
       "      <td>0.4268889</td>\n",
       "      <td>0.2348889</td>\n",
       "      <td>0.3493889</td>\n",
       "      <td>0.4157222</td>\n",
       "      <td>0.3147378</td>\n",
       "      <td>0.3295275</td>\n",
       "      <td>0.3557347</td>\n",
       "      <td>0</td>\n",
       "    </tr>\n",
       "    <tr>\n",
       "      <th>22</th>\n",
       "      <td>0.3467524</td>\n",
       "      <td>0.3207227</td>\n",
       "      <td>0.3325249</td>\n",
       "      <td>0.4271111</td>\n",
       "      <td>0.3092778</td>\n",
       "      <td>0.2636111</td>\n",
       "      <td>0.4650556</td>\n",
       "      <td>0.3107778</td>\n",
       "      <td>0.2241667</td>\n",
       "      <td>0.309642</td>\n",
       "      <td>0.3339901</td>\n",
       "      <td>0.3563679</td>\n",
       "      <td>1</td>\n",
       "    </tr>\n",
       "    <tr>\n",
       "      <th>23</th>\n",
       "      <td>0.3098979</td>\n",
       "      <td>0.3501795</td>\n",
       "      <td>0.3399226</td>\n",
       "      <td>0.3436111</td>\n",
       "      <td>0.3861111</td>\n",
       "      <td>0.2702778</td>\n",
       "      <td>0.3387222</td>\n",
       "      <td>0.3543333</td>\n",
       "      <td>0.3069444</td>\n",
       "      <td>0.3204131</td>\n",
       "      <td>0.329119</td>\n",
       "      <td>0.3504679</td>\n",
       "      <td>0</td>\n",
       "    </tr>\n",
       "    <tr>\n",
       "      <th>24</th>\n",
       "      <td>0.3467524</td>\n",
       "      <td>0.3207227</td>\n",
       "      <td>0.3325249</td>\n",
       "      <td>0.4082222</td>\n",
       "      <td>0.3053333</td>\n",
       "      <td>0.2864444</td>\n",
       "      <td>0.4006111</td>\n",
       "      <td>0.3017963</td>\n",
       "      <td>0.2975926</td>\n",
       "      <td>0.309642</td>\n",
       "      <td>0.3339901</td>\n",
       "      <td>0.3563679</td>\n",
       "      <td>2</td>\n",
       "    </tr>\n",
       "    <tr>\n",
       "      <th>25</th>\n",
       "      <td>0.3098979</td>\n",
       "      <td>0.3501795</td>\n",
       "      <td>0.3399226</td>\n",
       "      <td>0.30375</td>\n",
       "      <td>0.2985</td>\n",
       "      <td>0.39775</td>\n",
       "      <td>0.2925476</td>\n",
       "      <td>0.285</td>\n",
       "      <td>0.4224524</td>\n",
       "      <td>0.3204131</td>\n",
       "      <td>0.329119</td>\n",
       "      <td>0.3504679</td>\n",
       "      <td>0</td>\n",
       "    </tr>\n",
       "    <tr>\n",
       "      <th>26</th>\n",
       "      <td>0.3467524</td>\n",
       "      <td>0.3207227</td>\n",
       "      <td>0.3325249</td>\n",
       "      <td>0.2968333</td>\n",
       "      <td>0.2767222</td>\n",
       "      <td>0.4264444</td>\n",
       "      <td>0.2956111</td>\n",
       "      <td>0.3119444</td>\n",
       "      <td>0.3924444</td>\n",
       "      <td>0.309642</td>\n",
       "      <td>0.3339901</td>\n",
       "      <td>0.3563679</td>\n",
       "      <td>1</td>\n",
       "    </tr>\n",
       "    <tr>\n",
       "      <th>27</th>\n",
       "      <td>0.3101952</td>\n",
       "      <td>0.3455339</td>\n",
       "      <td>0.3442709</td>\n",
       "      <td>0.2888889</td>\n",
       "      <td>0.1863889</td>\n",
       "      <td>0.5247222</td>\n",
       "      <td>0.3333889</td>\n",
       "      <td>0.1786111</td>\n",
       "      <td>0.488</td>\n",
       "      <td>0.3147378</td>\n",
       "      <td>0.3295275</td>\n",
       "      <td>0.3557347</td>\n",
       "      <td>0</td>\n",
       "    </tr>\n",
       "    <tr>\n",
       "      <th>28</th>\n",
       "      <td>0.3098979</td>\n",
       "      <td>0.3501795</td>\n",
       "      <td>0.3399226</td>\n",
       "      <td>0.2186667</td>\n",
       "      <td>0.3427778</td>\n",
       "      <td>0.4385556</td>\n",
       "      <td>0.1860556</td>\n",
       "      <td>0.3488889</td>\n",
       "      <td>0.4650556</td>\n",
       "      <td>0.3204131</td>\n",
       "      <td>0.329119</td>\n",
       "      <td>0.3504679</td>\n",
       "      <td>2</td>\n",
       "    </tr>\n",
       "    <tr>\n",
       "      <th>29</th>\n",
       "      <td>0.3467524</td>\n",
       "      <td>0.3207227</td>\n",
       "      <td>0.3325249</td>\n",
       "      <td>0.1990556</td>\n",
       "      <td>0.3815</td>\n",
       "      <td>0.4194444</td>\n",
       "      <td>0.1665</td>\n",
       "      <td>0.3918333</td>\n",
       "      <td>0.4416667</td>\n",
       "      <td>0.309642</td>\n",
       "      <td>0.3339901</td>\n",
       "      <td>0.3563679</td>\n",
       "      <td>0</td>\n",
       "    </tr>\n",
       "    <tr>\n",
       "      <th>...</th>\n",
       "      <td>...</td>\n",
       "      <td>...</td>\n",
       "      <td>...</td>\n",
       "      <td>...</td>\n",
       "      <td>...</td>\n",
       "      <td>...</td>\n",
       "      <td>...</td>\n",
       "      <td>...</td>\n",
       "      <td>...</td>\n",
       "      <td>...</td>\n",
       "      <td>...</td>\n",
       "      <td>...</td>\n",
       "      <td>...</td>\n",
       "    </tr>\n",
       "    <tr>\n",
       "      <th>180</th>\n",
       "      <td>0.3101952</td>\n",
       "      <td>0.3455339</td>\n",
       "      <td>0.3442709</td>\n",
       "      <td>0.2200556</td>\n",
       "      <td>0.3893889</td>\n",
       "      <td>0.3905556</td>\n",
       "      <td>0.2169444</td>\n",
       "      <td>0.3727778</td>\n",
       "      <td>0.4102778</td>\n",
       "      <td>0.3147378</td>\n",
       "      <td>0.3295275</td>\n",
       "      <td>0.3557347</td>\n",
       "      <td>1</td>\n",
       "    </tr>\n",
       "    <tr>\n",
       "      <th>181</th>\n",
       "      <td>0.3467524</td>\n",
       "      <td>0.3207227</td>\n",
       "      <td>0.3325249</td>\n",
       "      <td>0.2226349</td>\n",
       "      <td>0.5896429</td>\n",
       "      <td>0.1877222</td>\n",
       "      <td>0.1933333</td>\n",
       "      <td>0.569</td>\n",
       "      <td>0.2376667</td>\n",
       "      <td>0.309642</td>\n",
       "      <td>0.3339901</td>\n",
       "      <td>0.3563679</td>\n",
       "      <td>0</td>\n",
       "    </tr>\n",
       "    <tr>\n",
       "      <th>182</th>\n",
       "      <td>0.3098979</td>\n",
       "      <td>0.3501795</td>\n",
       "      <td>0.3399226</td>\n",
       "      <td>0.3388333</td>\n",
       "      <td>0.2040556</td>\n",
       "      <td>0.4571111</td>\n",
       "      <td>0.3413333</td>\n",
       "      <td>0.1998333</td>\n",
       "      <td>0.4588333</td>\n",
       "      <td>0.3204131</td>\n",
       "      <td>0.329119</td>\n",
       "      <td>0.3504679</td>\n",
       "      <td>0</td>\n",
       "    </tr>\n",
       "    <tr>\n",
       "      <th>183</th>\n",
       "      <td>0.3101952</td>\n",
       "      <td>0.3455339</td>\n",
       "      <td>0.3442709</td>\n",
       "      <td>0.3580556</td>\n",
       "      <td>0.4582778</td>\n",
       "      <td>0.1836667</td>\n",
       "      <td>0.347</td>\n",
       "      <td>0.4230317</td>\n",
       "      <td>0.2299683</td>\n",
       "      <td>0.3147378</td>\n",
       "      <td>0.3295275</td>\n",
       "      <td>0.3557347</td>\n",
       "      <td>0</td>\n",
       "    </tr>\n",
       "    <tr>\n",
       "      <th>184</th>\n",
       "      <td>0.3467524</td>\n",
       "      <td>0.3207227</td>\n",
       "      <td>0.3325249</td>\n",
       "      <td>0.5268889</td>\n",
       "      <td>0.2276667</td>\n",
       "      <td>0.2454444</td>\n",
       "      <td>0.4517593</td>\n",
       "      <td>0.2403519</td>\n",
       "      <td>0.3078889</td>\n",
       "      <td>0.309642</td>\n",
       "      <td>0.3339901</td>\n",
       "      <td>0.3563679</td>\n",
       "      <td>2</td>\n",
       "    </tr>\n",
       "    <tr>\n",
       "      <th>185</th>\n",
       "      <td>0.3098979</td>\n",
       "      <td>0.3501795</td>\n",
       "      <td>0.3399226</td>\n",
       "      <td>0.2784444</td>\n",
       "      <td>0.1811111</td>\n",
       "      <td>0.5404444</td>\n",
       "      <td>0.3196111</td>\n",
       "      <td>0.1919444</td>\n",
       "      <td>0.4884444</td>\n",
       "      <td>0.3204131</td>\n",
       "      <td>0.329119</td>\n",
       "      <td>0.3504679</td>\n",
       "      <td>2</td>\n",
       "    </tr>\n",
       "    <tr>\n",
       "      <th>186</th>\n",
       "      <td>0.3098979</td>\n",
       "      <td>0.3501795</td>\n",
       "      <td>0.3399226</td>\n",
       "      <td>0.2935</td>\n",
       "      <td>0.4378889</td>\n",
       "      <td>0.2686111</td>\n",
       "      <td>0.3669683</td>\n",
       "      <td>0.3525635</td>\n",
       "      <td>0.2804683</td>\n",
       "      <td>0.3204131</td>\n",
       "      <td>0.329119</td>\n",
       "      <td>0.3504679</td>\n",
       "      <td>2</td>\n",
       "    </tr>\n",
       "    <tr>\n",
       "      <th>187</th>\n",
       "      <td>0.3101952</td>\n",
       "      <td>0.3455339</td>\n",
       "      <td>0.3442709</td>\n",
       "      <td>0.3550556</td>\n",
       "      <td>0.3202778</td>\n",
       "      <td>0.3246667</td>\n",
       "      <td>0.2835</td>\n",
       "      <td>0.3305317</td>\n",
       "      <td>0.3859683</td>\n",
       "      <td>0.3147378</td>\n",
       "      <td>0.3295275</td>\n",
       "      <td>0.3557347</td>\n",
       "      <td>1</td>\n",
       "    </tr>\n",
       "    <tr>\n",
       "      <th>188</th>\n",
       "      <td>0.3101952</td>\n",
       "      <td>0.3455339</td>\n",
       "      <td>0.3442709</td>\n",
       "      <td>0.5536667</td>\n",
       "      <td>0.2529444</td>\n",
       "      <td>0.1933889</td>\n",
       "      <td>0.5647222</td>\n",
       "      <td>0.2074444</td>\n",
       "      <td>0.2278333</td>\n",
       "      <td>0.3147378</td>\n",
       "      <td>0.3295275</td>\n",
       "      <td>0.3557347</td>\n",
       "      <td>0</td>\n",
       "    </tr>\n",
       "    <tr>\n",
       "      <th>189</th>\n",
       "      <td>0.3098979</td>\n",
       "      <td>0.3501795</td>\n",
       "      <td>0.3399226</td>\n",
       "      <td>0.1834444</td>\n",
       "      <td>0.4743889</td>\n",
       "      <td>0.3421667</td>\n",
       "      <td>0.1505926</td>\n",
       "      <td>0.5076111</td>\n",
       "      <td>0.3417963</td>\n",
       "      <td>0.3204131</td>\n",
       "      <td>0.329119</td>\n",
       "      <td>0.3504679</td>\n",
       "      <td>1</td>\n",
       "    </tr>\n",
       "    <tr>\n",
       "      <th>190</th>\n",
       "      <td>0.3098979</td>\n",
       "      <td>0.3501795</td>\n",
       "      <td>0.3399226</td>\n",
       "      <td>0.3769921</td>\n",
       "      <td>0.4933333</td>\n",
       "      <td>0.1296746</td>\n",
       "      <td>0.3802778</td>\n",
       "      <td>0.4578333</td>\n",
       "      <td>0.1618889</td>\n",
       "      <td>0.3204131</td>\n",
       "      <td>0.329119</td>\n",
       "      <td>0.3504679</td>\n",
       "      <td>2</td>\n",
       "    </tr>\n",
       "    <tr>\n",
       "      <th>191</th>\n",
       "      <td>0.3467524</td>\n",
       "      <td>0.3207227</td>\n",
       "      <td>0.3325249</td>\n",
       "      <td>0.2908016</td>\n",
       "      <td>0.2939206</td>\n",
       "      <td>0.4152778</td>\n",
       "      <td>0.3389206</td>\n",
       "      <td>0.2970344</td>\n",
       "      <td>0.364045</td>\n",
       "      <td>0.309642</td>\n",
       "      <td>0.3339901</td>\n",
       "      <td>0.3563679</td>\n",
       "      <td>0</td>\n",
       "    </tr>\n",
       "    <tr>\n",
       "      <th>192</th>\n",
       "      <td>0.3098979</td>\n",
       "      <td>0.3501795</td>\n",
       "      <td>0.3399226</td>\n",
       "      <td>0.2040556</td>\n",
       "      <td>0.2065556</td>\n",
       "      <td>0.5893889</td>\n",
       "      <td>0.2146667</td>\n",
       "      <td>0.1947778</td>\n",
       "      <td>0.5905556</td>\n",
       "      <td>0.3204131</td>\n",
       "      <td>0.329119</td>\n",
       "      <td>0.3504679</td>\n",
       "      <td>0</td>\n",
       "    </tr>\n",
       "    <tr>\n",
       "      <th>193</th>\n",
       "      <td>0.3098979</td>\n",
       "      <td>0.3501795</td>\n",
       "      <td>0.3399226</td>\n",
       "      <td>0.1814444</td>\n",
       "      <td>0.4697778</td>\n",
       "      <td>0.3487778</td>\n",
       "      <td>0.1873333</td>\n",
       "      <td>0.4547778</td>\n",
       "      <td>0.3578889</td>\n",
       "      <td>0.3204131</td>\n",
       "      <td>0.329119</td>\n",
       "      <td>0.3504679</td>\n",
       "      <td>1</td>\n",
       "    </tr>\n",
       "    <tr>\n",
       "      <th>194</th>\n",
       "      <td>0.3098979</td>\n",
       "      <td>0.3501795</td>\n",
       "      <td>0.3399226</td>\n",
       "      <td>0.318</td>\n",
       "      <td>0.2986111</td>\n",
       "      <td>0.3833889</td>\n",
       "      <td>0.3571111</td>\n",
       "      <td>0.3000556</td>\n",
       "      <td>0.3428333</td>\n",
       "      <td>0.3204131</td>\n",
       "      <td>0.329119</td>\n",
       "      <td>0.3504679</td>\n",
       "      <td>1</td>\n",
       "    </tr>\n",
       "    <tr>\n",
       "      <th>195</th>\n",
       "      <td>0.3467524</td>\n",
       "      <td>0.3207227</td>\n",
       "      <td>0.3325249</td>\n",
       "      <td>0.4542222</td>\n",
       "      <td>0.3806667</td>\n",
       "      <td>0.1651111</td>\n",
       "      <td>0.4519259</td>\n",
       "      <td>0.3531111</td>\n",
       "      <td>0.194963</td>\n",
       "      <td>0.309642</td>\n",
       "      <td>0.3339901</td>\n",
       "      <td>0.3563679</td>\n",
       "      <td>1</td>\n",
       "    </tr>\n",
       "    <tr>\n",
       "      <th>196</th>\n",
       "      <td>0.3467524</td>\n",
       "      <td>0.3207227</td>\n",
       "      <td>0.3325249</td>\n",
       "      <td>0.2805</td>\n",
       "      <td>0.2549921</td>\n",
       "      <td>0.4645079</td>\n",
       "      <td>0.2456111</td>\n",
       "      <td>0.2769444</td>\n",
       "      <td>0.4774444</td>\n",
       "      <td>0.309642</td>\n",
       "      <td>0.3339901</td>\n",
       "      <td>0.3563679</td>\n",
       "      <td>2</td>\n",
       "    </tr>\n",
       "    <tr>\n",
       "      <th>197</th>\n",
       "      <td>0.3098979</td>\n",
       "      <td>0.3501795</td>\n",
       "      <td>0.3399226</td>\n",
       "      <td>0.2831111</td>\n",
       "      <td>0.1701111</td>\n",
       "      <td>0.5467778</td>\n",
       "      <td>0.3634921</td>\n",
       "      <td>0.1497778</td>\n",
       "      <td>0.4867302</td>\n",
       "      <td>0.3204131</td>\n",
       "      <td>0.329119</td>\n",
       "      <td>0.3504679</td>\n",
       "      <td>2</td>\n",
       "    </tr>\n",
       "    <tr>\n",
       "      <th>198</th>\n",
       "      <td>0.3098979</td>\n",
       "      <td>0.3501795</td>\n",
       "      <td>0.3399226</td>\n",
       "      <td>0.2316111</td>\n",
       "      <td>0.4408333</td>\n",
       "      <td>0.3275556</td>\n",
       "      <td>0.2321111</td>\n",
       "      <td>0.4172222</td>\n",
       "      <td>0.3506667</td>\n",
       "      <td>0.3204131</td>\n",
       "      <td>0.329119</td>\n",
       "      <td>0.3504679</td>\n",
       "      <td>1</td>\n",
       "    </tr>\n",
       "    <tr>\n",
       "      <th>199</th>\n",
       "      <td>0.3101952</td>\n",
       "      <td>0.3455339</td>\n",
       "      <td>0.3442709</td>\n",
       "      <td>0.5351111</td>\n",
       "      <td>0.1319444</td>\n",
       "      <td>0.3329444</td>\n",
       "      <td>0.4528333</td>\n",
       "      <td>0.1750556</td>\n",
       "      <td>0.3721111</td>\n",
       "      <td>0.3147378</td>\n",
       "      <td>0.3295275</td>\n",
       "      <td>0.3557347</td>\n",
       "      <td>0</td>\n",
       "    </tr>\n",
       "    <tr>\n",
       "      <th>200</th>\n",
       "      <td>0.3098979</td>\n",
       "      <td>0.3501795</td>\n",
       "      <td>0.3399226</td>\n",
       "      <td>0.2821667</td>\n",
       "      <td>0.3965556</td>\n",
       "      <td>0.3212778</td>\n",
       "      <td>0.295</td>\n",
       "      <td>0.3732222</td>\n",
       "      <td>0.3317778</td>\n",
       "      <td>0.3204131</td>\n",
       "      <td>0.329119</td>\n",
       "      <td>0.3504679</td>\n",
       "      <td>1</td>\n",
       "    </tr>\n",
       "    <tr>\n",
       "      <th>201</th>\n",
       "      <td>0.3101952</td>\n",
       "      <td>0.3455339</td>\n",
       "      <td>0.3442709</td>\n",
       "      <td>0.4581667</td>\n",
       "      <td>0.214</td>\n",
       "      <td>0.3278333</td>\n",
       "      <td>0.4406579</td>\n",
       "      <td>0.2404444</td>\n",
       "      <td>0.3188977</td>\n",
       "      <td>0.3147378</td>\n",
       "      <td>0.3295275</td>\n",
       "      <td>0.3557347</td>\n",
       "      <td>1</td>\n",
       "    </tr>\n",
       "    <tr>\n",
       "      <th>202</th>\n",
       "      <td>0.3101952</td>\n",
       "      <td>0.3455339</td>\n",
       "      <td>0.3442709</td>\n",
       "      <td>0.2592222</td>\n",
       "      <td>0.3266667</td>\n",
       "      <td>0.4141111</td>\n",
       "      <td>0.2720556</td>\n",
       "      <td>0.3070714</td>\n",
       "      <td>0.420873</td>\n",
       "      <td>0.3147378</td>\n",
       "      <td>0.3295275</td>\n",
       "      <td>0.3557347</td>\n",
       "      <td>0</td>\n",
       "    </tr>\n",
       "    <tr>\n",
       "      <th>203</th>\n",
       "      <td>0.3101952</td>\n",
       "      <td>0.3455339</td>\n",
       "      <td>0.3442709</td>\n",
       "      <td>0.2238889</td>\n",
       "      <td>0.3811111</td>\n",
       "      <td>0.395</td>\n",
       "      <td>0.2580556</td>\n",
       "      <td>0.4085</td>\n",
       "      <td>0.3334444</td>\n",
       "      <td>0.3147378</td>\n",
       "      <td>0.3295275</td>\n",
       "      <td>0.3557347</td>\n",
       "      <td>1</td>\n",
       "    </tr>\n",
       "    <tr>\n",
       "      <th>204</th>\n",
       "      <td>0.3467524</td>\n",
       "      <td>0.3207227</td>\n",
       "      <td>0.3325249</td>\n",
       "      <td>0.1792778</td>\n",
       "      <td>0.5426667</td>\n",
       "      <td>0.2780556</td>\n",
       "      <td>0.1768333</td>\n",
       "      <td>0.5117407</td>\n",
       "      <td>0.3114259</td>\n",
       "      <td>0.309642</td>\n",
       "      <td>0.3339901</td>\n",
       "      <td>0.3563679</td>\n",
       "      <td>1</td>\n",
       "    </tr>\n",
       "    <tr>\n",
       "      <th>205</th>\n",
       "      <td>0.3467524</td>\n",
       "      <td>0.3207227</td>\n",
       "      <td>0.3325249</td>\n",
       "      <td>0.2408889</td>\n",
       "      <td>0.5829444</td>\n",
       "      <td>0.1761667</td>\n",
       "      <td>0.2276667</td>\n",
       "      <td>0.4966111</td>\n",
       "      <td>0.2757222</td>\n",
       "      <td>0.309642</td>\n",
       "      <td>0.3339901</td>\n",
       "      <td>0.3563679</td>\n",
       "      <td>0</td>\n",
       "    </tr>\n",
       "    <tr>\n",
       "      <th>206</th>\n",
       "      <td>0.3098979</td>\n",
       "      <td>0.3501795</td>\n",
       "      <td>0.3399226</td>\n",
       "      <td>0.34675</td>\n",
       "      <td>0.3298611</td>\n",
       "      <td>0.3233889</td>\n",
       "      <td>0.4130556</td>\n",
       "      <td>0.2785556</td>\n",
       "      <td>0.3083889</td>\n",
       "      <td>0.3204131</td>\n",
       "      <td>0.329119</td>\n",
       "      <td>0.3504679</td>\n",
       "      <td>1</td>\n",
       "    </tr>\n",
       "    <tr>\n",
       "      <th>207</th>\n",
       "      <td>0.3101952</td>\n",
       "      <td>0.3455339</td>\n",
       "      <td>0.3442709</td>\n",
       "      <td>0.2678889</td>\n",
       "      <td>0.4862778</td>\n",
       "      <td>0.2458333</td>\n",
       "      <td>0.277619</td>\n",
       "      <td>0.4964365</td>\n",
       "      <td>0.2259444</td>\n",
       "      <td>0.3147378</td>\n",
       "      <td>0.3295275</td>\n",
       "      <td>0.3557347</td>\n",
       "      <td>1</td>\n",
       "    </tr>\n",
       "    <tr>\n",
       "      <th>208</th>\n",
       "      <td>0.3467524</td>\n",
       "      <td>0.3207227</td>\n",
       "      <td>0.3325249</td>\n",
       "      <td>0.2937619</td>\n",
       "      <td>0.158373</td>\n",
       "      <td>0.5478651</td>\n",
       "      <td>0.4003148</td>\n",
       "      <td>0.1531667</td>\n",
       "      <td>0.4465185</td>\n",
       "      <td>0.309642</td>\n",
       "      <td>0.3339901</td>\n",
       "      <td>0.3563679</td>\n",
       "      <td>2</td>\n",
       "    </tr>\n",
       "    <tr>\n",
       "      <th>209</th>\n",
       "      <td>0.3098979</td>\n",
       "      <td>0.3501795</td>\n",
       "      <td>0.3399226</td>\n",
       "      <td>0.548</td>\n",
       "      <td>0.1745</td>\n",
       "      <td>0.2775</td>\n",
       "      <td>0.5466905</td>\n",
       "      <td>0.192</td>\n",
       "      <td>0.2613095</td>\n",
       "      <td>0.3204131</td>\n",
       "      <td>0.329119</td>\n",
       "      <td>0.3504679</td>\n",
       "      <td>0</td>\n",
       "    </tr>\n",
       "  </tbody>\n",
       "</table>\n",
       "<p>210 rows × 13 columns</p>\n",
       "</div>"
      ],
      "text/plain": [
       "         ada_0      ada_1      ada_2       rf_0       rf_1       rf_2  \\\n",
       "0    0.3101952  0.3455339  0.3442709  0.2046667  0.5547778  0.2405556   \n",
       "1    0.3467524  0.3207227  0.3325249  0.2325238  0.2058333  0.5616429   \n",
       "2    0.3098979  0.3501795  0.3399226      0.365  0.3122222  0.3227778   \n",
       "3    0.3098979  0.3501795  0.3399226     0.2725     0.3785      0.349   \n",
       "4    0.3101952  0.3455339  0.3442709  0.1528333  0.5883333  0.2588333   \n",
       "5    0.3467524  0.3207227  0.3325249  0.3537698  0.3068968  0.3393333   \n",
       "6    0.3101952  0.3455339  0.3442709  0.2732222  0.4892778     0.2375   \n",
       "7    0.3101952  0.3455339  0.3442709  0.2108333  0.4129444  0.3762222   \n",
       "8    0.3467524  0.3207227  0.3325249  0.3010238  0.2988095  0.4001667   \n",
       "9    0.3101952  0.3455339  0.3442709  0.4539444  0.2441111  0.3019444   \n",
       "10   0.3098979  0.3501795  0.3399226  0.1114524  0.3650635  0.5234841   \n",
       "11   0.3101952  0.3455339  0.3442709  0.2286984  0.1433333  0.6279683   \n",
       "12   0.3098979  0.3501795  0.3399226  0.2682778  0.3147222      0.417   \n",
       "13   0.3101952  0.3455339  0.3442709  0.1929762  0.3661111  0.4409127   \n",
       "14   0.3101952  0.3455339  0.3442709     0.2285  0.2979444  0.4735556   \n",
       "15   0.3467524  0.3207227  0.3325249  0.3406667  0.4311111  0.2282222   \n",
       "16   0.3467524  0.3207227  0.3325249     0.3175  0.2816667  0.4008333   \n",
       "17   0.3098979  0.3501795  0.3399226  0.2090556  0.3241111  0.4668333   \n",
       "18   0.3098979  0.3501795  0.3399226  0.1671111  0.1777222  0.6551667   \n",
       "19   0.3467524  0.3207227  0.3325249  0.4338889  0.2315714  0.3345397   \n",
       "20   0.3467524  0.3207227  0.3325249  0.1846667  0.4702778  0.3450556   \n",
       "21   0.3101952  0.3455339  0.3442709  0.2512222  0.3218889  0.4268889   \n",
       "22   0.3467524  0.3207227  0.3325249  0.4271111  0.3092778  0.2636111   \n",
       "23   0.3098979  0.3501795  0.3399226  0.3436111  0.3861111  0.2702778   \n",
       "24   0.3467524  0.3207227  0.3325249  0.4082222  0.3053333  0.2864444   \n",
       "25   0.3098979  0.3501795  0.3399226    0.30375     0.2985    0.39775   \n",
       "26   0.3467524  0.3207227  0.3325249  0.2968333  0.2767222  0.4264444   \n",
       "27   0.3101952  0.3455339  0.3442709  0.2888889  0.1863889  0.5247222   \n",
       "28   0.3098979  0.3501795  0.3399226  0.2186667  0.3427778  0.4385556   \n",
       "29   0.3467524  0.3207227  0.3325249  0.1990556     0.3815  0.4194444   \n",
       "..         ...        ...        ...        ...        ...        ...   \n",
       "180  0.3101952  0.3455339  0.3442709  0.2200556  0.3893889  0.3905556   \n",
       "181  0.3467524  0.3207227  0.3325249  0.2226349  0.5896429  0.1877222   \n",
       "182  0.3098979  0.3501795  0.3399226  0.3388333  0.2040556  0.4571111   \n",
       "183  0.3101952  0.3455339  0.3442709  0.3580556  0.4582778  0.1836667   \n",
       "184  0.3467524  0.3207227  0.3325249  0.5268889  0.2276667  0.2454444   \n",
       "185  0.3098979  0.3501795  0.3399226  0.2784444  0.1811111  0.5404444   \n",
       "186  0.3098979  0.3501795  0.3399226     0.2935  0.4378889  0.2686111   \n",
       "187  0.3101952  0.3455339  0.3442709  0.3550556  0.3202778  0.3246667   \n",
       "188  0.3101952  0.3455339  0.3442709  0.5536667  0.2529444  0.1933889   \n",
       "189  0.3098979  0.3501795  0.3399226  0.1834444  0.4743889  0.3421667   \n",
       "190  0.3098979  0.3501795  0.3399226  0.3769921  0.4933333  0.1296746   \n",
       "191  0.3467524  0.3207227  0.3325249  0.2908016  0.2939206  0.4152778   \n",
       "192  0.3098979  0.3501795  0.3399226  0.2040556  0.2065556  0.5893889   \n",
       "193  0.3098979  0.3501795  0.3399226  0.1814444  0.4697778  0.3487778   \n",
       "194  0.3098979  0.3501795  0.3399226      0.318  0.2986111  0.3833889   \n",
       "195  0.3467524  0.3207227  0.3325249  0.4542222  0.3806667  0.1651111   \n",
       "196  0.3467524  0.3207227  0.3325249     0.2805  0.2549921  0.4645079   \n",
       "197  0.3098979  0.3501795  0.3399226  0.2831111  0.1701111  0.5467778   \n",
       "198  0.3098979  0.3501795  0.3399226  0.2316111  0.4408333  0.3275556   \n",
       "199  0.3101952  0.3455339  0.3442709  0.5351111  0.1319444  0.3329444   \n",
       "200  0.3098979  0.3501795  0.3399226  0.2821667  0.3965556  0.3212778   \n",
       "201  0.3101952  0.3455339  0.3442709  0.4581667      0.214  0.3278333   \n",
       "202  0.3101952  0.3455339  0.3442709  0.2592222  0.3266667  0.4141111   \n",
       "203  0.3101952  0.3455339  0.3442709  0.2238889  0.3811111      0.395   \n",
       "204  0.3467524  0.3207227  0.3325249  0.1792778  0.5426667  0.2780556   \n",
       "205  0.3467524  0.3207227  0.3325249  0.2408889  0.5829444  0.1761667   \n",
       "206  0.3098979  0.3501795  0.3399226    0.34675  0.3298611  0.3233889   \n",
       "207  0.3101952  0.3455339  0.3442709  0.2678889  0.4862778  0.2458333   \n",
       "208  0.3467524  0.3207227  0.3325249  0.2937619   0.158373  0.5478651   \n",
       "209  0.3098979  0.3501795  0.3399226      0.548     0.1745     0.2775   \n",
       "\n",
       "       xgbst_0    xgbst_1    xgbst_2      SVM_0      SVM_1      SVM_2  y  \n",
       "0    0.1900556      0.526  0.2839444  0.3147378  0.3295275  0.3557347  1  \n",
       "1    0.2106111  0.2268333  0.5625556   0.309642  0.3339901  0.3563679  1  \n",
       "2    0.3448333  0.3502222  0.3049444  0.3204131   0.329119  0.3504679  1  \n",
       "3    0.2514444  0.3970556     0.3515  0.3204131   0.329119  0.3504679  0  \n",
       "4    0.1733333  0.5093889  0.3172778  0.3147378  0.3295275  0.3557347  2  \n",
       "5    0.2840556  0.3241667  0.3917778   0.309642  0.3339901  0.3563679  2  \n",
       "6    0.2476111  0.4972778  0.2551111  0.3147378  0.3295275  0.3557347  0  \n",
       "7        0.205  0.4534444  0.3415556  0.3147378  0.3295275  0.3557347  2  \n",
       "8    0.2987778  0.3131111  0.3881111   0.309642  0.3339901  0.3563679  0  \n",
       "9    0.4769444  0.2442222  0.2788333  0.3147378  0.3295275  0.3557347  1  \n",
       "10   0.1431111  0.4173889     0.4395  0.3204131   0.329119  0.3504679  2  \n",
       "11   0.2043333  0.1176111  0.6780556  0.3147378  0.3295275  0.3557347  1  \n",
       "12   0.2804841      0.328  0.3915159  0.3204131   0.329119  0.3504679  1  \n",
       "13   0.1850397  0.3945714  0.4203889  0.3147378  0.3295275  0.3557347  1  \n",
       "14   0.2090635  0.2407381  0.5501984  0.3147378  0.3295275  0.3557347  0  \n",
       "15   0.3670079  0.4363333  0.1966587   0.309642  0.3339901  0.3563679  1  \n",
       "16   0.2958333  0.2528333  0.4513333   0.309642  0.3339901  0.3563679  0  \n",
       "17    0.188373  0.3164444  0.4951825  0.3204131   0.329119  0.3504679  2  \n",
       "18       0.154  0.2446111  0.6013889  0.3204131   0.329119  0.3504679  0  \n",
       "19   0.4335556  0.2260185  0.3404259   0.309642  0.3339901  0.3563679  2  \n",
       "20   0.1772778  0.4796667  0.3430556   0.309642  0.3339901  0.3563679  2  \n",
       "21   0.2348889  0.3493889  0.4157222  0.3147378  0.3295275  0.3557347  0  \n",
       "22   0.4650556  0.3107778  0.2241667   0.309642  0.3339901  0.3563679  1  \n",
       "23   0.3387222  0.3543333  0.3069444  0.3204131   0.329119  0.3504679  0  \n",
       "24   0.4006111  0.3017963  0.2975926   0.309642  0.3339901  0.3563679  2  \n",
       "25   0.2925476      0.285  0.4224524  0.3204131   0.329119  0.3504679  0  \n",
       "26   0.2956111  0.3119444  0.3924444   0.309642  0.3339901  0.3563679  1  \n",
       "27   0.3333889  0.1786111      0.488  0.3147378  0.3295275  0.3557347  0  \n",
       "28   0.1860556  0.3488889  0.4650556  0.3204131   0.329119  0.3504679  2  \n",
       "29      0.1665  0.3918333  0.4416667   0.309642  0.3339901  0.3563679  0  \n",
       "..         ...        ...        ...        ...        ...        ... ..  \n",
       "180  0.2169444  0.3727778  0.4102778  0.3147378  0.3295275  0.3557347  1  \n",
       "181  0.1933333      0.569  0.2376667   0.309642  0.3339901  0.3563679  0  \n",
       "182  0.3413333  0.1998333  0.4588333  0.3204131   0.329119  0.3504679  0  \n",
       "183      0.347  0.4230317  0.2299683  0.3147378  0.3295275  0.3557347  0  \n",
       "184  0.4517593  0.2403519  0.3078889   0.309642  0.3339901  0.3563679  2  \n",
       "185  0.3196111  0.1919444  0.4884444  0.3204131   0.329119  0.3504679  2  \n",
       "186  0.3669683  0.3525635  0.2804683  0.3204131   0.329119  0.3504679  2  \n",
       "187     0.2835  0.3305317  0.3859683  0.3147378  0.3295275  0.3557347  1  \n",
       "188  0.5647222  0.2074444  0.2278333  0.3147378  0.3295275  0.3557347  0  \n",
       "189  0.1505926  0.5076111  0.3417963  0.3204131   0.329119  0.3504679  1  \n",
       "190  0.3802778  0.4578333  0.1618889  0.3204131   0.329119  0.3504679  2  \n",
       "191  0.3389206  0.2970344   0.364045   0.309642  0.3339901  0.3563679  0  \n",
       "192  0.2146667  0.1947778  0.5905556  0.3204131   0.329119  0.3504679  0  \n",
       "193  0.1873333  0.4547778  0.3578889  0.3204131   0.329119  0.3504679  1  \n",
       "194  0.3571111  0.3000556  0.3428333  0.3204131   0.329119  0.3504679  1  \n",
       "195  0.4519259  0.3531111   0.194963   0.309642  0.3339901  0.3563679  1  \n",
       "196  0.2456111  0.2769444  0.4774444   0.309642  0.3339901  0.3563679  2  \n",
       "197  0.3634921  0.1497778  0.4867302  0.3204131   0.329119  0.3504679  2  \n",
       "198  0.2321111  0.4172222  0.3506667  0.3204131   0.329119  0.3504679  1  \n",
       "199  0.4528333  0.1750556  0.3721111  0.3147378  0.3295275  0.3557347  0  \n",
       "200      0.295  0.3732222  0.3317778  0.3204131   0.329119  0.3504679  1  \n",
       "201  0.4406579  0.2404444  0.3188977  0.3147378  0.3295275  0.3557347  1  \n",
       "202  0.2720556  0.3070714   0.420873  0.3147378  0.3295275  0.3557347  0  \n",
       "203  0.2580556     0.4085  0.3334444  0.3147378  0.3295275  0.3557347  1  \n",
       "204  0.1768333  0.5117407  0.3114259   0.309642  0.3339901  0.3563679  1  \n",
       "205  0.2276667  0.4966111  0.2757222   0.309642  0.3339901  0.3563679  0  \n",
       "206  0.4130556  0.2785556  0.3083889  0.3204131   0.329119  0.3504679  1  \n",
       "207   0.277619  0.4964365  0.2259444  0.3147378  0.3295275  0.3557347  1  \n",
       "208  0.4003148  0.1531667  0.4465185   0.309642  0.3339901  0.3563679  2  \n",
       "209  0.5466905      0.192  0.2613095  0.3204131   0.329119  0.3504679  0  \n",
       "\n",
       "[210 rows x 13 columns]"
      ]
     },
     "execution_count": 198,
     "metadata": {},
     "output_type": "execute_result"
    }
   ],
   "source": [
    "tr=train1.copy()\n",
    "tr['y']=train['y']\n",
    "tr"
   ]
  },
  {
   "cell_type": "code",
   "execution_count": null,
   "metadata": {
    "collapsed": true
   },
   "outputs": [],
   "source": []
  },
  {
   "cell_type": "code",
   "execution_count": null,
   "metadata": {
    "collapsed": true
   },
   "outputs": [],
   "source": []
  }
 ],
 "metadata": {
  "kernelspec": {
   "display_name": "Python 2",
   "language": "python",
   "name": "python2"
  },
  "language_info": {
   "codemirror_mode": {
    "name": "ipython",
    "version": 2
   },
   "file_extension": ".py",
   "mimetype": "text/x-python",
   "name": "python",
   "nbconvert_exporter": "python",
   "pygments_lexer": "ipython2",
   "version": "2.7.10"
  }
 },
 "nbformat": 4,
 "nbformat_minor": 0
}
