{
 "cells": [
  {
   "cell_type": "code",
   "execution_count": 49,
   "metadata": {
    "collapsed": true
   },
   "outputs": [],
   "source": [
    "import pandas as pd\n",
    "import numpy as np\n",
    "\n",
    "%matplotlib inline\n",
    "import matplotlib.pyplot as plt\n",
    "import seaborn as sns\n",
    "\n",
    "from sklearn.cross_validation import train_test_split\n",
    "\n",
    "import xgboost as xgb"
   ]
  },
  {
   "cell_type": "code",
   "execution_count": 50,
   "metadata": {
    "collapsed": true
   },
   "outputs": [],
   "source": [
    "PATH_TO_DATA = '../data/'"
   ]
  },
  {
   "cell_type": "code",
   "execution_count": 51,
   "metadata": {
    "collapsed": false
   },
   "outputs": [],
   "source": [
    "y = pd.read_csv(PATH_TO_DATA + 'y_train.csv')['time'].values\n",
    " \n",
    "train = pd.read_csv(PATH_TO_DATA + 'x_train.csv')\n",
    "test = pd.read_csv(PATH_TO_DATA + 'x_test.csv')"
   ]
  },
  {
   "cell_type": "markdown",
   "metadata": {
    "collapsed": true
   },
   "source": [
    "_______"
   ]
  },
  {
   "cell_type": "code",
   "execution_count": 52,
   "metadata": {
    "collapsed": false
   },
   "outputs": [
    {
     "data": {
      "text/html": [
       "<div>\n",
       "<table border=\"1\" class=\"dataframe\">\n",
       "  <thead>\n",
       "    <tr style=\"text-align: right;\">\n",
       "      <th></th>\n",
       "      <th>m</th>\n",
       "      <th>k</th>\n",
       "      <th>n</th>\n",
       "      <th>cacheL1IsShared</th>\n",
       "      <th>cacheL1Size</th>\n",
       "      <th>cacheL2IsShared</th>\n",
       "      <th>cacheL2Size</th>\n",
       "      <th>cacheL3IsShared</th>\n",
       "      <th>cacheL3Size</th>\n",
       "      <th>cacheL1Threads</th>\n",
       "      <th>...</th>\n",
       "      <th>SeqCopy_15MB_by256</th>\n",
       "      <th>SeqCopy_16MB_by256</th>\n",
       "      <th>SeqCopy_20MB_by256</th>\n",
       "      <th>SeqCopy_21MB_by256</th>\n",
       "      <th>SeqCopy_32MB_by256</th>\n",
       "      <th>SeqCopy_48MB_by256</th>\n",
       "      <th>SeqCopy_64MB_by256</th>\n",
       "      <th>SeqCopy_72MB_by256</th>\n",
       "      <th>SeqCopy_96MB_by256</th>\n",
       "      <th>SeqCopy_128MB_by256</th>\n",
       "    </tr>\n",
       "  </thead>\n",
       "  <tbody>\n",
       "    <tr>\n",
       "      <th>0</th>\n",
       "      <td>2500</td>\n",
       "      <td>3500</td>\n",
       "      <td>5000</td>\n",
       "      <td>0</td>\n",
       "      <td>32</td>\n",
       "      <td>0</td>\n",
       "      <td>256</td>\n",
       "      <td>1</td>\n",
       "      <td>10240</td>\n",
       "      <td>2</td>\n",
       "      <td>...</td>\n",
       "      <td>5504.6</td>\n",
       "      <td>5871.6</td>\n",
       "      <td>5454.5</td>\n",
       "      <td>5201.8</td>\n",
       "      <td>5236.4</td>\n",
       "      <td>5724.8</td>\n",
       "      <td>5236.4</td>\n",
       "      <td>5236.4</td>\n",
       "      <td>6165.1</td>\n",
       "      <td>5120</td>\n",
       "    </tr>\n",
       "    <tr>\n",
       "      <th>1</th>\n",
       "      <td>2500</td>\n",
       "      <td>4000</td>\n",
       "      <td>4500</td>\n",
       "      <td>0</td>\n",
       "      <td>32</td>\n",
       "      <td>0</td>\n",
       "      <td>256</td>\n",
       "      <td>1</td>\n",
       "      <td>10240</td>\n",
       "      <td>2</td>\n",
       "      <td>...</td>\n",
       "      <td>5504.6</td>\n",
       "      <td>5871.6</td>\n",
       "      <td>5454.5</td>\n",
       "      <td>5201.8</td>\n",
       "      <td>5236.4</td>\n",
       "      <td>5724.8</td>\n",
       "      <td>5236.4</td>\n",
       "      <td>5236.4</td>\n",
       "      <td>6165.1</td>\n",
       "      <td>5120</td>\n",
       "    </tr>\n",
       "    <tr>\n",
       "      <th>2</th>\n",
       "      <td>2500</td>\n",
       "      <td>4000</td>\n",
       "      <td>5000</td>\n",
       "      <td>0</td>\n",
       "      <td>32</td>\n",
       "      <td>0</td>\n",
       "      <td>256</td>\n",
       "      <td>1</td>\n",
       "      <td>10240</td>\n",
       "      <td>2</td>\n",
       "      <td>...</td>\n",
       "      <td>5504.6</td>\n",
       "      <td>5871.6</td>\n",
       "      <td>5454.5</td>\n",
       "      <td>5201.8</td>\n",
       "      <td>5236.4</td>\n",
       "      <td>5724.8</td>\n",
       "      <td>5236.4</td>\n",
       "      <td>5236.4</td>\n",
       "      <td>6165.1</td>\n",
       "      <td>5120</td>\n",
       "    </tr>\n",
       "    <tr>\n",
       "      <th>3</th>\n",
       "      <td>2500</td>\n",
       "      <td>4500</td>\n",
       "      <td>5000</td>\n",
       "      <td>0</td>\n",
       "      <td>32</td>\n",
       "      <td>0</td>\n",
       "      <td>256</td>\n",
       "      <td>1</td>\n",
       "      <td>10240</td>\n",
       "      <td>2</td>\n",
       "      <td>...</td>\n",
       "      <td>5504.6</td>\n",
       "      <td>5871.6</td>\n",
       "      <td>5454.5</td>\n",
       "      <td>5201.8</td>\n",
       "      <td>5236.4</td>\n",
       "      <td>5724.8</td>\n",
       "      <td>5236.4</td>\n",
       "      <td>5236.4</td>\n",
       "      <td>6165.1</td>\n",
       "      <td>5120</td>\n",
       "    </tr>\n",
       "    <tr>\n",
       "      <th>4</th>\n",
       "      <td>2500</td>\n",
       "      <td>5000</td>\n",
       "      <td>5000</td>\n",
       "      <td>0</td>\n",
       "      <td>32</td>\n",
       "      <td>0</td>\n",
       "      <td>256</td>\n",
       "      <td>1</td>\n",
       "      <td>10240</td>\n",
       "      <td>2</td>\n",
       "      <td>...</td>\n",
       "      <td>5504.6</td>\n",
       "      <td>5871.6</td>\n",
       "      <td>5454.5</td>\n",
       "      <td>5201.8</td>\n",
       "      <td>5236.4</td>\n",
       "      <td>5724.8</td>\n",
       "      <td>5236.4</td>\n",
       "      <td>5236.4</td>\n",
       "      <td>6165.1</td>\n",
       "      <td>5120</td>\n",
       "    </tr>\n",
       "  </tbody>\n",
       "</table>\n",
       "<p>5 rows × 951 columns</p>\n",
       "</div>"
      ],
      "text/plain": [
       "      m     k     n  cacheL1IsShared  cacheL1Size  cacheL2IsShared  \\\n",
       "0  2500  3500  5000                0           32                0   \n",
       "1  2500  4000  4500                0           32                0   \n",
       "2  2500  4000  5000                0           32                0   \n",
       "3  2500  4500  5000                0           32                0   \n",
       "4  2500  5000  5000                0           32                0   \n",
       "\n",
       "   cacheL2Size  cacheL3IsShared  cacheL3Size  cacheL1Threads  \\\n",
       "0          256                1        10240               2   \n",
       "1          256                1        10240               2   \n",
       "2          256                1        10240               2   \n",
       "3          256                1        10240               2   \n",
       "4          256                1        10240               2   \n",
       "\n",
       "          ...           SeqCopy_15MB_by256  SeqCopy_16MB_by256  \\\n",
       "0         ...                       5504.6              5871.6   \n",
       "1         ...                       5504.6              5871.6   \n",
       "2         ...                       5504.6              5871.6   \n",
       "3         ...                       5504.6              5871.6   \n",
       "4         ...                       5504.6              5871.6   \n",
       "\n",
       "   SeqCopy_20MB_by256 SeqCopy_21MB_by256  SeqCopy_32MB_by256  \\\n",
       "0              5454.5             5201.8              5236.4   \n",
       "1              5454.5             5201.8              5236.4   \n",
       "2              5454.5             5201.8              5236.4   \n",
       "3              5454.5             5201.8              5236.4   \n",
       "4              5454.5             5201.8              5236.4   \n",
       "\n",
       "   SeqCopy_48MB_by256 SeqCopy_64MB_by256 SeqCopy_72MB_by256  \\\n",
       "0              5724.8             5236.4             5236.4   \n",
       "1              5724.8             5236.4             5236.4   \n",
       "2              5724.8             5236.4             5236.4   \n",
       "3              5724.8             5236.4             5236.4   \n",
       "4              5724.8             5236.4             5236.4   \n",
       "\n",
       "   SeqCopy_96MB_by256  SeqCopy_128MB_by256  \n",
       "0              6165.1                 5120  \n",
       "1              6165.1                 5120  \n",
       "2              6165.1                 5120  \n",
       "3              6165.1                 5120  \n",
       "4              6165.1                 5120  \n",
       "\n",
       "[5 rows x 951 columns]"
      ]
     },
     "execution_count": 52,
     "metadata": {},
     "output_type": "execute_result"
    }
   ],
   "source": [
    "train.head()"
   ]
  },
  {
   "cell_type": "code",
   "execution_count": 53,
   "metadata": {
    "collapsed": false
   },
   "outputs": [
    {
     "data": {
      "text/plain": [
       "numpy.int64"
      ]
     },
     "execution_count": 53,
     "metadata": {},
     "output_type": "execute_result"
    }
   ],
   "source": [
    "type(train['n'][0])"
   ]
  },
  {
   "cell_type": "code",
   "execution_count": 54,
   "metadata": {
    "collapsed": false
   },
   "outputs": [
    {
     "data": {
      "text/html": [
       "<div>\n",
       "<table border=\"1\" class=\"dataframe\">\n",
       "  <thead>\n",
       "    <tr style=\"text-align: right;\">\n",
       "      <th></th>\n",
       "      <th>m</th>\n",
       "      <th>k</th>\n",
       "      <th>n</th>\n",
       "      <th>cacheL1IsShared</th>\n",
       "      <th>cacheL1Size</th>\n",
       "      <th>cacheL2IsShared</th>\n",
       "      <th>cacheL2Size</th>\n",
       "      <th>cacheL3IsShared</th>\n",
       "      <th>cacheL3Size</th>\n",
       "      <th>cacheL1Threads</th>\n",
       "      <th>...</th>\n",
       "      <th>SeqCopy_15MB_by256</th>\n",
       "      <th>SeqCopy_16MB_by256</th>\n",
       "      <th>SeqCopy_20MB_by256</th>\n",
       "      <th>SeqCopy_21MB_by256</th>\n",
       "      <th>SeqCopy_32MB_by256</th>\n",
       "      <th>SeqCopy_48MB_by256</th>\n",
       "      <th>SeqCopy_64MB_by256</th>\n",
       "      <th>SeqCopy_72MB_by256</th>\n",
       "      <th>SeqCopy_96MB_by256</th>\n",
       "      <th>SeqCopy_128MB_by256</th>\n",
       "    </tr>\n",
       "  </thead>\n",
       "  <tbody>\n",
       "    <tr>\n",
       "      <th>count</th>\n",
       "      <td>4993.000000</td>\n",
       "      <td>4993.000000</td>\n",
       "      <td>4993.00000</td>\n",
       "      <td>4993.000000</td>\n",
       "      <td>4993.000000</td>\n",
       "      <td>4993.000000</td>\n",
       "      <td>4993.000000</td>\n",
       "      <td>4993</td>\n",
       "      <td>4993.000000</td>\n",
       "      <td>4993.000000</td>\n",
       "      <td>...</td>\n",
       "      <td>4993.000000</td>\n",
       "      <td>4993.000000</td>\n",
       "      <td>4993.000000</td>\n",
       "      <td>4993.000000</td>\n",
       "      <td>4993.000000</td>\n",
       "      <td>4993.000000</td>\n",
       "      <td>4993.000000</td>\n",
       "      <td>4993.000000</td>\n",
       "      <td>4993.000000</td>\n",
       "      <td>4993.000000</td>\n",
       "    </tr>\n",
       "    <tr>\n",
       "      <th>mean</th>\n",
       "      <td>2334.908872</td>\n",
       "      <td>3416.002403</td>\n",
       "      <td>4278.65011</td>\n",
       "      <td>0.110955</td>\n",
       "      <td>31.770879</td>\n",
       "      <td>0.284398</td>\n",
       "      <td>1037.023032</td>\n",
       "      <td>1</td>\n",
       "      <td>2757.601442</td>\n",
       "      <td>1.697977</td>\n",
       "      <td>...</td>\n",
       "      <td>1621.255498</td>\n",
       "      <td>1621.588384</td>\n",
       "      <td>1596.146385</td>\n",
       "      <td>1612.031324</td>\n",
       "      <td>1611.807731</td>\n",
       "      <td>1606.438734</td>\n",
       "      <td>1604.371200</td>\n",
       "      <td>1612.451552</td>\n",
       "      <td>1644.013879</td>\n",
       "      <td>1601.620328</td>\n",
       "    </tr>\n",
       "    <tr>\n",
       "      <th>std</th>\n",
       "      <td>965.277107</td>\n",
       "      <td>958.595081</td>\n",
       "      <td>758.97199</td>\n",
       "      <td>0.314108</td>\n",
       "      <td>10.725541</td>\n",
       "      <td>0.451172</td>\n",
       "      <td>1278.887099</td>\n",
       "      <td>0</td>\n",
       "      <td>2707.943529</td>\n",
       "      <td>0.599237</td>\n",
       "      <td>...</td>\n",
       "      <td>2147.862345</td>\n",
       "      <td>2160.137753</td>\n",
       "      <td>2118.671953</td>\n",
       "      <td>2142.922839</td>\n",
       "      <td>2142.368387</td>\n",
       "      <td>2113.398015</td>\n",
       "      <td>2128.514083</td>\n",
       "      <td>2138.750232</td>\n",
       "      <td>2179.267134</td>\n",
       "      <td>2127.031880</td>\n",
       "    </tr>\n",
       "    <tr>\n",
       "      <th>min</th>\n",
       "      <td>300.000000</td>\n",
       "      <td>700.000000</td>\n",
       "      <td>900.00000</td>\n",
       "      <td>0.000000</td>\n",
       "      <td>8.000000</td>\n",
       "      <td>0.000000</td>\n",
       "      <td>256.000000</td>\n",
       "      <td>1</td>\n",
       "      <td>0.000000</td>\n",
       "      <td>1.000000</td>\n",
       "      <td>...</td>\n",
       "      <td>0.000000</td>\n",
       "      <td>0.000000</td>\n",
       "      <td>0.000000</td>\n",
       "      <td>0.000000</td>\n",
       "      <td>0.000000</td>\n",
       "      <td>0.000000</td>\n",
       "      <td>0.000000</td>\n",
       "      <td>0.000000</td>\n",
       "      <td>0.000000</td>\n",
       "      <td>0.000000</td>\n",
       "    </tr>\n",
       "    <tr>\n",
       "      <th>25%</th>\n",
       "      <td>1500.000000</td>\n",
       "      <td>2500.000000</td>\n",
       "      <td>4000.00000</td>\n",
       "      <td>0.000000</td>\n",
       "      <td>32.000000</td>\n",
       "      <td>0.000000</td>\n",
       "      <td>256.000000</td>\n",
       "      <td>1</td>\n",
       "      <td>0.000000</td>\n",
       "      <td>1.000000</td>\n",
       "      <td>...</td>\n",
       "      <td>0.000000</td>\n",
       "      <td>0.000000</td>\n",
       "      <td>0.000000</td>\n",
       "      <td>0.000000</td>\n",
       "      <td>0.000000</td>\n",
       "      <td>0.000000</td>\n",
       "      <td>0.000000</td>\n",
       "      <td>0.000000</td>\n",
       "      <td>0.000000</td>\n",
       "      <td>0.000000</td>\n",
       "    </tr>\n",
       "    <tr>\n",
       "      <th>50%</th>\n",
       "      <td>2000.000000</td>\n",
       "      <td>3500.000000</td>\n",
       "      <td>4500.00000</td>\n",
       "      <td>0.000000</td>\n",
       "      <td>32.000000</td>\n",
       "      <td>0.000000</td>\n",
       "      <td>256.000000</td>\n",
       "      <td>1</td>\n",
       "      <td>3072.000000</td>\n",
       "      <td>2.000000</td>\n",
       "      <td>...</td>\n",
       "      <td>0.000000</td>\n",
       "      <td>0.000000</td>\n",
       "      <td>0.000000</td>\n",
       "      <td>0.000000</td>\n",
       "      <td>0.000000</td>\n",
       "      <td>0.000000</td>\n",
       "      <td>0.000000</td>\n",
       "      <td>0.000000</td>\n",
       "      <td>0.000000</td>\n",
       "      <td>0.000000</td>\n",
       "    </tr>\n",
       "    <tr>\n",
       "      <th>75%</th>\n",
       "      <td>3000.000000</td>\n",
       "      <td>4000.000000</td>\n",
       "      <td>5000.00000</td>\n",
       "      <td>0.000000</td>\n",
       "      <td>32.000000</td>\n",
       "      <td>1.000000</td>\n",
       "      <td>2048.000000</td>\n",
       "      <td>1</td>\n",
       "      <td>4096.000000</td>\n",
       "      <td>2.000000</td>\n",
       "      <td>...</td>\n",
       "      <td>3302.800000</td>\n",
       "      <td>3490.900000</td>\n",
       "      <td>3272.700000</td>\n",
       "      <td>3436.400000</td>\n",
       "      <td>3522.900000</td>\n",
       "      <td>3490.900000</td>\n",
       "      <td>3490.900000</td>\n",
       "      <td>3302.800000</td>\n",
       "      <td>3522.900000</td>\n",
       "      <td>3522.900000</td>\n",
       "    </tr>\n",
       "    <tr>\n",
       "      <th>max</th>\n",
       "      <td>5000.000000</td>\n",
       "      <td>5000.000000</td>\n",
       "      <td>5000.00000</td>\n",
       "      <td>1.000000</td>\n",
       "      <td>64.000000</td>\n",
       "      <td>1.000000</td>\n",
       "      <td>6144.000000</td>\n",
       "      <td>1</td>\n",
       "      <td>10240.000000</td>\n",
       "      <td>6.000000</td>\n",
       "      <td>...</td>\n",
       "      <td>7156.000000</td>\n",
       "      <td>7045.900000</td>\n",
       "      <td>6605.500000</td>\n",
       "      <td>6935.800000</td>\n",
       "      <td>6458.700000</td>\n",
       "      <td>6605.500000</td>\n",
       "      <td>6458.700000</td>\n",
       "      <td>6605.500000</td>\n",
       "      <td>7045.900000</td>\n",
       "      <td>7045.900000</td>\n",
       "    </tr>\n",
       "  </tbody>\n",
       "</table>\n",
       "<p>8 rows × 945 columns</p>\n",
       "</div>"
      ],
      "text/plain": [
       "                 m            k           n  cacheL1IsShared  cacheL1Size  \\\n",
       "count  4993.000000  4993.000000  4993.00000      4993.000000  4993.000000   \n",
       "mean   2334.908872  3416.002403  4278.65011         0.110955    31.770879   \n",
       "std     965.277107   958.595081   758.97199         0.314108    10.725541   \n",
       "min     300.000000   700.000000   900.00000         0.000000     8.000000   \n",
       "25%    1500.000000  2500.000000  4000.00000         0.000000    32.000000   \n",
       "50%    2000.000000  3500.000000  4500.00000         0.000000    32.000000   \n",
       "75%    3000.000000  4000.000000  5000.00000         0.000000    32.000000   \n",
       "max    5000.000000  5000.000000  5000.00000         1.000000    64.000000   \n",
       "\n",
       "       cacheL2IsShared  cacheL2Size  cacheL3IsShared   cacheL3Size  \\\n",
       "count      4993.000000  4993.000000             4993   4993.000000   \n",
       "mean          0.284398  1037.023032                1   2757.601442   \n",
       "std           0.451172  1278.887099                0   2707.943529   \n",
       "min           0.000000   256.000000                1      0.000000   \n",
       "25%           0.000000   256.000000                1      0.000000   \n",
       "50%           0.000000   256.000000                1   3072.000000   \n",
       "75%           1.000000  2048.000000                1   4096.000000   \n",
       "max           1.000000  6144.000000                1  10240.000000   \n",
       "\n",
       "       cacheL1Threads         ...           SeqCopy_15MB_by256  \\\n",
       "count     4993.000000         ...                  4993.000000   \n",
       "mean         1.697977         ...                  1621.255498   \n",
       "std          0.599237         ...                  2147.862345   \n",
       "min          1.000000         ...                     0.000000   \n",
       "25%          1.000000         ...                     0.000000   \n",
       "50%          2.000000         ...                     0.000000   \n",
       "75%          2.000000         ...                  3302.800000   \n",
       "max          6.000000         ...                  7156.000000   \n",
       "\n",
       "       SeqCopy_16MB_by256  SeqCopy_20MB_by256  SeqCopy_21MB_by256  \\\n",
       "count         4993.000000         4993.000000         4993.000000   \n",
       "mean          1621.588384         1596.146385         1612.031324   \n",
       "std           2160.137753         2118.671953         2142.922839   \n",
       "min              0.000000            0.000000            0.000000   \n",
       "25%              0.000000            0.000000            0.000000   \n",
       "50%              0.000000            0.000000            0.000000   \n",
       "75%           3490.900000         3272.700000         3436.400000   \n",
       "max           7045.900000         6605.500000         6935.800000   \n",
       "\n",
       "       SeqCopy_32MB_by256  SeqCopy_48MB_by256  SeqCopy_64MB_by256  \\\n",
       "count         4993.000000         4993.000000         4993.000000   \n",
       "mean          1611.807731         1606.438734         1604.371200   \n",
       "std           2142.368387         2113.398015         2128.514083   \n",
       "min              0.000000            0.000000            0.000000   \n",
       "25%              0.000000            0.000000            0.000000   \n",
       "50%              0.000000            0.000000            0.000000   \n",
       "75%           3522.900000         3490.900000         3490.900000   \n",
       "max           6458.700000         6605.500000         6458.700000   \n",
       "\n",
       "       SeqCopy_72MB_by256  SeqCopy_96MB_by256  SeqCopy_128MB_by256  \n",
       "count         4993.000000         4993.000000          4993.000000  \n",
       "mean          1612.451552         1644.013879          1601.620328  \n",
       "std           2138.750232         2179.267134          2127.031880  \n",
       "min              0.000000            0.000000             0.000000  \n",
       "25%              0.000000            0.000000             0.000000  \n",
       "50%              0.000000            0.000000             0.000000  \n",
       "75%           3302.800000         3522.900000          3522.900000  \n",
       "max           6605.500000         7045.900000          7045.900000  \n",
       "\n",
       "[8 rows x 945 columns]"
      ]
     },
     "execution_count": 54,
     "metadata": {},
     "output_type": "execute_result"
    }
   ],
   "source": [
    "train.describe()"
   ]
  },
  {
   "cell_type": "markdown",
   "metadata": {},
   "source": [
    "> 6 не числовых фичей"
   ]
  },
  {
   "cell_type": "markdown",
   "metadata": {},
   "source": [
    "#### выделим не числовые значения "
   ]
  },
  {
   "cell_type": "code",
   "execution_count": 55,
   "metadata": {
    "collapsed": false
   },
   "outputs": [],
   "source": [
    "# текстовые фичи\n",
    "cols = []\n",
    "for i in train.columns.values:\n",
    "    if type(train[i][0])==np.str:\n",
    "        cols.append(i)"
   ]
  },
  {
   "cell_type": "code",
   "execution_count": 56,
   "metadata": {
    "collapsed": false
   },
   "outputs": [
    {
     "name": "stdout",
     "output_type": "stream",
     "text": [
      "string features: ['memFreq', 'memType', 'memtRFC', 'os', 'cpuFull', 'cpuArch']\n"
     ]
    }
   ],
   "source": [
    "print ('string features:', cols)"
   ]
  },
  {
   "cell_type": "code",
   "execution_count": 57,
   "metadata": {
    "collapsed": false
   },
   "outputs": [
    {
     "data": {
      "text/html": [
       "<div>\n",
       "<table border=\"1\" class=\"dataframe\">\n",
       "  <thead>\n",
       "    <tr style=\"text-align: right;\">\n",
       "      <th></th>\n",
       "      <th>memFreq</th>\n",
       "      <th>memType</th>\n",
       "      <th>memtRFC</th>\n",
       "      <th>os</th>\n",
       "      <th>cpuFull</th>\n",
       "      <th>cpuArch</th>\n",
       "    </tr>\n",
       "  </thead>\n",
       "  <tbody>\n",
       "    <tr>\n",
       "      <th>0</th>\n",
       "      <td>800.5</td>\n",
       "      <td>DDR3-SDRAM PC3-12800</td>\n",
       "      <td>1023</td>\n",
       "      <td>Windows 7 Professional Professional Media Cent...</td>\n",
       "      <td>Intel(R) Core(TM) i7-3820 CPU @ 3.60GHz</td>\n",
       "      <td>Sandy Bridge-E</td>\n",
       "    </tr>\n",
       "    <tr>\n",
       "      <th>1</th>\n",
       "      <td>800.5</td>\n",
       "      <td>DDR3-SDRAM PC3-12800</td>\n",
       "      <td>1023</td>\n",
       "      <td>Windows 7 Professional Professional Media Cent...</td>\n",
       "      <td>Intel(R) Core(TM) i7-3820 CPU @ 3.60GHz</td>\n",
       "      <td>Sandy Bridge-E</td>\n",
       "    </tr>\n",
       "    <tr>\n",
       "      <th>2</th>\n",
       "      <td>800.5</td>\n",
       "      <td>DDR3-SDRAM PC3-12800</td>\n",
       "      <td>1023</td>\n",
       "      <td>Windows 7 Professional Professional Media Cent...</td>\n",
       "      <td>Intel(R) Core(TM) i7-3820 CPU @ 3.60GHz</td>\n",
       "      <td>Sandy Bridge-E</td>\n",
       "    </tr>\n",
       "    <tr>\n",
       "      <th>3</th>\n",
       "      <td>800.5</td>\n",
       "      <td>DDR3-SDRAM PC3-12800</td>\n",
       "      <td>1023</td>\n",
       "      <td>Windows 7 Professional Professional Media Cent...</td>\n",
       "      <td>Intel(R) Core(TM) i7-3820 CPU @ 3.60GHz</td>\n",
       "      <td>Sandy Bridge-E</td>\n",
       "    </tr>\n",
       "    <tr>\n",
       "      <th>4</th>\n",
       "      <td>800.5</td>\n",
       "      <td>DDR3-SDRAM PC3-12800</td>\n",
       "      <td>1023</td>\n",
       "      <td>Windows 7 Professional Professional Media Cent...</td>\n",
       "      <td>Intel(R) Core(TM) i7-3820 CPU @ 3.60GHz</td>\n",
       "      <td>Sandy Bridge-E</td>\n",
       "    </tr>\n",
       "  </tbody>\n",
       "</table>\n",
       "</div>"
      ],
      "text/plain": [
       "  memFreq               memType memtRFC  \\\n",
       "0   800.5  DDR3-SDRAM PC3-12800    1023   \n",
       "1   800.5  DDR3-SDRAM PC3-12800    1023   \n",
       "2   800.5  DDR3-SDRAM PC3-12800    1023   \n",
       "3   800.5  DDR3-SDRAM PC3-12800    1023   \n",
       "4   800.5  DDR3-SDRAM PC3-12800    1023   \n",
       "\n",
       "                                                  os  \\\n",
       "0  Windows 7 Professional Professional Media Cent...   \n",
       "1  Windows 7 Professional Professional Media Cent...   \n",
       "2  Windows 7 Professional Professional Media Cent...   \n",
       "3  Windows 7 Professional Professional Media Cent...   \n",
       "4  Windows 7 Professional Professional Media Cent...   \n",
       "\n",
       "                                   cpuFull         cpuArch  \n",
       "0  Intel(R) Core(TM) i7-3820 CPU @ 3.60GHz  Sandy Bridge-E  \n",
       "1  Intel(R) Core(TM) i7-3820 CPU @ 3.60GHz  Sandy Bridge-E  \n",
       "2  Intel(R) Core(TM) i7-3820 CPU @ 3.60GHz  Sandy Bridge-E  \n",
       "3  Intel(R) Core(TM) i7-3820 CPU @ 3.60GHz  Sandy Bridge-E  \n",
       "4  Intel(R) Core(TM) i7-3820 CPU @ 3.60GHz  Sandy Bridge-E  "
      ]
     },
     "execution_count": 57,
     "metadata": {},
     "output_type": "execute_result"
    }
   ],
   "source": [
    "train[cols].head()"
   ]
  },
  {
   "cell_type": "markdown",
   "metadata": {},
   "source": [
    "_____"
   ]
  },
  {
   "cell_type": "markdown",
   "metadata": {},
   "source": [
    "### Обработаем их"
   ]
  },
  {
   "cell_type": "code",
   "execution_count": 58,
   "metadata": {
    "collapsed": true
   },
   "outputs": [],
   "source": [
    "a = train.memFreq.values"
   ]
  },
  {
   "cell_type": "code",
   "execution_count": 59,
   "metadata": {
    "collapsed": false
   },
   "outputs": [
    {
     "data": {
      "text/plain": [
       "array(['132.9', '199.6', '200', '200.7', '332.5', '333', '333.4', '333.6',\n",
       "       '333.9', '334.3', '339.2', '351.6', '399', '399.1', '399.6', '400',\n",
       "       '400.7', '400.8', '401.3', '465.5', '532.1', '532.2', '532.4',\n",
       "       '548.1', '561.5', '653.1', '665.2', '665.3', '666.6', '666.7',\n",
       "       '666.8', '669.1', '686.8', '796.5', '798', '798.2', '798.3',\n",
       "       '798.8', '799.8', '800', '800.1', '800.2', '800.5', '824.2', '99.7',\n",
       "       'None'], dtype=object)"
      ]
     },
     "execution_count": 59,
     "metadata": {},
     "output_type": "execute_result"
    }
   ],
   "source": [
    "np.unique(a)"
   ]
  },
  {
   "cell_type": "code",
   "execution_count": 60,
   "metadata": {
    "collapsed": false
   },
   "outputs": [
    {
     "data": {
      "text/plain": [
       "46"
      ]
     },
     "execution_count": 60,
     "metadata": {},
     "output_type": "execute_result"
    }
   ],
   "source": [
    "len(np.unique(a))"
   ]
  },
  {
   "cell_type": "code",
   "execution_count": 61,
   "metadata": {
    "collapsed": false
   },
   "outputs": [
    {
     "data": {
      "text/plain": [
       "(array([  531.,     0.,     0.,     0.,     0.,     0.,    77.,     0.,\n",
       "           94.,     0.,     0.,     0.,   219.,     0.,     0.,     0.,\n",
       "            0.,     0.,     0.,     0.,   626.,    70.,     0.,     0.,\n",
       "          739.,     0.,     0.,     0.,    37.,     0.,     0.,     0.,\n",
       "          337.,    70.,    69.,     0.,     0.,     0.,     0.,    35.,\n",
       "         1131.,    29.,     0.,     0.,     0.,     0.,     0.,     0.,\n",
       "          918.,    11.]),\n",
       " array([   0.   ,   16.484,   32.968,   49.452,   65.936,   82.42 ,\n",
       "          98.904,  115.388,  131.872,  148.356,  164.84 ,  181.324,\n",
       "         197.808,  214.292,  230.776,  247.26 ,  263.744,  280.228,\n",
       "         296.712,  313.196,  329.68 ,  346.164,  362.648,  379.132,\n",
       "         395.616,  412.1  ,  428.584,  445.068,  461.552,  478.036,\n",
       "         494.52 ,  511.004,  527.488,  543.972,  560.456,  576.94 ,\n",
       "         593.424,  609.908,  626.392,  642.876,  659.36 ,  675.844,\n",
       "         692.328,  708.812,  725.296,  741.78 ,  758.264,  774.748,\n",
       "         791.232,  807.716,  824.2  ]),\n",
       " <a list of 50 Patch objects>)"
      ]
     },
     "execution_count": 61,
     "metadata": {},
     "output_type": "execute_result"
    },
    {
     "data": {
      "image/png": "[encoded data removed]",
      "text/plain": [
       "<matplotlib.figure.Figure at 0x115cc57f0>"
      ]
     },
     "metadata": {},
     "output_type": "display_data"
    }
   ],
   "source": [
    "a[a=='None'] = 0\n",
    "plt.hist(a.astype(float), bins = 50)"
   ]
  },
  {
   "cell_type": "code",
   "execution_count": 62,
   "metadata": {
    "collapsed": false
   },
   "outputs": [],
   "source": [
    "# просто переведем данные в числовой формат и заменим в трейне значения числами\n",
    "\n",
    "a = train.memFreq.values\n",
    "a[a=='None'] = 0\n",
    "train.memFreq = a.astype(float) \n",
    "\n",
    "# то же и для теста \n",
    "a = test.memFreq.values\n",
    "a[a=='None'] = 0\n",
    "test.memFreq = a.astype(float)"
   ]
  },
  {
   "cell_type": "code",
   "execution_count": 63,
   "metadata": {
    "collapsed": false
   },
   "outputs": [],
   "source": [
    "# удалим из cols  memFreq теперь потому что в нем ток числа\n",
    "cols.remove('memFreq')"
   ]
  },
  {
   "cell_type": "code",
   "execution_count": 64,
   "metadata": {
    "collapsed": false
   },
   "outputs": [
    {
     "data": {
      "text/plain": [
       "['memType', 'memtRFC', 'os', 'cpuFull', 'cpuArch']"
      ]
     },
     "execution_count": 64,
     "metadata": {},
     "output_type": "execute_result"
    }
   ],
   "source": [
    "cols"
   ]
  },
  {
   "cell_type": "markdown",
   "metadata": {},
   "source": [
    "____"
   ]
  },
  {
   "cell_type": "code",
   "execution_count": 65,
   "metadata": {
    "collapsed": false
   },
   "outputs": [
    {
     "name": "stdout",
     "output_type": "stream",
     "text": [
      "['DDR-SDRAM PC-1600' 'DDR-SDRAM PC-2100' 'DDR-SDRAM PC-3200'\n",
      " 'DDR-SDRAM PC3200' 'DDR2-SDRAM PC2-3200' 'DDR2-SDRAM PC2-5300'\n",
      " 'DDR2-SDRAM PC2-5400' 'DDR2-SDRAM PC2-5600' 'DDR2-SDRAM PC2-6400'\n",
      " 'DDR3-SDRAM PC3-10400' 'DDR3-SDRAM PC3-10600' 'DDR3-SDRAM PC3-10700'\n",
      " 'DDR3-SDRAM PC3-11000' 'DDR3-SDRAM PC3-12700' 'DDR3-SDRAM PC3-12800'\n",
      " 'DDR3-SDRAM PC3-13200' 'DDR3-SDRAM PC3-6400' 'DDR3-SDRAM PC3-7400'\n",
      " 'DDR3-SDRAM PC3-8500' 'DDR3-SDRAM PC3-8800' 'DDR3-SDRAM PC3-9000'\n",
      " 'FB-DDR2 PC2-5300' 'None'] 23\n"
     ]
    }
   ],
   "source": [
    "a = train.memType.values\n",
    "tmp = np.unique(a)\n",
    "print (tmp, len(tmp))"
   ]
  },
  {
   "cell_type": "code",
   "execution_count": null,
   "metadata": {
    "collapsed": false
   },
   "outputs": [],
   "source": []
  },
  {
   "cell_type": "code",
   "execution_count": 66,
   "metadata": {
    "collapsed": true
   },
   "outputs": [],
   "source": [
    "# https://ru.wikipedia.org/wiki/DDR_SDRAM\n",
    "\n",
    "peak_transfer_rate = {\n",
    "    'DDR-SDRAM PC-1600': 1600,\n",
    "    'DDR-SDRAM PC-2100': 2133,\n",
    "    'DDR-SDRAM PC-3200': 3200,\n",
    "    'DDR-SDRAM PC3200': 3200,\n",
    "    \n",
    "    'DDR2-SDRAM PC2-3200': 3200,\n",
    "    'DDR2-SDRAM PC2-5300': 5300,\n",
    "    'DDR2-SDRAM PC2-5400': 5400,\n",
    "    'DDR2-SDRAM PC2-5600': 5600,\n",
    "    'DDR2-SDRAM PC2-6400': 6400,\n",
    "\n",
    "\n",
    "    'DDR3-SDRAM PC3-6400': 6400,\n",
    "    'DDR3-SDRAM PC3-7400': 7400, \n",
    "    'DDR3-SDRAM PC3-8500': 8500,\n",
    "    'DDR3-SDRAM PC3-8800': 8800, \n",
    "    'DDR3-SDRAM PC3-9000': 9033, \n",
    "    \n",
    "    'DDR3-SDRAM PC3-10400': 10400,\n",
    "    'DDR3-SDRAM PC3-10600': 10600,\n",
    "    'DDR3-SDRAM PC3-10700': 10700,\n",
    "    'DDR3-SDRAM PC3-11000': 11000,\n",
    "    'DDR3-SDRAM PC3-12700': 12700,\n",
    "    'DDR3-SDRAM PC3-12800': 12800,\n",
    "    'DDR3-SDRAM PC3-13200': 13200,\n",
    "    \n",
    "    \n",
    "    'FB-DDR2 PC2-5300': 5300,\n",
    "    'None' : 5500\n",
    "}\n",
    "\n",
    "\n",
    "range_bus = {\n",
    "    'DDR-SDRAM PC-1600': 1,\n",
    "    'DDR-SDRAM PC-2100': 1,\n",
    "    'DDR-SDRAM PC-3200': 1,\n",
    "    'DDR-SDRAM PC3200': 1,\n",
    "    \n",
    "    'DDR2-SDRAM PC2-3200': 2,\n",
    "    'DDR2-SDRAM PC2-5300': 2,\n",
    "    'DDR2-SDRAM PC2-5400': 2,\n",
    "    'DDR2-SDRAM PC2-5600': 2,\n",
    "    'DDR2-SDRAM PC2-6400': 2,\n",
    "\n",
    "\n",
    "    'DDR3-SDRAM PC3-6400': 3,\n",
    "    'DDR3-SDRAM PC3-7400': 3, \n",
    "    'DDR3-SDRAM PC3-8500': 3,\n",
    "    'DDR3-SDRAM PC3-8800': 3, \n",
    "    'DDR3-SDRAM PC3-9000': 3, \n",
    "    \n",
    "    'DDR3-SDRAM PC3-10400': 3,\n",
    "    'DDR3-SDRAM PC3-10600': 3,\n",
    "    'DDR3-SDRAM PC3-10700': 3,\n",
    "    'DDR3-SDRAM PC3-11000': 3,\n",
    "    'DDR3-SDRAM PC3-12700': 3,\n",
    "    'DDR3-SDRAM PC3-12800': 3,\n",
    "    'DDR3-SDRAM PC3-13200': 3, \n",
    "    \n",
    "    \n",
    "    'FB-DDR2 PC2-5300': 2,\n",
    "    'None' : 3\n",
    "}\n"
   ]
  },
  {
   "cell_type": "code",
   "execution_count": 67,
   "metadata": {
    "collapsed": false
   },
   "outputs": [],
   "source": [
    "a = train.memType.values\n",
    "\n",
    "b = [range_bus[i] for i in a]\n",
    "train['memType_bus_generation'] = pd.Series(b)\n",
    "b = [peak_transfer_rate[i] for i in a]\n",
    "train['memType_peak_transfer_rate'] = pd.Series(b)\n",
    "\n",
    "\n",
    "a = test.memType.values\n",
    "\n",
    "b = [range_bus[i] for i in a]\n",
    "test['memType_bus_generation'] = pd.Series(b)\n",
    "b = [peak_transfer_rate[i] for i in a]\n",
    "test['memType_peak_transfer_rate'] = pd.Series(b)\n"
   ]
  },
  {
   "cell_type": "markdown",
   "metadata": {},
   "source": [
    "____"
   ]
  },
  {
   "cell_type": "code",
   "execution_count": 68,
   "metadata": {
    "collapsed": false
   },
   "outputs": [
    {
     "name": "stdout",
     "output_type": "stream",
     "text": [
      "['1023' '107' '128' '14' '174' '208' '36' '42' '44' '52' '54' '59' '60'\n",
      " '74' '86' 'None'] 16\n"
     ]
    }
   ],
   "source": [
    "a = train.memtRFC.values\n",
    "tmp = np.unique(a)\n",
    "print (tmp, len(tmp))"
   ]
  },
  {
   "cell_type": "code",
   "execution_count": 69,
   "metadata": {
    "collapsed": true
   },
   "outputs": [],
   "source": [
    "# просто переведем данные в числовой формат и заменим в трейне значения числами\n",
    "\n",
    "a = train.memtRFC.values\n",
    "a[a=='None'] = 0\n",
    "train.memtRFC = a.astype(float) \n",
    "\n",
    "# то же и для теста \n",
    "a = test.memtRFC.values\n",
    "a[a=='None'] = 0\n",
    "test.memtRFC = a.astype(float)\n",
    "\n",
    "# удалим из cols  memtRFC теперь потому что в нем ток числа\n",
    "cols.remove('memtRFC')"
   ]
  },
  {
   "cell_type": "markdown",
   "metadata": {},
   "source": [
    "_____"
   ]
  },
  {
   "cell_type": "code",
   "execution_count": 70,
   "metadata": {
    "collapsed": false
   },
   "outputs": [
    {
     "data": {
      "text/plain": [
       "['memType', 'os', 'cpuFull', 'cpuArch']"
      ]
     },
     "execution_count": 70,
     "metadata": {},
     "output_type": "execute_result"
    }
   ],
   "source": [
    "cols"
   ]
  },
  {
   "cell_type": "markdown",
   "metadata": {},
   "source": [
    "memType - мы обработали, \n",
    "\n",
    "\n",
    "'memType', 'os', 'cpuFull', 'cpuArch' - думаю можно оставить на волю one-hot encoding'a"
   ]
  },
  {
   "cell_type": "markdown",
   "metadata": {},
   "source": [
    "### Погенерим еще фичей"
   ]
  },
  {
   "cell_type": "markdown",
   "metadata": {
    "collapsed": true
   },
   "source": [
    "> постараемся добавить эффект многопроцессорности cpuCores x cpuCount, cpuCores x cpuFreq"
   ]
  },
  {
   "cell_type": "code",
   "execution_count": 71,
   "metadata": {
    "collapsed": true
   },
   "outputs": [],
   "source": [
    "train['cpuCores_prod_cpuCount'] = train.cpuCores * train.cpuCount\n",
    "train['cpuCores_prod_cpuFreq'] = train.cpuCores * train.cpuFreq\n",
    "train['cpuCount_prod_cpuFreq'] = train.cpuCount * train.cpuFreq\n",
    "train['cpuCount_prod_cpuBusFreq'] = train.cpuCount * train.cpuBusFreq\n",
    "\n",
    "\n",
    "test['cpuCores_prod_cpuCount'] = test.cpuCores * test.cpuCount\n",
    "test['cpuCount_prod_cpuFreq'] = test.cpuCount * test.cpuFreq\n",
    "test['cpuCount_prod_cpuBusFreq'] = test.cpuCount * test.cpuBusFreq\n",
    "test['cpuCores_prod_cpuBusFreq'] = test.cpuCores * test.cpuBusFreq\n"
   ]
  },
  {
   "cell_type": "code",
   "execution_count": null,
   "metadata": {
    "collapsed": true
   },
   "outputs": [],
   "source": []
  },
  {
   "cell_type": "code",
   "execution_count": null,
   "metadata": {
    "collapsed": true
   },
   "outputs": [],
   "source": []
  },
  {
   "cell_type": "code",
   "execution_count": null,
   "metadata": {
    "collapsed": true
   },
   "outputs": [],
   "source": []
  },
  {
   "cell_type": "code",
   "execution_count": null,
   "metadata": {
    "collapsed": true
   },
   "outputs": [],
   "source": []
  },
  {
   "cell_type": "code",
   "execution_count": null,
   "metadata": {
    "collapsed": true
   },
   "outputs": [],
   "source": []
  },
  {
   "cell_type": "code",
   "execution_count": null,
   "metadata": {
    "collapsed": true
   },
   "outputs": [],
   "source": []
  },
  {
   "cell_type": "markdown",
   "metadata": {
    "collapsed": true
   },
   "source": [
    "## идея 1 - выбрать критериально фичи\n",
    "\n",
    "from sklearn.feature_selection import SelectKBest\n",
    "from sklearn.feature_selection import chi2\n",
    "iris = load_iris()\n",
    "X, y = iris.data, iris.target\n",
    "X_new = SelectKBest(chi2, k=2).fit_transform(X, y)"
   ]
  },
  {
   "cell_type": "code",
   "execution_count": null,
   "metadata": {
    "collapsed": true
   },
   "outputs": [],
   "source": []
  },
  {
   "cell_type": "code",
   "execution_count": null,
   "metadata": {
    "collapsed": true
   },
   "outputs": [],
   "source": []
  },
  {
   "cell_type": "code",
   "execution_count": null,
   "metadata": {
    "collapsed": true
   },
   "outputs": [],
   "source": []
  },
  {
   "cell_type": "code",
   "execution_count": null,
   "metadata": {
    "collapsed": true
   },
   "outputs": [],
   "source": []
  },
  {
   "cell_type": "code",
   "execution_count": null,
   "metadata": {
    "collapsed": true
   },
   "outputs": [],
   "source": []
  },
  {
   "cell_type": "code",
   "execution_count": null,
   "metadata": {
    "collapsed": true
   },
   "outputs": [],
   "source": []
  },
  {
   "cell_type": "code",
   "execution_count": null,
   "metadata": {
    "collapsed": true
   },
   "outputs": [],
   "source": []
  },
  {
   "cell_type": "code",
   "execution_count": null,
   "metadata": {
    "collapsed": true
   },
   "outputs": [],
   "source": []
  },
  {
   "cell_type": "code",
   "execution_count": null,
   "metadata": {
    "collapsed": false
   },
   "outputs": [],
   "source": []
  },
  {
   "cell_type": "code",
   "execution_count": null,
   "metadata": {
    "collapsed": true
   },
   "outputs": [],
   "source": []
  },
  {
   "cell_type": "code",
   "execution_count": null,
   "metadata": {
    "collapsed": true
   },
   "outputs": [],
   "source": []
  },
  {
   "cell_type": "markdown",
   "metadata": {},
   "source": [
    "# one hot encoding"
   ]
  },
  {
   "cell_type": "code",
   "execution_count": 72,
   "metadata": {
    "collapsed": false
   },
   "outputs": [
    {
     "name": "stdout",
     "output_type": "stream",
     "text": [
      "(4993, 957)\n"
     ]
    }
   ],
   "source": [
    "print(train.shape)"
   ]
  },
  {
   "cell_type": "code",
   "execution_count": 73,
   "metadata": {
    "collapsed": false
   },
   "outputs": [],
   "source": [
    "train = pd.concat([train, pd.get_dummies(train[['memType', 'os', 'cpuFull', 'cpuArch']])], axis=1) "
   ]
  },
  {
   "cell_type": "code",
   "execution_count": 74,
   "metadata": {
    "collapsed": true
   },
   "outputs": [],
   "source": [
    "test = pd.concat([test, pd.get_dummies(test[['memType', 'os', 'cpuFull', 'cpuArch']])], axis=1) "
   ]
  },
  {
   "cell_type": "code",
   "execution_count": 75,
   "metadata": {
    "collapsed": false
   },
   "outputs": [
    {
     "name": "stdout",
     "output_type": "stream",
     "text": [
      "(4993, 1110)\n"
     ]
    }
   ],
   "source": [
    "print(train.shape)"
   ]
  },
  {
   "cell_type": "code",
   "execution_count": null,
   "metadata": {
    "collapsed": true
   },
   "outputs": [],
   "source": []
  },
  {
   "cell_type": "code",
   "execution_count": null,
   "metadata": {
    "collapsed": false
   },
   "outputs": [],
   "source": []
  },
  {
   "cell_type": "markdown",
   "metadata": {
    "collapsed": true
   },
   "source": [
    "____"
   ]
  },
  {
   "cell_type": "markdown",
   "metadata": {},
   "source": [
    "#  перейдем к моделям"
   ]
  },
  {
   "cell_type": "markdown",
   "metadata": {
    "collapsed": true
   },
   "source": [
    "_____"
   ]
  },
  {
   "cell_type": "markdown",
   "metadata": {},
   "source": [
    "______"
   ]
  },
  {
   "cell_type": "code",
   "execution_count": 77,
   "metadata": {
    "collapsed": true
   },
   "outputs": [],
   "source": [
    "test = test.drop(cols, axis=1).values\n",
    "train = train.drop(cols, axis=1).values"
   ]
  },
  {
   "cell_type": "code",
   "execution_count": 78,
   "metadata": {
    "collapsed": true
   },
   "outputs": [],
   "source": [
    "from sklearn.preprocessing import StandardScaler\n",
    "\n",
    "sc = StandardScaler()"
   ]
  },
  {
   "cell_type": "code",
   "execution_count": 79,
   "metadata": {
    "collapsed": false
   },
   "outputs": [
    {
     "name": "stdout",
     "output_type": "stream",
     "text": [
      "(4993,) (4993, 1106)\n"
     ]
    }
   ],
   "source": [
    "print (y.shape, train.shape)\n",
    "\n",
    "# split out data for taking holdout set for evaluation\n",
    "X_train, X_test, y_train, y_test = train_test_split(train, y, test_size=0.33, random_state=42)"
   ]
  },
  {
   "cell_type": "code",
   "execution_count": 80,
   "metadata": {
    "collapsed": false
   },
   "outputs": [],
   "source": [
    "X_train = sc.fit_transform(X_train)\n",
    "X_test = sc.transform(X_test)"
   ]
  },
  {
   "cell_type": "code",
   "execution_count": 81,
   "metadata": {
    "collapsed": true
   },
   "outputs": [],
   "source": [
    "train = sc.fit_transform(train)\n",
    "test = sc.transform(test)"
   ]
  },
  {
   "cell_type": "code",
   "execution_count": null,
   "metadata": {
    "collapsed": true
   },
   "outputs": [],
   "source": []
  },
  {
   "cell_type": "markdown",
   "metadata": {},
   "source": [
    "### потюним модельку"
   ]
  },
  {
   "cell_type": "code",
   "execution_count": 82,
   "metadata": {
    "collapsed": true
   },
   "outputs": [],
   "source": [
    "from sklearn.grid_search import GridSearchCV"
   ]
  },
  {
   "cell_type": "code",
   "execution_count": 50,
   "metadata": {
    "collapsed": false
   },
   "outputs": [],
   "source": [
    "params = {'max_depth':[7], 'learning_rate' :[0.03, 0.04, 0.07], 'n_estimators':[150], \n",
    "          'reg_lambda':[0.000001], 'colsample_bytree':[1], 'reg_alpha' : [0.0001] }\n",
    "clf = xgb.XGBRegressor()\n",
    "\n",
    "gs_xgb = GridSearchCV(clf, params, n_jobs=-1, scoring='mean_squared_error', verbose = True)"
   ]
  },
  {
   "cell_type": "code",
   "execution_count": 51,
   "metadata": {
    "collapsed": false,
    "scrolled": true
   },
   "outputs": [
    {
     "name": "stdout",
     "output_type": "stream",
     "text": [
      "Fitting 3 folds for each of 3 candidates, totalling 9 fits\n"
     ]
    },
    {
     "name": "stderr",
     "output_type": "stream",
     "text": [
      "[Parallel(n_jobs=-1)]: Done  10 out of   9 | elapsed:   48.6s remaining:   -4.9s\n",
      "[Parallel(n_jobs=-1)]: Done  10 out of   9 | elapsed:   48.6s remaining:   -4.9s\n",
      "[Parallel(n_jobs=-1)]: Done  10 out of   9 | elapsed:  1.6min remaining:   -9.8s\n",
      "[Parallel(n_jobs=-1)]: Done  10 out of   9 | elapsed:  1.6min remaining:   -9.9s\n",
      "[Parallel(n_jobs=-1)]: Done  10 out of   9 | elapsed:  1.7min remaining:   -9.9s\n",
      "[Parallel(n_jobs=-1)]: Done  10 out of   9 | elapsed:  1.7min remaining:  -10.0s\n",
      "[Parallel(n_jobs=-1)]: Done  10 out of   9 | elapsed:  2.1min remaining:  -12.4s\n",
      "[Parallel(n_jobs=-1)]: Done   9 out of   9 | elapsed:  2.1min finished\n"
     ]
    },
    {
     "name": "stdout",
     "output_type": "stream",
     "text": [
      "[CV] learning_rate=0.03, colsample_bytree=1, max_depth=7, n_estimators=150, reg_alpha=0.0001, reg_lambda=1e-06 \n",
      "[CV] learning_rate=0.03, colsample_bytree=1, max_depth=7, n_estimators=150, reg_alpha=0.0001, reg_lambda=1e-06 \n",
      "[CV] learning_rate=0.03, colsample_bytree=1, max_depth=7, n_estimators=150, reg_alpha=0.0001, reg_lambda=1e-06 \n",
      "[CV] learning_rate=0.04, colsample_bytree=1, max_depth=7, n_estimators=150, reg_alpha=0.0001, reg_lambda=1e-06 \n",
      "[CV]  learning_rate=0.03, colsample_bytree=1, max_depth=7, n_estimators=150, reg_alpha=0.0001, reg_lambda=1e-06, score=-43.588470 -  48.4s[CV]  learning_rate=0.03, colsample_bytree=1, max_depth=7, n_estimators=150, reg_alpha=0.0001, reg_lambda=1e-06, score=-92.778648 -  48.4s[CV]  learning_rate=0.03, colsample_bytree=1, max_depth=7, n_estimators=150, reg_alpha=0.0001, reg_lambda=1e-06, score=-31.158631 -  48.2s[CV]  learning_rate=0.04, colsample_bytree=1, max_depth=7, n_estimators=150, reg_alpha=0.0001, reg_lambda=1e-06, score=-42.972035 -  48.1s\n",
      "\n",
      "\n",
      "\n",
      "[CV] learning_rate=0.07, colsample_bytree=1, max_depth=7, n_estimators=150, reg_alpha=0.0001, reg_lambda=1e-06 \n",
      "[CV] learning_rate=0.07, colsample_bytree=1, max_depth=7, n_estimators=150, reg_alpha=0.0001, reg_lambda=1e-06 \n",
      "[CV] learning_rate=0.04, colsample_bytree=1, max_depth=7, n_estimators=150, reg_alpha=0.0001, reg_lambda=1e-06 \n",
      "[CV] learning_rate=0.04, colsample_bytree=1, max_depth=7, n_estimators=150, reg_alpha=0.0001, reg_lambda=1e-06 \n",
      "[CV]  learning_rate=0.07, colsample_bytree=1, max_depth=7, n_estimators=150, reg_alpha=0.0001, reg_lambda=1e-06, score=-44.007553 -  50.9s[CV]  learning_rate=0.07, colsample_bytree=1, max_depth=7, n_estimators=150, reg_alpha=0.0001, reg_lambda=1e-06, score=-91.790707 -  50.6s[CV]  learning_rate=0.04, colsample_bytree=1, max_depth=7, n_estimators=150, reg_alpha=0.0001, reg_lambda=1e-06, score=-30.629298 -  49.7s[CV]  learning_rate=0.04, colsample_bytree=1, max_depth=7, n_estimators=150, reg_alpha=0.0001, reg_lambda=1e-06, score=-91.863246 -  50.2s\n",
      "\n",
      "\n",
      "\n",
      "[CV] learning_rate=0.07, colsample_bytree=1, max_depth=7, n_estimators=150, reg_alpha=0.0001, reg_lambda=1e-06 \n",
      "[CV]  learning_rate=0.07, colsample_bytree=1, max_depth=7, n_estimators=150, reg_alpha=0.0001, reg_lambda=1e-06, score=-30.032068 -  25.7s\n"
     ]
    },
    {
     "data": {
      "text/plain": [
       "GridSearchCV(cv=None, error_score='raise',\n",
       "       estimator=XGBRegressor(base_score=0.5, colsample_bylevel=1, colsample_bytree=1, gamma=0,\n",
       "       learning_rate=0.1, max_delta_step=0, max_depth=3,\n",
       "       min_child_weight=1, missing=None, n_estimators=100, nthread=-1,\n",
       "       objective='reg:linear', reg_alpha=0, reg_lambda=1,\n",
       "       scale_pos_weight=1, seed=0, silent=True, subsample=1),\n",
       "       fit_params={}, iid=True, n_jobs=-1,\n",
       "       param_grid={'learning_rate': [0.03, 0.04, 0.07], 'colsample_bytree': [1], 'max_depth': [7], 'n_estimators': [150], 'reg_alpha': [0.0001], 'reg_lambda': [1e-06]},\n",
       "       pre_dispatch='2*n_jobs', refit=True, scoring='mean_squared_error',\n",
       "       verbose=10)"
      ]
     },
     "execution_count": 51,
     "metadata": {},
     "output_type": "execute_result"
    }
   ],
   "source": [
    "gs_xgb.fit(X_train, y_train)"
   ]
  },
  {
   "cell_type": "code",
   "execution_count": null,
   "metadata": {
    "collapsed": false,
    "scrolled": true
   },
   "outputs": [],
   "source": [
    "gs_xgb.best_params_"
   ]
  },
  {
   "cell_type": "code",
   "execution_count": null,
   "metadata": {
    "collapsed": true
   },
   "outputs": [],
   "source": []
  },
  {
   "cell_type": "code",
   "execution_count": null,
   "metadata": {
    "collapsed": true
   },
   "outputs": [],
   "source": []
  },
  {
   "cell_type": "code",
   "execution_count": 96,
   "metadata": {
    "collapsed": false,
    "scrolled": false
   },
   "outputs": [
    {
     "name": "stderr",
     "output_type": "stream",
     "text": [
      "[0]\tvalidation_0-rmse:23.417585\tvalidation_1-rmse:27.794855\n",
      "[1]\tvalidation_0-rmse:22.245255\tvalidation_1-rmse:26.470634\n",
      "[2]\tvalidation_0-rmse:21.078461\tvalidation_1-rmse:25.208109\n",
      "[3]\tvalidation_0-rmse:20.426262\tvalidation_1-rmse:24.568329\n",
      "[4]\tvalidation_0-rmse:19.832077\tvalidation_1-rmse:23.979227\n",
      "[5]\tvalidation_0-rmse:18.874874\tvalidation_1-rmse:22.944002\n",
      "[6]\tvalidation_0-rmse:17.870918\tvalidation_1-rmse:21.801514\n",
      "[7]\tvalidation_0-rmse:16.998276\tvalidation_1-rmse:20.844034\n",
      "[8]\tvalidation_0-rmse:16.133139\tvalidation_1-rmse:19.896021\n",
      "[9]\tvalidation_0-rmse:15.321811\tvalidation_1-rmse:19.031452\n",
      "[10]\tvalidation_0-rmse:14.683124\tvalidation_1-rmse:18.354435\n",
      "[11]\tvalidation_0-rmse:13.931676\tvalidation_1-rmse:17.577137\n",
      "[12]\tvalidation_0-rmse:13.604321\tvalidation_1-rmse:17.245863\n",
      "[13]\tvalidation_0-rmse:12.897359\tvalidation_1-rmse:16.504282\n",
      "[14]\tvalidation_0-rmse:12.289156\tvalidation_1-rmse:15.840858\n",
      "[15]\tvalidation_0-rmse:11.813264\tvalidation_1-rmse:15.381468\n",
      "[16]\tvalidation_0-rmse:11.225953\tvalidation_1-rmse:14.717581\n",
      "[17]\tvalidation_0-rmse:10.747910\tvalidation_1-rmse:14.198156\n",
      "[18]\tvalidation_0-rmse:10.490168\tvalidation_1-rmse:13.950263\n",
      "[19]\tvalidation_0-rmse:10.305008\tvalidation_1-rmse:13.752048\n",
      "[20]\tvalidation_0-rmse:10.138949\tvalidation_1-rmse:13.569788\n",
      "[21]\tvalidation_0-rmse:9.989264\tvalidation_1-rmse:13.402583\n",
      "[22]\tvalidation_0-rmse:9.555001\tvalidation_1-rmse:12.911105\n",
      "[23]\tvalidation_0-rmse:9.184267\tvalidation_1-rmse:12.471421\n",
      "[24]\tvalidation_0-rmse:8.742377\tvalidation_1-rmse:11.957535\n",
      "[25]\tvalidation_0-rmse:8.412725\tvalidation_1-rmse:11.616644\n",
      "[26]\tvalidation_0-rmse:8.168128\tvalidation_1-rmse:11.377850\n",
      "[27]\tvalidation_0-rmse:7.797418\tvalidation_1-rmse:10.956636\n",
      "[28]\tvalidation_0-rmse:7.447789\tvalidation_1-rmse:10.585608\n",
      "[29]\tvalidation_0-rmse:7.370823\tvalidation_1-rmse:10.494799\n",
      "[30]\tvalidation_0-rmse:7.043755\tvalidation_1-rmse:10.131909\n",
      "[31]\tvalidation_0-rmse:6.979533\tvalidation_1-rmse:10.053870\n",
      "[32]\tvalidation_0-rmse:6.643832\tvalidation_1-rmse:9.687717\n",
      "[33]\tvalidation_0-rmse:6.590950\tvalidation_1-rmse:9.621814\n",
      "[34]\tvalidation_0-rmse:6.305544\tvalidation_1-rmse:9.292227\n",
      "[35]\tvalidation_0-rmse:6.261327\tvalidation_1-rmse:9.235096\n",
      "[36]\tvalidation_0-rmse:6.102344\tvalidation_1-rmse:9.098858\n",
      "[37]\tvalidation_0-rmse:5.928857\tvalidation_1-rmse:8.895961\n",
      "[38]\tvalidation_0-rmse:5.760966\tvalidation_1-rmse:8.699978\n",
      "[39]\tvalidation_0-rmse:5.712485\tvalidation_1-rmse:8.645416\n",
      "[40]\tvalidation_0-rmse:5.552496\tvalidation_1-rmse:8.463326\n",
      "[41]\tvalidation_0-rmse:5.467793\tvalidation_1-rmse:8.369557\n",
      "[42]\tvalidation_0-rmse:5.312039\tvalidation_1-rmse:8.192934\n",
      "[43]\tvalidation_0-rmse:5.106834\tvalidation_1-rmse:7.929169\n",
      "[44]\tvalidation_0-rmse:4.933924\tvalidation_1-rmse:7.711382\n",
      "[45]\tvalidation_0-rmse:4.749733\tvalidation_1-rmse:7.479138\n",
      "[46]\tvalidation_0-rmse:4.635508\tvalidation_1-rmse:7.351007\n",
      "[47]\tvalidation_0-rmse:4.490888\tvalidation_1-rmse:7.164827\n",
      "[48]\tvalidation_0-rmse:4.288791\tvalidation_1-rmse:6.970021\n",
      "[49]\tvalidation_0-rmse:4.202638\tvalidation_1-rmse:6.859610\n",
      "[50]\tvalidation_0-rmse:4.148063\tvalidation_1-rmse:6.781816\n",
      "[51]\tvalidation_0-rmse:4.020595\tvalidation_1-rmse:6.639026\n",
      "[52]\tvalidation_0-rmse:3.948439\tvalidation_1-rmse:6.556108\n",
      "[53]\tvalidation_0-rmse:3.882952\tvalidation_1-rmse:6.463435\n",
      "[54]\tvalidation_0-rmse:3.874738\tvalidation_1-rmse:6.449659\n",
      "[55]\tvalidation_0-rmse:3.750333\tvalidation_1-rmse:6.301485\n",
      "[56]\tvalidation_0-rmse:3.742723\tvalidation_1-rmse:6.289170\n",
      "[57]\tvalidation_0-rmse:3.663138\tvalidation_1-rmse:6.173209\n",
      "[58]\tvalidation_0-rmse:3.636498\tvalidation_1-rmse:6.137112\n",
      "[59]\tvalidation_0-rmse:3.484689\tvalidation_1-rmse:6.030852\n",
      "[60]\tvalidation_0-rmse:3.454708\tvalidation_1-rmse:5.982038\n",
      "[61]\tvalidation_0-rmse:3.372368\tvalidation_1-rmse:5.860886\n",
      "[62]\tvalidation_0-rmse:3.286823\tvalidation_1-rmse:5.742573\n",
      "[63]\tvalidation_0-rmse:3.203803\tvalidation_1-rmse:5.642301\n",
      "[64]\tvalidation_0-rmse:3.130737\tvalidation_1-rmse:5.559182\n",
      "[65]\tvalidation_0-rmse:3.060223\tvalidation_1-rmse:5.466108\n",
      "[66]\tvalidation_0-rmse:3.021782\tvalidation_1-rmse:5.416479\n",
      "[67]\tvalidation_0-rmse:3.018585\tvalidation_1-rmse:5.411031\n",
      "[68]\tvalidation_0-rmse:2.971288\tvalidation_1-rmse:5.334330\n",
      "[69]\tvalidation_0-rmse:2.956486\tvalidation_1-rmse:5.320897\n",
      "[70]\tvalidation_0-rmse:2.938001\tvalidation_1-rmse:5.286597\n",
      "[71]\tvalidation_0-rmse:2.877849\tvalidation_1-rmse:5.224159\n",
      "[72]\tvalidation_0-rmse:2.862191\tvalidation_1-rmse:5.194414\n",
      "[73]\tvalidation_0-rmse:2.848019\tvalidation_1-rmse:5.165680\n",
      "[74]\tvalidation_0-rmse:2.845861\tvalidation_1-rmse:5.162074\n",
      "[75]\tvalidation_0-rmse:2.804756\tvalidation_1-rmse:5.099216\n",
      "[76]\tvalidation_0-rmse:2.767800\tvalidation_1-rmse:5.058271\n",
      "[77]\tvalidation_0-rmse:2.723876\tvalidation_1-rmse:4.997369\n",
      "[78]\tvalidation_0-rmse:2.683576\tvalidation_1-rmse:4.951295\n",
      "[79]\tvalidation_0-rmse:2.655969\tvalidation_1-rmse:4.914786\n",
      "[80]\tvalidation_0-rmse:2.624449\tvalidation_1-rmse:4.862725\n",
      "[81]\tvalidation_0-rmse:2.601493\tvalidation_1-rmse:4.821952\n",
      "[82]\tvalidation_0-rmse:2.582085\tvalidation_1-rmse:4.794979\n",
      "[83]\tvalidation_0-rmse:2.551198\tvalidation_1-rmse:4.772165\n",
      "[84]\tvalidation_0-rmse:2.534838\tvalidation_1-rmse:4.745926\n",
      "[85]\tvalidation_0-rmse:2.521989\tvalidation_1-rmse:4.735662\n",
      "[86]\tvalidation_0-rmse:2.512294\tvalidation_1-rmse:4.724570\n",
      "[87]\tvalidation_0-rmse:2.507388\tvalidation_1-rmse:4.708284\n",
      "[88]\tvalidation_0-rmse:2.466695\tvalidation_1-rmse:4.674693\n",
      "[89]\tvalidation_0-rmse:2.465542\tvalidation_1-rmse:4.673241\n",
      "[90]\tvalidation_0-rmse:2.451834\tvalidation_1-rmse:4.656270\n",
      "[91]\tvalidation_0-rmse:2.445476\tvalidation_1-rmse:4.641489\n",
      "[92]\tvalidation_0-rmse:2.432275\tvalidation_1-rmse:4.609324\n",
      "[93]\tvalidation_0-rmse:2.426889\tvalidation_1-rmse:4.595951\n",
      "[94]\tvalidation_0-rmse:2.408983\tvalidation_1-rmse:4.577448\n",
      "[95]\tvalidation_0-rmse:2.378178\tvalidation_1-rmse:4.536715\n",
      "[96]\tvalidation_0-rmse:2.373941\tvalidation_1-rmse:4.528267\n",
      "[97]\tvalidation_0-rmse:2.372960\tvalidation_1-rmse:4.527184\n",
      "[98]\tvalidation_0-rmse:2.372188\tvalidation_1-rmse:4.526330\n",
      "[99]\tvalidation_0-rmse:2.347751\tvalidation_1-rmse:4.500736\n",
      "[100]\tvalidation_0-rmse:2.344279\tvalidation_1-rmse:4.493663\n",
      "[101]\tvalidation_0-rmse:2.335127\tvalidation_1-rmse:4.482802\n",
      "[102]\tvalidation_0-rmse:2.334626\tvalidation_1-rmse:4.482143\n",
      "[103]\tvalidation_0-rmse:2.310559\tvalidation_1-rmse:4.464321\n",
      "[104]\tvalidation_0-rmse:2.309909\tvalidation_1-rmse:4.463738\n",
      "[105]\tvalidation_0-rmse:2.306659\tvalidation_1-rmse:4.454017\n",
      "[106]\tvalidation_0-rmse:2.298503\tvalidation_1-rmse:4.445217\n",
      "[107]\tvalidation_0-rmse:2.291183\tvalidation_1-rmse:4.434261\n",
      "[108]\tvalidation_0-rmse:2.284476\tvalidation_1-rmse:4.418987\n",
      "[109]\tvalidation_0-rmse:2.264352\tvalidation_1-rmse:4.399580\n",
      "[110]\tvalidation_0-rmse:2.263909\tvalidation_1-rmse:4.399240\n",
      "[111]\tvalidation_0-rmse:2.246832\tvalidation_1-rmse:4.379752\n",
      "[112]\tvalidation_0-rmse:2.231799\tvalidation_1-rmse:4.350106\n",
      "[113]\tvalidation_0-rmse:2.227778\tvalidation_1-rmse:4.340048\n",
      "[114]\tvalidation_0-rmse:2.208884\tvalidation_1-rmse:4.323987\n",
      "[115]\tvalidation_0-rmse:2.133640\tvalidation_1-rmse:4.329175\n",
      "[116]\tvalidation_0-rmse:2.130790\tvalidation_1-rmse:4.324658\n",
      "[117]\tvalidation_0-rmse:2.124010\tvalidation_1-rmse:4.316675\n",
      "[118]\tvalidation_0-rmse:2.116800\tvalidation_1-rmse:4.307496\n",
      "[119]\tvalidation_0-rmse:2.091550\tvalidation_1-rmse:4.290383\n",
      "[120]\tvalidation_0-rmse:2.080693\tvalidation_1-rmse:4.282746\n",
      "[121]\tvalidation_0-rmse:2.075682\tvalidation_1-rmse:4.275814\n",
      "[122]\tvalidation_0-rmse:2.015128\tvalidation_1-rmse:4.317455\n",
      "[123]\tvalidation_0-rmse:2.012922\tvalidation_1-rmse:4.314981\n",
      "[124]\tvalidation_0-rmse:2.009010\tvalidation_1-rmse:4.307555\n",
      "[125]\tvalidation_0-rmse:2.006723\tvalidation_1-rmse:4.302019\n",
      "[126]\tvalidation_0-rmse:2.005776\tvalidation_1-rmse:4.300229\n",
      "[127]\tvalidation_0-rmse:1.940835\tvalidation_1-rmse:4.300443\n",
      "[128]\tvalidation_0-rmse:1.887702\tvalidation_1-rmse:4.321431\n",
      "[129]\tvalidation_0-rmse:1.879147\tvalidation_1-rmse:4.312603\n",
      "[130]\tvalidation_0-rmse:1.878471\tvalidation_1-rmse:4.312466\n",
      "[131]\tvalidation_0-rmse:1.863934\tvalidation_1-rmse:4.290831\n",
      "[132]\tvalidation_0-rmse:1.863402\tvalidation_1-rmse:4.290884\n",
      "[133]\tvalidation_0-rmse:1.853707\tvalidation_1-rmse:4.267827\n",
      "[134]\tvalidation_0-rmse:1.849677\tvalidation_1-rmse:4.264762\n",
      "[135]\tvalidation_0-rmse:1.844097\tvalidation_1-rmse:4.260902\n",
      "[136]\tvalidation_0-rmse:1.843337\tvalidation_1-rmse:4.260139\n",
      "[137]\tvalidation_0-rmse:1.806406\tvalidation_1-rmse:4.251597\n",
      "[138]\tvalidation_0-rmse:1.805767\tvalidation_1-rmse:4.251157\n",
      "[139]\tvalidation_0-rmse:1.796464\tvalidation_1-rmse:4.244435\n"
     ]
    }
   ],
   "source": [
    "clf = xgb.XGBRegressor(max_depth=5, learning_rate=0.06, n_estimators=140, \n",
    "                       reg_lambda=1e-06, reg_alpha=1e-6,\n",
    "                       colsample_bytree=0.5, colsample_bylevel=0.5)\n",
    "\n",
    "clf.fit(X_train, y_train,\n",
    "        eval_set=[(X_train, y_train), (X_test, y_test)], \n",
    "        eval_metric='rmse',\n",
    "        verbose=True)\n",
    "\n",
    "evals_result = clf.evals_result()"
   ]
  },
  {
   "cell_type": "code",
   "execution_count": null,
   "metadata": {
    "collapsed": true
   },
   "outputs": [],
   "source": []
  },
  {
   "cell_type": "code",
   "execution_count": null,
   "metadata": {
    "collapsed": true
   },
   "outputs": [],
   "source": []
  },
  {
   "cell_type": "markdown",
   "metadata": {},
   "source": [
    "### обучим на всех данных"
   ]
  },
  {
   "cell_type": "code",
   "execution_count": 97,
   "metadata": {
    "collapsed": false
   },
   "outputs": [
    {
     "data": {
      "text/plain": [
       "XGBRegressor(base_score=0.5, colsample_bylevel=0.5, colsample_bytree=0.5,\n",
       "       gamma=0, learning_rate=0.06, max_delta_step=0, max_depth=5,\n",
       "       min_child_weight=1, missing=None, n_estimators=140, nthread=-1,\n",
       "       objective='reg:linear', reg_alpha=1e-06, reg_lambda=1e-06,\n",
       "       scale_pos_weight=1, seed=0, silent=True, subsample=1)"
      ]
     },
     "execution_count": 97,
     "metadata": {},
     "output_type": "execute_result"
    }
   ],
   "source": [
    "clf.fit(train, y)"
   ]
  },
  {
   "cell_type": "markdown",
   "metadata": {},
   "source": [
    "### загрузим решение "
   ]
  },
  {
   "cell_type": "code",
   "execution_count": 98,
   "metadata": {
    "collapsed": true
   },
   "outputs": [],
   "source": [
    "ans = clf.predict(test)"
   ]
  },
  {
   "cell_type": "code",
   "execution_count": 99,
   "metadata": {
    "collapsed": true
   },
   "outputs": [],
   "source": [
    "ans_ = pd.DataFrame()\n",
    "ans_['ans'] = pd.Series(ans)"
   ]
  },
  {
   "cell_type": "code",
   "execution_count": 100,
   "metadata": {
    "collapsed": true
   },
   "outputs": [],
   "source": [
    "ans_.to_csv('ansv.csv', header=None, index=None)"
   ]
  },
  {
   "cell_type": "code",
   "execution_count": 51,
   "metadata": {
    "collapsed": true
   },
   "outputs": [],
   "source": [
    "# end"
   ]
  },
  {
   "cell_type": "code",
   "execution_count": null,
   "metadata": {
    "collapsed": true
   },
   "outputs": [],
   "source": []
  }
 ],
 "metadata": {
  "kernelspec": {
   "display_name": "Python 3",
   "language": "python",
   "name": "python3"
  },
  "language_info": {
   "codemirror_mode": {
    "name": "ipython",
    "version": 3
   },
   "file_extension": ".py",
   "mimetype": "text/x-python",
   "name": "python",
   "nbconvert_exporter": "python",
   "pygments_lexer": "ipython3",
   "version": "3.5.0"
  }
 },
 "nbformat": 4,
 "nbformat_minor": 0
}
