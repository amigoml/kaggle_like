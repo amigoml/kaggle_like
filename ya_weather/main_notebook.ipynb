{
 "cells": [
  {
   "cell_type": "code",
   "execution_count": 42,
   "metadata": {},
   "outputs": [
    {
     "name": "stdout",
     "output_type": "stream",
     "text": [
      "/nmnt/media/home/amir/myhack/notebooks\r\n"
     ]
    }
   ],
   "source": [
    "!pwd"
   ]
  },
  {
   "cell_type": "code",
   "execution_count": 43,
   "metadata": {},
   "outputs": [
    {
     "name": "stdout",
     "output_type": "stream",
     "text": [
      "total 28459556\r\n",
      "drwxr-xr-x 3 amir amir       4096 сент. 16 15:53 .\r\n",
      "drwxrwxr-x 7 amir amir       4096 сент. 17 11:58 ..\r\n",
      "-rw-r--r-- 1 amir amir    1252886 сент. 16 03:09 hackathon_tosubmit.tsv\r\n",
      "drwxr-xr-x 2 amir amir       4096 сент. 16 15:53 .ipynb_checkpoints\r\n",
      "-rw-r--r-- 1 amir amir        628 сент. 16 02:43 test_col_dtypes.json\r\n",
      "-rw-r--r-- 1 amir amir 2088371430 сент. 16 04:21 test_kazan_features.tsv\r\n",
      "-rw-r--r-- 1 amir amir    1251787 сент. 16 03:08 test_kazan_netatmo.tsv\r\n",
      "-rw-r--r-- 1 amir amir 2226797594 сент. 16 04:24 test_msk_features.tsv\r\n",
      "-rw-r--r-- 1 amir amir   73498980 сент. 16 03:08 test_msk_netatmo.tsv\r\n",
      "-rw-r--r-- 1 amir amir 2288135471 сент. 16 04:18 test_spb_features.tsv\r\n",
      "-rw-r--r-- 1 amir amir   11756236 сент. 16 03:08 test_spb_netatmo.tsv\r\n",
      "-rw-r--r-- 1 amir amir        732 сент. 16 02:43 train_col_dtypes.json\r\n",
      "-rw-r--r-- 1 amir amir    5955016 сент. 16 03:08 train_kazan_netatmo.tsv\r\n",
      "-rw-r--r-- 1 amir amir 7800656883 сент. 16 04:42 train_kazan.tsv\r\n",
      "-rw-r--r-- 1 amir amir  366011466 сент. 16 03:08 train_msk_netatmo.tsv\r\n",
      "-rw-r--r-- 1 amir amir 7813275265 сент. 16 04:52 train_msk.tsv\r\n",
      "-rw-r--r-- 1 amir amir   58794886 сент. 16 03:08 train_spb_netatmo.tsv\r\n",
      "-rw-r--r-- 1 amir amir 6406755109 сент. 16 05:00 train_spb.tsv\r\n"
     ]
    }
   ],
   "source": [
    "!ls -la ../data/"
   ]
  },
  {
   "cell_type": "code",
   "execution_count": null,
   "metadata": {
    "collapsed": true
   },
   "outputs": [],
   "source": [
    "!mkdir intermediate_data"
   ]
  },
  {
   "cell_type": "code",
   "execution_count": null,
   "metadata": {
    "collapsed": true
   },
   "outputs": [],
   "source": [
    "!mkdir preprocessed_data"
   ]
  },
  {
   "cell_type": "code",
   "execution_count": null,
   "metadata": {
    "collapsed": true
   },
   "outputs": [],
   "source": []
  },
  {
   "cell_type": "code",
   "execution_count": 23,
   "metadata": {
    "collapsed": true
   },
   "outputs": [],
   "source": [
    "import numpy as np\n",
    "import pandas as pd\n",
    "import matplotlib.pyplot as plt\n",
    "import seaborn\n",
    "import json\n",
    "%matplotlib inline\n",
    "\n",
    "pd.options.display.max_columns = 50"
   ]
  },
  {
   "cell_type": "code",
   "execution_count": 24,
   "metadata": {
    "collapsed": true
   },
   "outputs": [],
   "source": [
    "from sklearn.neighbors import KDTree\n",
    "def preprocess_netatmo(df):\n",
    "    \"\"\"organizes netatmo stations into KDTrees for each distinct time frame\"\"\"\n",
    "    \n",
    "    df_by_hour = df.groupby('hour_hash')\n",
    "    anns = {}\n",
    "    for hour, stations_group in df_by_hour:\n",
    "        anns[hour] = KDTree(stations_group[[\"netatmo_latitude\",\"netatmo_longitude\"]].values, metric='minkowski', p=2)\n",
    "    \n",
    "    # convert groupby to dict to get faster queries\n",
    "    df_by_hour = {group:stations_group for group, stations_group in df_by_hour}\n",
    "    \n",
    "    return df_by_hour, anns"
   ]
  },
  {
   "cell_type": "code",
   "execution_count": 25,
   "metadata": {
    "collapsed": true
   },
   "outputs": [],
   "source": [
    "def extract_features_from_user(group, netatmo_groups, netatmo_anns):\n",
    "    features = {}\n",
    "    #square features\n",
    "    square = {col: group[col].iloc[0] for col in group.columns}\n",
    "    \n",
    "    features['square_lat'] = square['sq_lat']\n",
    "    features['square_lon'] = square['sq_lon']\n",
    "    features['time_of_day'] = square['day_hour']\n",
    "    \n",
    "#     features['square_lat'] = square['sq_x']\n",
    "#     features['square_lon'] = square['sq_y']\n",
    "    \n",
    "    # и запросы на ближ соседей по этим \n",
    "    \n",
    "    #signal strength\n",
    "    features['signal_mean'] = group['SignalStrength'].mean()\n",
    "    features['signal_median'] = group['SignalStrength'].median()\n",
    "    features['signal_var'] = group['SignalStrength'].var()\n",
    "\n",
    "    #features for each user\n",
    "    group_by_user = group.groupby('u_hashed')\n",
    "    group_by_user.apply(lambda group: group['ulat'].var() + group['ulon'].var())\n",
    "    \n",
    "    features['num_users'] = len(group_by_user)\n",
    "    features['mean_entries_per_user'] = group_by_user.apply(len).mean()\n",
    "    features['var_of_entries_per_user'] = group_by_user.apply(len).var()\n",
    "    features['mean_user_signal_var'] = group_by_user.apply(\n",
    "        lambda user_entries: user_entries['SignalStrength'].var()).mean()\n",
    "    \n",
    "    #netatmo features\n",
    "    if square['hour_hash'] in netatmo_groups:\n",
    "        local_stations, neighbors = netatmo_groups[square['hour_hash']], netatmo_anns[square['hour_hash']]\n",
    "        \n",
    "        [distances], [neighbor_ids] = neighbors.query([(square['sq_lat'], square['sq_lon'])], k=50)\n",
    "\n",
    "        neighbor_stations = local_stations.iloc[neighbor_ids]\n",
    "\n",
    "        features['distance_to_closest_station'] = np.min(distances)\n",
    "        features['mean_distance_to_station'] = np.mean(distances)\n",
    "        \n",
    "        features['distance_to_closest_station_pers_10'] = np.percentile(distances, 10)\n",
    "        features['distance_to_closest_station_pers_20'] = np.percentile(distances, 20)\n",
    "        features['distance_to_closest_station_pers_30'] = np.percentile(distances, 30)\n",
    "        features['distance_to_closest_station_pers_50'] = np.percentile(distances, 50)\n",
    "        features['distance_to_closest_station_pers_70'] = np.percentile(distances, 70)\n",
    "        features['distance_to_closest_station_pers_80'] = np.percentile(distances, 80)\n",
    "        \n",
    "        features['distance_to_3_closest_station'] = np.mean(sorted(distances)[:5])\n",
    "        \n",
    "        cols_netatmo = ['netatmo_wind_direction_deg',\n",
    "                    'netatmo_wind_gust_direction_deg',\n",
    "                    'netatmo_wind_gust_speed_kmh',\n",
    "                    'netatmo_wind_speed_kmh',\n",
    "                    'netatmo_pressure_mbar',\n",
    "                    'netatmo_sum_rain_1h',\n",
    "                    'netatmo_sum_rain_24h',\n",
    "                    'netatmo_humidity_percent',\n",
    "                    'netatmo_temperature_c',]\n",
    "\n",
    "        old_cols_netatmo = ['netatmo_pressure_mbar', 'netatmo_temperature_c', \n",
    "                            'netatmo_sum_rain_24h', 'netatmo_humidity_percent', \n",
    "                            \"netatmo_wind_speed_kmh\", \"netatmo_wind_gust_speed_kmh\"]\n",
    "        for colname in cols_netatmo:\n",
    "            col = neighbor_stations[colname].dropna()\n",
    "            if len(col)!=0:\n",
    "                features[colname+\"_mean\"], features[colname+\"_median\"], features[colname+\"_std\"], \\\n",
    "                features[colname+\"_01\"], features[colname+\"_02\"], features[colname+\"_03\"], \\\n",
    "                features[colname+\"_04\"], features[colname+\"_065\"], features[colname+\"_08\"] = \\\n",
    "                col.mean(), col.median(), col.var(),\\\n",
    "                col.quantile(q=0.1), col.quantile(q=0.2), \\\n",
    "                col.quantile(q=0.3), col.quantile(q=0.4), col.quantile(q=0.65), col.quantile(q=0.8)\n",
    "            else:\n",
    "                features[colname+\"_mean\"], features[colname+\"_median\"], features[colname+\"_std\"], \\\n",
    "                features[colname+\"_01\"], features[colname+\"_02\"], features[colname+\"_03\"], \\\n",
    "                features[colname+\"_04\"], features[colname+\"_065\"], features[colname+\"_08\"]  = \\\n",
    "                np.nan, np.nan, np.nan,  np.nan,  np.nan, np.nan, np.nan, np.nan, np.nan\n",
    "\n",
    "    return features"
   ]
  },
  {
   "cell_type": "code",
   "execution_count": null,
   "metadata": {
    "collapsed": true
   },
   "outputs": [],
   "source": []
  },
  {
   "cell_type": "raw",
   "metadata": {},
   "source": []
  },
  {
   "cell_type": "code",
   "execution_count": 26,
   "metadata": {},
   "outputs": [
    {
     "name": "stderr",
     "output_type": "stream",
     "text": [
      "100%|██████████| 45617/45617 [16:46<00:00, 45.30it/s]\n",
      "100%|██████████| 14331/14331 [04:59<00:00, 62.20it/s]\n",
      "100%|██████████| 32803/32803 [12:18<00:00, 44.41it/s]\n",
      "100%|██████████| 10145/10145 [03:32<00:00, 47.67it/s]\n",
      "100%|██████████| 46281/46281 [16:37<00:00, 46.41it/s]\n",
      "100%|██████████| 14836/14836 [04:54<00:00, 50.33it/s]\n"
     ]
    }
   ],
   "source": [
    "for city in [77, 78, 16]:\n",
    "    if city == 77:\n",
    "        TRAIN_PATH = \"../data/train_msk.tsv\"\n",
    "        NETATMO_PATH = \"../data/train_msk_netatmo.tsv\"\n",
    "        TEST_PATH = \"../data/test_msk_features.tsv\"\n",
    "        TEST_NETATMO_PATH = \"../data/test_msk_netatmo.tsv\"\n",
    "\n",
    "        CITY_PREDICTIONS_PATH = \"./intermediate_data/prediction_msk.csv\"\n",
    "    if city == 78:\n",
    "        TRAIN_PATH = \"../data/train_spb.tsv\"\n",
    "        NETATMO_PATH = \"../data/train_spb_netatmo.tsv\"\n",
    "        TEST_PATH = \"../data/test_spb_features.tsv\"\n",
    "        TEST_NETATMO_PATH = \"../data/test_spb_netatmo.tsv\"\n",
    "\n",
    "        CITY_PREDICTIONS_PATH = \"./intermediate_data/prediction_spb.csv\"\n",
    "    if city == 16:\n",
    "        TRAIN_PATH = \"../data/train_kazan.tsv\"\n",
    "        NETATMO_PATH = \"../data/train_kazan_netatmo.tsv\"\n",
    "        TEST_PATH = \"../data/test_kazan_features.tsv\"\n",
    "        TEST_NETATMO_PATH = \"../data/test_kazan_netatmo.tsv\"\n",
    "\n",
    "        CITY_PREDICTIONS_PATH = \"./intermediate_data/prediction_kazan.csv\"\n",
    "\n",
    "    train = pd.read_csv(TRAIN_PATH, sep='\\t',dtype=json.load(open(\"../data/train_col_dtypes.json\")))\n",
    "\n",
    "    netatmo_groups,netatmo_anns = preprocess_netatmo(pd.read_csv(NETATMO_PATH,na_values=\"None\",\n",
    "                                                                 sep='\\t',dtype={'hour_hash':\"uint64\"}))\n",
    "\n",
    "    from tqdm import tqdm\n",
    "    groupby = train.groupby([\"city_code\",\"sq_x\",\"sq_y\",\"hour_hash\"])\n",
    "\n",
    "    X, y, block_ids = [], [], []\n",
    "\n",
    "\n",
    "    for block_id in tqdm(groupby.groups):\n",
    "        group = groupby.get_group(block_id)\n",
    "        X.append(extract_features_from_user(group, netatmo_groups, netatmo_anns))\n",
    "        y.append(group.iloc[0]['rain'])\n",
    "        block_ids.append(block_id+(group.iloc[0][\"hours_since\"],))\n",
    "\n",
    "    X = pd.DataFrame(X).fillna(-999.)\n",
    "    y = np.array(y)\n",
    "    block_ids = pd.DataFrame(block_ids,columns=[\"city_code\", \"sq_x\", \"sq_y\", \"hour_hash\", \"hours_since\"])\n",
    "\n",
    "    test = pd.read_csv(TEST_PATH, sep='\\t',dtype=json.load(open(\"../data/test_col_dtypes.json\")),)\n",
    "    test_groupby = test.groupby([\"city_code\",\"sq_x\",\"sq_y\",\"hour_hash\"])\n",
    "    test_netatmo_groups,test_netatmo_anns = preprocess_netatmo(pd.read_csv(TEST_NETATMO_PATH,na_values=\"None\",\n",
    "                                                                           sep='\\t',dtype={'hour_hash':\"uint64\"}))\n",
    "\n",
    "    X_test,test_block_ids = [],[]\n",
    "    for block_id in tqdm(test_groupby.groups):\n",
    "        group = test_groupby.get_group(block_id)\n",
    "        X_test.append(extract_features_from_user(group,test_netatmo_groups,test_netatmo_anns))\n",
    "        test_block_ids.append(block_id)\n",
    "\n",
    "    X_test = pd.DataFrame(X_test)\n",
    "    test_block_ids = pd.DataFrame(test_block_ids,columns=[\"city_code\",\"sq_x\",\"sq_y\",\"hour_hash\"])\n",
    "\n",
    "    if city == 77:\n",
    "        tmp1 = \"./preprocessed_data/msk.csv\"\n",
    "        tmp2 = \"./preprocessed_data/msk_test.csv\"\n",
    "        tmp3 = \"./preprocessed_data/msk_block.csv\"\n",
    "        tmp4 = \"./preprocessed_data/msk_block_test.csv\"\n",
    "\n",
    "    if city == 78:\n",
    "        tmp1 = \"./preprocessed_data/spb.csv\"\n",
    "        tmp2 = \"./preprocessed_data/spb_test.csv\"\n",
    "        tmp3 = \"./preprocessed_data/spb_block.csv\"\n",
    "        tmp4 = \"./preprocessed_data/spb_block_test.csv\"\n",
    "\n",
    "    if city == 16:\n",
    "        tmp1 = \"./preprocessed_data/kazan.csv\"\n",
    "        tmp2 = \"./preprocessed_data/kazan_test.csv\"\n",
    "        tmp3 = \"./preprocessed_data/kazan_block.csv\"\n",
    "        tmp4 = \"./preprocessed_data/kazan_block_test.csv\"\n",
    "\n",
    "    data = X.copy()\n",
    "    data[\"target\"] = y\n",
    "    data.to_csv(tmp1)\n",
    "    X_test.to_csv(tmp2)\n",
    "    block_ids.to_csv(tmp3)\n",
    "    test_block_ids.to_csv(tmp4)"
   ]
  },
  {
   "cell_type": "code",
   "execution_count": 27,
   "metadata": {},
   "outputs": [
    {
     "name": "stdout",
     "output_type": "stream",
     "text": [
      "kazan_block.csv       kazan_test.csv\t  msk.csv\t spb_block_test.csv\r\n",
      "kazan_block_test.csv  msk_block.csv\t  msk_test.csv\t spb.csv\r\n",
      "kazan.csv\t      msk_block_test.csv  spb_block.csv  spb_test.csv\r\n"
     ]
    }
   ],
   "source": [
    "!ls ./preprocessed_data"
   ]
  },
  {
   "cell_type": "markdown",
   "metadata": {},
   "source": [
    "### Загрузим препроцешенные данныые"
   ]
  },
  {
   "cell_type": "code",
   "execution_count": 28,
   "metadata": {},
   "outputs": [
    {
     "data": {
      "text/plain": [
       "(124701, 100)"
      ]
     },
     "execution_count": 28,
     "metadata": {},
     "output_type": "execute_result"
    }
   ],
   "source": [
    "import pandas as pd\n",
    "import numpy as np\n",
    "\n",
    "X_all = pd.concat(\n",
    "    [pd.read_csv(fname) for fname in (\"./preprocessed_data/msk.csv\",\n",
    "                                      \"./preprocessed_data/spb.csv\",\n",
    "                                      \"./preprocessed_data/kazan.csv\")],\n",
    "    ignore_index=True,\n",
    ")\n",
    "\n",
    "y = X_all['target']\n",
    "X_all.drop(['Unnamed: 0', 'target'], axis=1, inplace=True)\n",
    "\n",
    "X_all.shape"
   ]
  },
  {
   "cell_type": "code",
   "execution_count": 29,
   "metadata": {
    "collapsed": true
   },
   "outputs": [],
   "source": [
    "block_ids = pd.concat(\n",
    "    [pd.read_csv(fname) for fname in (\"./preprocessed_data/msk_block.csv\",\n",
    "                                      \"./preprocessed_data/spb_block.csv\",\n",
    "                                      \"./preprocessed_data/kazan_block.csv\",\n",
    "                                      )],\n",
    "    ignore_index=True,\n",
    ")\n",
    "block_ids.drop(['Unnamed: 0'], axis=1, inplace=True)"
   ]
  },
  {
   "cell_type": "code",
   "execution_count": 30,
   "metadata": {
    "collapsed": true
   },
   "outputs": [],
   "source": [
    "X_all['city'] = block_ids['city_code']"
   ]
  },
  {
   "cell_type": "code",
   "execution_count": 32,
   "metadata": {},
   "outputs": [
    {
     "data": {
      "text/plain": [
       "(98, 100)"
      ]
     },
     "execution_count": 32,
     "metadata": {},
     "output_type": "execute_result"
    }
   ],
   "source": [
    "list(X_all.columns).index('time_of_day'), list(X_all.columns).index('city')"
   ]
  },
  {
   "cell_type": "markdown",
   "metadata": {},
   "source": [
    "### обучим CatBoost"
   ]
  },
  {
   "cell_type": "code",
   "execution_count": 33,
   "metadata": {},
   "outputs": [
    {
     "name": "stdout",
     "output_type": "stream",
     "text": [
      "Borders for float features generated\n",
      "0:\tlearn 0.7706159466\ttotal: 138ms\tremaining: 14.9s\n",
      "1:\tlearn 0.7804175346\ttotal: 276ms\tremaining: 14.8s\n",
      "2:\tlearn 0.7851410808\ttotal: 425ms\tremaining: 15s\n",
      "3:\tlearn 0.787155892\ttotal: 580ms\tremaining: 15.2s\n",
      "4:\tlearn 0.7915334253\ttotal: 754ms\tremaining: 15.7s\n",
      "5:\tlearn 0.7926808592\ttotal: 905ms\tremaining: 15.5s\n",
      "6:\tlearn 0.7936131249\ttotal: 1.07s\tremaining: 15.6s\n",
      "7:\tlearn 0.7949927839\ttotal: 1.26s\tremaining: 15.9s\n",
      "8:\tlearn 0.7974880296\ttotal: 1.46s\tremaining: 16.2s\n",
      "9:\tlearn 0.7993195087\ttotal: 1.66s\tremaining: 16.4s\n",
      "10:\tlearn 0.7996597557\ttotal: 1.81s\tremaining: 16.2s\n",
      "11:\tlearn 0.8009218291\ttotal: 1.98s\tremaining: 16s\n",
      "12:\tlearn 0.8022546995\ttotal: 2.16s\tremaining: 16s\n",
      "13:\tlearn 0.803227579\ttotal: 2.33s\tremaining: 15.8s\n",
      "14:\tlearn 0.8033876718\ttotal: 2.52s\tremaining: 15.8s\n",
      "15:\tlearn 0.8042911122\ttotal: 2.71s\tremaining: 15.8s\n",
      "16:\tlearn 0.8046638723\ttotal: 2.9s\tremaining: 15.7s\n",
      "17:\tlearn 0.8056323008\ttotal: 3.1s\tremaining: 15.7s\n",
      "18:\tlearn 0.8059195851\ttotal: 3.3s\tremaining: 15.6s\n",
      "19:\tlearn 0.8063476047\ttotal: 3.49s\tremaining: 15.6s\n",
      "20:\tlearn 0.8061963186\ttotal: 3.69s\tremaining: 15.5s\n",
      "21:\tlearn 0.8069439229\ttotal: 3.88s\tremaining: 15.4s\n",
      "22:\tlearn 0.8074882906\ttotal: 4.08s\tremaining: 15.2s\n",
      "23:\tlearn 0.8086175539\ttotal: 4.28s\tremaining: 15.2s\n",
      "24:\tlearn 0.808513579\ttotal: 4.47s\tremaining: 15s\n",
      "25:\tlearn 0.8084670843\ttotal: 4.67s\tremaining: 14.9s\n",
      "26:\tlearn 0.808675983\ttotal: 4.86s\tremaining: 14.8s\n",
      "27:\tlearn 0.8088365392\ttotal: 5.05s\tremaining: 14.6s\n",
      "28:\tlearn 0.8092848597\ttotal: 5.25s\tremaining: 14.5s\n",
      "29:\tlearn 0.8091704538\ttotal: 5.44s\tremaining: 14.3s\n",
      "30:\tlearn 0.8096463173\ttotal: 5.65s\tremaining: 14.2s\n",
      "31:\tlearn 0.8100558385\ttotal: 5.84s\tremaining: 14.1s\n",
      "32:\tlearn 0.8107991537\ttotal: 6.04s\tremaining: 13.9s\n",
      "33:\tlearn 0.8111484332\ttotal: 6.24s\tremaining: 13.8s\n",
      "34:\tlearn 0.8117473031\ttotal: 6.4s\tremaining: 13.5s\n",
      "35:\tlearn 0.8120594792\ttotal: 6.59s\tremaining: 13.4s\n",
      "36:\tlearn 0.8121930694\ttotal: 6.76s\tremaining: 13.2s\n",
      "37:\tlearn 0.8123244658\ttotal: 6.93s\tremaining: 12.9s\n",
      "38:\tlearn 0.8127037959\ttotal: 7.09s\tremaining: 12.7s\n",
      "39:\tlearn 0.8127135501\ttotal: 7.25s\tremaining: 12.5s\n",
      "40:\tlearn 0.8129031234\ttotal: 7.43s\tremaining: 12.3s\n",
      "41:\tlearn 0.8133934523\ttotal: 7.61s\tremaining: 12.1s\n",
      "42:\tlearn 0.8135876306\ttotal: 7.78s\tremaining: 11.9s\n",
      "43:\tlearn 0.8141317384\ttotal: 7.95s\tremaining: 11.7s\n",
      "44:\tlearn 0.8148289533\ttotal: 8.14s\tremaining: 11.6s\n",
      "45:\tlearn 0.8150782933\ttotal: 8.31s\tremaining: 11.4s\n",
      "46:\tlearn 0.8151712933\ttotal: 8.49s\tremaining: 11.2s\n",
      "47:\tlearn 0.8157256282\ttotal: 8.68s\tremaining: 11s\n",
      "48:\tlearn 0.8159414752\ttotal: 8.84s\tremaining: 10.8s\n",
      "49:\tlearn 0.8166520851\ttotal: 9.02s\tremaining: 10.6s\n",
      "50:\tlearn 0.8172948962\ttotal: 9.2s\tremaining: 10.5s\n",
      "51:\tlearn 0.8175398484\ttotal: 9.39s\tremaining: 10.3s\n",
      "52:\tlearn 0.8177539535\ttotal: 9.58s\tremaining: 10.1s\n",
      "53:\tlearn 0.8180078775\ttotal: 9.75s\tremaining: 9.93s\n",
      "54:\tlearn 0.8182540896\ttotal: 9.92s\tremaining: 9.74s\n",
      "55:\tlearn 0.8184131026\ttotal: 10.1s\tremaining: 9.54s\n",
      "56:\tlearn 0.8189173827\ttotal: 10.2s\tremaining: 9.35s\n",
      "57:\tlearn 0.8189982013\ttotal: 10.4s\tremaining: 9.15s\n",
      "58:\tlearn 0.819175338\ttotal: 10.6s\tremaining: 8.97s\n",
      "59:\tlearn 0.8192539993\ttotal: 10.8s\tremaining: 8.79s\n",
      "60:\tlearn 0.8195173451\ttotal: 10.9s\tremaining: 8.61s\n",
      "61:\tlearn 0.8197437292\ttotal: 11.1s\tremaining: 8.43s\n",
      "62:\tlearn 0.8197704698\ttotal: 11.3s\tremaining: 8.25s\n",
      "63:\tlearn 0.82005063\ttotal: 11.5s\tremaining: 8.06s\n",
      "64:\tlearn 0.8202265389\ttotal: 11.6s\tremaining: 7.87s\n",
      "65:\tlearn 0.8204988716\ttotal: 11.8s\tremaining: 7.68s\n",
      "66:\tlearn 0.8208336534\ttotal: 12s\tremaining: 7.51s\n",
      "67:\tlearn 0.8209630502\ttotal: 12.1s\tremaining: 7.32s\n",
      "68:\tlearn 0.8210889547\n",
      "Iteration with suspicious time -3.88e+06 sec ignored in overall statistics.\n",
      "69:\tlearn 0.821271296\ttotal: 12.3s\tremaining: 6.96s\n",
      "70:\tlearn 0.8214853103\ttotal: 12.5s\tremaining: 6.78s\n",
      "71:\tlearn 0.8216669549\ttotal: 12.7s\tremaining: 6.6s\n",
      "72:\tlearn 0.8221731993\ttotal: 12.9s\tremaining: 6.43s\n",
      "73:\tlearn 0.8224300032\ttotal: 13.1s\tremaining: 6.27s\n",
      "74:\tlearn 0.8228798232\ttotal: 13.3s\tremaining: 6.09s\n",
      "75:\tlearn 0.8235233345\ttotal: 13.4s\tremaining: 5.92s\n",
      "76:\tlearn 0.8237689007\ttotal: 13.6s\tremaining: 5.74s\n",
      "77:\tlearn 0.8239360939\ttotal: 13.8s\tremaining: 5.55s\n",
      "78:\tlearn 0.8243101367\ttotal: 14s\tremaining: 5.37s\n",
      "79:\tlearn 0.8246954581\ttotal: 14.1s\tremaining: 5.19s\n",
      "80:\tlearn 0.8251430248\ttotal: 14.3s\tremaining: 5.02s\n",
      "81:\tlearn 0.8254836505\ttotal: 14.5s\tremaining: 4.84s\n",
      "82:\tlearn 0.8258419077\ttotal: 14.7s\tremaining: 4.65s\n",
      "83:\tlearn 0.8258948099\ttotal: 14.8s\tremaining: 4.47s\n",
      "84:\tlearn 0.8262742962\ttotal: 15s\tremaining: 4.29s\n",
      "85:\tlearn 0.8263680663\ttotal: 15.2s\tremaining: 4.11s\n",
      "86:\tlearn 0.8267488486\ttotal: 15.4s\tremaining: 3.93s\n",
      "87:\tlearn 0.8269328046\ttotal: 15.5s\tremaining: 3.75s\n",
      "88:\tlearn 0.8273784988\ttotal: 15.7s\tremaining: 3.56s\n",
      "89:\tlearn 0.8276891989\ttotal: 15.9s\tremaining: 3.39s\n",
      "90:\tlearn 0.8278204759\ttotal: 16s\tremaining: 3.2s\n",
      "91:\tlearn 0.8280017155\ttotal: 16.2s\tremaining: 3.02s\n",
      "92:\tlearn 0.8284084727\ttotal: 16.4s\tremaining: 2.85s\n",
      "93:\tlearn 0.8285036632\ttotal: 16.6s\tremaining: 2.67s\n",
      "94:\tlearn 0.8288677902\ttotal: 16.7s\tremaining: 2.49s\n",
      "95:\tlearn 0.828878113\ttotal: 16.9s\tremaining: 2.31s\n",
      "96:\tlearn 0.8291201457\ttotal: 17s\tremaining: 2.13s\n",
      "97:\tlearn 0.8292032481\ttotal: 17.2s\tremaining: 1.95s\n",
      "98:\tlearn 0.8293826488\ttotal: 17.4s\tremaining: 1.77s\n",
      "99:\tlearn 0.8297221726\ttotal: 17.5s\tremaining: 1.59s\n",
      "100:\tlearn 0.8298259766\ttotal: 17.7s\tremaining: 1.42s\n",
      "101:\tlearn 0.8299393331\ttotal: 17.9s\tremaining: 1.24s\n",
      "102:\tlearn 0.830276986\ttotal: 18.1s\tremaining: 1.06s\n",
      "103:\tlearn 0.8306154278\ttotal: 18.2s\tremaining: 885ms\n",
      "104:\tlearn 0.8309059318\ttotal: 18.4s\tremaining: 708ms\n",
      "105:\tlearn 0.83126532\ttotal: 18.6s\tremaining: 531ms\n",
      "106:\tlearn 0.8313263638\ttotal: 18.8s\tremaining: 354ms\n",
      "107:\tlearn 0.8317172104\ttotal: 19s\tremaining: 177ms\n",
      "108:\tlearn 0.8320619728\ttotal: 19.1s\tremaining: 0us\n"
     ]
    }
   ],
   "source": [
    "from catboost import CatBoostClassifier\n",
    "# вставим (98, 100) \n",
    "model = CatBoostClassifier(learning_rate=0.02, iterations=109,\n",
    "                           class_weights = [1, 2], random_seed = 52, \n",
    "                           eval_metric='AUC',).fit(X_all, y, \n",
    "                                                   verbose=True,\n",
    "                                                   cat_features = [98, 100],)"
   ]
  },
  {
   "cell_type": "code",
   "execution_count": null,
   "metadata": {
    "collapsed": true
   },
   "outputs": [],
   "source": []
  },
  {
   "cell_type": "code",
   "execution_count": 34,
   "metadata": {},
   "outputs": [
    {
     "data": {
      "text/html": [
       "<div>\n",
       "<style>\n",
       "    .dataframe thead tr:only-child th {\n",
       "        text-align: right;\n",
       "    }\n",
       "\n",
       "    .dataframe thead th {\n",
       "        text-align: left;\n",
       "    }\n",
       "\n",
       "    .dataframe tbody tr th {\n",
       "        vertical-align: top;\n",
       "    }\n",
       "</style>\n",
       "<table border=\"1\" class=\"dataframe\">\n",
       "  <thead>\n",
       "    <tr style=\"text-align: right;\">\n",
       "      <th></th>\n",
       "      <th>city_code</th>\n",
       "      <th>sq_x</th>\n",
       "      <th>sq_y</th>\n",
       "      <th>hour_hash</th>\n",
       "      <th>prediction</th>\n",
       "    </tr>\n",
       "  </thead>\n",
       "  <tbody>\n",
       "    <tr>\n",
       "      <th>0</th>\n",
       "      <td>16</td>\n",
       "      <td>-29</td>\n",
       "      <td>-28</td>\n",
       "      <td>165421888901676174</td>\n",
       "      <td>0.121089</td>\n",
       "    </tr>\n",
       "    <tr>\n",
       "      <th>1</th>\n",
       "      <td>16</td>\n",
       "      <td>-29</td>\n",
       "      <td>-28</td>\n",
       "      <td>2204207480854218100</td>\n",
       "      <td>0.184451</td>\n",
       "    </tr>\n",
       "    <tr>\n",
       "      <th>2</th>\n",
       "      <td>16</td>\n",
       "      <td>-29</td>\n",
       "      <td>-28</td>\n",
       "      <td>3447428841816240483</td>\n",
       "      <td>0.182736</td>\n",
       "    </tr>\n",
       "    <tr>\n",
       "      <th>3</th>\n",
       "      <td>16</td>\n",
       "      <td>-29</td>\n",
       "      <td>-22</td>\n",
       "      <td>2204207480854218100</td>\n",
       "      <td>0.184451</td>\n",
       "    </tr>\n",
       "    <tr>\n",
       "      <th>4</th>\n",
       "      <td>16</td>\n",
       "      <td>-29</td>\n",
       "      <td>-22</td>\n",
       "      <td>2369809296117772715</td>\n",
       "      <td>0.142086</td>\n",
       "    </tr>\n",
       "  </tbody>\n",
       "</table>\n",
       "</div>"
      ],
      "text/plain": [
       "   city_code  sq_x  sq_y            hour_hash  prediction\n",
       "0         16   -29   -28   165421888901676174    0.121089\n",
       "1         16   -29   -28  2204207480854218100    0.184451\n",
       "2         16   -29   -28  3447428841816240483    0.182736\n",
       "3         16   -29   -22  2204207480854218100    0.184451\n",
       "4         16   -29   -22  2369809296117772715    0.142086"
      ]
     },
     "execution_count": 34,
     "metadata": {},
     "output_type": "execute_result"
    }
   ],
   "source": [
    "# kazan\n",
    "X_test = pd.read_csv('./preprocessed_data/kazan_test.csv')\n",
    "test_block_ids = pd.read_csv('./preprocessed_data/kazan_block_test.csv')\n",
    "X_test.drop(['Unnamed: 0'], axis=1, inplace=True)\n",
    "test_block_ids.drop(['Unnamed: 0'], axis=1, inplace=True)\n",
    "# This code saves the prediction for one city.\n",
    "prediction_for_one_city = test_block_ids.copy()\n",
    "X_test['city'] = prediction_for_one_city['city_code']\n",
    "prediction_for_one_city[\"prediction\"] = model.predict_proba(X_test)[:,1]\n",
    "prediction_for_one_city.to_csv('./intermediate_data/prediction_kazan.csv')\n",
    "\n",
    "prediction_for_one_city.head()"
   ]
  },
  {
   "cell_type": "code",
   "execution_count": 35,
   "metadata": {},
   "outputs": [
    {
     "data": {
      "text/html": [
       "<div>\n",
       "<style>\n",
       "    .dataframe thead tr:only-child th {\n",
       "        text-align: right;\n",
       "    }\n",
       "\n",
       "    .dataframe thead th {\n",
       "        text-align: left;\n",
       "    }\n",
       "\n",
       "    .dataframe tbody tr th {\n",
       "        vertical-align: top;\n",
       "    }\n",
       "</style>\n",
       "<table border=\"1\" class=\"dataframe\">\n",
       "  <thead>\n",
       "    <tr style=\"text-align: right;\">\n",
       "      <th></th>\n",
       "      <th>city_code</th>\n",
       "      <th>sq_x</th>\n",
       "      <th>sq_y</th>\n",
       "      <th>hour_hash</th>\n",
       "      <th>prediction</th>\n",
       "    </tr>\n",
       "  </thead>\n",
       "  <tbody>\n",
       "    <tr>\n",
       "      <th>0</th>\n",
       "      <td>77</td>\n",
       "      <td>-29</td>\n",
       "      <td>-20</td>\n",
       "      <td>10001350720559672051</td>\n",
       "      <td>0.133469</td>\n",
       "    </tr>\n",
       "    <tr>\n",
       "      <th>1</th>\n",
       "      <td>77</td>\n",
       "      <td>-29</td>\n",
       "      <td>-20</td>\n",
       "      <td>16943943785816561037</td>\n",
       "      <td>0.251952</td>\n",
       "    </tr>\n",
       "    <tr>\n",
       "      <th>2</th>\n",
       "      <td>77</td>\n",
       "      <td>-29</td>\n",
       "      <td>-13</td>\n",
       "      <td>6709826676016537280</td>\n",
       "      <td>0.097269</td>\n",
       "    </tr>\n",
       "    <tr>\n",
       "      <th>3</th>\n",
       "      <td>77</td>\n",
       "      <td>-29</td>\n",
       "      <td>-6</td>\n",
       "      <td>4995953818610197922</td>\n",
       "      <td>0.265422</td>\n",
       "    </tr>\n",
       "    <tr>\n",
       "      <th>4</th>\n",
       "      <td>77</td>\n",
       "      <td>-29</td>\n",
       "      <td>-6</td>\n",
       "      <td>6709826676016537280</td>\n",
       "      <td>0.178296</td>\n",
       "    </tr>\n",
       "  </tbody>\n",
       "</table>\n",
       "</div>"
      ],
      "text/plain": [
       "   city_code  sq_x  sq_y             hour_hash  prediction\n",
       "0         77   -29   -20  10001350720559672051    0.133469\n",
       "1         77   -29   -20  16943943785816561037    0.251952\n",
       "2         77   -29   -13   6709826676016537280    0.097269\n",
       "3         77   -29    -6   4995953818610197922    0.265422\n",
       "4         77   -29    -6   6709826676016537280    0.178296"
      ]
     },
     "execution_count": 35,
     "metadata": {},
     "output_type": "execute_result"
    }
   ],
   "source": [
    "# msk \n",
    "X_test = pd.read_csv('./preprocessed_data/msk_test.csv')\n",
    "test_block_ids = pd.read_csv('./preprocessed_data/msk_block_test.csv')\n",
    "X_test.drop(['Unnamed: 0'], axis=1, inplace=True)\n",
    "test_block_ids.drop(['Unnamed: 0'], axis=1, inplace=True)\n",
    "X_test['city'] = prediction_for_one_city['city_code']\n",
    "#This code saves the prediction for one city.\n",
    "prediction_for_one_city = test_block_ids.copy()\n",
    "prediction_for_one_city[\"prediction\"] = model.predict_proba(X_test)[:,1]\n",
    "prediction_for_one_city.to_csv('./intermediate_data/prediction_msk.csv')\n",
    "\n",
    "prediction_for_one_city.head()"
   ]
  },
  {
   "cell_type": "code",
   "execution_count": 36,
   "metadata": {},
   "outputs": [
    {
     "data": {
      "text/html": [
       "<div>\n",
       "<style>\n",
       "    .dataframe thead tr:only-child th {\n",
       "        text-align: right;\n",
       "    }\n",
       "\n",
       "    .dataframe thead th {\n",
       "        text-align: left;\n",
       "    }\n",
       "\n",
       "    .dataframe tbody tr th {\n",
       "        vertical-align: top;\n",
       "    }\n",
       "</style>\n",
       "<table border=\"1\" class=\"dataframe\">\n",
       "  <thead>\n",
       "    <tr style=\"text-align: right;\">\n",
       "      <th></th>\n",
       "      <th>city_code</th>\n",
       "      <th>sq_x</th>\n",
       "      <th>sq_y</th>\n",
       "      <th>hour_hash</th>\n",
       "      <th>prediction</th>\n",
       "    </tr>\n",
       "  </thead>\n",
       "  <tbody>\n",
       "    <tr>\n",
       "      <th>0</th>\n",
       "      <td>78</td>\n",
       "      <td>-29</td>\n",
       "      <td>18</td>\n",
       "      <td>11749216312848287879</td>\n",
       "      <td>0.100555</td>\n",
       "    </tr>\n",
       "    <tr>\n",
       "      <th>1</th>\n",
       "      <td>78</td>\n",
       "      <td>-28</td>\n",
       "      <td>-29</td>\n",
       "      <td>3349487805510353524</td>\n",
       "      <td>0.095179</td>\n",
       "    </tr>\n",
       "    <tr>\n",
       "      <th>2</th>\n",
       "      <td>78</td>\n",
       "      <td>-28</td>\n",
       "      <td>-11</td>\n",
       "      <td>2557319126692190455</td>\n",
       "      <td>0.128598</td>\n",
       "    </tr>\n",
       "    <tr>\n",
       "      <th>3</th>\n",
       "      <td>78</td>\n",
       "      <td>-28</td>\n",
       "      <td>18</td>\n",
       "      <td>11749216312848287879</td>\n",
       "      <td>0.098780</td>\n",
       "    </tr>\n",
       "    <tr>\n",
       "      <th>4</th>\n",
       "      <td>78</td>\n",
       "      <td>-27</td>\n",
       "      <td>-24</td>\n",
       "      <td>2557319126692190455</td>\n",
       "      <td>0.128796</td>\n",
       "    </tr>\n",
       "  </tbody>\n",
       "</table>\n",
       "</div>"
      ],
      "text/plain": [
       "   city_code  sq_x  sq_y             hour_hash  prediction\n",
       "0         78   -29    18  11749216312848287879    0.100555\n",
       "1         78   -28   -29   3349487805510353524    0.095179\n",
       "2         78   -28   -11   2557319126692190455    0.128598\n",
       "3         78   -28    18  11749216312848287879    0.098780\n",
       "4         78   -27   -24   2557319126692190455    0.128796"
      ]
     },
     "execution_count": 36,
     "metadata": {},
     "output_type": "execute_result"
    }
   ],
   "source": [
    "# spb\n",
    "X_test = pd.read_csv('./preprocessed_data/spb_test.csv')\n",
    "test_block_ids = pd.read_csv('./preprocessed_data/spb_block_test.csv')\n",
    "X_test.drop(['Unnamed: 0'], axis=1, inplace=True)\n",
    "test_block_ids.drop(['Unnamed: 0'], axis=1, inplace=True)\n",
    "X_test['city'] = prediction_for_one_city['city_code']\n",
    "#This code saves the prediction for one city.\n",
    "prediction_for_one_city = test_block_ids.copy()\n",
    "prediction_for_one_city[\"prediction\"] = model.predict_proba(X_test)[:,1]\n",
    "prediction_for_one_city.to_csv('./intermediate_data/prediction_spb.csv')\n",
    "\n",
    "prediction_for_one_city.head()"
   ]
  },
  {
   "cell_type": "markdown",
   "metadata": {},
   "source": [
    "### Merge"
   ]
  },
  {
   "cell_type": "code",
   "execution_count": 48,
   "metadata": {
    "collapsed": true
   },
   "outputs": [],
   "source": [
    "import pandas as pd\n",
    "\n",
    "predictions = pd.concat(\n",
    "    [pd.read_csv(fname,index_col=0) for fname in (\"./intermediate_data/prediction_kazan.csv\",\n",
    "                                                  \"./intermediate_data/prediction_spb.csv\",\n",
    "                                                  \"./intermediate_data/prediction_msk.csv\")],\n",
    "    ignore_index=True\n",
    ")\n",
    "blocks = pd.read_csv(\"../data/hackathon_tosubmit.tsv\",sep='\\t')\n",
    "assert len(predictions) == len(blocks),\"Predictions don't match blocks. Sumbit at your own risk.\"\n",
    "\n",
    "merged = pd.merge(blocks,predictions,how='left',on=[\"sq_x\",\"sq_y\",\"hour_hash\"])\n",
    "assert not np.isnan(merged.prediction).any(), \"some predictions are missing. Sumbit at your own risk.\""
   ]
  },
  {
   "cell_type": "code",
   "execution_count": 49,
   "metadata": {
    "collapsed": true
   },
   "outputs": [],
   "source": [
    "merged[['id','prediction']].to_csv(\"./intermediate_data/amir_78.csv\",sep=',',index=False,header=False)"
   ]
  },
  {
   "cell_type": "code",
   "execution_count": 50,
   "metadata": {},
   "outputs": [
    {
     "data": {
      "text/html": [
       "<div>\n",
       "<style>\n",
       "    .dataframe thead tr:only-child th {\n",
       "        text-align: right;\n",
       "    }\n",
       "\n",
       "    .dataframe thead th {\n",
       "        text-align: left;\n",
       "    }\n",
       "\n",
       "    .dataframe tbody tr th {\n",
       "        vertical-align: top;\n",
       "    }\n",
       "</style>\n",
       "<table border=\"1\" class=\"dataframe\">\n",
       "  <thead>\n",
       "    <tr style=\"text-align: right;\">\n",
       "      <th></th>\n",
       "      <th>hour_hash</th>\n",
       "      <th>id</th>\n",
       "      <th>sq_x</th>\n",
       "      <th>sq_y</th>\n",
       "      <th>city_code</th>\n",
       "      <th>prediction</th>\n",
       "    </tr>\n",
       "  </thead>\n",
       "  <tbody>\n",
       "    <tr>\n",
       "      <th>0</th>\n",
       "      <td>67746694261088370</td>\n",
       "      <td>1</td>\n",
       "      <td>-21</td>\n",
       "      <td>25</td>\n",
       "      <td>77</td>\n",
       "      <td>0.190149</td>\n",
       "    </tr>\n",
       "    <tr>\n",
       "      <th>1</th>\n",
       "      <td>67746694261088370</td>\n",
       "      <td>2</td>\n",
       "      <td>-19</td>\n",
       "      <td>25</td>\n",
       "      <td>77</td>\n",
       "      <td>0.190747</td>\n",
       "    </tr>\n",
       "    <tr>\n",
       "      <th>2</th>\n",
       "      <td>67746694261088370</td>\n",
       "      <td>3</td>\n",
       "      <td>-16</td>\n",
       "      <td>23</td>\n",
       "      <td>77</td>\n",
       "      <td>0.174109</td>\n",
       "    </tr>\n",
       "    <tr>\n",
       "      <th>3</th>\n",
       "      <td>67746694261088370</td>\n",
       "      <td>4</td>\n",
       "      <td>-15</td>\n",
       "      <td>22</td>\n",
       "      <td>77</td>\n",
       "      <td>0.173733</td>\n",
       "    </tr>\n",
       "    <tr>\n",
       "      <th>4</th>\n",
       "      <td>67746694261088370</td>\n",
       "      <td>5</td>\n",
       "      <td>-15</td>\n",
       "      <td>24</td>\n",
       "      <td>77</td>\n",
       "      <td>0.171000</td>\n",
       "    </tr>\n",
       "  </tbody>\n",
       "</table>\n",
       "</div>"
      ],
      "text/plain": [
       "           hour_hash  id  sq_x  sq_y  city_code  prediction\n",
       "0  67746694261088370   1   -21    25         77    0.190149\n",
       "1  67746694261088370   2   -19    25         77    0.190747\n",
       "2  67746694261088370   3   -16    23         77    0.174109\n",
       "3  67746694261088370   4   -15    22         77    0.173733\n",
       "4  67746694261088370   5   -15    24         77    0.171000"
      ]
     },
     "execution_count": 50,
     "metadata": {},
     "output_type": "execute_result"
    }
   ],
   "source": [
    "merged.head()"
   ]
  },
  {
   "cell_type": "code",
   "execution_count": null,
   "metadata": {
    "collapsed": true
   },
   "outputs": [],
   "source": []
  },
  {
   "cell_type": "markdown",
   "metadata": {},
   "source": [
    "### Загрузим предсказания моего тиммейта и взвесим их с нашим решением"
   ]
  },
  {
   "cell_type": "code",
   "execution_count": 51,
   "metadata": {
    "collapsed": true
   },
   "outputs": [],
   "source": [
    "ii_catboost = pd.read_csv('./intermediate_data/try18_iii_all.csv', header=None)\n",
    "ii_catboost = ii_catboost[1] "
   ]
  },
  {
   "cell_type": "code",
   "execution_count": 52,
   "metadata": {
    "collapsed": true
   },
   "outputs": [],
   "source": [
    "ii_xgbboost = pd.read_csv('./intermediate_data/try21_iiii_all_xgb.csv', header=None)\n",
    "ii_xgbboost = ii_xgbboost[1] "
   ]
  },
  {
   "cell_type": "code",
   "execution_count": 53,
   "metadata": {
    "collapsed": true
   },
   "outputs": [],
   "source": [
    "ii_cat2boost = pd.read_csv('./intermediate_data/try25_iii_catboost_new_features.csv', header=None)\n",
    "ii_cat2boost = ii_cat2boost[1] "
   ]
  },
  {
   "cell_type": "code",
   "execution_count": 54,
   "metadata": {
    "collapsed": true
   },
   "outputs": [],
   "source": [
    "\n",
    "merged.prediction = (merged.prediction * 3 +\\\n",
    "                     (ii_catboost * 1.25 + ii_cat2boost * 1.25)  +\\\n",
    "                     ii_xgbboost * 2) \n"
   ]
  },
  {
   "cell_type": "code",
   "execution_count": 55,
   "metadata": {
    "collapsed": true
   },
   "outputs": [],
   "source": [
    "merged[['id','prediction']].to_csv(\"./intermediate_data/submit_a+i+i+i_BEST_EVER.csv\",sep=',',index=False,header=False)"
   ]
  },
  {
   "cell_type": "code",
   "execution_count": 56,
   "metadata": {},
   "outputs": [
    {
     "data": {
      "text/html": [
       "<div>\n",
       "<style>\n",
       "    .dataframe thead tr:only-child th {\n",
       "        text-align: right;\n",
       "    }\n",
       "\n",
       "    .dataframe thead th {\n",
       "        text-align: left;\n",
       "    }\n",
       "\n",
       "    .dataframe tbody tr th {\n",
       "        vertical-align: top;\n",
       "    }\n",
       "</style>\n",
       "<table border=\"1\" class=\"dataframe\">\n",
       "  <thead>\n",
       "    <tr style=\"text-align: right;\">\n",
       "      <th></th>\n",
       "      <th>hour_hash</th>\n",
       "      <th>id</th>\n",
       "      <th>sq_x</th>\n",
       "      <th>sq_y</th>\n",
       "      <th>city_code</th>\n",
       "      <th>prediction</th>\n",
       "    </tr>\n",
       "  </thead>\n",
       "  <tbody>\n",
       "    <tr>\n",
       "      <th>0</th>\n",
       "      <td>67746694261088370</td>\n",
       "      <td>1</td>\n",
       "      <td>-21</td>\n",
       "      <td>25</td>\n",
       "      <td>77</td>\n",
       "      <td>0.924523</td>\n",
       "    </tr>\n",
       "    <tr>\n",
       "      <th>1</th>\n",
       "      <td>67746694261088370</td>\n",
       "      <td>2</td>\n",
       "      <td>-19</td>\n",
       "      <td>25</td>\n",
       "      <td>77</td>\n",
       "      <td>0.925933</td>\n",
       "    </tr>\n",
       "    <tr>\n",
       "      <th>2</th>\n",
       "      <td>67746694261088370</td>\n",
       "      <td>3</td>\n",
       "      <td>-16</td>\n",
       "      <td>23</td>\n",
       "      <td>77</td>\n",
       "      <td>0.882490</td>\n",
       "    </tr>\n",
       "    <tr>\n",
       "      <th>3</th>\n",
       "      <td>67746694261088370</td>\n",
       "      <td>4</td>\n",
       "      <td>-15</td>\n",
       "      <td>22</td>\n",
       "      <td>77</td>\n",
       "      <td>0.879246</td>\n",
       "    </tr>\n",
       "    <tr>\n",
       "      <th>4</th>\n",
       "      <td>67746694261088370</td>\n",
       "      <td>5</td>\n",
       "      <td>-15</td>\n",
       "      <td>24</td>\n",
       "      <td>77</td>\n",
       "      <td>0.864905</td>\n",
       "    </tr>\n",
       "  </tbody>\n",
       "</table>\n",
       "</div>"
      ],
      "text/plain": [
       "           hour_hash  id  sq_x  sq_y  city_code  prediction\n",
       "0  67746694261088370   1   -21    25         77    0.924523\n",
       "1  67746694261088370   2   -19    25         77    0.925933\n",
       "2  67746694261088370   3   -16    23         77    0.882490\n",
       "3  67746694261088370   4   -15    22         77    0.879246\n",
       "4  67746694261088370   5   -15    24         77    0.864905"
      ]
     },
     "execution_count": 56,
     "metadata": {},
     "output_type": "execute_result"
    }
   ],
   "source": [
    "merged.head()"
   ]
  },
  {
   "cell_type": "code",
   "execution_count": null,
   "metadata": {
    "collapsed": true
   },
   "outputs": [],
   "source": []
  },
  {
   "cell_type": "code",
   "execution_count": null,
   "metadata": {
    "collapsed": true
   },
   "outputs": [],
   "source": []
  }
 ],
 "metadata": {
  "kernelspec": {
   "display_name": "Python 3",
   "language": "python",
   "name": "python3"
  },
  "language_info": {
   "codemirror_mode": {
    "name": "ipython",
    "version": 3
   },
   "file_extension": ".py",
   "mimetype": "text/x-python",
   "name": "python",
   "nbconvert_exporter": "python",
   "pygments_lexer": "ipython3",
   "version": "3.5.0"
  }
 },
 "nbformat": 4,
 "nbformat_minor": 2
}
