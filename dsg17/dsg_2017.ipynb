{
 "cells": [
  {
   "cell_type": "code",
   "execution_count": null,
   "metadata": {
    "collapsed": true
   },
   "outputs": [],
   "source": [
    "import pandas as pd\n",
    "import numpy as np\n",
    "import xgboost\n",
    "from catboost import CatBoostRegressor\n",
    "from sklearn.preprocessing import LabelEncoder\n",
    "import warnings\n",
    "import lightgbm as lgb\n",
    "warnings.filterwarnings(\"ignore\")\n",
    "\n",
    "pd.set_option('display.max_columns', 80) \n",
    "pd.set_option('display.max_rows', 100) \n",
    "%matplotlib inline"
   ]
  },
  {
   "cell_type": "code",
   "execution_count": 2,
   "metadata": {
    "collapsed": true
   },
   "outputs": [],
   "source": [
    "data = pd.read_csv('../data/demand_anonymized_20170802.csv', sep=';', \n",
    "                   parse_dates=['First_MAD', 'Month'])\n",
    "eval_data = pd.read_csv('../data/eval.csv', parse_dates=['date'])"
   ]
  },
  {
   "cell_type": "code",
   "execution_count": 3,
   "metadata": {
    "collapsed": true
   },
   "outputs": [],
   "source": [
    "enc = LabelEncoder()\n",
    "for col in data.columns:\n",
    "    if data[col].dtype == 'object':\n",
    "        data[col] = enc.fit_transform(data[col].fillna('nan'))\n",
    "        if col in eval_data.columns:\n",
    "            eval_data[col] = enc.transform(eval_data[col])"
   ]
  },
  {
   "cell_type": "code",
   "execution_count": 4,
   "metadata": {
    "collapsed": true
   },
   "outputs": [],
   "source": [
    "month_min = data.Month.min()\n",
    "def get_month(month):\n",
    "    return (month.year - month_min.year)*12 + (month.month - month_min.month)"
   ]
  },
  {
   "cell_type": "code",
   "execution_count": 5,
   "metadata": {
    "collapsed": true
   },
   "outputs": [],
   "source": [
    "data['group'] = data.Material*10 + data.SalOrg\n",
    "data['month'] = data.Month.apply(get_month)"
   ]
  },
  {
   "cell_type": "code",
   "execution_count": 6,
   "metadata": {
    "collapsed": true
   },
   "outputs": [],
   "source": [
    "eval_data['group'] = eval_data.Material*10 + eval_data.SalOrg"
   ]
  },
  {
   "cell_type": "code",
   "execution_count": 7,
   "metadata": {
    "collapsed": true
   },
   "outputs": [],
   "source": [
    "data['group_month'] = data.group*100 + data.month"
   ]
  },
  {
   "cell_type": "code",
   "execution_count": 8,
   "metadata": {
    "collapsed": true
   },
   "outputs": [],
   "source": [
    "unique_group = sorted(data.group.unique())\n",
    "month_num = data.month.max() + 1"
   ]
  },
  {
   "cell_type": "code",
   "execution_count": 9,
   "metadata": {
    "collapsed": true
   },
   "outputs": [],
   "source": [
    "table_index = pd.DataFrame()\n",
    "table_index['group'] = unique_group * (month_num)\n",
    "\n",
    "month = []\n",
    "for i in range(month_num):\n",
    "    month += [i]*len(unique_group)\n",
    "table_index['month'] = month\n",
    "\n",
    "table_index['group_month'] = table_index.group*100 + table_index.month"
   ]
  },
  {
   "cell_type": "code",
   "execution_count": 10,
   "metadata": {
    "collapsed": true
   },
   "outputs": [],
   "source": [
    "data_new = table_index[['group_month']].merge(data, on='group_month', how='left')"
   ]
  },
  {
   "cell_type": "code",
   "execution_count": 11,
   "metadata": {
    "collapsed": true
   },
   "outputs": [],
   "source": [
    "data_new.OrderQty = data_new.OrderQty.fillna(0)"
   ]
  },
  {
   "cell_type": "code",
   "execution_count": 12,
   "metadata": {
    "collapsed": true
   },
   "outputs": [],
   "source": [
    "data_new.group = (data_new.group_month / 100).apply(int)\n",
    "data_new.month = data_new.group_month % 100"
   ]
  },
  {
   "cell_type": "code",
   "execution_count": 13,
   "metadata": {
    "collapsed": true
   },
   "outputs": [],
   "source": [
    "def get_y(data_new,  month_min, month_max):\n",
    "    table = data_new[(data_new.month >= month_min) & (data_new.month <= month_max)]\n",
    "    y = table.groupby('group_month').OrderQty.sum()\n",
    "    y_new = [[], [], []]\n",
    "    for i, t in enumerate(y):\n",
    "        y_new[i % 3].append(t)\n",
    "    return y_new[0] + y_new[1] + y_new[2]"
   ]
  },
  {
   "cell_type": "code",
   "execution_count": 14,
   "metadata": {
    "collapsed": true
   },
   "outputs": [],
   "source": [
    "def regression(x, shift):\n",
    "    if (x == 0).sum() == len(x):\n",
    "        return 0\n",
    "    if len(x) < 2:\n",
    "        return 0\n",
    "    A = np.vstack([np.arange(0, len(x)), np.ones(len(x))]).T\n",
    "    return np.linalg.inv(A.T.dot(A)).dot(A.T).dot(x).dot([len(x) + shift - 1, 1])"
   ]
  },
  {
   "cell_type": "code",
   "execution_count": 15,
   "metadata": {
    "collapsed": true
   },
   "outputs": [],
   "source": [
    "def hint(x):\n",
    "    a = np.array([0.1, 0.2, 0.3, 0.4, 0.5, 0.6, 0.7, 0.8, 0.9, 1])\n",
    "    a = a / a.sum()\n",
    "    return a.dot(x[-len(a):])"
   ]
  },
  {
   "cell_type": "code",
   "execution_count": 16,
   "metadata": {
    "collapsed": true
   },
   "outputs": [],
   "source": [
    "def hint2(x):\n",
    "    a = 0.9**np.arange(10, -1, -1)\n",
    "    a = a / a.sum()\n",
    "    return a.dot(x[-len(a):])"
   ]
  },
  {
   "cell_type": "code",
   "execution_count": 17,
   "metadata": {
    "collapsed": true
   },
   "outputs": [],
   "source": [
    "def hint3(x):\n",
    "    a = 0.8**np.arange(10, -1, -1)\n",
    "    a = a / a.sum()\n",
    "    return a.dot(x[-len(a):])"
   ]
  },
  {
   "cell_type": "code",
   "execution_count": 18,
   "metadata": {
    "collapsed": true
   },
   "outputs": [],
   "source": [
    "def hint4(x):\n",
    "    a = 0.6**np.arange(10, -1, -1)\n",
    "    a = a / a.sum()\n",
    "    return a.dot(x[-len(a):])"
   ]
  },
  {
   "cell_type": "code",
   "execution_count": 19,
   "metadata": {
    "collapsed": true
   },
   "outputs": [],
   "source": [
    "def num_zeros(x):\n",
    "    n = len(x) - 1\n",
    "    s = 0\n",
    "    for i in range(n, n - 50, -1):\n",
    "        if x[i] == 0:\n",
    "            s += 1\n",
    "        else:\n",
    "            break\n",
    "    return s"
   ]
  },
  {
   "cell_type": "code",
   "execution_count": 20,
   "metadata": {
    "collapsed": true
   },
   "outputs": [],
   "source": [
    "data_new = data_new.fillna(-1)"
   ]
  },
  {
   "cell_type": "code",
   "execution_count": 22,
   "metadata": {
    "collapsed": true
   },
   "outputs": [],
   "source": [
    "categ_col = ['LogABC', 'ItemCat', 'PL', 'SubFct', 'MktABC', 'Manufacturer', 'ORIGINAL_SUPPLIER', 'Plant',  \n",
    "             'Gamma',  'Business', 'DP_FAMILY_CODE',\n",
    "             'PRODUCT_STATUS', 'SUBRANGE']"
   ]
  },
  {
   "cell_type": "code",
   "execution_count": 23,
   "metadata": {
    "collapsed": true
   },
   "outputs": [],
   "source": [
    "col_unique = {}\n",
    "for col in categ_col:\n",
    "    col_unique[col] = data_new[col].unique()"
   ]
  },
  {
   "cell_type": "code",
   "execution_count": 24,
   "metadata": {
    "collapsed": true
   },
   "outputs": [],
   "source": [
    "def get_X1(sequence, shift, table):\n",
    "    \n",
    "    X = pd.DataFrame(index=unique_group)\n",
    "    \n",
    "    X['last_month'] = sequence.apply(lambda x: x[-1])\n",
    "    X['last_4_month'] = sequence.apply(lambda x: np.mean(x[-4:]))\n",
    "    X['last_8_month'] = sequence.apply(lambda x: np.mean(x[-8:]))\n",
    "    X['last_16_month'] = sequence.apply(lambda x: np.mean(x[-16:]))\n",
    "\n",
    "    X['median1'] = sequence.apply(lambda x: np.median(x[-4:]))\n",
    "    X['median2'] = sequence.apply(lambda x: np.median(x[-8:]))\n",
    "    X['median3'] = sequence.apply(lambda x: np.median(x[-16:]))\n",
    "    X['median4'] = sequence.apply(lambda x: np.median(x[-32:]))\n",
    "\n",
    "    X['num_zeros'] = sequence.apply(lambda x: num_zeros(x))\n",
    "    X['num_zeros2'] = sequence.apply(lambda x: (np.array(x[-5:]) == 0).sum())\n",
    "    X['num_zeros2'] = sequence.apply(lambda x: (np.array(x[-10:]) == 0).sum())\n",
    "    X['num_zeros3'] = sequence.apply(lambda x: (np.array(x[-20:]) == 0).sum())\n",
    "    X['num_zeros4'] = sequence.apply(lambda x: (np.array(x[-40:]) == 0).sum())\n",
    "    X['num_zeros4'] = sequence.apply(lambda x: (np.array(x) == 0).mean())\n",
    "    \n",
    "    \n",
    "    X['hint'] = sequence.apply(lambda x: hint(x))\n",
    "    X['hint2'] = sequence.apply(lambda x: hint2(x))\n",
    "    X['hint3'] = sequence.apply(lambda x: hint3(x))\n",
    "    X['hint4'] = sequence.apply(lambda x: hint4(x))\n",
    "    \n",
    "    X['f1'] = X.hint*0.9 + X.last_month*0.1 \n",
    "    \n",
    "    for col in ['LogABC', 'ItemCat', 'SubFct', 'MktABC', 'Gamma', 'Business',\n",
    "                'DP_FAMILY_CODE', 'PRODUCT_STATUS', 'SUBRANGE']:\n",
    "        for value in col_unique[col]:\n",
    "            X[col + str(value)] = (table[col] == value).groupby(table.group).mean()\n",
    "            \n",
    "    for col in ['Name_Of_Competitor',\n",
    "               'COMP_PRICE_AVG', 'COMP_PRICE_MIN', 'COMP_PRICE_MAX', 'PRICE', 'NEAREST_COMP_PRICE_MIN',\n",
    "               'NEAREST_COMP_PRICE_MAX',]:\n",
    "        X[col] = table[col].groupby(table.group).median()\n",
    "    \n",
    "    #X['SalOrg'] = (np.array(sequence.index) / 10).astype(int)\n",
    "    \n",
    "    return X\n",
    "\n",
    "def get_X2(sequence, shift, table):\n",
    "    X = pd.DataFrame(index=unique_group)\n",
    "    \n",
    "    X['regression'] = sequence.apply(lambda x: regression(np.array(x), shift))\n",
    "    \n",
    "    X['year_ago_diff'] = sequence.apply(lambda x: x[-12 + shift -1]) - sequence.apply(lambda x: x[-13 + shift - 1])\n",
    "    X['month_-1year'] = sequence.apply(lambda x: x[-12 + shift - 1])\n",
    "    X['month_-2year'] = sequence.apply(lambda x: x[-24 + shift - 1])\n",
    "    X['month_-2year'] = sequence.apply(lambda x: x[-36 + shift - 1])\n",
    "    X['month_diff'] = X['month_-1year'] - X['month_-2year']\n",
    "    X['good'] = sequence.apply(lambda x: x[-12 + shift - 1] + (x[-1] - x[-13]))\n",
    "    X['month_mean_year'] = sequence.apply(lambda x: np.mean([x[-36 + shift - 1], x[-24 + shift - 1], x[-12 + shift - 1]]))\n",
    "    \n",
    "    X['shift'] = shift\n",
    "    \n",
    "    return X\n",
    "    \n",
    "def create_X(data_new, month_min):\n",
    "    \n",
    "    table = data_new[data_new.month < month_min]\n",
    "    \n",
    "    tmp = table.groupby('group_month').OrderQty.sum()\n",
    "    group_tmp = (np.array(tmp.index) / 100 ).astype(int)\n",
    "    sequence = tmp.groupby(group_tmp).apply(list)\n",
    "\n",
    "    X = get_X1(sequence, 1, table)\n",
    "    X1 = get_X2(sequence, 1, table).join(X)\n",
    "    X2 = get_X2(sequence, 2, table).join(X)\n",
    "    X3 = get_X2(sequence, 3, table).join(X)\n",
    "    \n",
    "    return pd.concat([X1, X2, X3])"
   ]
  },
  {
   "cell_type": "code",
   "execution_count": null,
   "metadata": {
    "collapsed": true
   },
   "outputs": [],
   "source": [
    "def get_mae(row, y):\n",
    "    return (row - y).abs().mean()"
   ]
  },
  {
   "cell_type": "code",
   "execution_count": null,
   "metadata": {
    "collapsed": true
   },
   "outputs": [],
   "source": [
    "%%time\n",
    "Xtest = create_X(data_new, 63)"
   ]
  },
  {
   "cell_type": "code",
   "execution_count": null,
   "metadata": {
    "collapsed": true
   },
   "outputs": [],
   "source": [
    "%%time\n",
    "X = [create_X(data_new, 60 - i) for i in range(15)]\n",
    "y = [get_y(data_new, 60 - i, 62 - i) for i in range(15)]\n",
    "y = [pd.Series(i) for i in y]"
   ]
  },
  {
   "cell_type": "code",
   "execution_count": 301,
   "metadata": {
    "collapsed": true
   },
   "outputs": [],
   "source": [
    "ids = eval_data[:int(len(eval_data)/3)].sort_values('group').ID.values"
   ]
  },
  {
   "cell_type": "code",
   "execution_count": null,
   "metadata": {
    "collapsed": true
   },
   "outputs": [],
   "source": [
    "model = xgboost.XGBClassifier(n_estimators=40, max_depth=15, subsample=0.9, learning_rate=0.1)"
   ]
  },
  {
   "cell_type": "code",
   "execution_count": null,
   "metadata": {
    "collapsed": true
   },
   "outputs": [],
   "source": [
    "model.fit(pd.concat(X), pd.concat(y))\n",
    "p = model.predict(Xtest)"
   ]
  },
  {
   "cell_type": "code",
   "execution_count": null,
   "metadata": {
    "collapsed": true
   },
   "outputs": [],
   "source": [
    "submission = pd.DataFrame()\n",
    "submission['demand'] = p\n",
    "submission['ID'] = list(ids) + list(ids + len(ids)) + list(ids + 2*len(ids))\n",
    "submission.demand[submission.demand < 0] = 0\n",
    "submission.to_csv('res6.csv', index=False)"
   ]
  },
  {
   "cell_type": "code",
   "execution_count": null,
   "metadata": {
    "collapsed": true
   },
   "outputs": [],
   "source": [
    "9.82201\n",
    "9.73349\n",
    "9.61947 8\n",
    "9.34679 10\n"
   ]
  },
  {
   "cell_type": "code",
   "execution_count": null,
   "metadata": {
    "collapsed": true
   },
   "outputs": [],
   "source": []
  },
  {
   "cell_type": "code",
   "execution_count": null,
   "metadata": {
    "collapsed": true
   },
   "outputs": [],
   "source": []
  },
  {
   "cell_type": "code",
   "execution_count": null,
   "metadata": {
    "collapsed": true
   },
   "outputs": [],
   "source": []
  },
  {
   "cell_type": "code",
   "execution_count": null,
   "metadata": {
    "collapsed": true
   },
   "outputs": [],
   "source": []
  },
  {
   "cell_type": "code",
   "execution_count": null,
   "metadata": {
    "collapsed": true
   },
   "outputs": [],
   "source": []
  },
  {
   "cell_type": "code",
   "execution_count": 63,
   "metadata": {},
   "outputs": [
    {
     "data": {
      "text/plain": [
       "(2204532, 52)"
      ]
     },
     "execution_count": 63,
     "metadata": {},
     "output_type": "execute_result"
    }
   ],
   "source": [
    "pd.concat(X[1:]).shape"
   ]
  },
  {
   "cell_type": "code",
   "execution_count": 64,
   "metadata": {},
   "outputs": [
    {
     "data": {
      "text/plain": [
       "(2320560, 52)"
      ]
     },
     "execution_count": 64,
     "metadata": {},
     "output_type": "execute_result"
    }
   ],
   "source": [
    "pd.concat(X).shape"
   ]
  },
  {
   "cell_type": "code",
   "execution_count": null,
   "metadata": {
    "collapsed": true
   },
   "outputs": [],
   "source": [
    "pd.concat(X[1:]).to_csv('Xtrain.csv')\n",
    "pd.concat(X).to_csv('X.csv')\n",
    "X[0].to_csv('Xval.csv')\n",
    "Xtest.to_csv('Xtest.csv')\n",
    "\n",
    "pd.concat(y[1:]).to_csv('ytrain.csv')\n",
    "pd.concat(y).to_csv('y.csv')\n",
    "y[0].to_csv('yval.csv')"
   ]
  }
 ],
 "metadata": {
  "kernelspec": {
   "display_name": "Python 3",
   "language": "python",
   "name": "python3"
  },
  "language_info": {
   "codemirror_mode": {
    "name": "ipython",
    "version": 3
   },
   "file_extension": ".py",
   "mimetype": "text/x-python",
   "name": "python",
   "nbconvert_exporter": "python",
   "pygments_lexer": "ipython3",
   "version": "3.5.0"
  }
 },
 "nbformat": 4,
 "nbformat_minor": 2
}
